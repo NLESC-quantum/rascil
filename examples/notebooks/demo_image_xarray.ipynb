{
 "cells": [
  {
   "cell_type": "markdown",
   "metadata": {
    "collapsed": true,
    "pycharm": {
     "name": "#%% md\n"
    }
   },
   "source": [
    "# Demonstrate xarray.Image operations"
   ]
  },
  {
   "cell_type": "code",
   "execution_count": null,
   "metadata": {
    "ExecuteTime": {
     "end_time": "2020-09-11T10:29:51.552103Z",
     "start_time": "2020-09-11T10:29:49.324139Z"
    },
    "pycharm": {
     "name": "#%%\n"
    }
   },
   "outputs": [],
   "source": [
    "import astropy.units as u\n",
    "import numpy\n",
    "import xarray\n",
    "from astropy.coordinates import SkyCoord\n",
    "\n",
    "from rascil.data_models import PolarisationFrame\n",
    "from rascil.processing_components.simulation.testing_support import create_test_image"
   ]
  },
  {
   "cell_type": "markdown",
   "metadata": {
    "pycharm": {
     "name": "#%% md\n"
    }
   },
   "source": [
    "Create  suitable test image"
   ]
  },
  {
   "cell_type": "code",
   "execution_count": null,
   "metadata": {
    "ExecuteTime": {
     "end_time": "2020-09-11T10:29:51.646613Z",
     "start_time": "2020-09-11T10:29:51.553646Z"
    },
    "pycharm": {
     "name": "#%%\n"
    }
   },
   "outputs": [],
   "source": [
    "frequency = numpy.linspace(1.0e8, 1.1e8, 8)\n",
    "phasecentre = SkyCoord(ra=+180.0 * u.deg, dec=-35.0 * u.deg, frame='icrs', equinox='J2000')\n",
    "\n",
    "ximg = create_test_image(cellsize=0.001, phasecentre=phasecentre, frequency=frequency,\n",
    "                         polarisation_frame=PolarisationFrame(\"stokesIQUV\"))\n",
    "\n",
    "assert ximg[\"pixels\"].max() > 0.0\n",
    "\n",
    "print(ximg)"
   ]
  },
  {
   "cell_type": "markdown",
   "metadata": {},
   "source": [
    "Show channel 0, stokes I image"
   ]
  },
  {
   "cell_type": "code",
   "execution_count": null,
   "metadata": {
    "ExecuteTime": {
     "end_time": "2020-09-11T10:29:51.931319Z",
     "start_time": "2020-09-11T10:29:51.651116Z"
    },
    "pycharm": {
     "name": "#%%\n"
    }
   },
   "outputs": [],
   "source": [
    "import matplotlib.pyplot as plt\n",
    "ximg2d = ximg.sel({\"frequency\": frequency[0], \"polarisation\": \"I\"})\n",
    "print(ximg2d)"
   ]
  },
  {
   "cell_type": "code",
   "execution_count": null,
   "outputs": [],
   "source": [
    "ximg2d[\"pixels\"].plot.imshow()\n",
    "plt.show()"
   ],
   "metadata": {
    "collapsed": false,
    "pycharm": {
     "name": "#%%\n"
    }
   }
  },
  {
   "cell_type": "markdown",
   "metadata": {},
   "source": [
    "Select I, V polarisations"
   ]
  },
  {
   "cell_type": "code",
   "execution_count": null,
   "metadata": {
    "ExecuteTime": {
     "end_time": "2020-09-11T10:29:51.962087Z",
     "start_time": "2020-09-11T10:29:51.932798Z"
    },
    "pycharm": {
     "name": "#%%\n"
    }
   },
   "outputs": [],
   "source": [
    "print(ximg.sel({\"polarisation\": [\"I\", \"V\"]}))\n",
    "\n",
    "# Apply a mask to the data\n",
    "ximg = ximg.where(numpy.hypot(ximg[\"x\"] - numpy.mean(ximg[\"x\"]),\n",
    "                              ximg[\"y\"] - numpy.mean(ximg[\"y\"])) < 0.03)"
   ]
  },
  {
   "cell_type": "code",
   "execution_count": null,
   "metadata": {
    "ExecuteTime": {
     "end_time": "2020-09-11T10:29:51.991375Z",
     "start_time": "2020-09-11T10:29:51.963539Z"
    },
    "pycharm": {
     "name": "#%%\n"
    }
   },
   "outputs": [],
   "source": [
    "print(ximg.sum())"
   ]
  },
  {
   "cell_type": "markdown",
   "metadata": {
    "pycharm": {
     "name": "#%% md\n"
    }
   },
   "source": [
    "Apply a function across the image in chunks using dask transparently"
   ]
  },
  {
   "cell_type": "code",
   "execution_count": null,
   "metadata": {
    "ExecuteTime": {
     "end_time": "2020-09-11T10:29:52.018068Z",
     "start_time": "2020-09-11T10:29:51.992618Z"
    },
    "pycharm": {
     "name": "#%%\n"
    }
   },
   "outputs": [],
   "source": [
    "ximg[\"pixels\"] = ximg[\"pixels\"].chunk({\"x\": 32, \"y\": 32})\n",
    "print(ximg)\n",
    "ximg[\"pixels\"] = xarray.apply_ufunc(numpy.sqrt, ximg[\"pixels\"],\n",
    "                               dask=\"parallelized\",\n",
    "                               output_dtypes=[float])"
   ]
  },
  {
   "cell_type": "markdown",
   "metadata": {},
   "source": [
    "Show the resulting image"
   ]
  },
  {
   "cell_type": "code",
   "execution_count": null,
   "metadata": {
    "ExecuteTime": {
     "end_time": "2020-09-11T10:29:52.223561Z",
     "start_time": "2020-09-11T10:29:52.020789Z"
    },
    "pycharm": {
     "name": "#%%\n"
    }
   },
   "outputs": [],
   "source": [
    "ximg[\"pixels\"]= ximg[\"pixels\"].sel({\"frequency\": frequency[0], \"polarisation\": \"I\"})\n",
    "ximg[\"pixels\"].plot.imshow()\n",
    "plt.show()\n"
   ]
  }
 ],
 "metadata": {
  "kernelspec": {
   "display_name": "Python 3",
   "language": "python",
   "name": "python3"
  },
  "language_info": {
   "codemirror_mode": {
    "name": "ipython",
    "version": 3
   },
   "file_extension": ".py",
   "mimetype": "text/x-python",
   "name": "python",
   "nbconvert_exporter": "python",
   "pygments_lexer": "ipython3",
   "version": "3.7.8"
  }
 },
 "nbformat": 4,
 "nbformat_minor": 1
}