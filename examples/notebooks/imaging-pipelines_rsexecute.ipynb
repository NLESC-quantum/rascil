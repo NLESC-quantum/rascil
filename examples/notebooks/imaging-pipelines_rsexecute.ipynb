{
 "cells": [
  {
   "cell_type": "markdown",
   "metadata": {},
   "source": [
    "# Pipeline processing using rsexecute workflows.\n",
    "\n",
    "This notebook demonstrates the continuum imaging pipeline based on RASCIL functions wrapped\n",
    "     up as SDP workflows using the rsexecute class."
   ]
  },
  {
   "cell_type": "code",
   "execution_count": null,
   "metadata": {
    "ExecuteTime": {
     "end_time": "2021-10-04T15:43:18.229602Z",
     "start_time": "2021-10-04T15:43:15.749046Z"
    },
    "scrolled": true
   },
   "outputs": [],
   "source": [
    "%matplotlib inline\n",
    "\n",
    "import sys\n",
    "\n",
    "results_dir = \"/tmp/\"\n",
    "\n",
    "from matplotlib import pylab\n",
    "\n",
    "pylab.rcParams[\"figure.figsize\"] = (12.0, 12.0)\n",
    "pylab.rcParams[\"image.cmap\"] = \"rainbow\"\n",
    "\n",
    "import numpy\n",
    "\n",
    "from astropy.coordinates import SkyCoord\n",
    "from astropy import units as u\n",
    "\n",
    "from matplotlib import pyplot as plt\n",
    "\n",
    "from rascil.data_models.polarisation import PolarisationFrame\n",
    "\n",
    "from rascil.processing_components import (\n",
    "    show_image,\n",
    "    export_image_to_fits,\n",
    "    qa_image,\n",
    "    create_low_test_image_from_gleam,\n",
    "    create_image_from_visibility,\n",
    "    advise_wide_field,\n",
    ")\n",
    "\n",
    "from rascil.workflows import (\n",
    "    invert_list_rsexecute_workflow,\n",
    "    predict_list_rsexecute_workflow,\n",
    "    simulate_list_rsexecute_workflow,\n",
    "    continuum_imaging_skymodel_list_rsexecute_workflow,\n",
    ")\n",
    "\n",
    "from rascil.workflows.rsexecute.execution_support.rsexecute import rsexecute\n",
    "\n",
    "import logging\n",
    "\n",
    "log = logging.getLogger()\n",
    "logging.info(\"Starting imaging-pipeline\")\n",
    "log.setLevel(logging.INFO)\n",
    "log.addHandler(logging.StreamHandler(sys.stdout))\n",
    "\n",
    "mpl_logger = logging.getLogger(\"matplotlib\")\n",
    "mpl_logger.setLevel(logging.WARNING)"
   ]
  },
  {
   "cell_type": "markdown",
   "metadata": {},
   "source": [
    "Set up rsexecute to use dask."
   ]
  },
  {
   "cell_type": "code",
   "execution_count": null,
   "metadata": {
    "ExecuteTime": {
     "end_time": "2021-10-04T15:43:19.197783Z",
     "start_time": "2021-10-04T15:43:18.231447Z"
    },
    "pycharm": {
     "name": "#%%\n"
    }
   },
   "outputs": [],
   "source": [
    "rsexecute.set_client(use_dask=True)"
   ]
  },
  {
   "cell_type": "markdown",
   "metadata": {},
   "source": [
    "We create a graph to make the visibility. The parameter rmax determines the distance of the furthest antenna/stations \n",
    "used. \n",
    "\n",
    "Finally we compute the value of the graph, a list of visibility objects. These can then be scattered to the\n",
    "cluster of workers."
   ]
  },
  {
   "cell_type": "code",
   "execution_count": null,
   "metadata": {
    "ExecuteTime": {
     "end_time": "2021-10-04T15:43:26.300149Z",
     "start_time": "2021-10-04T15:43:19.202559Z"
    },
    "scrolled": true
   },
   "outputs": [],
   "source": [
    "nfreqwin = 7\n",
    "ntimes = 5\n",
    "rmax = 750.0\n",
    "frequency = numpy.linspace(1e8, 1.2e8, nfreqwin)\n",
    "channel_bandwidth = numpy.array(nfreqwin * [frequency[1] - frequency[0]])\n",
    "times = numpy.linspace(-numpy.pi / 3.0, numpy.pi / 3.0, ntimes)\n",
    "phasecentre = SkyCoord(\n",
    "    ra=+30.0 * u.deg, dec=-60.0 * u.deg, frame=\"icrs\", equinox=\"J2000\"\n",
    ")\n",
    "\n",
    "bvis_list = simulate_list_rsexecute_workflow(\n",
    "    \"LOWBD2\",\n",
    "    frequency=frequency,\n",
    "    channel_bandwidth=channel_bandwidth,\n",
    "    times=times,\n",
    "    phasecentre=phasecentre,\n",
    "    order=\"frequency\",\n",
    "    rmax=rmax,\n",
    ")\n",
    "\n",
    "print(\"%d elements in vis_list\" % len(bvis_list))\n",
    "log.info(\"About to make visibility\")\n",
    "bvis_list = rsexecute.compute(bvis_list, sync=True)"
   ]
  },
  {
   "cell_type": "markdown",
   "metadata": {
    "ExecuteTime": {
     "end_time": "2019-04-03T09:21:09.955729Z",
     "start_time": "2019-04-03T09:21:09.942306Z"
    },
    "pycharm": {
     "name": "#%% md\n"
    },
    "scrolled": false
   },
   "source": [
    "Find the recommended values for the wide field imaging."
   ]
  },
  {
   "cell_type": "code",
   "execution_count": null,
   "metadata": {
    "ExecuteTime": {
     "end_time": "2021-10-04T15:43:26.370172Z",
     "start_time": "2021-10-04T15:43:26.302326Z"
    },
    "pycharm": {
     "name": "#%% \n"
    }
   },
   "outputs": [],
   "source": [
    "advice_low = advise_wide_field(bvis_list[0], guard_band_image=8.0, delA=0.02)\n",
    "advice_high = advise_wide_field(bvis_list[-1], guard_band_image=8.0, delA=0.02)\n",
    "\n",
    "npixel = advice_high[\"npixels2\"]\n",
    "cellsize = min(advice_low[\"cellsize\"], advice_high[\"cellsize\"])"
   ]
  },
  {
   "cell_type": "markdown",
   "metadata": {},
   "source": [
    "Now make a graph to fill with a model drawn from GLEAM. There will be one model image\n",
    "per frequency."
   ]
  },
  {
   "cell_type": "code",
   "execution_count": null,
   "metadata": {
    "ExecuteTime": {
     "end_time": "2021-10-04T15:43:26.384400Z",
     "start_time": "2021-10-04T15:43:26.371664Z"
    },
    "scrolled": false
   },
   "outputs": [],
   "source": [
    "gleam_model = [\n",
    "    rsexecute.execute(create_low_test_image_from_gleam)(\n",
    "        npixel=npixel,\n",
    "        frequency=[frequency[f]],\n",
    "        channel_bandwidth=[channel_bandwidth[f]],\n",
    "        cellsize=cellsize,\n",
    "        phasecentre=phasecentre,\n",
    "        polarisation_frame=PolarisationFrame(\"stokesI\"),\n",
    "        flux_limit=1.0,\n",
    "        applybeam=True,\n",
    "    )\n",
    "    for f, freq in enumerate(frequency)\n",
    "]\n",
    "log.info(\"About to make GLEAM model\")\n",
    "future_gleam_model = rsexecute.persist(gleam_model)"
   ]
  },
  {
   "cell_type": "markdown",
   "metadata": {
    "ExecuteTime": {
     "end_time": "2019-04-03T09:21:32.204717Z",
     "start_time": "2019-04-03T09:21:15.132705Z"
    },
    "pycharm": {
     "name": "#%% md\n"
    },
    "scrolled": false
   },
   "source": [
    "Now we can fill in the visibility values from the models, using a workflow."
   ]
  },
  {
   "cell_type": "code",
   "execution_count": null,
   "metadata": {
    "ExecuteTime": {
     "end_time": "2021-10-04T15:43:40.976509Z",
     "start_time": "2021-10-04T15:43:26.388104Z"
    },
    "pycharm": {
     "name": "#%%\n"
    }
   },
   "outputs": [],
   "source": [
    "log.info(\"About to run predict to get predicted visibility\")\n",
    "future_vis_graph = rsexecute.scatter(bvis_list)\n",
    "predicted_vislist = predict_list_rsexecute_workflow(\n",
    "    future_vis_graph, gleam_model, context=\"ng\"\n",
    ")\n",
    "predicted_vislist = rsexecute.compute(predicted_vislist, sync=True)\n",
    "future_predicted_vislist = rsexecute.scatter(predicted_vislist)"
   ]
  },
  {
   "cell_type": "markdown",
   "metadata": {},
   "source": [
    "Get the LSM. This is blank."
   ]
  },
  {
   "cell_type": "code",
   "execution_count": null,
   "metadata": {
    "ExecuteTime": {
     "end_time": "2021-10-04T15:43:40.994195Z",
     "start_time": "2021-10-04T15:43:40.980506Z"
    },
    "scrolled": true
   },
   "outputs": [],
   "source": [
    "model_list = [\n",
    "    rsexecute.execute(create_image_from_visibility)(\n",
    "        bvis_list[f],\n",
    "        npixel=npixel,\n",
    "        frequency=[frequency[f]],\n",
    "        channel_bandwidth=[channel_bandwidth[f]],\n",
    "        cellsize=cellsize,\n",
    "        phasecentre=phasecentre,\n",
    "        polarisation_frame=PolarisationFrame(\"stokesI\"),\n",
    "    )\n",
    "    for f, freq in enumerate(frequency)\n",
    "]"
   ]
  },
  {
   "cell_type": "markdown",
   "metadata": {
    "ExecuteTime": {
     "end_time": "2019-04-03T09:21:32.325468Z",
     "start_time": "2019-04-03T09:21:32.216314Z"
    },
    "pycharm": {
     "name": "#%% md\n"
    }
   },
   "source": [
    "Make the graphs to calculate the dirty image and psf, but don't compute the values yet."
   ]
  },
  {
   "cell_type": "code",
   "execution_count": null,
   "metadata": {
    "ExecuteTime": {
     "end_time": "2021-10-04T15:43:41.007994Z",
     "start_time": "2021-10-04T15:43:40.998033Z"
    },
    "pycharm": {
     "name": "#%%\n"
    }
   },
   "outputs": [],
   "source": [
    "dirty_list = invert_list_rsexecute_workflow(\n",
    "    future_predicted_vislist, model_list, context=\"ng\", dopsf=False\n",
    ")\n",
    "psf_list = invert_list_rsexecute_workflow(\n",
    "    future_predicted_vislist, model_list, context=\"ng\", dopsf=True\n",
    ")"
   ]
  },
  {
   "cell_type": "markdown",
   "metadata": {},
   "source": [
    "Make and compute the graph to make the dirty image"
   ]
  },
  {
   "cell_type": "code",
   "execution_count": null,
   "metadata": {
    "ExecuteTime": {
     "end_time": "2021-10-04T15:44:06.058782Z",
     "start_time": "2021-10-04T15:43:41.012031Z"
    },
    "scrolled": false
   },
   "outputs": [],
   "source": [
    "log.info(\"About to run invert to get dirty image\")\n",
    "dirty_list = rsexecute.compute(dirty_list, sync=True)\n",
    "dirty = dirty_list[0][0]\n",
    "show_image(dirty, cm=\"Greys\")\n",
    "plt.show()"
   ]
  },
  {
   "cell_type": "markdown",
   "metadata": {
    "ExecuteTime": {
     "end_time": "2019-04-03T09:22:00.925569Z",
     "start_time": "2019-04-03T09:21:58.762857Z"
    },
    "pycharm": {
     "name": "#%% md\n"
    },
    "scrolled": false
   },
   "source": [
    "Finally we can try the continuum imaging pipeline. First construct the graph."
   ]
  },
  {
   "cell_type": "code",
   "execution_count": null,
   "metadata": {
    "ExecuteTime": {
     "end_time": "2021-10-04T15:44:07.603072Z",
     "start_time": "2021-10-04T15:44:06.060939Z"
    },
    "pycharm": {
     "name": "#%%\n"
    }
   },
   "outputs": [],
   "source": [
    "centre = nfreqwin // 2\n",
    "\n",
    "continuum_imaging_list = continuum_imaging_skymodel_list_rsexecute_workflow(\n",
    "    future_predicted_vislist,\n",
    "    model_imagelist=model_list,\n",
    "    context=\"ng\",\n",
    "    algorithm=\"mmclean\",\n",
    "    scales=[0],\n",
    "    niter=1000,\n",
    "    fractional_threshold=0.1,\n",
    "    threshold=0.003,\n",
    "    nmoment=2,\n",
    "    nmajor=5,\n",
    "    gain=0.1,\n",
    "    deconvolve_facets=4,\n",
    "    deconvolve_overlap=32,\n",
    "    deconvolve_taper=\"tukey\",\n",
    "    psf_support=64,\n",
    "    window_shape=\"no_edge\",\n",
    "    do_wstacking=True,\n",
    ")"
   ]
  },
  {
   "cell_type": "markdown",
   "metadata": {
    "ExecuteTime": {
     "end_time": "2019-04-03T09:30:34.043945Z",
     "start_time": "2019-04-03T09:30:31.377721Z"
    },
    "pycharm": {
     "name": "#%% md\n"
    },
    "scrolled": false
   },
   "source": [
    "Now execute the graph"
   ]
  },
  {
   "cell_type": "code",
   "execution_count": null,
   "metadata": {
    "ExecuteTime": {
     "end_time": "2021-10-04T15:47:20.590803Z",
     "start_time": "2021-10-04T15:44:07.775792Z"
    },
    "pycharm": {
     "name": "#%%\n"
    },
    "scrolled": false
   },
   "outputs": [],
   "source": [
    "log.info(\"About to run continuum imaging\")\n",
    "\n",
    "centre = nfreqwin // 2\n",
    "continuum_imaging_list = rsexecute.compute(continuum_imaging_list, sync=True)\n",
    "residual = continuum_imaging_list[0][centre]\n",
    "restored = continuum_imaging_list[1][centre]\n",
    "deconvolved = continuum_imaging_list[2][centre].image\n",
    "\n",
    "\n",
    "f = show_image(\n",
    "    deconvolved, title=\"Clean image - no selfcal\", cm=\"Greys\", vmax=0.1, vmin=-0.01\n",
    ")\n",
    "print(qa_image(deconvolved, context=\"Clean image - no selfcal\"))\n",
    "\n",
    "plt.show()\n",
    "\n",
    "f = show_image(\n",
    "    restored, title=\"Restored clean image - no selfcal\", cm=\"Greys\", vmax=1.0, vmin=-0.1\n",
    ")\n",
    "print(qa_image(restored, context=\"Restored clean image - no selfcal\"))\n",
    "plt.show()\n",
    "export_image_to_fits(\n",
    "    restored, \"%s/imaging-dask_continuum_imaging_restored.fits\" % (results_dir)\n",
    ")\n",
    "\n",
    "f = show_image(residual[0], title=\"Residual clean image - no selfcal\", cm=\"Greys\")\n",
    "print(qa_image(residual[0], context=\"Residual clean image - no selfcal\"))\n",
    "plt.show()\n",
    "export_image_to_fits(\n",
    "    residual[0], \"%s/imaging-dask_continuum_imaging_residual.fits\" % (results_dir)\n",
    ")"
   ]
  },
  {
   "cell_type": "code",
   "execution_count": null,
   "metadata": {},
   "outputs": [],
   "source": []
  }
 ],
 "metadata": {
  "kernelspec": {
   "display_name": "Python 3 (ipykernel)",
   "language": "python",
   "name": "python3"
  },
  "language_info": {
   "codemirror_mode": {
    "name": "ipython",
    "version": 3
   },
   "file_extension": ".py",
   "mimetype": "text/x-python",
   "name": "python",
   "nbconvert_exporter": "python",
   "pygments_lexer": "ipython3",
   "version": "3.7.10"
  }
 },
 "nbformat": 4,
 "nbformat_minor": 2
}