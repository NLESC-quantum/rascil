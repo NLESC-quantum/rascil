{
 "cells": [
  {
   "cell_type": "markdown",
   "metadata": {},
   "source": [
    "# Pipeline processing using rsexecute workflows.\n",
    "\n",
    "This notebook demonstrates the continuum imaging and ICAL pipelines. These are based on RASCIL functions wrapped\n",
    "     up as SDP workflows using the rsexecute class."
   ]
  },
  {
   "cell_type": "code",
   "execution_count": null,
   "metadata": {
    "ExecuteTime": {
     "end_time": "2020-11-19T14:27:40.477727Z",
     "start_time": "2020-11-19T14:27:37.796895Z"
    },
    "scrolled": true
   },
   "outputs": [],
   "source": [
    "%matplotlib inline\n",
    "\n",
    "import sys\n",
    "\n",
    "results_dir = '/tmp/'\n",
    "\n",
    "from matplotlib import pylab\n",
    "pylab.rcParams['figure.figsize'] = (12.0, 12.0)\n",
    "pylab.rcParams['image.cmap'] = 'rainbow'\n",
    "\n",
    "import numpy\n",
    "\n",
    "from astropy.coordinates import SkyCoord\n",
    "from astropy import units as u\n",
    "\n",
    "from matplotlib import pyplot as plt\n",
    "\n",
    "from rascil.data_models.polarisation import PolarisationFrame\n",
    "\n",
    "from rascil.processing_components import show_image, export_image_to_fits, qa_image, \\\n",
    "    create_low_test_image_from_gleam, create_image_from_visibility, advise_wide_field\n",
    "\n",
    "from rascil.workflows import invert_list_rsexecute_workflow, predict_list_rsexecute_workflow, \\\n",
    "    simulate_list_rsexecute_workflow, continuum_imaging_list_rsexecute_workflow\n",
    "\n",
    "from rascil.workflows.rsexecute.execution_support.rsexecute import rsexecute\n",
    "\n",
    "import pprint\n",
    "\n",
    "pp = pprint.PrettyPrinter()\n",
    "\n",
    "import logging\n",
    "\n",
    "log = logging.getLogger()\n",
    "logging.info(\"Starting imaging-pipeline\")\n",
    "log.setLevel(logging.DEBUG)\n",
    "log.addHandler(logging.StreamHandler(sys.stdout))\n",
    "log.addHandler(logging.StreamHandler(sys.stderr))\n",
    "\n",
    "mpl_logger = logging.getLogger(\"matplotlib\") \n",
    "mpl_logger.setLevel(logging.WARNING) \n"
   ]
  },
  {
   "cell_type": "markdown",
   "metadata": {},
   "source": [
    "Set up rsexecute to use dask. If we are running in docker then the scheduler may be available by name.\n",
    "Otherwise we just create a LocalCluster."
   ]
  },
  {
   "cell_type": "code",
   "execution_count": null,
   "metadata": {
    "ExecuteTime": {
     "end_time": "2020-11-19T14:27:52.705384Z",
     "start_time": "2020-11-19T14:27:40.479641Z"
    },
    "pycharm": {
     "name": "#%%\n"
    }
   },
   "outputs": [],
   "source": [
    "from dask.distributed import Client, LocalCluster\n",
    "try:\n",
    "    client = Client('scheduler:8786', timeout=10)\n",
    "except OSError:\n",
    "    try:\n",
    "        # scheduler when run as a kubernetes cluster\n",
    "        client = Client('rascil-dask-scheduler:8786', timeout=10)\n",
    "    except OSError:\n",
    "        client =Client(LocalCluster(processes=True, threads_per_worker=1))\n",
    "print(client)\n",
    "\n",
    "rsexecute.set_client(use_dask=True)"
   ]
  },
  {
   "cell_type": "code",
   "execution_count": null,
   "metadata": {
    "ExecuteTime": {
     "end_time": "2020-11-19T14:27:52.721674Z",
     "start_time": "2020-11-19T14:27:52.713380Z"
    }
   },
   "outputs": [],
   "source": [
    "pylab.rcParams['figure.figsize'] = (12.0, 12.0)\n",
    "pylab.rcParams['image.cmap'] = 'Greys'"
   ]
  },
  {
   "cell_type": "markdown",
   "metadata": {},
   "source": [
    "We create a graph to make the visibility. The parameter rmax determines the distance of the furthest antenna/stations \n",
    "used. \n",
    "\n",
    "Finally we compute the value of the graph, a list of visibility objects. These can then be scattered to the\n",
    "cluster of workers."
   ]
  },
  {
   "cell_type": "code",
   "execution_count": null,
   "metadata": {
    "ExecuteTime": {
     "end_time": "2020-11-19T14:27:55.835518Z",
     "start_time": "2020-11-19T14:27:52.723905Z"
    },
    "scrolled": true
   },
   "outputs": [],
   "source": [
    "nfreqwin=7\n",
    "ntimes=5\n",
    "rmax=300.0\n",
    "frequency=numpy.linspace(1e8,1.2e8,nfreqwin)\n",
    "channel_bandwidth=numpy.array(nfreqwin*[frequency[1]-frequency[0]])\n",
    "times = numpy.linspace(-numpy.pi/3.0, numpy.pi/3.0, ntimes)\n",
    "phasecentre=SkyCoord(ra=+30.0 * u.deg, dec=-60.0 * u.deg, frame='icrs', equinox='J2000')\n",
    "\n",
    "bvis_list=simulate_list_rsexecute_workflow('LOWBD2',\n",
    "                                         frequency=frequency, \n",
    "                                         channel_bandwidth=channel_bandwidth,\n",
    "                                         times=times,\n",
    "                                         phasecentre=phasecentre,\n",
    "                                         order='frequency',\n",
    "                                        rmax=rmax, format='blockvis',\n",
    "                                           zerow=True)\n",
    "\n",
    "print('%d elements in vis_list' % len(bvis_list))\n",
    "log.info('About to make visibility')\n",
    "bvis_list = rsexecute.compute(bvis_list, sync=True)"
   ]
  },
  {
   "cell_type": "markdown",
   "metadata": {
    "ExecuteTime": {
     "end_time": "2019-04-03T09:21:09.955729Z",
     "start_time": "2019-04-03T09:21:09.942306Z"
    },
    "pycharm": {
     "name": "#%% md\n"
    },
    "scrolled": false
   },
   "source": [
    "Find the recommended values for the wide field imaging."
   ]
  },
  {
   "cell_type": "code",
   "execution_count": null,
   "metadata": {
    "ExecuteTime": {
     "end_time": "2020-11-19T14:27:55.963570Z",
     "start_time": "2020-11-19T14:27:55.838984Z"
    },
    "pycharm": {
     "name": "#%% \n"
    }
   },
   "outputs": [],
   "source": [
    "advice_low=advise_wide_field(bvis_list[0], guard_band_image=8.0, delA=0.02)\n",
    "advice_high=advise_wide_field(bvis_list[-1], guard_band_image=8.0, delA=0.02)\n",
    "\n",
    "vis_slices = advice_low['vis_slices']\n",
    "npixel=advice_high['npixels2']\n",
    "cellsize=min(advice_low['cellsize'], advice_high['cellsize'])"
   ]
  },
  {
   "cell_type": "markdown",
   "metadata": {},
   "source": [
    "Now make a graph to fill with a model drawn from GLEAM. There will be one model image\n",
    "per frequency."
   ]
  },
  {
   "cell_type": "code",
   "execution_count": null,
   "metadata": {
    "ExecuteTime": {
     "end_time": "2020-11-19T14:27:59.390209Z",
     "start_time": "2020-11-19T14:27:55.965677Z"
    },
    "scrolled": false
   },
   "outputs": [],
   "source": [
    "gleam_model = [rsexecute.execute(create_low_test_image_from_gleam)(npixel=npixel,\n",
    "                                                               frequency=[frequency[f]],\n",
    "                                                               channel_bandwidth=[channel_bandwidth[f]],\n",
    "                                                               cellsize=cellsize,\n",
    "                                                               phasecentre=phasecentre,\n",
    "                                                               polarisation_frame=PolarisationFrame(\"stokesI\"),\n",
    "                                                               flux_limit=1.0,\n",
    "                                                               applybeam=True)\n",
    "                     for f, freq in enumerate(frequency)]\n",
    "log.info('About to make GLEAM model')\n",
    "gleam_model = rsexecute.compute(gleam_model, sync=True)\n",
    "future_gleam_model = rsexecute.scatter(gleam_model)"
   ]
  },
  {
   "cell_type": "markdown",
   "metadata": {
    "ExecuteTime": {
     "end_time": "2019-04-03T09:21:32.204717Z",
     "start_time": "2019-04-03T09:21:15.132705Z"
    },
    "pycharm": {
     "name": "#%% md\n"
    },
    "scrolled": false
   },
   "source": [
    "Now we can fill in the visibility values from the models, using a workflow."
   ]
  },
  {
   "cell_type": "code",
   "execution_count": null,
   "metadata": {
    "ExecuteTime": {
     "end_time": "2020-11-19T14:28:16.374706Z",
     "start_time": "2020-11-19T14:27:59.394569Z"
    },
    "pycharm": {
     "name": "#%%\n"
    }
   },
   "outputs": [],
   "source": [
    "log.info('About to run predict to get predicted visibility')\n",
    "future_vis_graph = rsexecute.scatter(bvis_list)\n",
    "predicted_vislist = predict_list_rsexecute_workflow(future_vis_graph, gleam_model, context='ng')\n",
    "predicted_vislist = rsexecute.compute(predicted_vislist, sync=True)\n",
    "future_predicted_vislist=rsexecute.scatter(predicted_vislist)"
   ]
  },
  {
   "cell_type": "markdown",
   "metadata": {},
   "source": [
    "Get the LSM. This is blank."
   ]
  },
  {
   "cell_type": "code",
   "execution_count": null,
   "metadata": {
    "ExecuteTime": {
     "end_time": "2020-11-19T14:28:16.388477Z",
     "start_time": "2020-11-19T14:28:16.376985Z"
    },
    "scrolled": true
   },
   "outputs": [],
   "source": [
    "model_list = [rsexecute.execute(create_image_from_visibility)(bvis_list[f],\n",
    "                                                     npixel=npixel,\n",
    "                                                     frequency=[frequency[f]],\n",
    "                                                     channel_bandwidth=[channel_bandwidth[f]],\n",
    "                                                     cellsize=cellsize,\n",
    "                                                     phasecentre=phasecentre,\n",
    "                                                     polarisation_frame=PolarisationFrame(\"stokesI\"))\n",
    "               for f, freq in enumerate(frequency)]"
   ]
  },
  {
   "cell_type": "markdown",
   "metadata": {
    "ExecuteTime": {
     "end_time": "2019-04-03T09:21:32.325468Z",
     "start_time": "2019-04-03T09:21:32.216314Z"
    },
    "pycharm": {
     "name": "#%% md\n"
    }
   },
   "source": [
    "Make the graphs to calculate the dirty image and psf, but don't compute the values yet."
   ]
  },
  {
   "cell_type": "code",
   "execution_count": null,
   "metadata": {
    "ExecuteTime": {
     "end_time": "2020-11-19T14:28:16.401563Z",
     "start_time": "2020-11-19T14:28:16.392388Z"
    },
    "pycharm": {
     "name": "#%%\n"
    }
   },
   "outputs": [],
   "source": [
    "\n",
    "dirty_list = invert_list_rsexecute_workflow(future_predicted_vislist, model_list, \n",
    "                                  context='ng', dopsf=False)\n",
    "psf_list = invert_list_rsexecute_workflow(future_predicted_vislist, model_list, \n",
    "                                context='ng', dopsf=True)"
   ]
  },
  {
   "cell_type": "markdown",
   "metadata": {},
   "source": [
    "Compute the graphs to make the dirty image and PSF"
   ]
  },
  {
   "cell_type": "code",
   "execution_count": null,
   "metadata": {
    "ExecuteTime": {
     "end_time": "2020-11-19T14:28:37.149511Z",
     "start_time": "2020-11-19T14:28:16.403643Z"
    },
    "scrolled": false
   },
   "outputs": [],
   "source": [
    "log.info('About to run invert to get dirty image')\n",
    "dirty_list =  rsexecute.compute(dirty_list, sync=True)\n",
    "dirty = dirty_list[0][0]\n",
    "show_image(dirty, cm='Greys')\n",
    "plt.show()\n",
    "\n",
    "log.info('About to run invert to get PSF')\n",
    "psf_list =  rsexecute.compute(psf_list, sync=True)\n",
    "psf = psf_list[0][0]\n",
    "show_image(psf, cm='Greys')\n",
    "plt.show()"
   ]
  },
  {
   "cell_type": "markdown",
   "metadata": {
    "ExecuteTime": {
     "end_time": "2019-04-03T09:22:00.925569Z",
     "start_time": "2019-04-03T09:21:58.762857Z"
    },
    "pycharm": {
     "name": "#%% md\n"
    },
    "scrolled": false
   },
   "source": [
    "Finally we can try the continuum imaging pipeline. First construct the graph."
   ]
  },
  {
   "cell_type": "code",
   "execution_count": null,
   "metadata": {
    "ExecuteTime": {
     "end_time": "2020-11-19T14:28:37.533574Z",
     "start_time": "2020-11-19T14:28:37.151433Z"
    },
    "pycharm": {
     "name": "#%%\n"
    }
   },
   "outputs": [],
   "source": [
    "centre=nfreqwin // 2\n",
    "\n",
    "continuum_imaging_list = continuum_imaging_list_rsexecute_workflow(future_predicted_vislist,\n",
    "                                                                   model_imagelist=model_list,\n",
    "                                                                   context='ng',\n",
    "                                                                   algorithm='mmclean',\n",
    "                                                                   scales=[0],\n",
    "                                                                   niter=100, fractional_threshold=0.1,\n",
    "                                                                   threshold=0.01,\n",
    "                                                                   nmoment=2,\n",
    "                                                                   nmajor=5, gain=0.7,\n",
    "                                                                   deconvolve_facets=4, deconvolve_overlap=32,\n",
    "                                                                   deconvolve_taper='tukey', psf_support=64,\n",
    "                                                                   restore_facets=4, psfwidth=3.0,\n",
    "                                                                  do_wstacking=False)\n"
   ]
  },
  {
   "cell_type": "markdown",
   "metadata": {
    "ExecuteTime": {
     "end_time": "2019-04-03T09:30:34.043945Z",
     "start_time": "2019-04-03T09:30:31.377721Z"
    },
    "pycharm": {
     "name": "#%% md\n"
    },
    "scrolled": false
   },
   "source": [
    "Now execute the graph"
   ]
  },
  {
   "cell_type": "code",
   "execution_count": null,
   "metadata": {
    "ExecuteTime": {
     "end_time": "2020-11-19T14:28:57.331571Z",
     "start_time": "2020-11-19T14:28:37.535576Z"
    },
    "pycharm": {
     "name": "#%%\n"
    },
    "scrolled": false
   },
   "outputs": [],
   "source": [
    "log.info('About to run continuum imaging')\n",
    "\n",
    "centre=nfreqwin // 2\n",
    "continuum_imaging_list=rsexecute.compute(continuum_imaging_list, sync=True)\n",
    "deconvolved = continuum_imaging_list[0][centre]\n",
    "residual = continuum_imaging_list[1][centre]\n",
    "restored = continuum_imaging_list[2][centre]\n",
    "\n",
    "f=show_image(deconvolved, title='Clean image - no selfcal', cm='Greys', \n",
    "             vmax=0.1, vmin=-0.01)\n",
    "print(qa_image(deconvolved, context='Clean image - no selfcal'))\n",
    "\n",
    "plt.show()\n",
    "\n",
    "f=show_image(restored, title='Restored clean image - no selfcal', \n",
    "             cm='Greys', vmax=1.0, vmin=-0.1)\n",
    "print(qa_image(restored, context='Restored clean image - no selfcal'))\n",
    "plt.show()\n",
    "export_image_to_fits(restored, '%s/imaging-dask_continuum_imaging_restored.fits' \n",
    "                     %(results_dir))\n",
    "\n",
    "f=show_image(residual[0], title='Residual clean image - no selfcal', cm='Greys')\n",
    "print(qa_image(residual[0], context='Residual clean image - no selfcal'))\n",
    "plt.show()\n",
    "export_image_to_fits(residual[0], '%s/imaging-dask_continuum_imaging_residual.fits' \n",
    "                     %(results_dir))\n"
   ]
  },
  {
   "cell_type": "code",
   "execution_count": null,
   "metadata": {},
   "outputs": [],
   "source": []
  }
 ],
 "metadata": {
  "kernelspec": {
   "display_name": "Python 3",
   "language": "python",
   "name": "python3"
  },
  "language_info": {
   "codemirror_mode": {
    "name": "ipython",
    "version": 3
   },
   "file_extension": ".py",
   "mimetype": "text/x-python",
   "name": "python",
   "nbconvert_exporter": "python",
   "pygments_lexer": "ipython3",
   "version": "3.7.8"
  }
 },
 "nbformat": 4,
 "nbformat_minor": 2
}