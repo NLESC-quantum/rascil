{
 "cells": [
  {
   "cell_type": "markdown",
   "metadata": {},
   "source": [
    "# Simulation of the effect of pointing errors on MID observations"
   ]
  },
  {
   "cell_type": "code",
   "execution_count": null,
   "metadata": {
    "ExecuteTime": {
     "end_time": "2019-04-25T13:29:46.608574Z",
     "start_time": "2019-04-25T13:29:44.579206Z"
    },
    "pycharm": {},
    "scrolled": false
   },
   "outputs": [],
   "source": [
    "%matplotlib inline\n",
    "import sys\n",
    "import csv, seqfile\n",
    "import socket, time\n",
    "\n",
    "from data_models.parameters import arl_path\n",
    "\n",
    "results_dir = arl_path('test_results')\n",
    "\n",
    "import numpy\n",
    "\n",
    "from astropy.coordinates import SkyCoord\n",
    "from astropy import units as u\n",
    "\n",
    "from matplotlib import pyplot as plt\n",
    "\n",
    "from data_models.polarisation import PolarisationFrame\n",
    "from data_models.memory_data_models import Skycomponent, SkyModel\n",
    "from data_models.data_model_helpers import export_pointingtable_to_hdf5\n",
    "\n",
    "from wrappers.serial.visibility.base import create_blockvisibility\n",
    "from wrappers.serial.image.operations import show_image, qa_image\n",
    "from wrappers.serial.simulation.testing_support import simulate_pointingtable\n",
    "from wrappers.serial.simulation.configurations import create_named_configuration\n",
    "from wrappers.serial.imaging.primary_beams import create_vp, create_pb\n",
    "from wrappers.serial.skycomponent.operations import apply_beam_to_skycomponent\n",
    "from wrappers.serial.imaging.base import create_image_from_visibility, advise_wide_field\n",
    "from processing_components.calibration.pointing import create_pointingtable_from_blockvisibility\n",
    "from processing_components.simulation.pointing import simulate_gaintable_from_pointingtable\n",
    "from wrappers.arlexecute.visibility.base import copy_visibility\n",
    "\n",
    "from wrappers.arlexecute.visibility.coalesce import convert_blockvisibility_to_visibility\n",
    "\n",
    "from workflows.arlexecute.skymodel.skymodel_arlexecute import predict_skymodel_list_arlexecute_workflow\n",
    "from workflows.arlexecute.imaging.imaging_arlexecute import invert_list_arlexecute_workflow\n",
    "from workflows.serial.imaging.imaging_serial import weight_list_serial_workflow\n",
    "\n",
    "from wrappers.arlexecute.execution_support.arlexecute import arlexecute\n",
    "\n",
    "from wrappers.arlexecute.execution_support.dask_init import get_dask_Client\n",
    "\n",
    "\n",
    "import logging\n",
    "log = logging.getLogger()\n",
    "log.setLevel(logging.DEBUG)\n",
    "log.addHandler(logging.StreamHandler(sys.stdout))\n",
    "mpl_logger = logging.getLogger(\"matplotlib\") \n",
    "mpl_logger.setLevel(logging.WARNING) \n",
    "\n"
   ]
  },
  {
   "cell_type": "code",
   "execution_count": null,
   "metadata": {
    "ExecuteTime": {
     "end_time": "2019-04-25T13:29:46.615877Z",
     "start_time": "2019-04-25T13:29:46.611229Z"
    }
   },
   "outputs": [],
   "source": [
    "from matplotlib import pylab\n",
    "\n",
    "pylab.rcParams['figure.figsize'] = (12.0, 12.0)\n",
    "pylab.rcParams['image.cmap'] = 'rainbow'\n",
    "doplot=False"
   ]
  },
  {
   "cell_type": "code",
   "execution_count": null,
   "metadata": {
    "ExecuteTime": {
     "end_time": "2019-04-25T13:29:49.407639Z",
     "start_time": "2019-04-25T13:29:46.619451Z"
    }
   },
   "outputs": [],
   "source": [
    "client = get_dask_Client(memory_limit=8 * 1024 * 1024 * 1024)\n",
    "arlexecute.set_client(client=client)"
   ]
  },
  {
   "cell_type": "code",
   "execution_count": null,
   "metadata": {
    "ExecuteTime": {
     "end_time": "2019-04-25T13:29:54.154739Z",
     "start_time": "2019-04-25T13:29:49.410787Z"
    },
    "pycharm": {}
   },
   "outputs": [],
   "source": [
    "nfreqwin = 1\n",
    "ntimes = 65\n",
    "rmax = 1e5\n",
    "diameter=15.0\n",
    "\n",
    "frequency = [1.4e9]\n",
    "channel_bandwidth = [1e7]\n",
    "\n",
    "HWHM_deg = 180.0*3e8/(numpy.pi*diameter*frequency[0])\n",
    "\n",
    "print('HWHM beam = %g deg' % HWHM_deg)\n",
    "HWHM = HWHM_deg * numpy.pi / 180.0\n",
    "\n",
    "h2r = numpy.pi / 12.0\n",
    "times = numpy.linspace(-6 * h2r, +6 * h2r, ntimes)\n",
    "\n",
    "phasecentre = SkyCoord(ra=+15.0 * u.deg, dec=-45.0 * u.deg, frame='icrs', equinox='J2000')\n",
    "midcore = create_named_configuration('MID', rmax=rmax)\n",
    "\n",
    "block_vis = create_blockvisibility(midcore, times, frequency=frequency,\n",
    "                                   channel_bandwidth=channel_bandwidth, weight=1.0, phasecentre=phasecentre,\n",
    "                                   polarisation_frame=PolarisationFrame(\"stokesI\"), zerow=True)"
   ]
  },
  {
   "cell_type": "code",
   "execution_count": null,
   "metadata": {
    "ExecuteTime": {
     "end_time": "2019-04-25T13:30:08.617306Z",
     "start_time": "2019-04-25T13:29:54.173889Z"
    },
    "pycharm": {}
   },
   "outputs": [],
   "source": [
    "vis = convert_blockvisibility_to_visibility(block_vis)\n",
    "advice=advise_wide_field(vis, guard_band_image=1.0, delA=0.02)\n",
    "\n",
    "cellsize=advice['cellsize']\n",
    "npixel=512\n",
    "pb_npixel=4096\n",
    "pb_cellsize=1.03*HWHM/pb_npixel"
   ]
  },
  {
   "cell_type": "code",
   "execution_count": null,
   "metadata": {
    "ExecuteTime": {
     "end_time": "2019-04-25T13:30:08.983231Z",
     "start_time": "2019-04-25T13:30:08.619235Z"
    }
   },
   "outputs": [],
   "source": [
    "plt.clf()\n",
    "plt.plot(vis.u, vis.v, '.')\n",
    "plt.show()"
   ]
  },
  {
   "cell_type": "code",
   "execution_count": null,
   "metadata": {
    "ExecuteTime": {
     "end_time": "2019-04-25T13:30:10.725152Z",
     "start_time": "2019-04-25T13:30:08.987530Z"
    }
   },
   "outputs": [],
   "source": [
    "plt.clf()\n",
    "plt.plot(vis.u, vis.v, '.')\n",
    "plt.show()"
   ]
  },
  {
   "cell_type": "code",
   "execution_count": null,
   "metadata": {
    "ExecuteTime": {
     "end_time": "2019-04-25T13:30:35.664502Z",
     "start_time": "2019-04-25T13:30:10.728136Z"
    }
   },
   "outputs": [],
   "source": [
    "model = create_image_from_visibility(block_vis, npixel=npixel, frequency=frequency,\n",
    "                                    nchan=nfreqwin, cellsize=cellsize, phasecentre=phasecentre)\n",
    "\n",
    "vis = weight_list_serial_workflow([vis], [model])[0]"
   ]
  },
  {
   "cell_type": "markdown",
   "metadata": {},
   "source": [
    "### Calculate the voltage patterns with and without pointing errors"
   ]
  },
  {
   "cell_type": "code",
   "execution_count": null,
   "metadata": {
    "ExecuteTime": {
     "end_time": "2019-04-25T13:30:44.234279Z",
     "start_time": "2019-04-25T13:30:35.666592Z"
    },
    "scrolled": false
   },
   "outputs": [],
   "source": [
    "original_component = [Skycomponent(flux=[[1.0]], direction=phasecentre, \n",
    "                                  frequency=frequency, polarisation_frame=PolarisationFrame('stokesI'))]\n",
    "\n",
    "vp = create_image_from_visibility(block_vis, npixel=pb_npixel, frequency=frequency,\n",
    "                                    nchan=nfreqwin, cellsize=pb_cellsize, phasecentre=phasecentre,\n",
    "                                 override_cellsize=False)\n",
    "\n",
    "offset = [180.0*pb_cellsize*pb_npixel/(2.0*numpy.pi), 0.0]\n",
    "HWHM=HWHM_deg * numpy.pi / 180.0\n",
    "pb_direction = SkyCoord(ra=(+15.0 + offset[0]/numpy.cos(-45.0 * numpy.pi/180.0)) * u.deg, \n",
    "                        dec=(-45.0 + offset[1]) * u.deg, frame='icrs', equinox='J2000')\n",
    "pb = create_pb(vp, 'MID', pointingcentre=pb_direction)\n",
    "show_image(pb)\n",
    "plt.show()\n",
    "print(pb.data[0,0,pb_npixel//2,pb_npixel//2])\n",
    "print(pb.data[0,0,0,pb_npixel//2])\n",
    "print(pb.data[0,0,:,0])"
   ]
  },
  {
   "cell_type": "code",
   "execution_count": null,
   "metadata": {
    "ExecuteTime": {
     "end_time": "2019-04-25T13:31:03.772653Z",
     "start_time": "2019-04-25T13:30:44.237142Z"
    }
   },
   "outputs": [],
   "source": [
    "vp = create_vp(vp, 'MID', pointingcentre=pb_direction)\n",
    "pt = create_pointingtable_from_blockvisibility(block_vis, vp)\n",
    "no_error_pt = simulate_pointingtable(pt, 0.0, 0.0, seed=18051955)\n",
    "export_pointingtable_to_hdf5(no_error_pt, 'pointingsim_noerror_pointingtable.hdf5')\n",
    "no_error_gt = simulate_gaintable_from_pointingtable(block_vis, original_component, no_error_pt, vp)"
   ]
  },
  {
   "cell_type": "code",
   "execution_count": null,
   "metadata": {
    "ExecuteTime": {
     "end_time": "2019-04-25T13:31:40.094449Z",
     "start_time": "2019-04-25T13:31:03.774293Z"
    },
    "scrolled": false
   },
   "outputs": [],
   "source": [
    "no_error_sm=SkyModel(components=original_component, gaintable=no_error_gt[0])\n",
    "no_error_vis = copy_visibility(vis)\n",
    "no_error_vis = predict_skymodel_list_arlexecute_workflow(no_error_vis, [no_error_sm], context='2d', docal=True)\n",
    "no_error_vis=arlexecute.compute(no_error_vis, sync=True)[0]"
   ]
  },
  {
   "cell_type": "code",
   "execution_count": null,
   "metadata": {
    "ExecuteTime": {
     "end_time": "2019-04-25T13:48:34.868014Z",
     "start_time": "2019-04-25T13:31:40.163856Z"
    },
    "pycharm": {},
    "scrolled": false
   },
   "outputs": [],
   "source": [
    "static=0.0\n",
    "dynamic=1.0\n",
    "fwhm = 1.0\n",
    "pes = [1.0, 2.0, 4.0, 8.0, 16.0, 32.0, 64.0, 128.0, 256.0]\n",
    "qas = []\n",
    "for pe in pes:\n",
    "    static_pointing_error = static * pe * numpy.pi/(3600.0*180.0)\n",
    "    pointing_error = dynamic * pe * numpy.pi/(3600.0*180.0)\n",
    "    error_pt = simulate_pointingtable(pt, pointing_error=pointing_error, \n",
    "                                      static_pointing_error=static_pointing_error, seed=18051955)\n",
    "    export_pointingtable_to_hdf5(error_pt, 'pointingsim_error_arcsec%.1f_pointingtable.hdf5' % pe)\n",
    "\n",
    "\n",
    "    error_gt = simulate_gaintable_from_pointingtable(block_vis, original_component, error_pt, vp)\n",
    "\n",
    "    error_sm=SkyModel(components=original_component, gaintable=error_gt[0])\n",
    "\n",
    "    error_vis = copy_visibility(vis)\n",
    "    error_vis = predict_skymodel_list_arlexecute_workflow(error_vis, [error_sm], context='2d', docal=True)\n",
    "    error_vis=arlexecute.compute(error_vis, sync=True)[0]\n",
    "\n",
    "    error_vis.data['vis']-=no_error_vis.data['vis']\n",
    "    \n",
    "    dirty = invert_list_arlexecute_workflow([error_vis], [model], '2d')\n",
    "    dirty, sumwt = arlexecute.compute(dirty, sync=True)[0]\n",
    "    qa=qa_image(dirty)\n",
    "    print(qa)\n",
    "    qa.data['static_pointing_error'] = static_pointing_error\n",
    "    qa.data['dynamic_pointing_error'] = pointing_error\n",
    "\n",
    "    qas.append(qa)\n",
    "    show_image(dirty, cm='gray_r')\n",
    "    plt.show()\n"
   ]
  },
  {
   "cell_type": "code",
   "execution_count": null,
   "metadata": {
    "ExecuteTime": {
     "end_time": "2019-04-25T13:48:36.108546Z",
     "start_time": "2019-04-25T13:48:34.876163Z"
    },
    "scrolled": false
   },
   "outputs": [],
   "source": [
    "plt.clf()\n",
    "for field in ['maxabs', 'rms', 'medianabs']:\n",
    "    plt.loglog(pes, [q.data[field] for q in qas], '-', label=field)\n",
    "plt.xlabel('Pointing error (arcsec)')\n",
    "plt.ylabel('Error (Jy)')\n",
    "if HWHM_deg > 0.0:\n",
    "    plt.title('Error for 1Jy point source %g deg off axis at %g Hz, %d times, full array: dynamic %g, static %g' % \n",
    "              (HWHM_deg, frequency[0], ntimes, dynamic, static))\n",
    "\n",
    "else:\n",
    "    plt.title('Error for 1Jy point source on axis at %g Hz, %d times, full array: dynamic %g, static %g' % \n",
    "              (frequency[0], ntimes, dynamic, static))\n",
    "\n",
    "    \n",
    "plt.legend()\n",
    "plt.show()"
   ]
  },
  {
   "cell_type": "code",
   "execution_count": null,
   "metadata": {
    "ExecuteTime": {
     "end_time": "2019-04-25T13:49:29.494848Z",
     "start_time": "2019-04-25T13:49:29.489600Z"
    }
   },
   "outputs": [],
   "source": [
    "%%javascript\n",
    "IPython.notebook.kernel.execute('nb_name = \"' + IPython.notebook.notebook_name + '\"')"
   ]
  },
  {
   "cell_type": "code",
   "execution_count": null,
   "metadata": {
    "ExecuteTime": {
     "end_time": "2019-04-25T13:54:37.875737Z",
     "start_time": "2019-04-25T13:54:37.861777Z"
    }
   },
   "outputs": [],
   "source": [
    "filename = seqfile.findNextFile(prefix='pointingsimulation', suffix='.tsv')\n",
    "print('Saving results to %s' % filename)\n",
    "\n",
    "epoch = time.strftime(\"%Y-%m-%d %H:%M:%S\")\n",
    "\n",
    "for qa in qas:\n",
    "    qa.data['hostname'] = socket.gethostname()\n",
    "    qa.data['epoch']= epoch\n",
    "    qa.data['nb_name'] = nb_name\n",
    "    \n",
    "with open(filename, 'a') as csvfile:\n",
    "    writer = csv.DictWriter(csvfile, fieldnames=qas[0].data.keys(), delimiter='\\t', quotechar='|',\n",
    "                                quoting=csv.QUOTE_MINIMAL)\n",
    "    writer.writeheader()\n",
    "    for qa in qas:\n",
    "        writer.writerow(qa.data)\n",
    "    csvfile.close()"
   ]
  },
  {
   "cell_type": "code",
   "execution_count": null,
   "metadata": {},
   "outputs": [],
   "source": []
  }
 ],
 "metadata": {
  "kernelspec": {
   "display_name": "Python 3",
   "language": "python",
   "name": "python3"
  },
  "language_info": {
   "codemirror_mode": {
    "name": "ipython",
    "version": 3
   },
   "file_extension": ".py",
   "mimetype": "text/x-python",
   "name": "python",
   "nbconvert_exporter": "python",
   "pygments_lexer": "ipython3",
   "version": "3.6.1"
  }
 },
 "nbformat": 4,
 "nbformat_minor": 2
}
