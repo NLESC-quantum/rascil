{
 "cells": [
  {
   "cell_type": "markdown",
   "metadata": {},
   "source": [
    "# Set up a simple queue of SBs to run a real-time ARL pipeline, outputting QA to a TM queue."
   ]
  },
  {
   "cell_type": "code",
   "execution_count": 1,
   "metadata": {
    "ExecuteTime": {
     "end_time": "2018-02-09T15:30:25.087836Z",
     "start_time": "2018-02-09T15:30:23.331399Z"
    },
    "pycharm": {
     "is_executing": false
    }
   },
   "outputs": [],
   "source": [
    "import queue\n",
    "\n",
    "import numpy\n",
    "\n",
    "from matplotlib import pylab\n",
    "\n",
    "pylab.rcParams['figure.figsize'] = (8.0, 8.0)\n",
    "pylab.rcParams['image.cmap'] = 'rainbow'\n",
    "\n",
    "import matplotlib.pyplot as plt\n",
    "\n",
    "from astropy.coordinates import SkyCoord\n",
    "from astropy import units as u\n",
    "\n",
    "from data_models.polarisation import PolarisationFrame\n",
    "\n",
    "from processing_components import create_skycomponent, create_blockvisibility_iterator, create_named_configuration, \\\n",
    "    qa_gaintable, rcal\n"
   ]
  },
  {
   "cell_type": "markdown",
   "metadata": {},
   "source": [
    "Define the data to be generated"
   ]
  },
  {
   "cell_type": "code",
   "execution_count": 2,
   "metadata": {
    "ExecuteTime": {
     "end_time": "2018-02-09T15:30:25.140563Z",
     "start_time": "2018-02-09T15:30:25.089467Z"
    },
    "pycharm": {
     "is_executing": false
    }
   },
   "outputs": [],
   "source": [
    "lowcore = create_named_configuration('LOWBD2-CORE')\n",
    "times = numpy.linspace(-3.0, +3.0, 7) * numpy.pi / 12.0\n",
    "frequency = numpy.linspace(1.0e8, 1.50e8, 3)\n",
    "channel_bandwidth = numpy.array([5e7, 5e7, 5e7])\n",
    "\n",
    "# Define the component and give it some polarisation and spectral behaviour\n",
    "f = numpy.array([100.0, 20.0, -10.0, 1.0])\n",
    "flux = numpy.array([f, 0.8 * f, 0.6 * f])\n",
    "phasecentre = SkyCoord(ra=+15.0 * u.deg, dec=-35.0 * u.deg, frame='icrs', equinox='J2000')\n",
    "compdirection = SkyCoord(ra=17.0 * u.deg, dec=-36.5 * u.deg, frame='icrs', equinox='J2000')\n",
    "comp = create_skycomponent(flux=flux, frequency=frequency, direction=compdirection)"
   ]
  },
  {
   "cell_type": "code",
   "execution_count": 3,
   "metadata": {
    "ExecuteTime": {
     "end_time": "2018-02-09T15:30:25.150685Z",
     "start_time": "2018-02-09T15:30:25.142070Z"
    },
    "pycharm": {
     "is_executing": false
    }
   },
   "outputs": [],
   "source": [
    "def plotgain(gt, title=''):\n",
    "    plt.clf()\n",
    "    plt.plot(numpy.real(gt.gain[...,0,0]).flat, numpy.imag(gt.gain[...,0,0]).flat, '.')\n",
    "    plt.plot(numpy.real(gt.gain[...,1,1]).flat, numpy.imag(gt.gain[...,1,1]).flat, '.')\n",
    "    plt.title(title)\n",
    "    plt.xlabel('Real part of gain')\n",
    "    plt.ylabel('Imaginary part of gain')\n",
    "    plt.show()"
   ]
  },
  {
   "cell_type": "markdown",
   "metadata": {},
   "source": [
    "Create two queues, an input and output. Call them CSP (in) and TM (out)."
   ]
  },
  {
   "cell_type": "code",
   "execution_count": 4,
   "metadata": {
    "ExecuteTime": {
     "end_time": "2018-02-09T15:30:25.155887Z",
     "start_time": "2018-02-09T15:30:25.153023Z"
    },
    "scrolled": false,
    "pycharm": {
     "is_executing": false
    }
   },
   "outputs": [],
   "source": [
    "csp_queue = queue.Queue()\n",
    "tm_queue = queue.Queue()"
   ]
  },
  {
   "cell_type": "markdown",
   "metadata": {},
   "source": [
    "Now populate the CSP queue with 3 \"Measurements\"."
   ]
  },
  {
   "cell_type": "code",
   "execution_count": 5,
   "metadata": {
    "ExecuteTime": {
     "end_time": "2018-02-09T15:30:25.167878Z",
     "start_time": "2018-02-09T15:30:25.160072Z"
    },
    "pycharm": {
     "is_executing": false
    }
   },
   "outputs": [],
   "source": [
    "num_tasks_to_queue = 3\n",
    "for i in range(num_tasks_to_queue):\n",
    "    sb_id = i+100000\n",
    "    data = [sb_id, create_blockvisibility_iterator(lowcore, times=times,\n",
    "                                             frequency=frequency,\n",
    "                                             channel_bandwidth=channel_bandwidth, phasecentre=phasecentre,\n",
    "                                             weight=1, polarisation_frame=PolarisationFrame('linear'),\n",
    "                                             integration_time=1.0, number_integrations=1,\n",
    "                                             components=comp, phase_error=0.1, amplitude_error=0.01)]\n",
    "    csp_queue.put(data)"
   ]
  },
  {
   "cell_type": "markdown",
   "metadata": {},
   "source": [
    "Can view the queue contents, if desired. Essentially an SDP Jobs List."
   ]
  },
  {
   "cell_type": "code",
   "execution_count": 6,
   "metadata": {
    "ExecuteTime": {
     "start_time": "2018-02-09T15:30:23.342Z"
    },
    "pycharm": {
     "is_executing": false
    }
   },
   "outputs": [
    {
     "name": "stdout",
     "text": [
      "[100000, <generator object create_blockvisibility_iterator at 0x129af7f48>]\n",
      "[100001, <generator object create_blockvisibility_iterator at 0x129bd40c0>]\n",
      "[100002, <generator object create_blockvisibility_iterator at 0x129bd41b0>]\n"
     ],
     "output_type": "stream"
    }
   ],
   "source": [
    "for elem in list(csp_queue.queue):\n",
    "    print(elem)"
   ]
  },
  {
   "cell_type": "markdown",
   "metadata": {},
   "source": [
    "Can iterate over the queue, to process those jobs (non-prioritised)."
   ]
  },
  {
   "cell_type": "code",
   "execution_count": null,
   "metadata": {
    "ExecuteTime": {
     "start_time": "2018-02-09T15:30:23.344Z"
    },
    "scrolled": false,
    "pycharm": {
     "is_executing": true
    }
   },
   "outputs": [
    {
     "name": "stdout",
     "text": [
      "Processing SB_ID: 100000 ( 2 items left in CSP queue )\n",
      "Starting pipeline\n"
     ],
     "output_type": "stream"
    },
    {
     "data": {
      "text/plain": "<Figure size 432x288 with 1 Axes>",
      "image/png": "[encoded data removed]"
     },
     "metadata": {
      "needs_background": "light"
     },
     "output_type": "display_data"
    }
   ],
   "source": [
    "for ingest in iter(csp_queue.get, None):\n",
    "    sb_id = ingest[0]\n",
    "    print(\"Processing SB_ID:\", sb_id, \"(\", csp_queue.qsize(), \"items left in CSP queue )\")\n",
    "    rcal_pipeline = rcal(vis=ingest[1], components=comp, phase_only=False)\n",
    "\n",
    "    print(\"Starting pipeline\")\n",
    "    for igt, gt in enumerate(rcal_pipeline):\n",
    "        plotgain(gt, title=\"Chunk %d, time %s,  residual %.3g (Jy)\" % (igt, numpy.unique(gt.time),\n",
    "                                                                   numpy.average(gt.residual)))\n",
    "        tm_queue.put( [sb_id, qa_gaintable(gt)] )\n",
    "\n",
    "    print(\"Ingest and RCAL pipelines are empty, stopping\")\n",
    "\n",
    "print(\"CSP Queue is empty, stopping\")\n",
    "csp_queue.join()"
   ]
  },
  {
   "cell_type": "code",
   "execution_count": null,
   "metadata": {
    "pycharm": {
     "is_executing": true
    }
   },
   "outputs": [],
   "source": []
  }
 ],
 "metadata": {
  "kernelspec": {
   "name": "pycharm-d721c26c",
   "language": "python",
   "display_name": "PyCharm (algorithm-reference-library)"
  },
  "language_info": {
   "codemirror_mode": {
    "name": "ipython",
    "version": 3
   },
   "file_extension": ".py",
   "mimetype": "text/x-python",
   "name": "python",
   "nbconvert_exporter": "python",
   "pygments_lexer": "ipython3",
   "version": "3.6.1"
  },
  "pycharm": {
   "stem_cell": {
    "cell_type": "raw",
    "source": [],
    "metadata": {
     "collapsed": false
    }
   }
  }
 },
 "nbformat": 4,
 "nbformat_minor": 2
}