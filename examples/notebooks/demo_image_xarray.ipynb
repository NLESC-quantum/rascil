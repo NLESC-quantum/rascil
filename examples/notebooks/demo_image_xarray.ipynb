{
 "cells": [
  {
   "cell_type": "markdown",
   "metadata": {
    "collapsed": true,
    "pycharm": {
     "name": "#%% md\n"
    }
   },
   "source": [
    "Demonstration for XImage operations"
   ]
  },
  {
   "cell_type": "code",
   "execution_count": 1,
   "metadata": {
    "ExecuteTime": {
     "end_time": "2020-09-11T10:29:51.552103Z",
     "start_time": "2020-09-11T10:29:49.324139Z"
    },
    "pycharm": {
     "name": "#%%\n"
    }
   },
   "outputs": [
    {
     "name": "stderr",
     "output_type": "stream",
     "text": [
      "/Users/timcornwell/opt/anaconda3/envs/rascil37/lib/python3.7/typing.py:850: FutureWarning: xarray subclass Configuration should explicitly define __slots__\n",
      "  super().__init_subclass__(*args, **kwargs)\n",
      "/Users/timcornwell/opt/anaconda3/envs/rascil37/lib/python3.7/typing.py:850: FutureWarning: xarray subclass GainTable should explicitly define __slots__\n",
      "  super().__init_subclass__(*args, **kwargs)\n",
      "/Users/timcornwell/opt/anaconda3/envs/rascil37/lib/python3.7/typing.py:850: FutureWarning: xarray subclass PointingTable should explicitly define __slots__\n",
      "  super().__init_subclass__(*args, **kwargs)\n",
      "/Users/timcornwell/opt/anaconda3/envs/rascil37/lib/python3.7/typing.py:850: FutureWarning: xarray subclass Image should explicitly define __slots__\n",
      "  super().__init_subclass__(*args, **kwargs)\n",
      "/Users/timcornwell/opt/anaconda3/envs/rascil37/lib/python3.7/typing.py:850: FutureWarning: xarray subclass GridData should explicitly define __slots__\n",
      "  super().__init_subclass__(*args, **kwargs)\n",
      "/Users/timcornwell/opt/anaconda3/envs/rascil37/lib/python3.7/typing.py:850: FutureWarning: xarray subclass ConvolutionFunction should explicitly define __slots__\n",
      "  super().__init_subclass__(*args, **kwargs)\n",
      "/Users/timcornwell/opt/anaconda3/envs/rascil37/lib/python3.7/typing.py:850: FutureWarning: xarray subclass BlockVisibility should explicitly define __slots__\n",
      "  super().__init_subclass__(*args, **kwargs)\n",
      "/Users/timcornwell/opt/anaconda3/envs/rascil37/lib/python3.7/typing.py:850: FutureWarning: xarray subclass FlagTable should explicitly define __slots__\n",
      "  super().__init_subclass__(*args, **kwargs)\n"
     ]
    }
   ],
   "source": [
    "import astropy.units as u\n",
    "import numpy\n",
    "import xarray\n",
    "from astropy.coordinates import SkyCoord\n",
    "\n",
    "from rascil.data_models import PolarisationFrame\n",
    "from rascil.processing_components.simulation.testing_support import create_test_image"
   ]
  },
  {
   "cell_type": "markdown",
   "metadata": {
    "pycharm": {
     "name": "#%% md\n"
    }
   },
   "source": [
    "Create  suitable test image"
   ]
  },
  {
   "cell_type": "code",
   "execution_count": 2,
   "metadata": {
    "ExecuteTime": {
     "end_time": "2020-09-11T10:29:51.646613Z",
     "start_time": "2020-09-11T10:29:51.553646Z"
    },
    "pycharm": {
     "name": "#%%\n"
    }
   },
   "outputs": [
    {
     "ename": "AttributeError",
     "evalue": "'Image' object has no attribute 'data'",
     "output_type": "error",
     "traceback": [
      "\u001B[0;31m---------------------------------------------------------------------------\u001B[0m",
      "\u001B[0;31mAttributeError\u001B[0m                            Traceback (most recent call last)",
      "\u001B[0;32m<ipython-input-2-9792c0534a0a>\u001B[0m in \u001B[0;36m<module>\u001B[0;34m\u001B[0m\n\u001B[1;32m      5\u001B[0m                          polarisation_frame=PolarisationFrame(\"stokesIQUV\"))\n\u001B[1;32m      6\u001B[0m \u001B[0;34m\u001B[0m\u001B[0m\n\u001B[0;32m----> 7\u001B[0;31m \u001B[0;32massert\u001B[0m \u001B[0mnumpy\u001B[0m\u001B[0;34m.\u001B[0m\u001B[0mmax\u001B[0m\u001B[0;34m(\u001B[0m\u001B[0mximg\u001B[0m\u001B[0;34m.\u001B[0m\u001B[0mdata\u001B[0m\u001B[0;34m)\u001B[0m \u001B[0;34m>\u001B[0m \u001B[0;36m0.0\u001B[0m\u001B[0;34m\u001B[0m\u001B[0;34m\u001B[0m\u001B[0m\n\u001B[0m\u001B[1;32m      8\u001B[0m \u001B[0;34m\u001B[0m\u001B[0m\n\u001B[1;32m      9\u001B[0m \u001B[0mprint\u001B[0m\u001B[0;34m(\u001B[0m\u001B[0mximg\u001B[0m\u001B[0;34m)\u001B[0m\u001B[0;34m\u001B[0m\u001B[0;34m\u001B[0m\u001B[0m\n",
      "\u001B[0;32m~/opt/anaconda3/envs/rascil37/lib/python3.7/site-packages/xarray/core/common.py\u001B[0m in \u001B[0;36m__getattr__\u001B[0;34m(self, name)\u001B[0m\n\u001B[1;32m    227\u001B[0m                     \u001B[0;32mreturn\u001B[0m \u001B[0msource\u001B[0m\u001B[0;34m[\u001B[0m\u001B[0mname\u001B[0m\u001B[0;34m]\u001B[0m\u001B[0;34m\u001B[0m\u001B[0;34m\u001B[0m\u001B[0m\n\u001B[1;32m    228\u001B[0m         raise AttributeError(\n\u001B[0;32m--> 229\u001B[0;31m             \u001B[0;34m\"{!r} object has no attribute {!r}\"\u001B[0m\u001B[0;34m.\u001B[0m\u001B[0mformat\u001B[0m\u001B[0;34m(\u001B[0m\u001B[0mtype\u001B[0m\u001B[0;34m(\u001B[0m\u001B[0mself\u001B[0m\u001B[0;34m)\u001B[0m\u001B[0;34m.\u001B[0m\u001B[0m__name__\u001B[0m\u001B[0;34m,\u001B[0m \u001B[0mname\u001B[0m\u001B[0;34m)\u001B[0m\u001B[0;34m\u001B[0m\u001B[0;34m\u001B[0m\u001B[0m\n\u001B[0m\u001B[1;32m    230\u001B[0m         )\n\u001B[1;32m    231\u001B[0m \u001B[0;34m\u001B[0m\u001B[0m\n",
      "\u001B[0;31mAttributeError\u001B[0m: 'Image' object has no attribute 'data'"
     ]
    }
   ],
   "source": [
    "frequency = numpy.linspace(1.0e8, 1.1e8, 8)\n",
    "phasecentre = SkyCoord(ra=+180.0 * u.deg, dec=-35.0 * u.deg, frame='icrs', equinox='J2000')\n",
    "\n",
    "ximg = create_test_image(cellsize=0.001, phasecentre=phasecentre, frequency=frequency,\n",
    "                         polarisation_frame=PolarisationFrame(\"stokesIQUV\"))\n",
    "\n",
    "assert numpy.max(ximg.data) > 0.0\n",
    "\n",
    "print(ximg)"
   ]
  },
  {
   "cell_type": "markdown",
   "metadata": {},
   "source": [
    "Show channel 0, stokes I image"
   ]
  },
  {
   "cell_type": "code",
   "execution_count": 5,
   "metadata": {
    "ExecuteTime": {
     "end_time": "2020-09-11T10:29:51.931319Z",
     "start_time": "2020-09-11T10:29:51.651116Z"
    },
    "pycharm": {
     "name": "#%%\n"
    }
   },
   "outputs": [
    {
     "name": "stdout",
     "output_type": "stream",
     "text": [
      "<xarray.Image>\n",
      "Dimensions:       (l: 256, m: 256)\n",
      "Coordinates:\n",
      "    frequency     float64 1e+08\n",
      "    polarisation  <U1 'I'\n",
      "  * m             (m) float64 34.96 34.96 34.97 34.97 ... 35.03 35.04 35.04\n",
      "  * l             (l) float64 -0.03556 -0.03528 -0.035 ... 0.035 0.03528 0.03556\n",
      "Data variables:\n",
      "    pixels        (m, l) float64 0.0 0.0 0.0 0.0 0.0 0.0 ... 0.0 0.0 0.0 0.0 0.0\n",
      "Attributes:\n",
      "    shape:               (8, 4, 256, 256)\n",
      "    phasecentre:         <SkyCoord (ICRS): (ra, dec) in deg\\n    (0., 35.)>\n",
      "    wcs:                 WCS Keywords\\n\\nNumber of WCS axes: 4\\nCTYPE : 'RA--...\n",
      "    polarisation_frame:  stokesIQUV\n"
     ]
    }
   ],
   "source": [
    "import matplotlib.pyplot as plt\n",
    "ximg2d = ximg.sel({\"frequency\": frequency[0], \"polarisation\": \"I\"})\n",
    "print(ximg2d)"
   ]
  },
  {
   "cell_type": "code",
   "execution_count": null,
   "outputs": [],
   "source": [
    "ximg2d.plot.imshow()\n",
    "plt.show()"
   ],
   "metadata": {
    "collapsed": false,
    "pycharm": {
     "name": "#%%\n"
    }
   }
  },
  {
   "cell_type": "markdown",
   "metadata": {},
   "source": [
    "Select I, V polarisations"
   ]
  },
  {
   "cell_type": "code",
   "execution_count": 4,
   "metadata": {
    "ExecuteTime": {
     "end_time": "2020-09-11T10:29:51.962087Z",
     "start_time": "2020-09-11T10:29:51.932798Z"
    },
    "pycharm": {
     "name": "#%%\n"
    }
   },
   "outputs": [
    {
     "name": "stdout",
     "output_type": "stream",
     "text": [
      "<xarray.DataArray (frequency: 8, polarisation: 2, l: 256, m: 256)>\n",
      "array([[[[0., 0., 0., ..., 0., 0., 0.],\n",
      "         [0., 0., 0., ..., 0., 0., 0.],\n",
      "         [0., 0., 0., ..., 0., 0., 0.],\n",
      "         ...,\n",
      "         [0., 0., 0., ..., 0., 0., 0.],\n",
      "         [0., 0., 0., ..., 0., 0., 0.],\n",
      "         [0., 0., 0., ..., 0., 0., 0.]],\n",
      "\n",
      "        [[0., 0., 0., ..., 0., 0., 0.],\n",
      "         [0., 0., 0., ..., 0., 0., 0.],\n",
      "         [0., 0., 0., ..., 0., 0., 0.],\n",
      "         ...,\n",
      "         [0., 0., 0., ..., 0., 0., 0.],\n",
      "         [0., 0., 0., ..., 0., 0., 0.],\n",
      "         [0., 0., 0., ..., 0., 0., 0.]]],\n",
      "\n",
      "\n",
      "       [[[0., 0., 0., ..., 0., 0., 0.],\n",
      "         [0., 0., 0., ..., 0., 0., 0.],\n",
      "         [0., 0., 0., ..., 0., 0., 0.],\n",
      "...\n",
      "         [0., 0., 0., ..., 0., 0., 0.],\n",
      "         [0., 0., 0., ..., 0., 0., 0.],\n",
      "         [0., 0., 0., ..., 0., 0., 0.]]],\n",
      "\n",
      "\n",
      "       [[[0., 0., 0., ..., 0., 0., 0.],\n",
      "         [0., 0., 0., ..., 0., 0., 0.],\n",
      "         [0., 0., 0., ..., 0., 0., 0.],\n",
      "         ...,\n",
      "         [0., 0., 0., ..., 0., 0., 0.],\n",
      "         [0., 0., 0., ..., 0., 0., 0.],\n",
      "         [0., 0., 0., ..., 0., 0., 0.]],\n",
      "\n",
      "        [[0., 0., 0., ..., 0., 0., 0.],\n",
      "         [0., 0., 0., ..., 0., 0., 0.],\n",
      "         [0., 0., 0., ..., 0., 0., 0.],\n",
      "         ...,\n",
      "         [0., 0., 0., ..., 0., 0., 0.],\n",
      "         [0., 0., 0., ..., 0., 0., 0.],\n",
      "         [0., 0., 0., ..., 0., 0., 0.]]]])\n",
      "Coordinates:\n",
      "  * frequency     (frequency) float64 1e+08 1.014e+08 ... 1.086e+08 1.1e+08\n",
      "  * polarisation  (polarisation) <U1 'I' 'V'\n",
      "  * l             (l) float64 -0.03556 -0.03528 -0.035 ... 0.035 0.03528 0.03556\n",
      "  * m             (m) float64 34.96 34.96 34.97 34.97 ... 35.03 35.04 35.04\n"
     ]
    }
   ],
   "source": [
    "print(ximg.sel({\"polarisation\": [\"I\", \"V\"]}))\n",
    "\n",
    "# Apply a mask to the data\n",
    "ximg.data = ximg.data.where(numpy.hypot(ximg.data[\"l\"] - numpy.mean(ximg.data[\"l\"]),\n",
    "                                        ximg.data[\"m\"] - numpy.mean(ximg.data[\"m\"])) < 0.03)"
   ]
  },
  {
   "cell_type": "code",
   "execution_count": 5,
   "metadata": {
    "ExecuteTime": {
     "end_time": "2020-09-11T10:29:51.991375Z",
     "start_time": "2020-09-11T10:29:51.963539Z"
    },
    "pycharm": {
     "name": "#%%\n"
    }
   },
   "outputs": [
    {
     "name": "stdout",
     "output_type": "stream",
     "text": [
      "Image:\n",
      "<xarray.DataArray (frequency: 8, polarisation: 4, l: 256, m: 256)>\n",
      "array([[[[nan, nan, nan, ..., nan, nan, nan],\n",
      "         [nan, nan, nan, ..., nan, nan, nan],\n",
      "         [nan, nan, nan, ..., nan, nan, nan],\n",
      "         ...,\n",
      "         [nan, nan, nan, ..., nan, nan, nan],\n",
      "         [nan, nan, nan, ..., nan, nan, nan],\n",
      "         [nan, nan, nan, ..., nan, nan, nan]],\n",
      "\n",
      "        [[nan, nan, nan, ..., nan, nan, nan],\n",
      "         [nan, nan, nan, ..., nan, nan, nan],\n",
      "         [nan, nan, nan, ..., nan, nan, nan],\n",
      "         ...,\n",
      "         [nan, nan, nan, ..., nan, nan, nan],\n",
      "         [nan, nan, nan, ..., nan, nan, nan],\n",
      "         [nan, nan, nan, ..., nan, nan, nan]],\n",
      "\n",
      "        [[nan, nan, nan, ..., nan, nan, nan],\n",
      "         [nan, nan, nan, ..., nan, nan, nan],\n",
      "         [nan, nan, nan, ..., nan, nan, nan],\n",
      "         ...,\n",
      "...\n",
      "         ...,\n",
      "         [nan, nan, nan, ..., nan, nan, nan],\n",
      "         [nan, nan, nan, ..., nan, nan, nan],\n",
      "         [nan, nan, nan, ..., nan, nan, nan]],\n",
      "\n",
      "        [[nan, nan, nan, ..., nan, nan, nan],\n",
      "         [nan, nan, nan, ..., nan, nan, nan],\n",
      "         [nan, nan, nan, ..., nan, nan, nan],\n",
      "         ...,\n",
      "         [nan, nan, nan, ..., nan, nan, nan],\n",
      "         [nan, nan, nan, ..., nan, nan, nan],\n",
      "         [nan, nan, nan, ..., nan, nan, nan]],\n",
      "\n",
      "        [[nan, nan, nan, ..., nan, nan, nan],\n",
      "         [nan, nan, nan, ..., nan, nan, nan],\n",
      "         [nan, nan, nan, ..., nan, nan, nan],\n",
      "         ...,\n",
      "         [nan, nan, nan, ..., nan, nan, nan],\n",
      "         [nan, nan, nan, ..., nan, nan, nan],\n",
      "         [nan, nan, nan, ..., nan, nan, nan]]]])\n",
      "Coordinates:\n",
      "  * frequency     (frequency) float64 1e+08 1.014e+08 ... 1.086e+08 1.1e+08\n",
      "  * polarisation  (polarisation) <U1 'I' 'Q' 'U' 'V'\n",
      "  * l             (l) float64 -0.03556 -0.03528 -0.035 ... 0.035 0.03528 0.03556\n",
      "  * m             (m) float64 34.96 34.96 34.97 34.97 ... 35.03 35.04 35.04\n",
      "\tShape: (8, 4, 256, 256)\n",
      "\tData type: float64\n",
      "\tWCS: WCS Keywords\n",
      "\n",
      "Number of WCS axes: 4\n",
      "CTYPE : 'RA---SIN'  'DEC--SIN'  'STOKES'  'FREQ'  \n",
      "CRVAL : 180.0  -35.0  1.0  100000000.0  \n",
      "CRPIX : 129.0  129.0  1.0  1.0  \n",
      "PC1_1 PC1_2 PC1_3 PC1_4  : 1.0  0.0  0.0  0.0  \n",
      "PC2_1 PC2_2 PC2_3 PC2_4  : 0.0  1.0  0.0  0.0  \n",
      "PC3_1 PC3_2 PC3_3 PC3_4  : 0.0  0.0  1.0  0.0  \n",
      "PC4_1 PC4_2 PC4_3 PC4_4  : 0.0  0.0  0.0  1.0  \n",
      "CDELT : -0.05729577951308232  0.05729577951308232  1.0  1428571.4285714328  \n",
      "NAXIS : 0  0\n",
      "\tPolarisation frame: stokesIQUV\n",
      "\n",
      "<xarray.DataArray ()>\n",
      "array(47853.78127956)\n"
     ]
    }
   ],
   "source": [
    "print(ximg)\n",
    "print(numpy.sum(ximg.data))"
   ]
  },
  {
   "cell_type": "markdown",
   "metadata": {
    "pycharm": {
     "name": "#%% md\n"
    }
   },
   "source": [
    "Apply a function across the image in chunks using dask transparently"
   ]
  },
  {
   "cell_type": "code",
   "execution_count": 6,
   "metadata": {
    "ExecuteTime": {
     "end_time": "2020-09-11T10:29:52.018068Z",
     "start_time": "2020-09-11T10:29:51.992618Z"
    },
    "pycharm": {
     "name": "#%%\n"
    }
   },
   "outputs": [
    {
     "name": "stdout",
     "output_type": "stream",
     "text": [
      "Image:\n",
      "<xarray.DataArray (frequency: 8, polarisation: 4, l: 256, m: 256)>\n",
      "dask.array<xarray-<this-array>, shape=(8, 4, 256, 256), dtype=float64, chunksize=(8, 4, 32, 256), chunktype=numpy.ndarray>\n",
      "Coordinates:\n",
      "  * frequency     (frequency) float64 1e+08 1.014e+08 ... 1.086e+08 1.1e+08\n",
      "  * polarisation  (polarisation) <U1 'I' 'Q' 'U' 'V'\n",
      "  * l             (l) float64 -0.03556 -0.03528 -0.035 ... 0.035 0.03528 0.03556\n",
      "  * m             (m) float64 34.96 34.96 34.97 34.97 ... 35.03 35.04 35.04\n",
      "\tShape: (8, 4, 256, 256)\n",
      "\tData type: float64\n",
      "\tWCS: WCS Keywords\n",
      "\n",
      "Number of WCS axes: 4\n",
      "CTYPE : 'RA---SIN'  'DEC--SIN'  'STOKES'  'FREQ'  \n",
      "CRVAL : 180.0  -35.0  1.0  100000000.0  \n",
      "CRPIX : 129.0  129.0  1.0  1.0  \n",
      "PC1_1 PC1_2 PC1_3 PC1_4  : 1.0  0.0  0.0  0.0  \n",
      "PC2_1 PC2_2 PC2_3 PC2_4  : 0.0  1.0  0.0  0.0  \n",
      "PC3_1 PC3_2 PC3_3 PC3_4  : 0.0  0.0  1.0  0.0  \n",
      "PC4_1 PC4_2 PC4_3 PC4_4  : 0.0  0.0  0.0  1.0  \n",
      "CDELT : -0.05729577951308232  0.05729577951308232  1.0  1428571.4285714328  \n",
      "NAXIS : 0  0\n",
      "\tPolarisation frame: stokesIQUV\n",
      "\n"
     ]
    }
   ],
   "source": [
    "ximg.data = ximg.data.chunk({\"l\": 32, \"l\": 32})\n",
    "print(ximg)\n",
    "ximg.data = xarray.apply_ufunc(numpy.sqrt, ximg.data,\n",
    "                               dask=\"parallelized\",\n",
    "                               output_dtypes=[float])"
   ]
  },
  {
   "cell_type": "markdown",
   "metadata": {},
   "source": [
    "Show the resulting image"
   ]
  },
  {
   "cell_type": "code",
   "execution_count": 7,
   "metadata": {
    "ExecuteTime": {
     "end_time": "2020-09-11T10:29:52.223561Z",
     "start_time": "2020-09-11T10:29:52.020789Z"
    },
    "pycharm": {
     "name": "#%%\n"
    }
   },
   "outputs": [
    {
     "data": {
      "text/plain": "<Figure size 432x288 with 2 Axes>",
      "image/png": "[encoded data removed]"
     },
     "metadata": {
      "needs_background": "light"
     },
     "output_type": "display_data"
    }
   ],
   "source": [
    "ximg.data = ximg.data.sel({\"frequency\": frequency[0], \"polarisation\": \"I\"})\n",
    "ximg.data.plot.imshow()\n",
    "plt.show()\n"
   ]
  }
 ],
 "metadata": {
  "kernelspec": {
   "display_name": "Python 3",
   "language": "python",
   "name": "python3"
  },
  "language_info": {
   "codemirror_mode": {
    "name": "ipython",
    "version": 3
   },
   "file_extension": ".py",
   "mimetype": "text/x-python",
   "name": "python",
   "nbconvert_exporter": "python",
   "pygments_lexer": "ipython3",
   "version": "3.7.8"
  }
 },
 "nbformat": 4,
 "nbformat_minor": 1
}