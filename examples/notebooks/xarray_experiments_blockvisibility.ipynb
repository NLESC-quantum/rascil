{
 "cells": [
  {
   "cell_type": "markdown",
   "metadata": {
    "pycharm": {
     "name": "#%% md\n"
    }
   },
   "source": [
    "### Notebook to explore use of xarray in RASCIL\n",
    "\n",
    "RASCIL v0.1.19b uses Classes and numpy structured arrays as data holders. This simple approach\n",
    "has been sufficient for development so far but will be limiting for future development.\n",
    "For example, selection based on multiple coordinates will be needed for more flexible\n",
    "processing. In this notebook, we investigate xarray capabilities.\n",
    "\n",
    "    http://xarray.pydata.org/\n",
    "\n",
    "xarray must be installed:\n",
    "\n",
    "    pip install xarray\n",
    "\n",
    "We make use of rascil functions to create Visibility objects.\n"
   ]
  },
  {
   "cell_type": "code",
   "execution_count": 1,
   "metadata": {
    "ExecuteTime": {
     "end_time": "2020-08-21T15:23:12.078076Z",
     "start_time": "2020-08-21T15:23:09.222876Z"
    },
    "scrolled": false
   },
   "outputs": [],
   "source": [
    "import xarray\n",
    "import pandas\n",
    "import numpy\n",
    "\n",
    "from astropy.coordinates import SkyCoord\n",
    "import astropy.units as u\n",
    "from astropy.time import Time\n",
    "\n",
    "from rascil.data_models.polarisation import PolarisationFrame\n",
    "from rascil.processing_components import create_named_configuration, \\\n",
    "    create_blockvisibility"
   ]
  },
  {
   "cell_type": "markdown",
   "metadata": {
    "pycharm": {
     "name": "#%% md\n"
    }
   },
   "source": [
    "Create a standard RASCIL BlockVisibility object"
   ]
  },
  {
   "cell_type": "code",
   "execution_count": 2,
   "metadata": {
    "ExecuteTime": {
     "end_time": "2020-08-21T15:23:20.476688Z",
     "start_time": "2020-08-21T15:23:12.080265Z"
    },
    "pycharm": {
     "name": "#%%\n"
    }
   },
   "outputs": [
    {
     "name": "stdout",
     "output_type": "stream",
     "text": [
      "BlockVisibility:\n",
      "\tSource unknown\n",
      "\tPhasecentre: <SkyCoord (ICRS): (ra, dec) in deg\n",
      "    (180., -35.)>\n",
      "\tNumber of visibility blocks: 16\n",
      "\tNumber of integrations: 16\n",
      "\tVisibility shape: (16, 166, 166, 3, 4)\n",
      "\tNumber of flags: 2661312\n",
      "\tNumber of channels: 3\n",
      "\tFrequency: [1.00e+08 1.05e+08 1.10e+08]\n",
      "\tChannel bandwidth: [10000000. 10000000. 10000000.]\n",
      "\tNumber of polarisations: 4\n",
      "\tPolarisation Frame: linear\n",
      "\tConfiguration: LOWBD2-CORE\n",
      "\tMetadata: {}\n",
      "\n"
     ]
    }
   ],
   "source": [
    "lowcore = create_named_configuration('LOWBD2-CORE')\n",
    "times = (numpy.pi / 43200.0) * numpy.arange(-4*3600, +4*3600.0, 1800)\n",
    "frequency = numpy.linspace(1.0e8, 1.1e8, 3)\n",
    "channel_bandwidth = numpy.array([1e7, 1e7, 1e7])\n",
    "# Define the component and give it some spectral behaviour\n",
    "f = numpy.array([100.0, 20.0, -10.0, 1.0])\n",
    "flux = numpy.array([f, 0.8 * f, 0.6 * f])\n",
    "phasecentre = SkyCoord(ra=+180.0 * u.deg, dec=-35.0 * u.deg, frame='icrs',\n",
    "                       equinox='J2000')\n",
    "vis = create_blockvisibility(lowcore, times, frequency,\n",
    "                             channel_bandwidth=channel_bandwidth,\n",
    "                             phasecentre=phasecentre,\n",
    "                             integration_time=30.0,\n",
    "                             polarisation_frame=PolarisationFrame(\"linear\"),\n",
    "                             weight=1.0)\n",
    "print(vis)"
   ]
  },
  {
   "cell_type": "markdown",
   "metadata": {
    "pycharm": {
     "name": "#%% md\n"
    }
   },
   "source": [
    "First construct an xarray.DataArray for the visibility. We name the dimensions and give the coordinates."
   ]
  },
  {
   "cell_type": "code",
   "execution_count": 4,
   "metadata": {
    "ExecuteTime": {
     "end_time": "2020-08-21T15:23:20.490484Z",
     "start_time": "2020-08-21T15:23:20.479921Z"
    },
    "pycharm": {
     "name": "#%%%\n"
    }
   },
   "outputs": [
    {
     "ename": "AttributeError",
     "evalue": "'BlockVisibility' object has no attribute 'antenna1'",
     "output_type": "error",
     "traceback": [
      "\u001B[0;31m---------------------------------------------------------------------------\u001B[0m",
      "\u001B[0;31mAttributeError\u001B[0m                            Traceback (most recent call last)",
      "\u001B[0;32m<ipython-input-4-40e48b34bafa>\u001B[0m in \u001B[0;36m<module>\u001B[0;34m\u001B[0m\n\u001B[1;32m      9\u001B[0m                         \u001B[0;32myield\u001B[0m \u001B[0mvis\u001B[0m\u001B[0;34m.\u001B[0m\u001B[0mvis\u001B[0m\u001B[0;34m[\u001B[0m\u001B[0mitime\u001B[0m\u001B[0;34m,\u001B[0m \u001B[0mant2\u001B[0m\u001B[0;34m,\u001B[0m \u001B[0mant1\u001B[0m\u001B[0;34m,\u001B[0m \u001B[0mchannel\u001B[0m\u001B[0;34m,\u001B[0m \u001B[0mipol\u001B[0m\u001B[0;34m]\u001B[0m\u001B[0;34m\u001B[0m\u001B[0;34m\u001B[0m\u001B[0m\n\u001B[1;32m     10\u001B[0m \u001B[0;34m\u001B[0m\u001B[0m\n\u001B[0;32m---> 11\u001B[0;31m \u001B[0mv_array\u001B[0m \u001B[0;34m=\u001B[0m \u001B[0mnumpy\u001B[0m\u001B[0;34m.\u001B[0m\u001B[0marray\u001B[0m\u001B[0;34m(\u001B[0m\u001B[0mlist\u001B[0m\u001B[0;34m(\u001B[0m\u001B[0mgen_vis\u001B[0m\u001B[0;34m(\u001B[0m\u001B[0mvis\u001B[0m\u001B[0;34m)\u001B[0m\u001B[0;34m)\u001B[0m\u001B[0;34m)\u001B[0m\u001B[0;34m\u001B[0m\u001B[0;34m\u001B[0m\u001B[0m\n\u001B[0m\u001B[1;32m     12\u001B[0m \u001B[0mprint\u001B[0m\u001B[0;34m(\u001B[0m\u001B[0mv_array\u001B[0m\u001B[0;34m.\u001B[0m\u001B[0mshape\u001B[0m\u001B[0;34m)\u001B[0m\u001B[0;34m\u001B[0m\u001B[0;34m\u001B[0m\u001B[0m\n\u001B[1;32m     13\u001B[0m \u001B[0;34m\u001B[0m\u001B[0m\n",
      "\u001B[0;32m<ipython-input-4-40e48b34bafa>\u001B[0m in \u001B[0;36mgen_vis\u001B[0;34m(vis)\u001B[0m\n\u001B[1;32m      3\u001B[0m \u001B[0;32mdef\u001B[0m \u001B[0mgen_vis\u001B[0m\u001B[0;34m(\u001B[0m\u001B[0mvis\u001B[0m\u001B[0;34m)\u001B[0m\u001B[0;34m:\u001B[0m\u001B[0;34m\u001B[0m\u001B[0;34m\u001B[0m\u001B[0m\n\u001B[1;32m      4\u001B[0m     \u001B[0;32mfor\u001B[0m \u001B[0mitime\u001B[0m\u001B[0;34m,\u001B[0m \u001B[0mtime\u001B[0m \u001B[0;32min\u001B[0m \u001B[0menumerate\u001B[0m\u001B[0;34m(\u001B[0m\u001B[0mvis\u001B[0m\u001B[0;34m.\u001B[0m\u001B[0mtime\u001B[0m\u001B[0;34m)\u001B[0m\u001B[0;34m:\u001B[0m\u001B[0;34m\u001B[0m\u001B[0;34m\u001B[0m\u001B[0m\n\u001B[0;32m----> 5\u001B[0;31m         \u001B[0;32mfor\u001B[0m \u001B[0mant1\u001B[0m \u001B[0;32min\u001B[0m \u001B[0mvis\u001B[0m\u001B[0;34m.\u001B[0m\u001B[0mantenna1\u001B[0m\u001B[0;34m:\u001B[0m\u001B[0;34m\u001B[0m\u001B[0;34m\u001B[0m\u001B[0m\n\u001B[0m\u001B[1;32m      6\u001B[0m             \u001B[0;32mfor\u001B[0m \u001B[0mant2\u001B[0m \u001B[0;32min\u001B[0m \u001B[0mvis\u001B[0m\u001B[0;34m.\u001B[0m\u001B[0mantenna1\u001B[0m\u001B[0;34m:\u001B[0m\u001B[0;34m\u001B[0m\u001B[0;34m\u001B[0m\u001B[0m\n\u001B[1;32m      7\u001B[0m                 \u001B[0;32mfor\u001B[0m \u001B[0mchannel\u001B[0m\u001B[0;34m,\u001B[0m \u001B[0mfrequency\u001B[0m \u001B[0;32min\u001B[0m \u001B[0menumerate\u001B[0m\u001B[0;34m(\u001B[0m\u001B[0mvis\u001B[0m\u001B[0;34m.\u001B[0m\u001B[0mfrequency\u001B[0m\u001B[0;34m)\u001B[0m\u001B[0;34m:\u001B[0m\u001B[0;34m\u001B[0m\u001B[0;34m\u001B[0m\u001B[0m\n",
      "\u001B[0;31mAttributeError\u001B[0m: 'BlockVisibility' object has no attribute 'antenna1'"
     ]
    }
   ],
   "source": [
    "nants = vis.nants\n",
    "\n",
    "def gen_vis(vis):\n",
    "    for itime, time in enumerate(vis.time):\n",
    "        for ant1 in vis.antenna1:\n",
    "            for ant2 in vis.antenna1:\n",
    "                for channel, frequency in enumerate(vis.frequency):\n",
    "                    for ipol, pol in enumerate(vis.polarisation_frame.names):\n",
    "                        yield vis.vis[itime, ant2, ant1, channel, ipol]\n",
    "\n",
    "v_array = numpy.array(list(gen_vis(vis)))\n",
    "print(v_array.shape)\n",
    "\n",
    "xvis_array = xarray.DataArray(vis.vis,\n",
    "                              dims=[\"time\", \"antenna2\", \"antenna1\", \"frequency\", \"polarisation\"],\n",
    "                              coords={\"time\": vis.time,\n",
    "                                      \"antenna2\": vis.antenna2,\n",
    "                                      \"antenna1\": vis.antenna1,\n",
    "                                      \"frequency\": vis.frequency,\n",
    "                                      \"polarisation\": vis.polarisation_frame.names})\n",
    "\n",
    "print(xvis_array)"
   ]
  },
  {
   "cell_type": "markdown",
   "metadata": {
    "pycharm": {
     "name": "#%% md\n"
    }
   },
   "source": [
    "Now we can create an xarray.Dataset which is a dictionary of DataArrays and a list of attributes"
   ]
  },
  {
   "cell_type": "code",
   "execution_count": 4,
   "metadata": {
    "ExecuteTime": {
     "end_time": "2020-08-21T15:23:24.579914Z",
     "start_time": "2020-08-21T15:23:20.493067Z"
    },
    "pycharm": {
     "name": "#%%\n"
    }
   },
   "outputs": [],
   "source": [
    "coords = {\"time\": vis.time,\n",
    "          \"polarisation\": vis.polarisation_frame.names,\n",
    "          \"spatial\": numpy.zeros([3])}\n",
    "\n",
    "xvis_dict = dict()\n",
    "xvis_dict[\"vis\"] = xarray.DataArray(vis.vis, dims=[\"time\", \"polarisation\"])\n",
    "xvis_dict[\"uvw\"] = xarray.DataArray(vis.uvw, dims=[\"time\", \"spatial\"])\n",
    "xvis_dict[\"antenna1\"] = xarray.DataArray(vis.antenna1, dims=[\"time\"])\n",
    "xvis_dict[\"antenna2\"] = xarray.DataArray(vis.antenna2, dims=[\"time\"])\n",
    "xvis_dict[\"datetime\"] = \\\n",
    "    xarray.DataArray(Time(vis.time / 86400.0, format='mjd', scale='utc').datetime64, dims=[\"time\"])\n",
    "xvis_dict[\"weight\"] = xarray.DataArray(vis.weight, dims=[\"time\", \"polarisation\"])\n",
    "xvis_dict[\"imaging_weight\"] = xarray.DataArray(vis.imaging_weight,\n",
    "                                               dims=[\"time\", \"polarisation\"])\n",
    "xvis_dict[\"flags\"] = xarray.DataArray(vis.flags, dims=[\"time\", \"polarisation\"])\n",
    "xvis_dict[\"frequency\"] = xarray.DataArray(vis.frequency, dims=[\"time\"])\n",
    "xvis_dict[\"channel_bandwidth\"] = xarray.DataArray(vis.channel_bandwidth, dims=[\"time\"])\n",
    "xvis_dict[\"integration_time\"] = xarray.DataArray(vis.integration_time, dims=[\"time\"])\n",
    "xvis = xarray.Dataset(xvis_dict, coords=coords)\n",
    "xvis.attrs['source'] = vis.source\n"
   ]
  },
  {
   "cell_type": "markdown",
   "metadata": {
    "pycharm": {
     "name": "#%% md\n"
    }
   },
   "source": [
    "xarray has excellent informative prints for most objects."
   ]
  },
  {
   "cell_type": "code",
   "execution_count": 5,
   "metadata": {
    "ExecuteTime": {
     "end_time": "2020-08-21T15:23:24.596557Z",
     "start_time": "2020-08-21T15:23:24.581426Z"
    },
    "pycharm": {
     "name": "#%%\n"
    }
   },
   "outputs": [
    {
     "name": "stdout",
     "output_type": "stream",
     "text": [
      "<xarray.Dataset>\n",
      "Dimensions:            (polarisation: 4, spatial: 3, time: 657360)\n",
      "Coordinates:\n",
      "  * time               (time) float64 5.085e+09 5.085e+09 ... 5.085e+09\n",
      "  * polarisation       (polarisation) <U2 'XX' 'XY' 'YX' 'YY'\n",
      "  * spatial            (spatial) float64 0.0 0.0 0.0\n",
      "Data variables:\n",
      "    vis                (time, polarisation) complex128 0j 0j 0j 0j ... 0j 0j 0j\n",
      "    uvw                (time, spatial) float64 10.69 12.45 17.77 ... 31.07 44.37\n",
      "    antenna1           (time) int64 0 0 0 0 0 0 0 ... 163 163 163 164 164 164\n",
      "    antenna2           (time) int64 1 1 1 2 2 2 3 ... 165 165 165 165 165 165\n",
      "    datetime           (time) datetime64[ns] 2020-01-01T17:30:36.436666595 .....\n",
      "    weight             (time, polarisation) float64 1.0 1.0 1.0 ... 1.0 1.0 1.0\n",
      "    imaging_weight     (time, polarisation) float64 1.0 1.0 1.0 ... 1.0 1.0 1.0\n",
      "    flags              (time, polarisation) int64 0 0 0 0 0 0 0 ... 0 0 0 0 0 0\n",
      "    frequency          (time) float64 1e+08 1.05e+08 ... 1.05e+08 1.1e+08\n",
      "    channel_bandwidth  (time) float64 1e+07 1e+07 1e+07 ... 1e+07 1e+07 1e+07\n",
      "    integration_time   (time) float64 30.0 30.0 30.0 30.0 ... 30.0 30.0 30.0\n",
      "Attributes:\n",
      "    source:   unknown\n"
     ]
    }
   ],
   "source": [
    "print(xvis)"
   ]
  },
  {
   "cell_type": "markdown",
   "metadata": {
    "pycharm": {
     "name": "#%% md\n"
    }
   },
   "source": [
    "Take a slice in times and polarisation"
   ]
  },
  {
   "cell_type": "code",
   "execution_count": 6,
   "metadata": {
    "ExecuteTime": {
     "end_time": "2020-08-21T15:23:24.604499Z",
     "start_time": "2020-08-21T15:23:24.598677Z"
    },
    "pycharm": {
     "name": "#%%\n"
    }
   },
   "outputs": [
    {
     "ename": "AttributeError",
     "evalue": "'Dataset' object has no attribute 'visibility'",
     "output_type": "error",
     "traceback": [
      "\u001B[0;31m---------------------------------------------------------------------------\u001B[0m",
      "\u001B[0;31mAttributeError\u001B[0m                            Traceback (most recent call last)",
      "\u001B[0;32m<ipython-input-6-5f5a5fae0660>\u001B[0m in \u001B[0;36m<module>\u001B[0;34m\u001B[0m\n\u001B[0;32m----> 1\u001B[0;31m \u001B[0mprint\u001B[0m\u001B[0;34m(\u001B[0m\u001B[0mxvis\u001B[0m\u001B[0;34m.\u001B[0m\u001B[0mvisibility\u001B[0m\u001B[0;34m[\u001B[0m\u001B[0;36m100\u001B[0m\u001B[0;34m:\u001B[0m\u001B[0;36m110\u001B[0m\u001B[0;34m,\u001B[0m \u001B[0;36m0\u001B[0m\u001B[0;34m:\u001B[0m\u001B[0;36m1\u001B[0m\u001B[0;34m]\u001B[0m\u001B[0;34m)\u001B[0m\u001B[0;34m\u001B[0m\u001B[0;34m\u001B[0m\u001B[0m\n\u001B[0m\u001B[1;32m      2\u001B[0m \u001B[0;34m\u001B[0m\u001B[0m\n",
      "\u001B[0;32m~/opt/anaconda3/envs/rascil37/lib/python3.7/site-packages/xarray/core/common.py\u001B[0m in \u001B[0;36m__getattr__\u001B[0;34m(self, name)\u001B[0m\n\u001B[1;32m    231\u001B[0m                     \u001B[0;32mreturn\u001B[0m \u001B[0msource\u001B[0m\u001B[0;34m[\u001B[0m\u001B[0mname\u001B[0m\u001B[0;34m]\u001B[0m\u001B[0;34m\u001B[0m\u001B[0;34m\u001B[0m\u001B[0m\n\u001B[1;32m    232\u001B[0m         raise AttributeError(\n\u001B[0;32m--> 233\u001B[0;31m             \u001B[0;34m\"{!r} object has no attribute {!r}\"\u001B[0m\u001B[0;34m.\u001B[0m\u001B[0mformat\u001B[0m\u001B[0;34m(\u001B[0m\u001B[0mtype\u001B[0m\u001B[0;34m(\u001B[0m\u001B[0mself\u001B[0m\u001B[0;34m)\u001B[0m\u001B[0;34m.\u001B[0m\u001B[0m__name__\u001B[0m\u001B[0;34m,\u001B[0m \u001B[0mname\u001B[0m\u001B[0;34m)\u001B[0m\u001B[0;34m\u001B[0m\u001B[0;34m\u001B[0m\u001B[0m\n\u001B[0m\u001B[1;32m    234\u001B[0m         )\n\u001B[1;32m    235\u001B[0m \u001B[0;34m\u001B[0m\u001B[0m\n",
      "\u001B[0;31mAttributeError\u001B[0m: 'Dataset' object has no attribute 'visibility'"
     ]
    }
   ],
   "source": [
    "print(xvis.visibility[100:110, 0:1])"
   ]
  },
  {
   "cell_type": "markdown",
   "metadata": {},
   "source": [
    "By label"
   ]
  },
  {
   "cell_type": "code",
   "execution_count": null,
   "metadata": {
    "ExecuteTime": {
     "end_time": "2020-08-21T15:23:24.706029Z",
     "start_time": "2020-08-21T15:23:24.606860Z"
    },
    "pycharm": {
     "name": "#%%\n"
    }
   },
   "outputs": [],
   "source": [
    "print(xvis.sel({\"polarisation\":[\"XX\", \"YY\"]}))"
   ]
  },
  {
   "cell_type": "markdown",
   "metadata": {
    "pycharm": {
     "name": "#%% md\n"
    }
   },
   "source": [
    "By antenna1. Note that where returns a Dataset with values masked."
   ]
  },
  {
   "cell_type": "code",
   "execution_count": null,
   "metadata": {
    "ExecuteTime": {
     "end_time": "2020-08-21T15:23:24.930154Z",
     "start_time": "2020-08-21T15:23:24.710459Z"
    },
    "pycharm": {
     "name": "#%%\n"
    }
   },
   "outputs": [],
   "source": [
    "print(xvis.where(xvis.antenna1<10).uvw)"
   ]
  },
  {
   "cell_type": "markdown",
   "metadata": {},
   "source": [
    "By uvw distance"
   ]
  },
  {
   "cell_type": "code",
   "execution_count": null,
   "metadata": {
    "ExecuteTime": {
     "end_time": "2020-08-21T15:23:25.123540Z",
     "start_time": "2020-08-21T15:23:24.933204Z"
    },
    "pycharm": {
     "name": "#%%\n"
    }
   },
   "outputs": [],
   "source": [
    "print(xvis.where(xvis.uvwdist<40.0).uvw)"
   ]
  },
  {
   "cell_type": "markdown",
   "metadata": {
    "pycharm": {
     "name": "#%% md\n"
    }
   },
   "source": [
    "By time"
   ]
  },
  {
   "cell_type": "code",
   "execution_count": null,
   "metadata": {
    "ExecuteTime": {
     "end_time": "2020-08-21T15:23:25.279708Z",
     "start_time": "2020-08-21T15:23:25.125411Z"
    },
    "pycharm": {
     "name": "#%%\n"
    }
   },
   "outputs": [],
   "source": [
    "print(xvis.where(xvis.datetime>numpy.datetime64(\"2020-01-01T23:00:00\")).datetime)"
   ]
  },
  {
   "cell_type": "markdown",
   "metadata": {
    "pycharm": {
     "name": "#%% md\n"
    }
   },
   "source": [
    "Sorting: the visibility is constructed so that antenna1 varies least. Let's try a sort by antenna2."
   ]
  },
  {
   "cell_type": "code",
   "execution_count": null,
   "metadata": {
    "ExecuteTime": {
     "end_time": "2020-08-21T15:23:25.639527Z",
     "start_time": "2020-08-21T15:23:25.281635Z"
    },
    "pycharm": {
     "name": "#%%\n"
    }
   },
   "outputs": [],
   "source": [
    "print(xvis.sortby(\"antenna2\").antenna2)"
   ]
  },
  {
   "cell_type": "markdown",
   "source": [
    "Now create a calculated columns\n",
    "\n",
    "e,g, x.assign(temperature_f=lambda x: x.temperature_c * 9 / 5 + 32)"
   ],
   "metadata": {
    "collapsed": false
   }
  },
  {
   "cell_type": "code",
   "execution_count": null,
   "outputs": [],
   "source": [
    "xvis.assign(uvdist=numpy.hypot(xvis.uvw[:,0], xvis.uvw[:,1]))\n",
    "print(xvis)"
   ],
   "metadata": {
    "collapsed": false,
    "pycharm": {
     "name": "#%%\n"
    }
   }
  },
  {
   "cell_type": "markdown",
   "metadata": {},
   "source": [
    "We can sort by uvdist. Note that the sequence of antenna1 and antenna2 changes"
   ]
  },
  {
   "cell_type": "code",
   "execution_count": null,
   "metadata": {
    "ExecuteTime": {
     "end_time": "2020-08-21T15:23:26.205648Z",
     "start_time": "2020-08-21T15:23:25.641563Z"
    },
    "pycharm": {
     "name": "#%%\n"
    }
   },
   "outputs": [],
   "source": [
    "print(xvis.sortby('uvdist'))"
   ]
  },
  {
   "cell_type": "markdown",
   "metadata": {},
   "source": [
    "Rebinning in one data coordinate - let's try bins in uvdist. Only print out the uvdist range and number of samples\n",
    "for each bin."
   ]
  },
  {
   "cell_type": "code",
   "execution_count": null,
   "metadata": {
    "ExecuteTime": {
     "end_time": "2020-08-21T15:23:30.551651Z",
     "start_time": "2020-08-21T15:23:26.207834Z"
    },
    "pycharm": {
     "name": "#%%\n"
    }
   },
   "outputs": [],
   "source": [
    "%timeit -n 1 -r 1 for result in xvis.groupby_bins(\"uvdist\", bins=25): print(result[0], result[1].dims['time'])\n"
   ]
  },
  {
   "cell_type": "markdown",
   "metadata": {
    "pycharm": {
     "name": "#%% md\n"
    }
   },
   "source": [
    "Although we declared antenna1 and antenna2 as DataArrays, we can still index by them. We first have to\n",
    "set them as index variables. The indexes attribute shows all the index variables allowed. antenna1, antenna2 are\n",
    "part of a MultiIndex called baseline."
   ]
  },
  {
   "cell_type": "code",
   "execution_count": null,
   "metadata": {
    "ExecuteTime": {
     "end_time": "2020-08-21T15:23:30.604940Z",
     "start_time": "2020-08-21T15:23:30.553668Z"
    },
    "pycharm": {
     "name": "#%%\n"
    }
   },
   "outputs": [],
   "source": [
    "xvis_antenna_selected=xvis\n",
    "xvis_antenna_selected=xvis_antenna_selected.set_index(baseline=(\"antenna1\", \"antenna2\"))\n",
    "print(xvis_antenna_selected.indexes)"
   ]
  },
  {
   "cell_type": "markdown",
   "metadata": {},
   "source": [
    "We can see that antenna1, antenna2 are part of a pandas.MultiIndex called baseline. So our selection is\n",
    "via a tuple containing range for antenna1 and antenna2. We can specify that coordinate elements that are fully\n",
    "flagged are to be dropped."
   ]
  },
  {
   "cell_type": "code",
   "execution_count": null,
   "metadata": {
    "ExecuteTime": {
     "end_time": "2020-08-21T15:23:30.634541Z",
     "start_time": "2020-08-21T15:23:30.607094Z"
    },
    "pycharm": {
     "name": "#%%\n"
    }
   },
   "outputs": [],
   "source": [
    "print(xvis_antenna_selected.sel(baseline=([1, 2], [6,7,8]), drop=True))"
   ]
  },
  {
   "cell_type": "markdown",
   "metadata": {
    "pycharm": {
     "name": "#%% md\n"
    }
   },
   "source": [
    "We can sort by the MultiIndex baseline"
   ]
  },
  {
   "cell_type": "code",
   "execution_count": null,
   "metadata": {
    "ExecuteTime": {
     "end_time": "2020-08-21T15:23:31.447752Z",
     "start_time": "2020-08-21T15:23:30.636512Z"
    },
    "pycharm": {
     "name": "#%%\n"
    }
   },
   "outputs": [],
   "source": [
    "print(xvis_antenna_selected.sortby(['baseline', 'time'], ascending=False))"
   ]
  },
  {
   "cell_type": "code",
   "execution_count": null,
   "outputs": [],
   "source": [
    "xvis_antenna_selected.sel(baseline=([1, 2], [6,7,8])).visibility[...] = 2.0"
   ],
   "metadata": {
    "collapsed": false,
    "pycharm": {
     "name": "#%%\n"
    }
   }
  }
 ],
 "metadata": {
  "kernelspec": {
   "name": "python3",
   "language": "python",
   "display_name": "Python 3"
  },
  "language_info": {
   "codemirror_mode": {
    "name": "ipython",
    "version": 3
   },
   "file_extension": ".py",
   "mimetype": "text/x-python",
   "name": "python",
   "nbconvert_exporter": "python",
   "pygments_lexer": "ipython3",
   "version": "3.7.8"
  }
 },
 "nbformat": 4,
 "nbformat_minor": 1
}