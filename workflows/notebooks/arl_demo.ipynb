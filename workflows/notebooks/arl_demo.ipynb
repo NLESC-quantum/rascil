{
 "cells": [
  {
   "cell_type": "markdown",
   "metadata": {},
   "source": [
    "# ICAL pipeline processing using Dask workflows."
   ]
  },
  {
   "cell_type": "code",
   "execution_count": 1,
   "metadata": {
    "ExecuteTime": {
     "end_time": "2019-07-21T08:49:19.917340Z",
     "start_time": "2019-07-21T08:49:17.269849Z"
    },
    "scrolled": false
   },
   "outputs": [],
   "source": [
    "%matplotlib inline\n",
    "\n",
    "import os\n",
    "import sys\n",
    "\n",
    "sys.path.append(os.path.join('..', '..'))\n",
    "\n",
    "from data_models.parameters import arl_path\n",
    "\n",
    "results_dir = arl_path('test_results')\n",
    "\n",
    "from matplotlib import pylab\n",
    "\n",
    "import numpy\n",
    "\n",
    "from astropy.coordinates import SkyCoord\n",
    "from astropy import units as u\n",
    "from astropy.wcs.utils import pixel_to_skycoord\n",
    "\n",
    "from matplotlib import pyplot as plt\n",
    "\n",
    "from data_models.polarisation import PolarisationFrame\n",
    "\n",
    "from wrappers.serial.calibration.calibration import solve_gaintable\n",
    "from wrappers.serial.calibration.calibration_control import create_calibration_controls\n",
    "from wrappers.serial.image.operations import show_image, export_image_to_fits, qa_image\n",
    "from wrappers.serial.simulation.testing_support import create_low_test_skymodel_from_gleam\n",
    "from wrappers.serial.imaging.base import create_image_from_visibility, advise_wide_field, \\\n",
    "    predict_skycomponent_visibility\n",
    "from wrappers.arlexecute.image.gather_scatter import image_gather_channels\n",
    "from wrappers.arlexecute.visibility.coalesce import convert_blockvisibility_to_visibility, \\\n",
    "    convert_visibility_to_blockvisibility\n",
    "\n",
    "from workflows.arlexecute.imaging.imaging_arlexecute import invert_list_arlexecute_workflow, \\\n",
    "    weight_list_arlexecute_workflow, \\\n",
    "    taper_list_arlexecute_workflow, remove_sumwt\n",
    "\n",
    "from workflows.arlexecute.simulation.simulation_arlexecute import simulate_list_arlexecute_workflow, \\\n",
    "    corrupt_list_arlexecute_workflow\n",
    "from workflows.arlexecute.pipelines.pipeline_arlexecute import continuum_imaging_list_arlexecute_workflow, \\\n",
    "    ical_list_arlexecute_workflow\n",
    "from workflows.arlexecute.skymodel.skymodel_arlexecute import predict_skymodel_list_arlexecute_workflow\n",
    "\n",
    "from wrappers.arlexecute.execution_support.arlexecute import arlexecute\n",
    "from wrappers.arlexecute.execution_support.dask_init import get_dask_Client\n"
   ]
  },
  {
   "cell_type": "code",
   "execution_count": 2,
   "metadata": {
    "ExecuteTime": {
     "end_time": "2019-07-21T08:49:26.779994Z",
     "start_time": "2019-07-21T08:49:26.769852Z"
    }
   },
   "outputs": [],
   "source": [
    "pylab.rcParams['figure.figsize'] = (12.0, 12.0)\n",
    "pylab.rcParams['image.cmap'] = 'Greys'"
   ]
  },
  {
   "cell_type": "markdown",
   "metadata": {},
   "source": [
    "### We will use dask to distribute processing"
   ]
  },
  {
   "cell_type": "code",
   "execution_count": 3,
   "metadata": {
    "ExecuteTime": {
     "end_time": "2019-07-21T08:49:34.031485Z",
     "start_time": "2019-07-21T08:49:29.768538Z"
    }
   },
   "outputs": [
    {
     "name": "stdout",
     "output_type": "stream",
     "text": [
      "Creating LocalCluster and Dask Client\n",
      "Diagnostic pages available on port http://127.0.0.1:8787\n"
     ]
    }
   ],
   "source": [
    "client = get_dask_Client(memory_limit=4 * 1024 * 1024 * 1024, n_workers=7, threads_per_worker=1)\n",
    "arlexecute.set_client(client)"
   ]
  },
  {
   "cell_type": "markdown",
   "metadata": {},
   "source": [
    "### All Dask workers log to a common file"
   ]
  },
  {
   "cell_type": "code",
   "execution_count": 4,
   "metadata": {
    "ExecuteTime": {
     "end_time": "2019-07-21T08:49:37.355340Z",
     "start_time": "2019-07-21T08:49:37.267173Z"
    }
   },
   "outputs": [
    {
     "data": {
      "text/plain": [
       "{'tcp://127.0.0.1:63459': None,\n",
       " 'tcp://127.0.0.1:63461': None,\n",
       " 'tcp://127.0.0.1:63465': None,\n",
       " 'tcp://127.0.0.1:63468': None,\n",
       " 'tcp://127.0.0.1:63470': None,\n",
       " 'tcp://127.0.0.1:63472': None,\n",
       " 'tcp://127.0.0.1:63477': None}"
      ]
     },
     "execution_count": 4,
     "metadata": {},
     "output_type": "execute_result"
    }
   ],
   "source": [
    "import logging\n",
    "\n",
    "def init_logging():\n",
    "    log = logging.getLogger()\n",
    "    logging.basicConfig(filename='%s/arl_demo.log' % results_dir,\n",
    "                        filemode='a',\n",
    "                        format='%(asctime)s,%(msecs)d %(name)s %(levelname)s %(message)s',\n",
    "                        datefmt='%H:%M:%S',\n",
    "                        level=logging.INFO)\n",
    "log = logging.getLogger()\n",
    "logging.info(\"Starting ARL ICAL demo\")\n",
    "arlexecute.run(init_logging)"
   ]
  },
  {
   "cell_type": "markdown",
   "metadata": {},
   "source": [
    "### We create a graph to make the visibility. The parameter rmax determines the distance of the furthest antenna/stations used. All other parameters are determined from this number."
   ]
  },
  {
   "cell_type": "code",
   "execution_count": 5,
   "metadata": {
    "ExecuteTime": {
     "end_time": "2019-07-21T08:49:48.604587Z",
     "start_time": "2019-07-21T08:49:44.649265Z"
    },
    "scrolled": false
   },
   "outputs": [
    {
     "name": "stdout",
     "output_type": "stream",
     "text": [
      "7 rows in block vis_list\n"
     ]
    }
   ],
   "source": [
    "nfreqwin=7\n",
    "ntimes=5\n",
    "rmax=600.0\n",
    "frequency=numpy.linspace(0.9e8,1.1e8,nfreqwin)\n",
    "channel_bandwidth=numpy.array(nfreqwin*[frequency[1]-frequency[0]])\n",
    "times = numpy.linspace(-numpy.pi/4.0, numpy.pi/4.0, ntimes)\n",
    "phasecentre=SkyCoord(ra=+30.0 * u.deg, dec=-60.0 * u.deg, frame='icrs', equinox='J2000')\n",
    "\n",
    "blockvis_list=simulate_list_arlexecute_workflow('LOWBD2',\n",
    "                                                frequency=frequency, \n",
    "                                                channel_bandwidth=channel_bandwidth,\n",
    "                                                times=times,\n",
    "                                                phasecentre=phasecentre, \n",
    "                                                order='frequency', format='blockvis',\n",
    "                                                rmax=rmax)\n",
    "blockvis_list = arlexecute.compute(blockvis_list, sync=True)\n",
    "print('%d rows in block vis_list' % len(blockvis_list))"
   ]
  },
  {
   "cell_type": "markdown",
   "metadata": {},
   "source": [
    "Create row oriented visibility"
   ]
  },
  {
   "cell_type": "code",
   "execution_count": 6,
   "metadata": {
    "ExecuteTime": {
     "end_time": "2019-07-21T08:49:57.548905Z",
     "start_time": "2019-07-21T08:49:50.684466Z"
    }
   },
   "outputs": [
    {
     "name": "stdout",
     "output_type": "stream",
     "text": [
      "7 rows in vis_list\n"
     ]
    }
   ],
   "source": [
    "future_blockvis_list = arlexecute.scatter(blockvis_list)\n",
    "vis_list = [arlexecute.execute(convert_blockvisibility_to_visibility)(bv) \n",
    "            for bv in future_blockvis_list]\n",
    "vis_list = arlexecute.compute(vis_list, sync=True)\n",
    "print('%d rows in vis_list' % len(vis_list))"
   ]
  },
  {
   "cell_type": "code",
   "execution_count": 7,
   "metadata": {
    "ExecuteTime": {
     "end_time": "2019-07-21T08:49:57.602953Z",
     "start_time": "2019-07-21T08:49:57.557285Z"
    },
    "scrolled": false
   },
   "outputs": [
    {
     "name": "stdout",
     "output_type": "stream",
     "text": [
      "{'cellsize': 0.0006446830367745562,\n",
      " 'delA': 0.1,\n",
      " 'diameter': 35.0,\n",
      " 'facet_fov': 0.46720902545454546,\n",
      " 'facets': 1,\n",
      " 'freq_sampling_image': 58883.24347632199,\n",
      " 'freq_sampling_primary_beam': 2119796.765147592,\n",
      " 'guard_band_image': 6.0,\n",
      " 'image_fov': 0.46720902545454546,\n",
      " 'max_wavelength': 2.725385981818182,\n",
      " 'maximum_baseline': 387.7874641324311,\n",
      " 'min_wavelength': 2.725385981818182,\n",
      " 'npixels': 725,\n",
      " 'npixels2': 1024,\n",
      " 'npixels23': 768,\n",
      " 'nwpixels': 112,\n",
      " 'oversampling_synthesised_beam': 4,\n",
      " 'primary_beam_fov': 0.07786817090909091,\n",
      " 'synthesized_beam': 0.002578732147098225,\n",
      " 'time_sampling_image': 46.25011123958382,\n",
      " 'time_sampling_primary_beam': 1665.0040046250176,\n",
      " 'vis': <data_models.memory_data_models.Visibility object at 0x13196c160>,\n",
      " 'vis_slices': 33,\n",
      " 'w_sampling_facet': 0.6521427605525,\n",
      " 'w_sampling_image': 0.6521427605525,\n",
      " 'w_sampling_primary_beam': 23.477139379889998,\n",
      " 'wprojection_planes': 33,\n",
      " 'wstep': 23.477139379889998}\n"
     ]
    }
   ],
   "source": [
    "import pprint\n",
    "pp = pprint.PrettyPrinter()\n",
    "\n",
    "advice=advise_wide_field(vis_list[-1], guard_band_image=6.0, delA=0.1, \n",
    "                         oversampling_synthesised_beam=4)\n",
    "pp.pprint(advice)\n",
    "context='wstack'\n",
    "vis_slices = advice['vis_slices']\n",
    "npixel=advice['npixels2']\n",
    "cellsize=advice['cellsize']\n",
    "use_serial_imaging=False"
   ]
  },
  {
   "cell_type": "markdown",
   "metadata": {},
   "source": [
    "### Now make and compute a graph to fill a skymodel drawn from GLEAM. Specify a quadratic so that we can fit it. "
   ]
  },
  {
   "cell_type": "code",
   "execution_count": 8,
   "metadata": {
    "ExecuteTime": {
     "end_time": "2019-07-21T08:50:30.176371Z",
     "start_time": "2019-07-21T08:49:57.607428Z"
    }
   },
   "outputs": [],
   "source": [
    "gleam_skymodel = [arlexecute.execute(create_low_test_skymodel_from_gleam)\n",
    "                     (npixel=npixel, cellsize=cellsize, frequency=[frequency[f]],\n",
    "                      phasecentre=phasecentre,\n",
    "                      polarisation_frame=PolarisationFrame(\"stokesI\"),\n",
    "                      flux_limit=0.3,\n",
    "                      flux_threshold=1.0,\n",
    "                      flux_max=5.0,\n",
    "                      kind='quadratic') for f, freq in enumerate(frequency)]\n",
    "gleam_skymodel = arlexecute.compute(gleam_skymodel, sync=True)\n"
   ]
  },
  {
   "cell_type": "markdown",
   "metadata": {},
   "source": [
    "### Now predict the visibility from this model"
   ]
  },
  {
   "cell_type": "code",
   "execution_count": 9,
   "metadata": {
    "ExecuteTime": {
     "end_time": "2019-07-21T08:50:42.836173Z",
     "start_time": "2019-07-21T08:50:30.188258Z"
    }
   },
   "outputs": [
    {
     "ename": "AssertionError",
     "evalue": "[<data_models.memory_data_models.Visibility object at 0x13e2b2b00>, <data_models.memory_data_models.Visibility object at 0x13d99c6a0>, <data_models.memory_data_models.Visibility object at 0x13e2c4198>, <data_models.memory_data_models.Visibility object at 0x13e279978>, <data_models.memory_data_models.Visibility object at 0x13d9e8160>, <data_models.memory_data_models.Visibility object at 0x13d9e2ef0>, <data_models.memory_data_models.Visibility object at 0x13e2accf8>]",
     "output_type": "error",
     "traceback": [
      "\u001b[0;31m---------------------------------------------------------------------------\u001b[0m",
      "\u001b[0;31mAssertionError\u001b[0m                            Traceback (most recent call last)",
      "\u001b[0;32m<ipython-input-9-774697560347>\u001b[0m in \u001b[0;36m<module>\u001b[0;34m\u001b[0m\n\u001b[1;32m      8\u001b[0m                                                               \u001b[0mfacets\u001b[0m\u001b[0;34m=\u001b[0m\u001b[0;36m1\u001b[0m\u001b[0;34m,\u001b[0m\u001b[0;34m\u001b[0m\u001b[0m\n\u001b[1;32m      9\u001b[0m                                                               use_serial_predict=use_serial_imaging)\n\u001b[0;32m---> 10\u001b[0;31m \u001b[0mpredicted_vislist\u001b[0m \u001b[0;34m=\u001b[0m \u001b[0marlexecute\u001b[0m\u001b[0;34m.\u001b[0m\u001b[0mcompute\u001b[0m\u001b[0;34m(\u001b[0m\u001b[0mpredicted_vislist\u001b[0m\u001b[0;34m,\u001b[0m \u001b[0msync\u001b[0m\u001b[0;34m=\u001b[0m\u001b[0;32mTrue\u001b[0m\u001b[0;34m)\u001b[0m\u001b[0;34m\u001b[0m\u001b[0m\n\u001b[0m",
      "\u001b[0;32m~/Code/algorithm-reference-library/wrappers/arlexecute/execution_support/arlexecutebase.py\u001b[0m in \u001b[0;36mcompute\u001b[0;34m(self, value, sync)\u001b[0m\n\u001b[1;32m    109\u001b[0m                 \u001b[0;32mreturn\u001b[0m \u001b[0mvalue\u001b[0m\u001b[0;34m.\u001b[0m\u001b[0mcompute\u001b[0m\u001b[0;34m(\u001b[0m\u001b[0;34m)\u001b[0m\u001b[0;34m\u001b[0m\u001b[0m\n\u001b[1;32m    110\u001b[0m             \u001b[0;32melse\u001b[0m\u001b[0;34m:\u001b[0m\u001b[0;34m\u001b[0m\u001b[0m\n\u001b[0;32m--> 111\u001b[0;31m                 \u001b[0mfuture\u001b[0m \u001b[0;34m=\u001b[0m \u001b[0mself\u001b[0m\u001b[0;34m.\u001b[0m\u001b[0mclient\u001b[0m\u001b[0;34m.\u001b[0m\u001b[0mcompute\u001b[0m\u001b[0;34m(\u001b[0m\u001b[0mvalue\u001b[0m\u001b[0;34m,\u001b[0m \u001b[0msync\u001b[0m\u001b[0;34m=\u001b[0m\u001b[0msync\u001b[0m\u001b[0;34m)\u001b[0m\u001b[0;34m\u001b[0m\u001b[0m\n\u001b[0m\u001b[1;32m    112\u001b[0m                 \u001b[0mwait\u001b[0m\u001b[0;34m(\u001b[0m\u001b[0mfuture\u001b[0m\u001b[0;34m)\u001b[0m\u001b[0;34m\u001b[0m\u001b[0m\n\u001b[1;32m    113\u001b[0m                 \u001b[0;32mif\u001b[0m \u001b[0mself\u001b[0m\u001b[0;34m.\u001b[0m\u001b[0m_verbose\u001b[0m\u001b[0;34m:\u001b[0m\u001b[0;34m\u001b[0m\u001b[0m\n",
      "\u001b[0;32m~/anaconda/envs/arlenv/lib/python3.6/site-packages/distributed/client.py\u001b[0m in \u001b[0;36mcompute\u001b[0;34m(self, collections, sync, optimize_graph, workers, allow_other_workers, resources, retries, priority, fifo_timeout, actors, **kwargs)\u001b[0m\n\u001b[1;32m   2756\u001b[0m \u001b[0;34m\u001b[0m\u001b[0m\n\u001b[1;32m   2757\u001b[0m         \u001b[0;32mif\u001b[0m \u001b[0msync\u001b[0m\u001b[0;34m:\u001b[0m\u001b[0;34m\u001b[0m\u001b[0m\n\u001b[0;32m-> 2758\u001b[0;31m             \u001b[0mresult\u001b[0m \u001b[0;34m=\u001b[0m \u001b[0mself\u001b[0m\u001b[0;34m.\u001b[0m\u001b[0mgather\u001b[0m\u001b[0;34m(\u001b[0m\u001b[0mfutures\u001b[0m\u001b[0;34m)\u001b[0m\u001b[0;34m\u001b[0m\u001b[0m\n\u001b[0m\u001b[1;32m   2759\u001b[0m         \u001b[0;32melse\u001b[0m\u001b[0;34m:\u001b[0m\u001b[0;34m\u001b[0m\u001b[0m\n\u001b[1;32m   2760\u001b[0m             \u001b[0mresult\u001b[0m \u001b[0;34m=\u001b[0m \u001b[0mfutures\u001b[0m\u001b[0;34m\u001b[0m\u001b[0m\n",
      "\u001b[0;32m~/anaconda/envs/arlenv/lib/python3.6/site-packages/distributed/client.py\u001b[0m in \u001b[0;36mgather\u001b[0;34m(self, futures, errors, maxsize, direct, asynchronous)\u001b[0m\n\u001b[1;32m   1820\u001b[0m                 \u001b[0mdirect\u001b[0m\u001b[0;34m=\u001b[0m\u001b[0mdirect\u001b[0m\u001b[0;34m,\u001b[0m\u001b[0;34m\u001b[0m\u001b[0m\n\u001b[1;32m   1821\u001b[0m                 \u001b[0mlocal_worker\u001b[0m\u001b[0;34m=\u001b[0m\u001b[0mlocal_worker\u001b[0m\u001b[0;34m,\u001b[0m\u001b[0;34m\u001b[0m\u001b[0m\n\u001b[0;32m-> 1822\u001b[0;31m                 \u001b[0masynchronous\u001b[0m\u001b[0;34m=\u001b[0m\u001b[0masynchronous\u001b[0m\u001b[0;34m,\u001b[0m\u001b[0;34m\u001b[0m\u001b[0m\n\u001b[0m\u001b[1;32m   1823\u001b[0m             )\n\u001b[1;32m   1824\u001b[0m \u001b[0;34m\u001b[0m\u001b[0m\n",
      "\u001b[0;32m~/anaconda/envs/arlenv/lib/python3.6/site-packages/distributed/client.py\u001b[0m in \u001b[0;36msync\u001b[0;34m(self, func, *args, **kwargs)\u001b[0m\n\u001b[1;32m    751\u001b[0m             \u001b[0;32mreturn\u001b[0m \u001b[0mfuture\u001b[0m\u001b[0;34m\u001b[0m\u001b[0m\n\u001b[1;32m    752\u001b[0m         \u001b[0;32melse\u001b[0m\u001b[0;34m:\u001b[0m\u001b[0;34m\u001b[0m\u001b[0m\n\u001b[0;32m--> 753\u001b[0;31m             \u001b[0;32mreturn\u001b[0m \u001b[0msync\u001b[0m\u001b[0;34m(\u001b[0m\u001b[0mself\u001b[0m\u001b[0;34m.\u001b[0m\u001b[0mloop\u001b[0m\u001b[0;34m,\u001b[0m \u001b[0mfunc\u001b[0m\u001b[0;34m,\u001b[0m \u001b[0;34m*\u001b[0m\u001b[0margs\u001b[0m\u001b[0;34m,\u001b[0m \u001b[0;34m**\u001b[0m\u001b[0mkwargs\u001b[0m\u001b[0;34m)\u001b[0m\u001b[0;34m\u001b[0m\u001b[0m\n\u001b[0m\u001b[1;32m    754\u001b[0m \u001b[0;34m\u001b[0m\u001b[0m\n\u001b[1;32m    755\u001b[0m     \u001b[0;32mdef\u001b[0m \u001b[0m__repr__\u001b[0m\u001b[0;34m(\u001b[0m\u001b[0mself\u001b[0m\u001b[0;34m)\u001b[0m\u001b[0;34m:\u001b[0m\u001b[0;34m\u001b[0m\u001b[0m\n",
      "\u001b[0;32m~/anaconda/envs/arlenv/lib/python3.6/site-packages/distributed/utils.py\u001b[0m in \u001b[0;36msync\u001b[0;34m(loop, func, *args, **kwargs)\u001b[0m\n\u001b[1;32m    329\u001b[0m             \u001b[0me\u001b[0m\u001b[0;34m.\u001b[0m\u001b[0mwait\u001b[0m\u001b[0;34m(\u001b[0m\u001b[0;36m10\u001b[0m\u001b[0;34m)\u001b[0m\u001b[0;34m\u001b[0m\u001b[0m\n\u001b[1;32m    330\u001b[0m     \u001b[0;32mif\u001b[0m \u001b[0merror\u001b[0m\u001b[0;34m[\u001b[0m\u001b[0;36m0\u001b[0m\u001b[0;34m]\u001b[0m\u001b[0;34m:\u001b[0m\u001b[0;34m\u001b[0m\u001b[0m\n\u001b[0;32m--> 331\u001b[0;31m         \u001b[0msix\u001b[0m\u001b[0;34m.\u001b[0m\u001b[0mreraise\u001b[0m\u001b[0;34m(\u001b[0m\u001b[0;34m*\u001b[0m\u001b[0merror\u001b[0m\u001b[0;34m[\u001b[0m\u001b[0;36m0\u001b[0m\u001b[0;34m]\u001b[0m\u001b[0;34m)\u001b[0m\u001b[0;34m\u001b[0m\u001b[0m\n\u001b[0m\u001b[1;32m    332\u001b[0m     \u001b[0;32melse\u001b[0m\u001b[0;34m:\u001b[0m\u001b[0;34m\u001b[0m\u001b[0m\n\u001b[1;32m    333\u001b[0m         \u001b[0;32mreturn\u001b[0m \u001b[0mresult\u001b[0m\u001b[0;34m[\u001b[0m\u001b[0;36m0\u001b[0m\u001b[0;34m]\u001b[0m\u001b[0;34m\u001b[0m\u001b[0m\n",
      "\u001b[0;32m~/anaconda/envs/arlenv/lib/python3.6/site-packages/six.py\u001b[0m in \u001b[0;36mreraise\u001b[0;34m(tp, value, tb)\u001b[0m\n\u001b[1;32m    691\u001b[0m             \u001b[0;32mif\u001b[0m \u001b[0mvalue\u001b[0m\u001b[0;34m.\u001b[0m\u001b[0m__traceback__\u001b[0m \u001b[0;32mis\u001b[0m \u001b[0;32mnot\u001b[0m \u001b[0mtb\u001b[0m\u001b[0;34m:\u001b[0m\u001b[0;34m\u001b[0m\u001b[0m\n\u001b[1;32m    692\u001b[0m                 \u001b[0;32mraise\u001b[0m \u001b[0mvalue\u001b[0m\u001b[0;34m.\u001b[0m\u001b[0mwith_traceback\u001b[0m\u001b[0;34m(\u001b[0m\u001b[0mtb\u001b[0m\u001b[0;34m)\u001b[0m\u001b[0;34m\u001b[0m\u001b[0m\n\u001b[0;32m--> 693\u001b[0;31m             \u001b[0;32mraise\u001b[0m \u001b[0mvalue\u001b[0m\u001b[0;34m\u001b[0m\u001b[0m\n\u001b[0m\u001b[1;32m    694\u001b[0m         \u001b[0;32mfinally\u001b[0m\u001b[0;34m:\u001b[0m\u001b[0;34m\u001b[0m\u001b[0m\n\u001b[1;32m    695\u001b[0m             \u001b[0mvalue\u001b[0m \u001b[0;34m=\u001b[0m \u001b[0;32mNone\u001b[0m\u001b[0;34m\u001b[0m\u001b[0m\n",
      "\u001b[0;32m~/anaconda/envs/arlenv/lib/python3.6/site-packages/distributed/utils.py\u001b[0m in \u001b[0;36mf\u001b[0;34m()\u001b[0m\n\u001b[1;32m    314\u001b[0m             \u001b[0;32mif\u001b[0m \u001b[0mtimeout\u001b[0m \u001b[0;32mis\u001b[0m \u001b[0;32mnot\u001b[0m \u001b[0;32mNone\u001b[0m\u001b[0;34m:\u001b[0m\u001b[0;34m\u001b[0m\u001b[0m\n\u001b[1;32m    315\u001b[0m                 \u001b[0mfuture\u001b[0m \u001b[0;34m=\u001b[0m \u001b[0mgen\u001b[0m\u001b[0;34m.\u001b[0m\u001b[0mwith_timeout\u001b[0m\u001b[0;34m(\u001b[0m\u001b[0mtimedelta\u001b[0m\u001b[0;34m(\u001b[0m\u001b[0mseconds\u001b[0m\u001b[0;34m=\u001b[0m\u001b[0mtimeout\u001b[0m\u001b[0;34m)\u001b[0m\u001b[0;34m,\u001b[0m \u001b[0mfuture\u001b[0m\u001b[0;34m)\u001b[0m\u001b[0;34m\u001b[0m\u001b[0m\n\u001b[0;32m--> 316\u001b[0;31m             \u001b[0mresult\u001b[0m\u001b[0;34m[\u001b[0m\u001b[0;36m0\u001b[0m\u001b[0;34m]\u001b[0m \u001b[0;34m=\u001b[0m \u001b[0;32myield\u001b[0m \u001b[0mfuture\u001b[0m\u001b[0;34m\u001b[0m\u001b[0m\n\u001b[0m\u001b[1;32m    317\u001b[0m         \u001b[0;32mexcept\u001b[0m \u001b[0mException\u001b[0m \u001b[0;32mas\u001b[0m \u001b[0mexc\u001b[0m\u001b[0;34m:\u001b[0m\u001b[0;34m\u001b[0m\u001b[0m\n\u001b[1;32m    318\u001b[0m             \u001b[0merror\u001b[0m\u001b[0;34m[\u001b[0m\u001b[0;36m0\u001b[0m\u001b[0;34m]\u001b[0m \u001b[0;34m=\u001b[0m \u001b[0msys\u001b[0m\u001b[0;34m.\u001b[0m\u001b[0mexc_info\u001b[0m\u001b[0;34m(\u001b[0m\u001b[0;34m)\u001b[0m\u001b[0;34m\u001b[0m\u001b[0m\n",
      "\u001b[0;32m~/anaconda/envs/arlenv/lib/python3.6/site-packages/tornado/gen.py\u001b[0m in \u001b[0;36mrun\u001b[0;34m(self)\u001b[0m\n\u001b[1;32m   1097\u001b[0m \u001b[0;34m\u001b[0m\u001b[0m\n\u001b[1;32m   1098\u001b[0m                     \u001b[0;32mtry\u001b[0m\u001b[0;34m:\u001b[0m\u001b[0;34m\u001b[0m\u001b[0m\n\u001b[0;32m-> 1099\u001b[0;31m                         \u001b[0mvalue\u001b[0m \u001b[0;34m=\u001b[0m \u001b[0mfuture\u001b[0m\u001b[0;34m.\u001b[0m\u001b[0mresult\u001b[0m\u001b[0;34m(\u001b[0m\u001b[0;34m)\u001b[0m\u001b[0;34m\u001b[0m\u001b[0m\n\u001b[0m\u001b[1;32m   1100\u001b[0m                     \u001b[0;32mexcept\u001b[0m \u001b[0mException\u001b[0m\u001b[0;34m:\u001b[0m\u001b[0;34m\u001b[0m\u001b[0m\n\u001b[1;32m   1101\u001b[0m                         \u001b[0mself\u001b[0m\u001b[0;34m.\u001b[0m\u001b[0mhad_exception\u001b[0m \u001b[0;34m=\u001b[0m \u001b[0;32mTrue\u001b[0m\u001b[0;34m\u001b[0m\u001b[0m\n",
      "\u001b[0;32m~/anaconda/envs/arlenv/lib/python3.6/site-packages/tornado/gen.py\u001b[0m in \u001b[0;36mrun\u001b[0;34m(self)\u001b[0m\n\u001b[1;32m   1105\u001b[0m                     \u001b[0;32mif\u001b[0m \u001b[0mexc_info\u001b[0m \u001b[0;32mis\u001b[0m \u001b[0;32mnot\u001b[0m \u001b[0;32mNone\u001b[0m\u001b[0;34m:\u001b[0m\u001b[0;34m\u001b[0m\u001b[0m\n\u001b[1;32m   1106\u001b[0m                         \u001b[0;32mtry\u001b[0m\u001b[0;34m:\u001b[0m\u001b[0;34m\u001b[0m\u001b[0m\n\u001b[0;32m-> 1107\u001b[0;31m                             \u001b[0myielded\u001b[0m \u001b[0;34m=\u001b[0m \u001b[0mself\u001b[0m\u001b[0;34m.\u001b[0m\u001b[0mgen\u001b[0m\u001b[0;34m.\u001b[0m\u001b[0mthrow\u001b[0m\u001b[0;34m(\u001b[0m\u001b[0;34m*\u001b[0m\u001b[0mexc_info\u001b[0m\u001b[0;34m)\u001b[0m\u001b[0;34m\u001b[0m\u001b[0m\n\u001b[0m\u001b[1;32m   1108\u001b[0m                         \u001b[0;32mfinally\u001b[0m\u001b[0;34m:\u001b[0m\u001b[0;34m\u001b[0m\u001b[0m\n\u001b[1;32m   1109\u001b[0m                             \u001b[0;31m# Break up a reference to itself\u001b[0m\u001b[0;34m\u001b[0m\u001b[0;34m\u001b[0m\u001b[0m\n",
      "\u001b[0;32m~/anaconda/envs/arlenv/lib/python3.6/site-packages/distributed/client.py\u001b[0m in \u001b[0;36m_gather\u001b[0;34m(self, futures, errors, direct, local_worker)\u001b[0m\n\u001b[1;32m   1651\u001b[0m                             \u001b[0msix\u001b[0m\u001b[0;34m.\u001b[0m\u001b[0mreraise\u001b[0m\u001b[0;34m(\u001b[0m\u001b[0mCancelledError\u001b[0m\u001b[0;34m,\u001b[0m \u001b[0mCancelledError\u001b[0m\u001b[0;34m(\u001b[0m\u001b[0mkey\u001b[0m\u001b[0;34m)\u001b[0m\u001b[0;34m,\u001b[0m \u001b[0;32mNone\u001b[0m\u001b[0;34m)\u001b[0m\u001b[0;34m\u001b[0m\u001b[0m\n\u001b[1;32m   1652\u001b[0m                         \u001b[0;32melse\u001b[0m\u001b[0;34m:\u001b[0m\u001b[0;34m\u001b[0m\u001b[0m\n\u001b[0;32m-> 1653\u001b[0;31m                             \u001b[0msix\u001b[0m\u001b[0;34m.\u001b[0m\u001b[0mreraise\u001b[0m\u001b[0;34m(\u001b[0m\u001b[0mtype\u001b[0m\u001b[0;34m(\u001b[0m\u001b[0mexception\u001b[0m\u001b[0;34m)\u001b[0m\u001b[0;34m,\u001b[0m \u001b[0mexception\u001b[0m\u001b[0;34m,\u001b[0m \u001b[0mtraceback\u001b[0m\u001b[0;34m)\u001b[0m\u001b[0;34m\u001b[0m\u001b[0m\n\u001b[0m\u001b[1;32m   1654\u001b[0m                     \u001b[0;32mif\u001b[0m \u001b[0merrors\u001b[0m \u001b[0;34m==\u001b[0m \u001b[0;34m\"skip\"\u001b[0m\u001b[0;34m:\u001b[0m\u001b[0;34m\u001b[0m\u001b[0m\n\u001b[1;32m   1655\u001b[0m                         \u001b[0mbad_keys\u001b[0m\u001b[0;34m.\u001b[0m\u001b[0madd\u001b[0m\u001b[0;34m(\u001b[0m\u001b[0mkey\u001b[0m\u001b[0;34m)\u001b[0m\u001b[0;34m\u001b[0m\u001b[0m\n",
      "\u001b[0;32m~/anaconda/envs/arlenv/lib/python3.6/site-packages/six.py\u001b[0m in \u001b[0;36mreraise\u001b[0;34m(tp, value, tb)\u001b[0m\n\u001b[1;32m    690\u001b[0m                 \u001b[0mvalue\u001b[0m \u001b[0;34m=\u001b[0m \u001b[0mtp\u001b[0m\u001b[0;34m(\u001b[0m\u001b[0;34m)\u001b[0m\u001b[0;34m\u001b[0m\u001b[0m\n\u001b[1;32m    691\u001b[0m             \u001b[0;32mif\u001b[0m \u001b[0mvalue\u001b[0m\u001b[0;34m.\u001b[0m\u001b[0m__traceback__\u001b[0m \u001b[0;32mis\u001b[0m \u001b[0;32mnot\u001b[0m \u001b[0mtb\u001b[0m\u001b[0;34m:\u001b[0m\u001b[0;34m\u001b[0m\u001b[0m\n\u001b[0;32m--> 692\u001b[0;31m                 \u001b[0;32mraise\u001b[0m \u001b[0mvalue\u001b[0m\u001b[0;34m.\u001b[0m\u001b[0mwith_traceback\u001b[0m\u001b[0;34m(\u001b[0m\u001b[0mtb\u001b[0m\u001b[0;34m)\u001b[0m\u001b[0;34m\u001b[0m\u001b[0m\n\u001b[0m\u001b[1;32m    693\u001b[0m             \u001b[0;32mraise\u001b[0m \u001b[0mvalue\u001b[0m\u001b[0;34m\u001b[0m\u001b[0m\n\u001b[1;32m    694\u001b[0m         \u001b[0;32mfinally\u001b[0m\u001b[0;34m:\u001b[0m\u001b[0;34m\u001b[0m\u001b[0m\n",
      "\u001b[0;32m~/Code/algorithm-reference-library/workflows/arlexecute/skymodel/skymodel_arlexecute.py\u001b[0m in \u001b[0;36mft_cal_sm\u001b[0;34m()\u001b[0m\n\u001b[1;32m     35\u001b[0m \u001b[0;34m\u001b[0m\u001b[0m\n\u001b[1;32m     36\u001b[0m     \u001b[0;32mdef\u001b[0m \u001b[0mft_cal_sm\u001b[0m\u001b[0;34m(\u001b[0m\u001b[0mov\u001b[0m\u001b[0;34m,\u001b[0m \u001b[0msm\u001b[0m\u001b[0;34m,\u001b[0m \u001b[0mg\u001b[0m\u001b[0;34m)\u001b[0m\u001b[0;34m:\u001b[0m\u001b[0;34m\u001b[0m\u001b[0m\n\u001b[0;32m---> 37\u001b[0;31m         \u001b[0;32massert\u001b[0m \u001b[0misinstance\u001b[0m\u001b[0;34m(\u001b[0m\u001b[0mov\u001b[0m\u001b[0;34m,\u001b[0m \u001b[0mVisibility\u001b[0m\u001b[0;34m)\u001b[0m\u001b[0;34m,\u001b[0m \u001b[0mov\u001b[0m\u001b[0;34m\u001b[0m\u001b[0m\n\u001b[0m\u001b[1;32m     38\u001b[0m         \u001b[0;32massert\u001b[0m \u001b[0misinstance\u001b[0m\u001b[0;34m(\u001b[0m\u001b[0msm\u001b[0m\u001b[0;34m,\u001b[0m \u001b[0mSkyModel\u001b[0m\u001b[0;34m)\u001b[0m\u001b[0;34m,\u001b[0m \u001b[0msm\u001b[0m\u001b[0;34m\u001b[0m\u001b[0m\n\u001b[1;32m     39\u001b[0m         \u001b[0;32mif\u001b[0m \u001b[0mg\u001b[0m \u001b[0;32mis\u001b[0m \u001b[0;32mnot\u001b[0m \u001b[0;32mNone\u001b[0m\u001b[0;34m:\u001b[0m\u001b[0;34m\u001b[0m\u001b[0m\n",
      "\u001b[0;31mAssertionError\u001b[0m: [<data_models.memory_data_models.Visibility object at 0x13e2b2b00>, <data_models.memory_data_models.Visibility object at 0x13d99c6a0>, <data_models.memory_data_models.Visibility object at 0x13e2c4198>, <data_models.memory_data_models.Visibility object at 0x13e279978>, <data_models.memory_data_models.Visibility object at 0x13d9e8160>, <data_models.memory_data_models.Visibility object at 0x13d9e2ef0>, <data_models.memory_data_models.Visibility object at 0x13e2accf8>]"
     ]
    }
   ],
   "source": [
    "future_gleam_skymodel = arlexecute.scatter(gleam_skymodel)\n",
    "future_vis_list = arlexecute.scatter(vis_list)\n",
    "gleam_skymodel = arlexecute.scatter(gleam_skymodel)\n",
    "predicted_vislist = predict_skymodel_list_arlexecute_workflow(future_vis_list, \n",
    "                                                              future_gleam_skymodel, \n",
    "                                                              context=context, \n",
    "                                                              vis_slices=vis_slices,\n",
    "                                                              facets=1,\n",
    "                                                              use_serial_predict=use_serial_imaging)\n",
    "predicted_vislist = arlexecute.compute(predicted_vislist, sync=True)"
   ]
  },
  {
   "cell_type": "markdown",
   "metadata": {},
   "source": [
    "### Get the LSM. This is currently blank."
   ]
  },
  {
   "cell_type": "code",
   "execution_count": null,
   "metadata": {
    "ExecuteTime": {
     "end_time": "2019-07-21T08:50:42.843689Z",
     "start_time": "2019-07-21T08:49:59.011Z"
    },
    "scrolled": true
   },
   "outputs": [],
   "source": [
    "model_list = [arlexecute.execute(create_image_from_visibility)\n",
    "              (vis_list[f],\n",
    "               npixel=1200,\n",
    "               frequency=[frequency[f]],\n",
    "               channel_bandwidth=[channel_bandwidth[f]],\n",
    "               cellsize=cellsize, phasecentre=phasecentre,\n",
    "               polarisation_frame=PolarisationFrame(\"stokesI\"))\n",
    "               for f, freq in enumerate(frequency)]\n",
    "model_list = arlexecute.compute(model_list, sync=True)"
   ]
  },
  {
   "cell_type": "markdown",
   "metadata": {},
   "source": [
    "### Weight the data"
   ]
  },
  {
   "cell_type": "code",
   "execution_count": null,
   "metadata": {
    "ExecuteTime": {
     "end_time": "2019-07-21T08:50:42.850358Z",
     "start_time": "2019-07-21T08:50:03.432Z"
    },
    "scrolled": false
   },
   "outputs": [],
   "source": [
    "future_model_list = arlexecute.scatter(model_list)\n",
    "future_predicted_vislist = arlexecute.scatter(predicted_vislist)\n",
    "predicted_vislist = weight_list_arlexecute_workflow(future_predicted_vislist, \n",
    "                                                    future_model_list)\n",
    "predicted_vislist = taper_list_arlexecute_workflow(predicted_vislist, 0.003)\n",
    "predicted_vislist = arlexecute.compute(predicted_vislist, sync=True)"
   ]
  },
  {
   "cell_type": "markdown",
   "metadata": {},
   "source": [
    "### Add phase errors"
   ]
  },
  {
   "cell_type": "code",
   "execution_count": null,
   "metadata": {
    "ExecuteTime": {
     "end_time": "2019-07-21T08:50:42.853319Z",
     "start_time": "2019-07-21T08:50:05.444Z"
    },
    "scrolled": false
   },
   "outputs": [],
   "source": [
    "future_predicted_vislist = arlexecute.scatter(predicted_vislist)\n",
    "predicted_blockvislist = [arlexecute.execute(convert_visibility_to_blockvisibility, nout=1)(v) \n",
    "                      for v in future_predicted_vislist]\n",
    "predicted_blockvislist = arlexecute.compute(predicted_blockvislist, sync=True)\n",
    "future_predicted_blockvislist = arlexecute.scatter(predicted_blockvislist)\n",
    "corrupted_blockvislist = corrupt_list_arlexecute_workflow(future_predicted_blockvislist, \n",
    "                                                          phase_error=1.0, seed=180555)\n",
    "corrupted_blockvislist = arlexecute.compute(corrupted_blockvislist, sync=True)\n",
    "future_corrupted_blockvislist = arlexecute.scatter(corrupted_blockvislist)\n",
    "corrupted_vislist = [arlexecute.execute(convert_blockvisibility_to_visibility, nout=1)(v) \n",
    "                      for v in future_corrupted_blockvislist]\n",
    "corrupted_vislist = arlexecute.compute(corrupted_vislist, sync=True)"
   ]
  },
  {
   "cell_type": "markdown",
   "metadata": {},
   "source": [
    "### Create graph to make the dirty image"
   ]
  },
  {
   "cell_type": "code",
   "execution_count": null,
   "metadata": {
    "ExecuteTime": {
     "end_time": "2019-07-21T08:50:42.858774Z",
     "start_time": "2019-07-21T08:50:07.164Z"
    },
    "scrolled": true
   },
   "outputs": [],
   "source": [
    "future_corrupted_vislist = arlexecute.compute(corrupted_vislist)\n",
    "dirty_list = invert_list_arlexecute_workflow(future_corrupted_vislist, \n",
    "                                             future_model_list,\n",
    "                                             context=context,\n",
    "                                             vis_slices=vis_slices, dopsf=False,\n",
    "                                             use_serial_invert=use_serial_imaging)\n",
    "\n",
    "\n",
    "dirty_list[0].visualize()"
   ]
  },
  {
   "cell_type": "markdown",
   "metadata": {},
   "source": [
    "### Now use Dask to calculate the dirty image. The actual peak in the catalog is 4.36Jy, we see a peak of 1.09Jy."
   ]
  },
  {
   "cell_type": "code",
   "execution_count": null,
   "metadata": {
    "ExecuteTime": {
     "end_time": "2019-07-21T08:50:42.863637Z",
     "start_time": "2019-07-21T08:50:09.176Z"
    },
    "scrolled": false
   },
   "outputs": [],
   "source": [
    "future_corrupted_vislist = arlexecute.scatter(corrupted_vislist)\n",
    "dirty_list = invert_list_arlexecute_workflow(future_corrupted_vislist, \n",
    "                                             future_model_list,\n",
    "                                             context=context,\n",
    "                                             vis_slices=vis_slices, dopsf=False,\n",
    "                                             use_serial_invert=use_serial_imaging)\n",
    "\n",
    "dirty_list = arlexecute.compute(dirty_list, sync=True)\n",
    "dirty = dirty_list[0][0]\n",
    "show_image(dirty, cm='Greys', vmax=0.1, vmin=-0.01)\n",
    "print(qa_image(dirty))\n",
    "plt.show()\n",
    "export_image_to_fits(dirty, '%s/arl_demo_ical_%s_dirty.fits' \n",
    "                     %(results_dir, context))\n",
    "\n"
   ]
  },
  {
   "cell_type": "markdown",
   "metadata": {},
   "source": [
    "### ICAL with:\n",
    "- wstacking\n",
    "- msmfs distributed clean (8 by 8 subimages overlapped by 32 pixels)\n",
    "- selfcal for T only, across entire bands\n",
    " \n",
    "First make the graph"
   ]
  },
  {
   "cell_type": "code",
   "execution_count": null,
   "metadata": {
    "ExecuteTime": {
     "end_time": "2019-07-21T08:50:42.868612Z",
     "start_time": "2019-07-21T08:50:11.172Z"
    },
    "scrolled": false
   },
   "outputs": [],
   "source": [
    "controls = create_calibration_controls()\n",
    "controls['T']['first_selfcal'] = 1\n",
    "controls['T']['timescale'] = 'auto'\n",
    "\n",
    "future_model_list = arlexecute.scatter(model_list)\n",
    "future_corrupted_vislist = arlexecute.scatter(corrupted_vislist)\n",
    "\n",
    "ical_list = ical_list_arlexecute_workflow(future_corrupted_vislist, \n",
    "                                          model_imagelist=future_model_list,  \n",
    "                                          context=context, \n",
    "                                          vis_slices=vis_slices,\n",
    "                                          scales=[0, 3, 10], \n",
    "                                          algorithm='mmclean', \n",
    "                                          nmoment=2, niter=250, \n",
    "                                          fractional_threshold=0.1,\n",
    "                                          threshold=0.001, nmajor=6, \n",
    "                                          gain=0.75,\n",
    "                                          psf_support=64,\n",
    "                                          deconvolve_facets=8,\n",
    "                                          deconvolve_overlap=32,\n",
    "                                          deconvolve_taper='tukey',\n",
    "                                          timeslice='auto',\n",
    "                                          global_solution=True, \n",
    "                                          do_selfcal=True,\n",
    "                                          calibration_context='T', \n",
    "                                          controls=controls,\n",
    "                                          tol=1e-6,\n",
    "                                          use_serial_invert=use_serial_imaging,\n",
    "                                          use_serial_predict=use_serial_imaging)"
   ]
  },
  {
   "cell_type": "markdown",
   "metadata": {
    "ExecuteTime": {
     "end_time": "2018-11-08T14:42:54.818980Z",
     "start_time": "2018-11-08T14:42:54.816015Z"
    }
   },
   "source": [
    "### Now run the graph"
   ]
  },
  {
   "cell_type": "code",
   "execution_count": null,
   "metadata": {
    "ExecuteTime": {
     "end_time": "2019-07-21T08:50:42.958668Z",
     "start_time": "2019-07-21T08:50:14.133Z"
    },
    "scrolled": false
   },
   "outputs": [],
   "source": [
    "log.info('About to run ical')\n",
    "result=arlexecute.compute(ical_list, sync=True)\n",
    "centre=nfreqwin//2\n",
    "residual = result[1][centre]\n",
    "restored = result[2][centre]\n",
    "\n",
    "f=show_image(restored, title='Restored clean image', cm='Greys', vmax=0.1, vmin=-0.01)\n",
    "print(qa_image(restored, context='Restored clean image'))\n",
    "plt.show()\n",
    "\n",
    "f=show_image(restored, title='Restored clean image (10x deeper)', cm='Greys', vmax=0.01, vmin=-0.001)\n",
    "plt.show()\n",
    "restored_cube = image_gather_channels(result[2])\n",
    "export_image_to_fits(restored_cube, '%s/arl_demo_ical_%s_restored.fits' \n",
    "                     %(results_dir, context))\n",
    "\n",
    "f=show_image(residual[0], title='Residual clean image (10x deeper)', cm='Greys', \n",
    "             vmax=0.01, vmin=-0.001)\n",
    "print(qa_image(residual[0], context='Residual clean image'))\n",
    "plt.show()\n",
    "export_image_to_fits(residual[0], '%s/arl_demo_ical_%s_residual.fits' \n",
    "                     %(results_dir, context))"
   ]
  },
  {
   "cell_type": "markdown",
   "metadata": {},
   "source": []
  }
 ],
 "metadata": {
  "kernelspec": {
   "display_name": "Python 3",
   "language": "python",
   "name": "python3"
  },
  "language_info": {
   "codemirror_mode": {
    "name": "ipython",
    "version": 3
   },
   "file_extension": ".py",
   "mimetype": "text/x-python",
   "name": "python",
   "nbconvert_exporter": "python",
   "pygments_lexer": "ipython3",
   "version": "3.6.1"
  }
 },
 "nbformat": 4,
 "nbformat_minor": 2
}
