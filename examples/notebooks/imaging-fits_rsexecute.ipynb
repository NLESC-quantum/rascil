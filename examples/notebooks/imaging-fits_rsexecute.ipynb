{
 "cells": [
  {
   "cell_type": "markdown",
   "metadata": {},
   "source": [
    "## Demonstrate full circle wide field imaging\n",
    "\n",
    "This include prediction of components, inversion, point source fitting. We will compare the output images with the input models, looking for closeness in flux and position."
   ]
  },
  {
   "cell_type": "code",
   "execution_count": 1,
   "metadata": {
    "ExecuteTime": {
     "end_time": "2020-11-19T14:19:06.898191Z",
     "start_time": "2020-11-19T14:19:04.762513Z"
    }
   },
   "outputs": [],
   "source": [
    "%matplotlib inline\n",
    "\n",
    "import os\n",
    "import sys\n",
    "\n",
    "sys.path.append(os.path.join('..', '..'))\n",
    "\n",
    "results_dir = '/tmp/'\n",
    "\n",
    "from matplotlib import pylab\n",
    "\n",
    "pylab.rcParams['figure.figsize'] = (10.0, 10.0)\n",
    "pylab.rcParams['image.cmap'] = 'rainbow'\n",
    "\n",
    "from matplotlib import pyplot as plt\n",
    "\n",
    "import numpy\n",
    "\n",
    "from astropy.coordinates import SkyCoord\n",
    "from astropy import units as u\n",
    "from astropy.wcs.utils import pixel_to_skycoord\n",
    "\n",
    "from rascil.data_models import PolarisationFrame\n",
    "\n",
    "from rascil.processing_components import create_blockvisibility, create_skycomponent, \\\n",
    "    find_skycomponents, find_nearest_skycomponent, insert_skycomponent, show_image, export_image_to_fits, \\\n",
    "    qa_image, smooth_image, create_named_configuration, advise_wide_field, create_image_from_visibility, \\\n",
    "    dft_skycomponent_visibility, idft_visibility_skycomponent, create_awterm_convolutionfunction, \\\n",
    "    apply_bounding_box_convolutionfunction, plot_visibility\n",
    "\n",
    "# Use workflows for imaging\n",
    "from rascil.workflows.rsexecute.execution_support.rsexecute import rsexecute\n",
    "\n",
    "from rascil.workflows import  predict_list_rsexecute_workflow, \\\n",
    "    invert_list_rsexecute_workflow\n",
    "import logging\n",
    "\n",
    "log = logging.getLogger()\n",
    "log.setLevel(logging.DEBUG)\n",
    "log.addHandler(logging.StreamHandler(sys.stdout))\n",
    "\n",
    "mpl_logger = logging.getLogger(\"matplotlib\") \n",
    "mpl_logger.setLevel(logging.WARNING) \n"
   ]
  },
  {
   "cell_type": "code",
   "execution_count": 2,
   "metadata": {
    "ExecuteTime": {
     "end_time": "2020-11-19T14:19:06.903554Z",
     "start_time": "2020-11-19T14:19:06.900539Z"
    }
   },
   "outputs": [],
   "source": [
    "pylab.rcParams['figure.figsize'] = (12.0, 12.0)\n",
    "pylab.rcParams['image.cmap'] = 'rainbow'"
   ]
  },
  {
   "cell_type": "markdown",
   "metadata": {},
   "source": [
    "Construct the SKA1-LOW core configuration"
   ]
  },
  {
   "cell_type": "code",
   "execution_count": 3,
   "metadata": {
    "ExecuteTime": {
     "end_time": "2020-11-19T14:19:06.925264Z",
     "start_time": "2020-11-19T14:19:06.908610Z"
    }
   },
   "outputs": [
    {
     "name": "stdout",
     "output_type": "stream",
     "text": [
      "create_named_configuration: LOWBD2-CORE\n",
      "\t(<Quantity -2565018.31203579 m>, <Quantity 5085711.90373391 m>, <Quantity -2861033.10788063 m>)\n",
      "\tGeodeticLocation(lon=<Longitude 116.76444824 deg>, lat=<Latitude -26.82472208 deg>, height=<Quantity 300. m>)\n",
      "create_configuration_from_file: 166 antennas/stations\n"
     ]
    }
   ],
   "source": [
    "lowcore = create_named_configuration('LOWBD2-CORE')"
   ]
  },
  {
   "cell_type": "markdown",
   "metadata": {},
   "source": [
    "set up rsexecute to use dask. If we are running in docker then the scheduler may be available by name.\n",
    "Otherwise we just create a LocalCluster."
   ]
  },
  {
   "cell_type": "code",
   "execution_count": 4,
   "metadata": {
    "ExecuteTime": {
     "end_time": "2020-11-19T14:19:18.629657Z",
     "start_time": "2020-11-19T14:19:06.926633Z"
    }
   },
   "outputs": [
    {
     "name": "stdout",
     "output_type": "stream",
     "text": [
      "Using selector: KqueueSelector\n",
      "Using selector: KqueueSelector\n",
      "Using selector: KqueueSelector\n",
      "Using selector: KqueueSelector\n"
     ]
    },
    {
     "name": "stderr",
     "output_type": "stream",
     "text": [
      "/Users/timcornwell/opt/anaconda3/envs/rascil37/lib/python3.7/site-packages/distributed/node.py:155: UserWarning: Port 8787 is already in use.\n",
      "Perhaps you already have a cluster running?\n",
      "Hosting the HTTP server on port 50550 instead\n",
      "  http_address[\"port\"], self.http_server.port\n"
     ]
    },
    {
     "name": "stdout",
     "output_type": "stream",
     "text": [
      "<Client: 'tcp://127.0.0.1:50551' processes=16 threads=16, memory=68.72 GB>\n"
     ]
    }
   ],
   "source": [
    "from dask.distributed import Client, LocalCluster\n",
    "try:\n",
    "    client = Client('scheduler:8786', timeout=10)\n",
    "except OSError:\n",
    "    try:\n",
    "        # scheduler when run as a kubernetes cluster\n",
    "        client = Client('rascil-dask-scheduler:8786', timeout=10)\n",
    "    except OSError:\n",
    "        client =Client(LocalCluster(processes=True, threads_per_worker=1))\n",
    "print(client)\n",
    "\n",
    "rsexecute.set_client(client=client)"
   ]
  },
  {
   "cell_type": "markdown",
   "metadata": {},
   "source": [
    "We create the visibility. This just makes the uvw, time, antenna1, antenna2, weight columns in a table"
   ]
  },
  {
   "cell_type": "code",
   "execution_count": 5,
   "metadata": {
    "ExecuteTime": {
     "end_time": "2020-11-19T14:19:19.265082Z",
     "start_time": "2020-11-19T14:19:18.631422Z"
    },
    "scrolled": false
   },
   "outputs": [
    {
     "name": "stdout",
     "output_type": "stream",
     "text": [
      "create_blockvisibility: created 7 times\n",
      "create_blockvisibility: 97027 rows, 0.008 GB\n"
     ]
    }
   ],
   "source": [
    "times = numpy.array([-3.0, -2.0, -1.0, 0.0, 1.0, 2.0, 3.0]) * (numpy.pi / 12.0)\n",
    "frequency = numpy.array([1e8])\n",
    "channel_bandwidth = numpy.array([1e6])\n",
    "reffrequency = numpy.max(frequency)\n",
    "phasecentre = SkyCoord(ra=+15.0 * u.deg, dec=-45.0 * u.deg, frame='icrs', equinox='J2000')\n",
    "vt = create_blockvisibility(lowcore, times, frequency, channel_bandwidth=channel_bandwidth,\n",
    "                       weight=1.0, phasecentre=phasecentre, \n",
    "                       polarisation_frame=PolarisationFrame('stokesI'))"
   ]
  },
  {
   "cell_type": "code",
   "execution_count": 6,
   "metadata": {
    "ExecuteTime": {
     "end_time": "2020-11-19T14:19:19.285565Z",
     "start_time": "2020-11-19T14:19:19.266611Z"
    }
   },
   "outputs": [
    {
     "name": "stdout",
     "output_type": "stream",
     "text": [
      "advise_wide_field: (max_wavelength) Maximum wavelength 2.998 (meters)\n",
      "advise_wide_field: (min_wavelength) Minimum wavelength 2.998 (meters)\n",
      "advise_wide_field: (maximum_baseline) Maximum baseline 262.6 (wavelengths)\n",
      "advise_wide_field: (maximum_w) Maximum w 169.4 (wavelengths)\n",
      "advise_wide_field: (diameter) Station/dish diameter 35.0 (meters)\n",
      "advise_wide_field: (primary_beam_fov) Primary beam 0.0857 (rad) 4.91 (deg) 1.77e+04 (asec)\n",
      "advise_wide_field: (image_fov) Image field of view 0.514 (rad) 29.4 (deg) 1.06e+05 (asec)\n",
      "advise_wide_field: (synthesized_beam) Synthesized beam 0.00381 (rad) 0.218 (deg) 785 (asec)\n",
      "advise_wide_field: (cellsize) Cellsize 0.00127 (rad) 0.0727 (deg) 262 (asec)\n",
      "advice_wide_field: (npixels) Npixels per side = 405\n",
      "advice_wide_field: (npixels2) Npixels (power of 2) per side = 512\n",
      "advice_wide_field: (npixels23) Npixels (power of 2, 3) per side = 512\n",
      "advice_wide_field: (npixels_min) Npixels (power of 2, 3, 4, 5) per side = 512\n",
      "advice_wide_field: (w_sampling_image) W sampling for full image = 0.2 (wavelengths)\n",
      "advice_wide_field: (w_sampling_primary_beam) W sampling for primary beam = 8.7 (wavelengths)\n",
      "advice_wide_field: (time_sampling_image) Time sampling for full image = 640.1 (s)\n",
      "advice_wide_field: (time_sampling_primary_beam) Time sampling for primary beam = 3840.7 (s)\n",
      "advice_wide_field: (freq_sampling_image) Frequency sampling for full image = 740873.3 (Hz)\n",
      "advice_wide_field: (freq_sampling_primary_beam) Frequency sampling for primary beam = 4445240.1 (Hz)\n",
      "advice_wide_field: (vis_slices) Number of planes in w stack 39 (primary beam)\n",
      "advice_wide_field: (wprojection_planes) Number of planes in w projection 39 (primary beam)\n",
      "advice_wide_field: (nwpixels) W support = 6 (pixels) (primary beam)\n"
     ]
    }
   ],
   "source": [
    "advice = advise_wide_field(vt, wprojection_planes=1)"
   ]
  },
  {
   "cell_type": "markdown",
   "metadata": {},
   "source": [
    "Fill in the visibility with exact calculation of a number of point sources"
   ]
  },
  {
   "cell_type": "code",
   "execution_count": 7,
   "metadata": {
    "ExecuteTime": {
     "end_time": "2020-11-19T14:19:21.250901Z",
     "start_time": "2020-11-19T14:19:19.289828Z"
    },
    "scrolled": false
   },
   "outputs": [
    {
     "name": "stdout",
     "output_type": "stream",
     "text": [
      "create_image_from_visibility: Parsing parameters to get definition of WCS\n",
      "create_image_from_visibility: Defining single channel Image at <SkyCoord (ICRS): (ra, dec) in deg\n",
      "    (15., -45.)>, starting frequency 100000000.0 Hz, and bandwidth 1000000.0 Hz\n",
      "create_image_from_visibility: uvmax = 262.634709 wavelengths\n",
      "create_image_from_visibility: Critical cellsize = 0.001904 radians, 0.109079 degrees\n",
      "create_image_from_visibility: Cellsize          = 0.001 radians, 0.0572958 degrees\n",
      "create_image_from_visibility: image shape is [1, 1, 256, 256]\n",
      "Spacing in pixels = 32\n",
      "Component at (240.000000, 16.000000) [0-rel] <SkyCoord (ICRS): (ra, dec) in deg\n",
      "    (4.74378292, -51.0209895)>\n",
      "insert_skycomponent: Using insert method Nearest\n",
      "Component at (208.000000, 16.000000) [0-rel] <SkyCoord (ICRS): (ra, dec) in deg\n",
      "    (7.66144755, -51.22149637)>\n",
      "insert_skycomponent: Using insert method Nearest\n",
      "Component at (176.000000, 16.000000) [0-rel] <SkyCoord (ICRS): (ra, dec) in deg\n",
      "    (10.5917361, -51.35530369)>\n",
      "insert_skycomponent: Using insert method Nearest\n",
      "Component at (144.000000, 16.000000) [0-rel] <SkyCoord (ICRS): (ra, dec) in deg\n",
      "    (13.52971731, -51.42224945)>\n",
      "insert_skycomponent: Using insert method Nearest\n",
      "Component at (112.000000, 16.000000) [0-rel] <SkyCoord (ICRS): (ra, dec) in deg\n",
      "    (16.47028269, -51.42224945)>\n",
      "insert_skycomponent: Using insert method Nearest\n",
      "Component at (80.000000, 16.000000) [0-rel] <SkyCoord (ICRS): (ra, dec) in deg\n",
      "    (19.4082639, -51.35530369)>\n",
      "insert_skycomponent: Using insert method Nearest\n",
      "Component at (48.000000, 16.000000) [0-rel] <SkyCoord (ICRS): (ra, dec) in deg\n",
      "    (22.33855245, -51.22149637)>\n",
      "insert_skycomponent: Using insert method Nearest\n",
      "Component at (16.000000, 16.000000) [0-rel] <SkyCoord (ICRS): (ra, dec) in deg\n",
      "    (25.25621708, -51.0209895)>\n",
      "insert_skycomponent: Using insert method Nearest\n",
      "Component at (208.000000, 48.000000) [0-rel] <SkyCoord (ICRS): (ra, dec) in deg\n",
      "    (7.94046978, -49.38802398)>\n",
      "insert_skycomponent: Using insert method Nearest\n",
      "Component at (176.000000, 48.000000) [0-rel] <SkyCoord (ICRS): (ra, dec) in deg\n",
      "    (10.76004686, -49.51635065)>\n",
      "insert_skycomponent: Using insert method Nearest\n",
      "Component at (144.000000, 48.000000) [0-rel] <SkyCoord (ICRS): (ra, dec) in deg\n",
      "    (13.58597172, -49.5805407)>\n",
      "insert_skycomponent: Using insert method Nearest\n",
      "Component at (112.000000, 48.000000) [0-rel] <SkyCoord (ICRS): (ra, dec) in deg\n",
      "    (16.41402828, -49.5805407)>\n",
      "insert_skycomponent: Using insert method Nearest\n",
      "Component at (80.000000, 48.000000) [0-rel] <SkyCoord (ICRS): (ra, dec) in deg\n",
      "    (19.23995314, -49.51635065)>\n",
      "insert_skycomponent: Using insert method Nearest\n",
      "Component at (48.000000, 48.000000) [0-rel] <SkyCoord (ICRS): (ra, dec) in deg\n",
      "    (22.05953022, -49.38802398)>\n",
      "insert_skycomponent: Using insert method Nearest\n",
      "Component at (16.000000, 48.000000) [0-rel] <SkyCoord (ICRS): (ra, dec) in deg\n",
      "    (24.86868384, -49.19566221)>\n",
      "insert_skycomponent: Using insert method Nearest\n",
      "Component at (176.000000, 80.000000) [0-rel] <SkyCoord (ICRS): (ra, dec) in deg\n",
      "    (10.91156133, -47.68176393)>\n",
      "insert_skycomponent: Using insert method Nearest\n",
      "Component at (144.000000, 80.000000) [0-rel] <SkyCoord (ICRS): (ra, dec) in deg\n",
      "    (13.63659973, -47.74353279)>\n",
      "insert_skycomponent: Using insert method Nearest\n",
      "Component at (112.000000, 80.000000) [0-rel] <SkyCoord (ICRS): (ra, dec) in deg\n",
      "    (16.36340027, -47.74353279)>\n",
      "insert_skycomponent: Using insert method Nearest\n",
      "Component at (80.000000, 80.000000) [0-rel] <SkyCoord (ICRS): (ra, dec) in deg\n",
      "    (19.08843867, -47.68176393)>\n",
      "insert_skycomponent: Using insert method Nearest\n",
      "Component at (48.000000, 80.000000) [0-rel] <SkyCoord (ICRS): (ra, dec) in deg\n",
      "    (21.80822877, -47.55825467)>\n",
      "insert_skycomponent: Using insert method Nearest\n",
      "Component at (16.000000, 80.000000) [0-rel] <SkyCoord (ICRS): (ra, dec) in deg\n",
      "    (24.51939763, -47.3730574)>\n",
      "insert_skycomponent: Using insert method Nearest\n",
      "Component at (144.000000, 112.000000) [0-rel] <SkyCoord (ICRS): (ra, dec) in deg\n",
      "    (13.68235336, -45.90931658)>\n",
      "insert_skycomponent: Using insert method Nearest\n",
      "Component at (112.000000, 112.000000) [0-rel] <SkyCoord (ICRS): (ra, dec) in deg\n",
      "    (16.31764664, -45.90931658)>\n",
      "insert_skycomponent: Using insert method Nearest\n",
      "Component at (80.000000, 112.000000) [0-rel] <SkyCoord (ICRS): (ra, dec) in deg\n",
      "    (18.95148298, -45.84967813)>\n",
      "insert_skycomponent: Using insert method Nearest\n",
      "Component at (48.000000, 112.000000) [0-rel] <SkyCoord (ICRS): (ra, dec) in deg\n",
      "    (21.58097973, -45.73040913)>\n",
      "insert_skycomponent: Using insert method Nearest\n",
      "Component at (16.000000, 112.000000) [0-rel] <SkyCoord (ICRS): (ra, dec) in deg\n",
      "    (24.20334715, -45.55152143)>\n",
      "insert_skycomponent: Using insert method Nearest\n",
      "Component at (112.000000, 144.000000) [0-rel] <SkyCoord (ICRS): (ra, dec) in deg\n",
      "    (16.27614945, -44.07600819)>\n",
      "insert_skycomponent: Using insert method Nearest\n",
      "Component at (80.000000, 144.000000) [0-rel] <SkyCoord (ICRS): (ra, dec) in deg\n",
      "    (18.82724608, -44.01824481)>\n",
      "insert_skycomponent: Using insert method Nearest\n",
      "Component at (48.000000, 144.000000) [0-rel] <SkyCoord (ICRS): (ra, dec) in deg\n",
      "    (21.37476195, -43.90270873)>\n",
      "insert_skycomponent: Using insert method Nearest\n",
      "Component at (16.000000, 144.000000) [0-rel] <SkyCoord (ICRS): (ra, dec) in deg\n",
      "    (23.91639614, -43.72937783)>\n",
      "insert_skycomponent: Using insert method Nearest\n",
      "Component at (80.000000, 176.000000) [0-rel] <SkyCoord (ICRS): (ra, dec) in deg\n",
      "    (18.71420256, -42.18561677)>\n",
      "insert_skycomponent: Using insert method Nearest\n",
      "Component at (48.000000, 176.000000) [0-rel] <SkyCoord (ICRS): (ra, dec) in deg\n",
      "    (21.18706763, -42.07336315)>\n",
      "insert_skycomponent: Using insert method Nearest\n",
      "Component at (16.000000, 176.000000) [0-rel] <SkyCoord (ICRS): (ra, dec) in deg\n",
      "    (23.65510465, -41.90491964)>\n",
      "insert_skycomponent: Using insert method Nearest\n",
      "Component at (48.000000, 208.000000) [0-rel] <SkyCoord (ICRS): (ra, dec) in deg\n",
      "    (21.01580068, -40.24055692)>\n",
      "insert_skycomponent: Using insert method Nearest\n",
      "Component at (16.000000, 208.000000) [0-rel] <SkyCoord (ICRS): (ra, dec) in deg\n",
      "    (23.41659285, -40.07639948)>\n",
      "insert_skycomponent: Using insert method Nearest\n",
      "Component at (16.000000, 240.000000) [0-rel] <SkyCoord (ICRS): (ra, dec) in deg\n",
      "    (23.19843619, -38.24201755)>\n",
      "insert_skycomponent: Using insert method Nearest\n"
     ]
    },
    {
     "data": {
      "image/png": "[encoded data removed]",
      "text/plain": [
       "<Figure size 864x864 with 2 Axes>"
      ]
     },
     "metadata": {
      "needs_background": "light"
     },
     "output_type": "display_data"
    }
   ],
   "source": [
    "vt[\"vis\"].data[...] *= 0.0\n",
    "npixel=256\n",
    "\n",
    "model = create_image_from_visibility(vt, npixel=npixel, cellsize=0.001, nchan=1, \n",
    "                                     polarisation_frame=PolarisationFrame('stokesI'))\n",
    "centre = model.image_acc.wcs.wcs.crpix-1\n",
    "spacing_pixels = npixel // 8\n",
    "log.info('Spacing in pixels = %s' % spacing_pixels)\n",
    "spacing = model.image_acc.wcs.wcs.cdelt * spacing_pixels\n",
    "locations = [-3.5, -2.5, -1.5, -0.5, 0.5, 1.5, 2.5, 3.5]\n",
    "\n",
    "original_comps = []\n",
    "# We calculate the source positions in pixels and then calculate the\n",
    "# world coordinates to put in the skycomponent description\n",
    "for iy in locations:\n",
    "    for ix in locations:\n",
    "        if ix >= iy:\n",
    "            p = int(round(centre[0] + ix * spacing_pixels * numpy.sign(model.image_acc.wcs.wcs.cdelt[0]))), \\\n",
    "                int(round(centre[1] + iy * spacing_pixels * numpy.sign(model.image_acc.wcs.wcs.cdelt[1])))\n",
    "            sc = pixel_to_skycoord(p[0], p[1], model.image_acc.wcs)\n",
    "            log.info(\"Component at (%f, %f) [0-rel] %s\" % (p[0], p[1], str(sc)))\n",
    "            flux = numpy.array([[100.0 + 2.0 * ix + iy * 20.0]])\n",
    "            comp = create_skycomponent(flux=flux, frequency=frequency, direction=sc, \n",
    "                                       polarisation_frame=PolarisationFrame('stokesI'))\n",
    "            original_comps.append(comp)\n",
    "            insert_skycomponent(model, comp)\n",
    "\n",
    "vt = dft_skycomponent_visibility(vt, original_comps)\n",
    "cmodel = smooth_image(model) \n",
    "show_image(cmodel)\n",
    "plt.title(\"Smoothed model image\")\n",
    "plt.show()"
   ]
  },
  {
   "cell_type": "code",
   "execution_count": 10,
   "metadata": {
    "ExecuteTime": {
     "end_time": "2020-11-19T14:20:16.973960Z",
     "start_time": "2020-11-19T14:20:16.966377Z"
    }
   },
   "outputs": [
    {
     "name": "stdout",
     "output_type": "stream",
     "text": [
      "<xarray.Image>\n",
      "Dimensions:       (frequency: 1, polarisation: 1, x: 256, y: 256)\n",
      "Coordinates:\n",
      "  * frequency     (frequency) float64 1e+08\n",
      "  * polarisation  (polarisation) <U1 'I'\n",
      "  * y             (y) float64 -0.9134 -0.9124 -0.9114 ... -0.6594 -0.6584\n",
      "  * x             (x) float64 0.1338 0.1348 0.1358 ... 0.3868 0.3878 0.3888\n",
      "    ra            (x, y) float64 0.4703 0.4687 0.4671 ... 0.104 0.1027 0.1015\n",
      "    dec           (x, y) float64 -0.9042 -0.9044 -0.9045 ... -0.6509 -0.6508\n",
      "Data variables:\n",
      "    pixels        (frequency, polarisation, y, x) float64 0.0 0.0 ... 0.0 0.0\n",
      "Attributes:\n",
      "    rascil_data_model:    Image\n",
      "    _polarisation_frame:  stokesI\n",
      "    _projection:          ('RA---SIN', 'DEC--SIN')\n",
      "    spectral_type:        FREQ\n"
     ]
    }
   ],
   "source": [
    "print(model)"
   ]
  },
  {
   "cell_type": "markdown",
   "metadata": {},
   "source": [
    "Check that the skycoordinate and image coordinate system are consistent by finding the point sources."
   ]
  },
  {
   "cell_type": "code",
   "execution_count": 8,
   "metadata": {
    "ExecuteTime": {
     "end_time": "2020-11-19T14:19:22.321763Z",
     "start_time": "2020-11-19T14:19:21.252951Z"
    },
    "scrolled": false
   },
   "outputs": [
    {
     "name": "stdout",
     "output_type": "stream",
     "text": [
      "find_skycomponents: Finding components in Image by segmentation\n",
      "find_skycomponents: Identified 36 segments\n"
     ]
    },
    {
     "data": {
      "image/png": "[encoded data removed]",
      "text/plain": [
       "<Figure size 864x864 with 1 Axes>"
      ]
     },
     "metadata": {
      "needs_background": "light"
     },
     "output_type": "display_data"
    }
   ],
   "source": [
    "comps = find_skycomponents(cmodel, fwhm=1.0, threshold=10.0, npixels=5)\n",
    "plt.clf()\n",
    "for i in range(len(comps)):\n",
    "    ocomp, sep = find_nearest_skycomponent(comps[i].direction, original_comps)\n",
    "    plt.plot((comps[i].direction.ra.value  - ocomp.direction.ra.value)/cmodel.image_acc.wcs.wcs.cdelt[0], \n",
    "             (comps[i].direction.dec.value - ocomp.direction.dec.value)/cmodel.image_acc.wcs.wcs.cdelt[1], \n",
    "             '.', color='r')  \n",
    "\n",
    "plt.xlabel('delta RA (pixels)')\n",
    "plt.ylabel('delta DEC (pixels)')\n",
    "plt.title(\"Recovered - Original position offsets\")\n",
    "plt.show()"
   ]
  },
  {
   "cell_type": "markdown",
   "metadata": {},
   "source": [
    "Make the convolution function"
   ]
  },
  {
   "cell_type": "code",
   "execution_count": 9,
   "metadata": {
    "ExecuteTime": {
     "end_time": "2020-11-19T14:19:22.599330Z",
     "start_time": "2020-11-19T14:19:22.323130Z"
    },
    "scrolled": false
   },
   "outputs": [
    {
     "name": "stdout",
     "output_type": "stream",
     "text": [
      "Setting oversampling to next greatest odd number 9\n"
     ]
    },
    {
     "ename": "AttributeError",
     "evalue": "'NoneType' object has no attribute 'names'",
     "output_type": "error",
     "traceback": [
      "\u001b[0;31m---------------------------------------------------------------------------\u001b[0m",
      "\u001b[0;31mAttributeError\u001b[0m                            Traceback (most recent call last)",
      "\u001b[0;32m<ipython-input-9-940623b4f435>\u001b[0m in \u001b[0;36m<module>\u001b[0;34m\u001b[0m\n\u001b[1;32m      4\u001b[0m gcfcf = create_awterm_convolutionfunction(model, nw=110, wstep=8, oversampling=8, \n\u001b[1;32m      5\u001b[0m                                                     \u001b[0msupport\u001b[0m\u001b[0;34m=\u001b[0m\u001b[0;36m60\u001b[0m\u001b[0;34m,\u001b[0m\u001b[0;34m\u001b[0m\u001b[0;34m\u001b[0m\u001b[0m\n\u001b[0;32m----> 6\u001b[0;31m                                                     use_aaf=True)\n\u001b[0m\u001b[1;32m      7\u001b[0m \u001b[0;34m\u001b[0m\u001b[0m\n\u001b[1;32m      8\u001b[0m \u001b[0mcf\u001b[0m\u001b[0;34m=\u001b[0m\u001b[0mgcfcf\u001b[0m\u001b[0;34m[\u001b[0m\u001b[0;36m1\u001b[0m\u001b[0;34m]\u001b[0m\u001b[0;34m\u001b[0m\u001b[0;34m\u001b[0m\u001b[0m\n",
      "\u001b[0;32m~/Code/rascil/rascil/processing_components/griddata/kernels.py\u001b[0m in \u001b[0;36mcreate_awterm_convolutionfunction\u001b[0;34m(im, make_pb, nw, wstep, oversampling, support, use_aaf, maxsupport, pa, normalise, polarisation_frame)\u001b[0m\n\u001b[1;32m    165\u001b[0m     \u001b[0msubim_wcs\u001b[0m\u001b[0;34m.\u001b[0m\u001b[0mwcs\u001b[0m\u001b[0;34m.\u001b[0m\u001b[0mcrpix\u001b[0m\u001b[0;34m[\u001b[0m\u001b[0;36m0\u001b[0m\u001b[0;34m]\u001b[0m \u001b[0;34m=\u001b[0m \u001b[0mqnx\u001b[0m \u001b[0;34m//\u001b[0m \u001b[0;36m2\u001b[0m \u001b[0;34m+\u001b[0m \u001b[0;36m1.0\u001b[0m\u001b[0;34m\u001b[0m\u001b[0;34m\u001b[0m\u001b[0m\n\u001b[1;32m    166\u001b[0m     \u001b[0msubim_wcs\u001b[0m\u001b[0;34m.\u001b[0m\u001b[0mwcs\u001b[0m\u001b[0;34m.\u001b[0m\u001b[0mcrpix\u001b[0m\u001b[0;34m[\u001b[0m\u001b[0;36m1\u001b[0m\u001b[0;34m]\u001b[0m \u001b[0;34m=\u001b[0m \u001b[0mqny\u001b[0m \u001b[0;34m//\u001b[0m \u001b[0;36m2\u001b[0m \u001b[0;34m+\u001b[0m \u001b[0;36m1.0\u001b[0m\u001b[0;34m\u001b[0m\u001b[0;34m\u001b[0m\u001b[0m\n\u001b[0;32m--> 167\u001b[0;31m     \u001b[0msubim\u001b[0m \u001b[0;34m=\u001b[0m \u001b[0mcreate_image_from_array\u001b[0m\u001b[0;34m(\u001b[0m\u001b[0mnumpy\u001b[0m\u001b[0;34m.\u001b[0m\u001b[0mzeros\u001b[0m\u001b[0;34m(\u001b[0m\u001b[0;34m[\u001b[0m\u001b[0mnchan\u001b[0m\u001b[0;34m,\u001b[0m \u001b[0mnpol\u001b[0m\u001b[0;34m,\u001b[0m \u001b[0mqny\u001b[0m\u001b[0;34m,\u001b[0m \u001b[0mqnx\u001b[0m\u001b[0;34m]\u001b[0m\u001b[0;34m)\u001b[0m\u001b[0;34m,\u001b[0m \u001b[0msubim_wcs\u001b[0m\u001b[0;34m,\u001b[0m \u001b[0mpolarisation_frame\u001b[0m\u001b[0;34m=\u001b[0m\u001b[0mpolarisation_frame\u001b[0m\u001b[0;34m)\u001b[0m\u001b[0;34m\u001b[0m\u001b[0;34m\u001b[0m\u001b[0m\n\u001b[0m\u001b[1;32m    168\u001b[0m \u001b[0;34m\u001b[0m\u001b[0m\n\u001b[1;32m    169\u001b[0m     \u001b[0;32mif\u001b[0m \u001b[0muse_aaf\u001b[0m\u001b[0;34m:\u001b[0m\u001b[0;34m\u001b[0m\u001b[0;34m\u001b[0m\u001b[0m\n",
      "\u001b[0;32m~/Code/rascil/rascil/processing_components/image/operations.py\u001b[0m in \u001b[0;36mcreate_image_from_array\u001b[0;34m(data, wcs, polarisation_frame, chunksize)\u001b[0m\n\u001b[1;32m    720\u001b[0m     \"\"\"\n\u001b[1;32m    721\u001b[0m \u001b[0;34m\u001b[0m\u001b[0m\n\u001b[0;32m--> 722\u001b[0;31m     \u001b[0;32mreturn\u001b[0m \u001b[0mImage\u001b[0m\u001b[0;34m(\u001b[0m\u001b[0mdata\u001b[0m\u001b[0;34m=\u001b[0m\u001b[0mdata\u001b[0m\u001b[0;34m,\u001b[0m \u001b[0mpolarisation_frame\u001b[0m\u001b[0;34m=\u001b[0m\u001b[0mpolarisation_frame\u001b[0m\u001b[0;34m,\u001b[0m \u001b[0mwcs\u001b[0m\u001b[0;34m=\u001b[0m\u001b[0mwcs\u001b[0m\u001b[0;34m)\u001b[0m\u001b[0;34m\u001b[0m\u001b[0;34m\u001b[0m\u001b[0m\n\u001b[0m\u001b[1;32m    723\u001b[0m \u001b[0;34m\u001b[0m\u001b[0m\n\u001b[1;32m    724\u001b[0m \u001b[0;32mdef\u001b[0m \u001b[0mpolarisation_frame_from_wcs\u001b[0m\u001b[0;34m(\u001b[0m\u001b[0mwcs\u001b[0m\u001b[0;34m,\u001b[0m \u001b[0mshape\u001b[0m\u001b[0;34m)\u001b[0m \u001b[0;34m->\u001b[0m \u001b[0mPolarisationFrame\u001b[0m\u001b[0;34m:\u001b[0m\u001b[0;34m\u001b[0m\u001b[0;34m\u001b[0m\u001b[0m\n",
      "\u001b[0;32m~/Code/rascil/rascil/data_models/memory_data_models.py\u001b[0m in \u001b[0;36m__init__\u001b[0;34m(self, data, polarisation_frame, wcs)\u001b[0m\n\u001b[1;32m    454\u001b[0m         coords = {\n\u001b[1;32m    455\u001b[0m             \u001b[0;34m\"frequency\"\u001b[0m\u001b[0;34m:\u001b[0m \u001b[0;34m(\u001b[0m\u001b[0;34m\"frequency\"\u001b[0m\u001b[0;34m,\u001b[0m \u001b[0mfrequency\u001b[0m\u001b[0;34m)\u001b[0m\u001b[0;34m,\u001b[0m\u001b[0;34m\u001b[0m\u001b[0;34m\u001b[0m\u001b[0m\n\u001b[0;32m--> 456\u001b[0;31m             \u001b[0;34m\"polarisation\"\u001b[0m\u001b[0;34m:\u001b[0m \u001b[0;34m(\u001b[0m\u001b[0;34m\"polarisation\"\u001b[0m\u001b[0;34m,\u001b[0m \u001b[0mpolarisation_frame\u001b[0m\u001b[0;34m.\u001b[0m\u001b[0mnames\u001b[0m\u001b[0;34m)\u001b[0m\u001b[0;34m,\u001b[0m\u001b[0;34m\u001b[0m\u001b[0;34m\u001b[0m\u001b[0m\n\u001b[0m\u001b[1;32m    457\u001b[0m             \u001b[0;34m\"y\"\u001b[0m\u001b[0;34m:\u001b[0m \u001b[0mnumpy\u001b[0m\u001b[0;34m.\u001b[0m\u001b[0mlinspace\u001b[0m\u001b[0;34m(\u001b[0m\u001b[0mcy\u001b[0m \u001b[0;34m-\u001b[0m \u001b[0mcellsize\u001b[0m \u001b[0;34m*\u001b[0m \u001b[0mny\u001b[0m \u001b[0;34m/\u001b[0m \u001b[0;36m2\u001b[0m\u001b[0;34m,\u001b[0m \u001b[0mcy\u001b[0m \u001b[0;34m+\u001b[0m \u001b[0mcellsize\u001b[0m \u001b[0;34m*\u001b[0m \u001b[0mny\u001b[0m \u001b[0;34m/\u001b[0m \u001b[0;36m2\u001b[0m\u001b[0;34m,\u001b[0m \u001b[0mny\u001b[0m\u001b[0;34m,\u001b[0m \u001b[0mendpoint\u001b[0m\u001b[0;34m=\u001b[0m\u001b[0;32mFalse\u001b[0m\u001b[0;34m)\u001b[0m\u001b[0;34m,\u001b[0m\u001b[0;34m\u001b[0m\u001b[0;34m\u001b[0m\u001b[0m\n\u001b[1;32m    458\u001b[0m             \u001b[0;34m\"x\"\u001b[0m\u001b[0;34m:\u001b[0m \u001b[0mnumpy\u001b[0m\u001b[0;34m.\u001b[0m\u001b[0mlinspace\u001b[0m\u001b[0;34m(\u001b[0m\u001b[0mcx\u001b[0m \u001b[0;34m-\u001b[0m \u001b[0mcellsize\u001b[0m \u001b[0;34m*\u001b[0m \u001b[0mnx\u001b[0m \u001b[0;34m/\u001b[0m \u001b[0;36m2\u001b[0m\u001b[0;34m,\u001b[0m \u001b[0mcx\u001b[0m \u001b[0;34m+\u001b[0m \u001b[0mcellsize\u001b[0m \u001b[0;34m*\u001b[0m \u001b[0mnx\u001b[0m \u001b[0;34m/\u001b[0m \u001b[0;36m2\u001b[0m\u001b[0;34m,\u001b[0m \u001b[0mnx\u001b[0m\u001b[0;34m,\u001b[0m \u001b[0mendpoint\u001b[0m\u001b[0;34m=\u001b[0m\u001b[0;32mFalse\u001b[0m\u001b[0;34m)\u001b[0m\u001b[0;34m,\u001b[0m\u001b[0;34m\u001b[0m\u001b[0;34m\u001b[0m\u001b[0m\n",
      "\u001b[0;31mAttributeError\u001b[0m: 'NoneType' object has no attribute 'names'"
     ]
    }
   ],
   "source": [
    "wstep = 8.0\n",
    "nw = int(1.1 * 800/wstep)\n",
    "    \n",
    "gcfcf = create_awterm_convolutionfunction(model, nw=110, wstep=8, oversampling=8, \n",
    "                                                    support=60,\n",
    "                                                    use_aaf=True)\n",
    "    \n",
    "cf=gcfcf[1]\n",
    "print(cf[\"pixels\"].data.shape)\n",
    "plt.clf()\n",
    "plt.imshow(numpy.real(cf[\"pixels\"].data[0,0,0,0,0,:,:]))\n",
    "plt.title(str(numpy.max(numpy.abs(cf[\"pixels\"].data[0,0,0,0,0,:,:]))))\n",
    "plt.show()\n",
    "    \n",
    "cf_clipped = apply_bounding_box_convolutionfunction(cf, fractional_level=1e-3)\n",
    "print(cf_clipped[\"pixels\"].data.shape)\n",
    "gcfcf_clipped=(gcfcf[0], cf_clipped)\n",
    "    \n",
    "plt.clf()\n",
    "plt.imshow(numpy.real(cf_clipped[\"pixels\"].data[0,0,0,0,0,:,:]))\n",
    "plt.title(str(numpy.max(numpy.abs(cf_clipped[\"pixels\"].data[0,0,0,0,0,:,:]))))\n",
    "plt.show()\n"
   ]
  },
  {
   "cell_type": "markdown",
   "metadata": {},
   "source": [
    "Predict the visibility using the different approaches."
   ]
  },
  {
   "cell_type": "code",
   "execution_count": null,
   "metadata": {
    "ExecuteTime": {
     "end_time": "2020-11-19T14:19:22.601186Z",
     "start_time": "2020-11-19T14:19:04.773Z"
    },
    "scrolled": false
   },
   "outputs": [],
   "source": [
    "contexts = ['2d', 'ng', 'wprojection']\n",
    "\n",
    "vt_list = []\n",
    "\n",
    "for context in contexts:\n",
    "    \n",
    "    print('Processing context %s' % context)\n",
    "   \n",
    "    vtpredict_list =[create_blockvisibility(lowcore, times, frequency, channel_bandwidth=channel_bandwidth,\n",
    "        weight=1.0, phasecentre=phasecentre, polarisation_frame=PolarisationFrame('stokesI'))]\n",
    "    model_list = [model]\n",
    "    vtpredict_list = rsexecute.compute(vtpredict_list, sync=True)\n",
    "    vtpredict_list = rsexecute.scatter(vtpredict_list)\n",
    " \n",
    "    if context == 'wprojection':       \n",
    "        future = predict_list_rsexecute_workflow(vtpredict_list, model_list, context='2d', gcfcf=[gcfcf_clipped])\n",
    "    \n",
    "    elif context == 'ng':\n",
    "        future = predict_list_rsexecute_workflow(vtpredict_list, model_list, context='ng')\n",
    "\n",
    "    else:\n",
    "        future = predict_list_rsexecute_workflow(vtpredict_list, model_list, context=context)\n",
    "        \n",
    "    vtpredict_list = rsexecute.compute(future, sync=True)\n",
    "        \n",
    "    vtpredict = vtpredict_list[0]\n",
    "\n",
    "    vt_list.append(vt)\n",
    "\n",
    "plt.clf()\n",
    "\n",
    "plot_visibility(vt_list, [\"b\", \"g\", \"r\"])\n",
    "plt.show()\n"
   ]
  },
  {
   "cell_type": "markdown",
   "metadata": {},
   "source": [
    "Make the image using the different approaches. We will evaluate the results using a number of plots:\n",
    "\n",
    "- The error in fitted versus the radius. The ideal result is a straightline fitted: flux = DFT flux\n",
    "- The offset in RA versus the offset in DEC. The ideal result is a cluster around 0 pixels.\n",
    "\n",
    "The sampling in w is set to provide 2% decorrelation at the half power point of the primary beam.\n"
   ]
  },
  {
   "cell_type": "code",
   "execution_count": null,
   "metadata": {
    "ExecuteTime": {
     "end_time": "2020-11-19T14:19:22.602605Z",
     "start_time": "2020-11-19T14:19:04.774Z"
    },
    "pycharm": {
     "name": "#%%\n"
    },
    "scrolled": false
   },
   "outputs": [],
   "source": [
    "contexts = ['2d', 'ng', 'wprojection']\n",
    "\n",
    "\n",
    "for context in contexts:\n",
    "\n",
    "    targetimage_list = [create_image_from_visibility(vt, npixel=npixel, cellsize=0.001, nchan=1,\n",
    "                                               polarisation_frame=PolarisationFrame('stokesI'))]\n",
    "    \n",
    "    vt_list = [vt]\n",
    "\n",
    "\n",
    "    print('Processing context %s' % context)\n",
    "    if context == 'wprojection':\n",
    "        future = invert_list_rsexecute_workflow(vt_list, targetimage_list, context='2d', gcfcf=[gcfcf_clipped])\n",
    "    \n",
    "    elif context == 'ng':\n",
    "        future = invert_list_rsexecute_workflow(vt_list, targetimage_list, context=context)\n",
    "        \n",
    "    else:\n",
    "        future = invert_list_rsexecute_workflow(vt_list, targetimage_list, context=context)\n",
    "        \n",
    "    result = rsexecute.compute(future, sync=True)\n",
    "    targetimage = result[0][0]\n",
    "\n",
    "    show_image(targetimage)\n",
    "    plt.title(context)\n",
    "    plt.show()\n",
    "\n",
    "    print(\"Dirty Image %s\" % qa_image(targetimage, context=\"imaging-fits notebook, using processor %s\" % context))\n",
    "\n",
    "    export_image_to_fits(targetimage, '%s/imaging-fits_dirty_%s.fits' % (results_dir, context))\n",
    "    comps = find_skycomponents(targetimage, fwhm=1.0, threshold=10.0, npixels=5)\n",
    "\n",
    "    plt.clf()\n",
    "    for comp in comps:\n",
    "        distance = comp.direction.separation(model.phasecentre)\n",
    "        idft = idft_visibility_skycomponent(vt, comp)[0][0]\n",
    "        err = (comp.flux[0, 0] - idft.flux[0, 0]) / idft.flux[0, 0]\n",
    "        plt.plot(distance, err, '.', color='r')\n",
    "    plt.ylabel('Fractional error of image vs DFT')\n",
    "    plt.xlabel('Distance from phasecentre (deg)')\n",
    "    plt.title(\n",
    "        \"Fractional error in %s recovered flux vs distance from phasecentre\" %\n",
    "        context)\n",
    "    plt.show()\n",
    "\n",
    "    checkpositions = True\n",
    "    if checkpositions:\n",
    "        plt.clf()\n",
    "        for i in range(len(comps)):\n",
    "            ocomp, sep = find_nearest_skycomponent(comps[i].direction, original_comps)\n",
    "            plt.plot(\n",
    "                (comps[i].direction.ra.value - ocomp.direction.ra.value) /\n",
    "                targetimage.wcs.wcs.cdelt[0],\n",
    "                (comps[i].direction.dec.value - ocomp.direction.dec.value) /\n",
    "                targetimage.wcs.wcs.cdelt[1],\n",
    "                '.',\n",
    "                color='r')\n",
    "\n",
    "        plt.xlabel('delta RA (pixels)')\n",
    "        plt.ylabel('delta DEC (pixels)')\n",
    "        plt.title(\"%s: Position offsets\" % context)\n",
    "        plt.show()\n",
    "\n"
   ]
  }
 ],
 "metadata": {
  "kernelspec": {
   "display_name": "Python 3",
   "language": "python",
   "name": "python3"
  },
  "language_info": {
   "codemirror_mode": {
    "name": "ipython",
    "version": 3
   },
   "file_extension": ".py",
   "mimetype": "text/x-python",
   "name": "python",
   "nbconvert_exporter": "python",
   "pygments_lexer": "ipython3",
   "version": "3.7.8"
  }
 },
 "nbformat": 4,
 "nbformat_minor": 2
}
