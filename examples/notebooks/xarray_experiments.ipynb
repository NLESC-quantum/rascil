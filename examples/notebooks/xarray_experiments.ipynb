{
 "cells": [
  {
   "cell_type": "markdown",
   "metadata": {
    "pycharm": {
     "name": "#%% md\n"
    }
   },
   "source": [
    "### Notebook to explore use of xarray in RASCIL\n",
    "\n",
    "RASCIL v0.1.19b uses Classes and numpy structured arrays as data holders. This simple approach\n",
    "has been sufficient for development so far but will be limiting for future development.\n",
    "For example, selection based on multiple coordinates will be needed for more flexible\n",
    "processing. In this notebook, we investigate xarray capabilities.\n",
    "\n",
    "    http://xarray.pydata.org/\n",
    "\n",
    "xarray must be installed:\n",
    "\n",
    "    pip install xarray\n",
    "\n",
    "We make use of rascil functions to create Visibility objects.\n"
   ]
  },
  {
   "cell_type": "code",
   "execution_count": 1,
   "metadata": {
    "ExecuteTime": {
     "end_time": "2020-08-21T15:23:12.078076Z",
     "start_time": "2020-08-21T15:23:09.222876Z"
    },
    "scrolled": false
   },
   "outputs": [
    {
     "name": "stderr",
     "output_type": "stream",
     "text": [
      "In /Users/timcornwell/opt/anaconda3/envs/rascil_env/lib/python3.7/site-packages/matplotlib/mpl-data/stylelib/_classic_test.mplstyle: \n",
      "The text.latex.preview rcparam was deprecated in Matplotlib 3.3 and will be removed two minor releases later.\n",
      "In /Users/timcornwell/opt/anaconda3/envs/rascil_env/lib/python3.7/site-packages/matplotlib/mpl-data/stylelib/_classic_test.mplstyle: \n",
      "The mathtext.fallback_to_cm rcparam was deprecated in Matplotlib 3.3 and will be removed two minor releases later.\n",
      "In /Users/timcornwell/opt/anaconda3/envs/rascil_env/lib/python3.7/site-packages/matplotlib/mpl-data/stylelib/_classic_test.mplstyle: Support for setting the 'mathtext.fallback_to_cm' rcParam is deprecated since 3.3 and will be removed two minor releases later; use 'mathtext.fallback : 'cm' instead.\n",
      "In /Users/timcornwell/opt/anaconda3/envs/rascil_env/lib/python3.7/site-packages/matplotlib/mpl-data/stylelib/_classic_test.mplstyle: \n",
      "The validate_bool_maybe_none function was deprecated in Matplotlib 3.3 and will be removed two minor releases later.\n",
      "In /Users/timcornwell/opt/anaconda3/envs/rascil_env/lib/python3.7/site-packages/matplotlib/mpl-data/stylelib/_classic_test.mplstyle: \n",
      "The savefig.jpeg_quality rcparam was deprecated in Matplotlib 3.3 and will be removed two minor releases later.\n",
      "In /Users/timcornwell/opt/anaconda3/envs/rascil_env/lib/python3.7/site-packages/matplotlib/mpl-data/stylelib/_classic_test.mplstyle: \n",
      "The keymap.all_axes rcparam was deprecated in Matplotlib 3.3 and will be removed two minor releases later.\n",
      "In /Users/timcornwell/opt/anaconda3/envs/rascil_env/lib/python3.7/site-packages/matplotlib/mpl-data/stylelib/_classic_test.mplstyle: \n",
      "The animation.avconv_path rcparam was deprecated in Matplotlib 3.3 and will be removed two minor releases later.\n",
      "In /Users/timcornwell/opt/anaconda3/envs/rascil_env/lib/python3.7/site-packages/matplotlib/mpl-data/stylelib/_classic_test.mplstyle: \n",
      "The animation.avconv_args rcparam was deprecated in Matplotlib 3.3 and will be removed two minor releases later.\n"
     ]
    }
   ],
   "source": [
    "import xarray\n",
    "import numpy\n",
    "\n",
    "from astropy.coordinates import SkyCoord\n",
    "import astropy.units as u\n",
    "from astropy.time import Time\n",
    "\n",
    "from rascil.data_models.polarisation import PolarisationFrame\n",
    "from rascil.processing_components import create_named_configuration, create_visibility"
   ]
  },
  {
   "cell_type": "markdown",
   "metadata": {
    "pycharm": {
     "name": "#%% md\n"
    }
   },
   "source": [
    "Create a standard RASCIL Visibility object"
   ]
  },
  {
   "cell_type": "code",
   "execution_count": 2,
   "metadata": {
    "ExecuteTime": {
     "end_time": "2020-08-21T15:23:20.476688Z",
     "start_time": "2020-08-21T15:23:12.080265Z"
    },
    "pycharm": {
     "name": "#%%\n"
    }
   },
   "outputs": [
    {
     "name": "stdout",
     "output_type": "stream",
     "text": [
      "Visibility:\n",
      "\tSource: unknown\n",
      "\tNumber of visibilities: 657360\n",
      "\tNumber of channels: 3\n",
      "\tFrequency: [1.00e+08 1.05e+08 1.10e+08]\n",
      "\tChannel bandwidth: [10000000.]\n",
      "\tNumber of polarisations: 4\n",
      "\tVisibility shape: (657360, 4)\n",
      "\tNumber flags: 0\n",
      "\tPolarisation Frame: linear\n",
      "\tPhasecentre: <SkyCoord (ICRS): (ra, dec) in deg\n",
      "    (180., -35.)>\n",
      "\tConfiguration: LOWBD2-CORE\n",
      "\tMetadata: None\n",
      "\n"
     ]
    }
   ],
   "source": [
    "lowcore = create_named_configuration('LOWBD2-CORE')\n",
    "times = (numpy.pi / 43200.0) * numpy.arange(-4*3600, +4*3600.0, 1800)\n",
    "frequency = numpy.linspace(1.0e8, 1.1e8, 3)\n",
    "channel_bandwidth = numpy.array([1e7, 1e7, 1e7])\n",
    "# Define the component and give it some spectral behaviour\n",
    "f = numpy.array([100.0, 20.0, -10.0, 1.0])\n",
    "flux = numpy.array([f, 0.8 * f, 0.6 * f])\n",
    "phasecentre = SkyCoord(ra=+180.0 * u.deg, dec=-35.0 * u.deg, frame='icrs',\n",
    "                       equinox='J2000')\n",
    "vis = create_visibility(lowcore, times, frequency,\n",
    "                             channel_bandwidth=channel_bandwidth,\n",
    "                             phasecentre=phasecentre,\n",
    "                             integration_time=30.0,\n",
    "                             polarisation_frame=PolarisationFrame(\"linear\"),\n",
    "                             weight=1.0)\n",
    "print(vis)"
   ]
  },
  {
   "cell_type": "markdown",
   "metadata": {
    "pycharm": {
     "name": "#%% md\n"
    }
   },
   "source": [
    "First construct an xarray.DataArray for the visibility. We name the dimensions and give the coordinates."
   ]
  },
  {
   "cell_type": "code",
   "execution_count": 3,
   "metadata": {
    "ExecuteTime": {
     "end_time": "2020-08-21T15:23:20.490484Z",
     "start_time": "2020-08-21T15:23:20.479921Z"
    },
    "pycharm": {
     "name": "#%%%\n"
    }
   },
   "outputs": [
    {
     "name": "stdout",
     "output_type": "stream",
     "text": [
      "<xarray.DataArray (time: 657360, polarisation: 4)>\n",
      "array([[0.+0.j, 0.+0.j, 0.+0.j, 0.+0.j],\n",
      "       [0.+0.j, 0.+0.j, 0.+0.j, 0.+0.j],\n",
      "       [0.+0.j, 0.+0.j, 0.+0.j, 0.+0.j],\n",
      "       ...,\n",
      "       [0.+0.j, 0.+0.j, 0.+0.j, 0.+0.j],\n",
      "       [0.+0.j, 0.+0.j, 0.+0.j, 0.+0.j],\n",
      "       [0.+0.j, 0.+0.j, 0.+0.j, 0.+0.j]])\n",
      "Coordinates:\n",
      "  * time          (time) float64 5.085e+09 5.085e+09 ... 5.085e+09 5.085e+09\n",
      "  * polarisation  (polarisation) <U2 'XX' 'XY' 'YX' 'YY'\n"
     ]
    }
   ],
   "source": [
    "xvis_array = xarray.DataArray(vis.vis,\n",
    "                              dims=[\"time\", \"polarisation\"],\n",
    "                              coords={\"time\": vis.time, \"polarisation\": vis.polarisation_frame.names})\n",
    "print(xvis_array)"
   ]
  },
  {
   "cell_type": "markdown",
   "metadata": {
    "pycharm": {
     "name": "#%% md\n"
    }
   },
   "source": [
    "Now we can create an xarray.Dataset which is a dictionary of DataArrays and a list of attributes"
   ]
  },
  {
   "cell_type": "code",
   "execution_count": 4,
   "metadata": {
    "ExecuteTime": {
     "end_time": "2020-08-21T15:23:24.579914Z",
     "start_time": "2020-08-21T15:23:20.493067Z"
    },
    "pycharm": {
     "name": "#%%\n"
    }
   },
   "outputs": [],
   "source": [
    "dims = (\"time\", \"polarisation\", \"spatial\")\n",
    "\n",
    "coords = {\"time\": vis.time,\n",
    "          \"polarisation\": vis.polarisation_frame.names,\n",
    "          \"spatial\": numpy.zeros([3])}\n",
    "\n",
    "xvis_dict = dict()\n",
    "xvis_dict[\"visibility\"] = xarray.DataArray(vis.vis, dims=[\"time\", \"polarisation\"])\n",
    "xvis_dict[\"uvw\"] = xarray.DataArray(vis.uvw, dims=[\"time\", \"spatial\"])\n",
    "xvis_dict[\"uvwdist\"] = xarray.DataArray(vis.uvwdist, dims=[\"time\"])\n",
    "xvis_dict[\"antenna1\"] = xarray.DataArray(vis.antenna1, dims=[\"time\"])\n",
    "xvis_dict[\"antenna2\"] = xarray.DataArray(vis.antenna2, dims=[\"time\"])\n",
    "xvis_dict[\"datetime\"] = \\\n",
    "    xarray.DataArray(Time(vis.time / 86400.0, format='mjd', scale='utc').datetime64, dims=[\"time\"])\n",
    "xvis_dict[\"weight\"] = xarray.DataArray(vis.weight, dims=[\"time\", \"polarisation\"])\n",
    "xvis_dict[\"imaging_weight\"] = xarray.DataArray(vis.imaging_weight,\n",
    "                                               dims=[\"time\", \"polarisation\"])\n",
    "xvis_dict[\"flags\"] = xarray.DataArray(vis.flags, dims=[\"time\", \"polarisation\"])\n",
    "xvis_dict[\"frequency\"] = xarray.DataArray(vis.frequency, dims=[\"time\"])\n",
    "xvis_dict[\"channel_bandwidth\"] = xarray.DataArray(vis.channel_bandwidth, dims=[\"time\"])\n",
    "xvis_dict[\"integration_time\"] = xarray.DataArray(vis.integration_time, dims=[\"time\"])\n",
    "xvis = xarray.Dataset(xvis_dict, coords=coords)\n",
    "xvis.attrs['source'] = vis.source\n"
   ]
  },
  {
   "cell_type": "markdown",
   "metadata": {
    "pycharm": {
     "name": "#%% md\n"
    }
   },
   "source": [
    "xarray has excellent informative prints for most objects."
   ]
  },
  {
   "cell_type": "code",
   "execution_count": 5,
   "metadata": {
    "ExecuteTime": {
     "end_time": "2020-08-21T15:23:24.596557Z",
     "start_time": "2020-08-21T15:23:24.581426Z"
    },
    "pycharm": {
     "name": "#%%\n"
    }
   },
   "outputs": [
    {
     "name": "stdout",
     "output_type": "stream",
     "text": [
      "<xarray.Dataset>\n",
      "Dimensions:            (polarisation: 4, spatial: 3, time: 657360)\n",
      "Coordinates:\n",
      "  * time               (time) float64 5.085e+09 5.085e+09 ... 5.085e+09\n",
      "  * polarisation       (polarisation) <U2 'XX' 'XY' 'YX' 'YY'\n",
      "  * spatial            (spatial) float64 0.0 0.0 0.0\n",
      "Data variables:\n",
      "    visibility         (time, polarisation) complex128 0j 0j 0j 0j ... 0j 0j 0j\n",
      "    uvw                (time, spatial) float64 10.69 12.45 16.41 ... 31.07 74.17\n",
      "    uvwdist            (time) float64 16.41 17.23 18.05 ... 67.43 70.8 74.17\n",
      "    antenna1           (time) int64 0 0 0 0 0 0 0 ... 163 163 163 164 164 164\n",
      "    antenna2           (time) int64 1 1 1 2 2 2 3 ... 165 165 165 165 165 165\n",
      "    datetime           (time) datetime64[ns] 2020-01-01T17:30:36.436666595 ... 2020-01-02T00:59:22.717916630\n",
      "    weight             (time, polarisation) float64 1.0 1.0 1.0 ... 1.0 1.0 1.0\n",
      "    imaging_weight     (time, polarisation) float64 1.0 1.0 1.0 ... 1.0 1.0 1.0\n",
      "    flags              (time, polarisation) int64 0 0 0 0 0 0 0 ... 0 0 0 0 0 0\n",
      "    frequency          (time) float64 1e+08 1.05e+08 ... 1.05e+08 1.1e+08\n",
      "    channel_bandwidth  (time) float64 1e+07 1e+07 1e+07 ... 1e+07 1e+07 1e+07\n",
      "    integration_time   (time) float64 30.0 30.0 30.0 30.0 ... 30.0 30.0 30.0\n",
      "Attributes:\n",
      "    source:   unknown\n"
     ]
    }
   ],
   "source": [
    "print(xvis)"
   ]
  },
  {
   "cell_type": "markdown",
   "metadata": {
    "pycharm": {
     "name": "#%% md\n"
    }
   },
   "source": [
    "Take a slice in times and polarisation"
   ]
  },
  {
   "cell_type": "code",
   "execution_count": 6,
   "metadata": {
    "ExecuteTime": {
     "end_time": "2020-08-21T15:23:24.604499Z",
     "start_time": "2020-08-21T15:23:24.598677Z"
    },
    "pycharm": {
     "name": "#%%\n"
    }
   },
   "outputs": [
    {
     "name": "stdout",
     "output_type": "stream",
     "text": [
      "<xarray.DataArray 'visibility' (time: 10, polarisation: 1)>\n",
      "array([[0.+0.j],\n",
      "       [0.+0.j],\n",
      "       [0.+0.j],\n",
      "       [0.+0.j],\n",
      "       [0.+0.j],\n",
      "       [0.+0.j],\n",
      "       [0.+0.j],\n",
      "       [0.+0.j],\n",
      "       [0.+0.j],\n",
      "       [0.+0.j]])\n",
      "Coordinates:\n",
      "  * time          (time) float64 5.085e+09 5.085e+09 ... 5.085e+09 5.085e+09\n",
      "  * polarisation  (polarisation) <U2 'XX'\n"
     ]
    }
   ],
   "source": [
    "print(xvis.visibility[100:110, 0:1])"
   ]
  },
  {
   "cell_type": "markdown",
   "metadata": {},
   "source": [
    "By label"
   ]
  },
  {
   "cell_type": "code",
   "execution_count": 7,
   "metadata": {
    "ExecuteTime": {
     "end_time": "2020-08-21T15:23:24.706029Z",
     "start_time": "2020-08-21T15:23:24.606860Z"
    },
    "pycharm": {
     "name": "#%%\n"
    }
   },
   "outputs": [
    {
     "name": "stdout",
     "output_type": "stream",
     "text": [
      "<xarray.Dataset>\n",
      "Dimensions:            (polarisation: 2, spatial: 3, time: 657360)\n",
      "Coordinates:\n",
      "  * time               (time) float64 5.085e+09 5.085e+09 ... 5.085e+09\n",
      "  * polarisation       (polarisation) <U2 'XX' 'YY'\n",
      "  * spatial            (spatial) float64 0.0 0.0 0.0\n",
      "Data variables:\n",
      "    visibility         (time, polarisation) complex128 0j 0j 0j 0j ... 0j 0j 0j\n",
      "    uvw                (time, spatial) float64 10.69 12.45 16.41 ... 31.07 74.17\n",
      "    uvwdist            (time) float64 16.41 17.23 18.05 ... 67.43 70.8 74.17\n",
      "    antenna1           (time) int64 0 0 0 0 0 0 0 ... 163 163 163 164 164 164\n",
      "    antenna2           (time) int64 1 1 1 2 2 2 3 ... 165 165 165 165 165 165\n",
      "    datetime           (time) datetime64[ns] 2020-01-01T17:30:36.436666595 ... 2020-01-02T00:59:22.717916630\n",
      "    weight             (time, polarisation) float64 1.0 1.0 1.0 ... 1.0 1.0 1.0\n",
      "    imaging_weight     (time, polarisation) float64 1.0 1.0 1.0 ... 1.0 1.0 1.0\n",
      "    flags              (time, polarisation) int64 0 0 0 0 0 0 0 ... 0 0 0 0 0 0\n",
      "    frequency          (time) float64 1e+08 1.05e+08 ... 1.05e+08 1.1e+08\n",
      "    channel_bandwidth  (time) float64 1e+07 1e+07 1e+07 ... 1e+07 1e+07 1e+07\n",
      "    integration_time   (time) float64 30.0 30.0 30.0 30.0 ... 30.0 30.0 30.0\n",
      "Attributes:\n",
      "    source:   unknown\n"
     ]
    }
   ],
   "source": [
    "print(xvis.sel({\"polarisation\":[\"XX\", \"YY\"]}))"
   ]
  },
  {
   "cell_type": "markdown",
   "metadata": {
    "pycharm": {
     "name": "#%% md\n"
    }
   },
   "source": [
    "By antenna1. Note that where returns a Dataset with values masked."
   ]
  },
  {
   "cell_type": "code",
   "execution_count": 8,
   "metadata": {
    "ExecuteTime": {
     "end_time": "2020-08-21T15:23:24.930154Z",
     "start_time": "2020-08-21T15:23:24.710459Z"
    },
    "pycharm": {
     "name": "#%%\n"
    }
   },
   "outputs": [
    {
     "name": "stdout",
     "output_type": "stream",
     "text": [
      "<xarray.DataArray 'uvw' (time: 657360, spatial: 3)>\n",
      "array([[10.69008852, 12.4457611 , 16.40655241],\n",
      "       [11.22459295, 13.06804915, 17.22688003],\n",
      "       [11.75909738, 13.69033721, 18.04720765],\n",
      "       ...,\n",
      "       [        nan,         nan,         nan],\n",
      "       [        nan,         nan,         nan],\n",
      "       [        nan,         nan,         nan]])\n",
      "Coordinates:\n",
      "  * time     (time) float64 5.085e+09 5.085e+09 ... 5.085e+09 5.085e+09\n",
      "  * spatial  (spatial) float64 0.0 0.0 0.0\n"
     ]
    }
   ],
   "source": [
    "print(xvis.where(xvis.antenna1<10).uvw)"
   ]
  },
  {
   "cell_type": "markdown",
   "metadata": {},
   "source": [
    "By uvw distance"
   ]
  },
  {
   "cell_type": "code",
   "execution_count": 9,
   "metadata": {
    "ExecuteTime": {
     "end_time": "2020-08-21T15:23:25.123540Z",
     "start_time": "2020-08-21T15:23:24.933204Z"
    },
    "pycharm": {
     "name": "#%%\n"
    }
   },
   "outputs": [
    {
     "name": "stdout",
     "output_type": "stream",
     "text": [
      "<xarray.DataArray 'uvw' (time: 657360, spatial: 3)>\n",
      "array([[10.69008852, 12.4457611 , 16.40655241],\n",
      "       [11.22459295, 13.06804915, 17.22688003],\n",
      "       [11.75909738, 13.69033721, 18.04720765],\n",
      "       ...,\n",
      "       [        nan,         nan,         nan],\n",
      "       [        nan,         nan,         nan],\n",
      "       [        nan,         nan,         nan]])\n",
      "Coordinates:\n",
      "  * time     (time) float64 5.085e+09 5.085e+09 ... 5.085e+09 5.085e+09\n",
      "  * spatial  (spatial) float64 0.0 0.0 0.0\n"
     ]
    }
   ],
   "source": [
    "print(xvis.where(xvis.uvwdist<40.0).uvw)"
   ]
  },
  {
   "cell_type": "markdown",
   "metadata": {
    "pycharm": {
     "name": "#%% md\n"
    }
   },
   "source": [
    "By time"
   ]
  },
  {
   "cell_type": "code",
   "execution_count": 10,
   "metadata": {
    "ExecuteTime": {
     "end_time": "2020-08-21T15:23:25.279708Z",
     "start_time": "2020-08-21T15:23:25.125411Z"
    },
    "pycharm": {
     "name": "#%%\n"
    }
   },
   "outputs": [
    {
     "name": "stdout",
     "output_type": "stream",
     "text": [
      "<xarray.DataArray 'datetime' (time: 657360)>\n",
      "array([                          'NaT',                           'NaT',\n",
      "                                 'NaT', ...,\n",
      "       '2020-01-02T00:59:22.717916630', '2020-01-02T00:59:22.717916630',\n",
      "       '2020-01-02T00:59:22.717916630'], dtype='datetime64[ns]')\n",
      "Coordinates:\n",
      "  * time     (time) float64 5.085e+09 5.085e+09 ... 5.085e+09 5.085e+09\n"
     ]
    }
   ],
   "source": [
    "print(xvis.where(xvis.datetime>numpy.datetime64(\"2020-01-01T23:00:00\")).datetime)"
   ]
  },
  {
   "cell_type": "markdown",
   "metadata": {
    "pycharm": {
     "name": "#%% md\n"
    }
   },
   "source": [
    "Sorting: the visibility is constructed so that antenna1 varies least. Let's try a sort by antenna2."
   ]
  },
  {
   "cell_type": "code",
   "execution_count": 11,
   "metadata": {
    "ExecuteTime": {
     "end_time": "2020-08-21T15:23:25.639527Z",
     "start_time": "2020-08-21T15:23:25.281635Z"
    },
    "pycharm": {
     "name": "#%%\n"
    }
   },
   "outputs": [
    {
     "name": "stdout",
     "output_type": "stream",
     "text": [
      "<xarray.DataArray 'antenna2' (time: 657360)>\n",
      "array([  1,   1,   1, ..., 165, 165, 165])\n",
      "Coordinates:\n",
      "  * time     (time) float64 5.085e+09 5.085e+09 ... 5.085e+09 5.085e+09\n"
     ]
    }
   ],
   "source": [
    "print(xvis.sortby(\"antenna2\").antenna2)"
   ]
  },
  {
   "cell_type": "markdown",
   "metadata": {},
   "source": [
    "We can sort by uvwdist. Note that the sequence of antenna1 and antenna2 changes"
   ]
  },
  {
   "cell_type": "code",
   "execution_count": 12,
   "metadata": {
    "ExecuteTime": {
     "end_time": "2020-08-21T15:23:26.205648Z",
     "start_time": "2020-08-21T15:23:25.641563Z"
    },
    "pycharm": {
     "name": "#%%\n"
    }
   },
   "outputs": [
    {
     "name": "stdout",
     "output_type": "stream",
     "text": [
      "<xarray.Dataset>\n",
      "Dimensions:            (polarisation: 4, spatial: 3, time: 657360)\n",
      "Coordinates:\n",
      "  * time               (time) float64 5.085e+09 5.085e+09 ... 5.085e+09\n",
      "  * polarisation       (polarisation) <U2 'XX' 'XY' 'YX' 'YY'\n",
      "  * spatial            (spatial) float64 0.0 0.0 0.0\n",
      "Data variables:\n",
      "    visibility         (time, polarisation) complex128 0j 0j 0j 0j ... 0j 0j 0j\n",
      "    uvw                (time, spatial) float64 0.5026 -7.775 ... -16.03 290.2\n",
      "    uvwdist            (time) float64 7.791 7.845 7.85 ... 289.0 289.5 290.2\n",
      "    antenna1           (time) int64 45 41 45 65 2 62 ... 153 153 157 153 157 157\n",
      "    antenna2           (time) int64 62 45 62 85 5 80 ... 159 163 163 163 163 159\n",
      "    datetime           (time) datetime64[ns] 2020-01-01T17:30:36.436666595 ... 2020-01-02T00:59:22.717916630\n",
      "    weight             (time, polarisation) float64 1.0 1.0 1.0 ... 1.0 1.0 1.0\n",
      "    imaging_weight     (time, polarisation) float64 1.0 1.0 1.0 ... 1.0 1.0 1.0\n",
      "    flags              (time, polarisation) int64 0 0 0 0 0 0 0 ... 0 0 0 0 0 0\n",
      "    frequency          (time) float64 1e+08 1e+08 1e+08 ... 1.1e+08 1.1e+08\n",
      "    channel_bandwidth  (time) float64 1e+07 1e+07 1e+07 ... 1e+07 1e+07 1e+07\n",
      "    integration_time   (time) float64 30.0 30.0 30.0 30.0 ... 30.0 30.0 30.0\n",
      "Attributes:\n",
      "    source:   unknown\n"
     ]
    }
   ],
   "source": [
    "print(xvis.sortby('uvwdist'))"
   ]
  },
  {
   "cell_type": "markdown",
   "metadata": {},
   "source": [
    "Rebinning in one data coordinate - let's try bins in uvwdist. Only print out the uvwdist range and number of samples\n",
    "for each bin."
   ]
  },
  {
   "cell_type": "code",
   "execution_count": 13,
   "metadata": {
    "ExecuteTime": {
     "end_time": "2020-08-21T15:23:30.551651Z",
     "start_time": "2020-08-21T15:23:26.207834Z"
    },
    "pycharm": {
     "name": "#%%\n"
    }
   },
   "outputs": [
    {
     "name": "stdout",
     "output_type": "stream",
     "text": [
      "(7.509, 19.087] 17095\n",
      "(19.087, 30.384] 28203\n",
      "(30.384, 41.68] 39165\n",
      "(41.68, 52.976] 46858\n",
      "(52.976, 64.272] 52582\n",
      "(64.272, 75.568] 55662\n",
      "(75.568, 86.864] 56502\n",
      "(86.864, 98.16] 55611\n",
      "(98.16, 109.456] 52740\n",
      "(109.456, 120.752] 48051\n",
      "(120.752, 132.048] 42634\n",
      "(132.048, 143.344] 36774\n",
      "(143.344, 154.64] 30309\n",
      "(154.64, 165.936] 24541\n",
      "(165.936, 177.232] 19332\n",
      "(177.232, 188.528] 15286\n",
      "(188.528, 199.825] 11626\n",
      "(199.825, 211.121] 8735\n",
      "(211.121, 222.417] 6226\n",
      "(222.417, 233.713] 4339\n",
      "(233.713, 245.009] 2691\n",
      "(245.009, 256.305] 1482\n",
      "(256.305, 267.601] 639\n",
      "(267.601, 278.897] 233\n",
      "(278.897, 290.193] 44\n",
      "4.34 s ± 0 ns per loop (mean ± std. dev. of 1 run, 1 loop each)\n"
     ]
    }
   ],
   "source": [
    "%timeit -n 1 -r 1 for result in xvis.groupby_bins(\"uvwdist\", bins=25): print(result[0], result[1].dims['time'])\n"
   ]
  },
  {
   "cell_type": "markdown",
   "metadata": {
    "pycharm": {
     "name": "#%% md\n"
    }
   },
   "source": [
    "Although we declared antenna1 and antenna2 as DataArrays, we can still index by them. We first have to\n",
    "set them as index variables. The indexes attribute shows all the index variables allowed. antenna1, antenna2 are\n",
    "part of a MultiIndex called baseline."
   ]
  },
  {
   "cell_type": "code",
   "execution_count": 14,
   "metadata": {
    "ExecuteTime": {
     "end_time": "2020-08-21T15:23:30.604940Z",
     "start_time": "2020-08-21T15:23:30.553668Z"
    },
    "pycharm": {
     "name": "#%%\n"
    }
   },
   "outputs": [
    {
     "name": "stdout",
     "output_type": "stream",
     "text": [
      "time: Float64Index([5084616636.4366665, 5084616636.4366665, 5084616636.4366665,\n",
      "                    5084616636.4366665, 5084616636.4366665, 5084616636.4366665,\n",
      "                    5084616636.4366665, 5084616636.4366665, 5084616636.4366665,\n",
      "                    5084616636.4366665,\n",
      "                    ...\n",
      "                    5084643562.7179165, 5084643562.7179165, 5084643562.7179165,\n",
      "                    5084643562.7179165, 5084643562.7179165, 5084643562.7179165,\n",
      "                    5084643562.7179165, 5084643562.7179165, 5084643562.7179165,\n",
      "                    5084643562.7179165],\n",
      "                   dtype='float64', name='time', length=657360)\n",
      "polarisation: Index(['XX', 'XY', 'YX', 'YY'], dtype='object', name='polarisation')\n",
      "spatial: Float64Index([0.0, 0.0, 0.0], dtype='float64', name='spatial')\n",
      "baseline: MultiIndex([(  0,   1),\n",
      "                      (  0,   1),\n",
      "                      (  0,   1),\n",
      "                      (  0,   2),\n",
      "                      (  0,   2),\n",
      "                      (  0,   2),\n",
      "                      (  0,   3),\n",
      "                      (  0,   3),\n",
      "                      (  0,   3),\n",
      "                      (  0,   4),\n",
      "                      ...\n",
      "                      (162, 165),\n",
      "                      (163, 164),\n",
      "                      (163, 164),\n",
      "                      (163, 164),\n",
      "                      (163, 165),\n",
      "                      (163, 165),\n",
      "                      (163, 165),\n",
      "                      (164, 165),\n",
      "                      (164, 165),\n",
      "                      (164, 165)],\n",
      "                     names=['antenna1', 'antenna2'], length=657360)\n"
     ]
    }
   ],
   "source": [
    "xvis_antenna_selected=xvis\n",
    "xvis_antenna_selected=xvis_antenna_selected.set_index(baseline=(\"antenna1\", \"antenna2\"))\n",
    "print(xvis_antenna_selected.indexes)"
   ]
  },
  {
   "cell_type": "markdown",
   "metadata": {},
   "source": [
    "We can see that antenna1, antenna2 are part of a pandas.MultiIndex called baseline. So our selection is\n",
    "via a tuple containing range for antenna1 and antenna2. We can specify that coordinate elements that are fully\n",
    "flagged are to be dropped."
   ]
  },
  {
   "cell_type": "code",
   "execution_count": 15,
   "metadata": {
    "ExecuteTime": {
     "end_time": "2020-08-21T15:23:30.634541Z",
     "start_time": "2020-08-21T15:23:30.607094Z"
    },
    "pycharm": {
     "name": "#%%\n"
    }
   },
   "outputs": [
    {
     "name": "stdout",
     "output_type": "stream",
     "text": [
      "<xarray.Dataset>\n",
      "Dimensions:            (baseline: 288, polarisation: 4, spatial: 3, time: 657360)\n",
      "Coordinates:\n",
      "  * time               (time) float64 5.085e+09 5.085e+09 ... 5.085e+09\n",
      "  * polarisation       (polarisation) <U2 'XX' 'XY' 'YX' 'YY'\n",
      "  * spatial            (spatial) float64 0.0 0.0 0.0\n",
      "  * baseline           (baseline) MultiIndex\n",
      "  - antenna1           (baseline) int64 1 1 1 1 1 1 1 1 1 ... 2 2 2 2 2 2 2 2 2\n",
      "  - antenna2           (baseline) int64 6 6 6 6 6 6 6 6 6 ... 8 8 8 8 8 8 8 8 8\n",
      "Data variables:\n",
      "    visibility         (time, polarisation) complex128 0j 0j 0j 0j ... 0j 0j 0j\n",
      "    uvw                (time, spatial) float64 10.69 12.45 16.41 ... 31.07 74.17\n",
      "    uvwdist            (time) float64 16.41 17.23 18.05 ... 67.43 70.8 74.17\n",
      "    datetime           (time) datetime64[ns] 2020-01-01T17:30:36.436666595 ... 2020-01-02T00:59:22.717916630\n",
      "    weight             (time, polarisation) float64 1.0 1.0 1.0 ... 1.0 1.0 1.0\n",
      "    imaging_weight     (time, polarisation) float64 1.0 1.0 1.0 ... 1.0 1.0 1.0\n",
      "    flags              (time, polarisation) int64 0 0 0 0 0 0 0 ... 0 0 0 0 0 0\n",
      "    frequency          (time) float64 1e+08 1.05e+08 ... 1.05e+08 1.1e+08\n",
      "    channel_bandwidth  (time) float64 1e+07 1e+07 1e+07 ... 1e+07 1e+07 1e+07\n",
      "    integration_time   (time) float64 30.0 30.0 30.0 30.0 ... 30.0 30.0 30.0\n",
      "Attributes:\n",
      "    source:   unknown\n"
     ]
    }
   ],
   "source": [
    "print(xvis_antenna_selected.sel(baseline=([1, 2], [6,7,8]), drop=True))"
   ]
  },
  {
   "cell_type": "markdown",
   "metadata": {
    "pycharm": {
     "name": "#%% md\n"
    }
   },
   "source": [
    "We can sort by the MultiIndex baseline"
   ]
  },
  {
   "cell_type": "code",
   "execution_count": 16,
   "metadata": {
    "ExecuteTime": {
     "end_time": "2020-08-21T15:23:31.447752Z",
     "start_time": "2020-08-21T15:23:30.636512Z"
    },
    "pycharm": {
     "name": "#%%\n"
    }
   },
   "outputs": [
    {
     "name": "stdout",
     "output_type": "stream",
     "text": [
      "<xarray.Dataset>\n",
      "Dimensions:            (baseline: 657360, polarisation: 4, spatial: 3, time: 657360)\n",
      "Coordinates:\n",
      "  * time               (time) float64 5.085e+09 5.085e+09 ... 5.085e+09\n",
      "  * polarisation       (polarisation) <U2 'XX' 'XY' 'YX' 'YY'\n",
      "  * spatial            (spatial) float64 0.0 0.0 0.0\n",
      "  * baseline           (baseline) MultiIndex\n",
      "  - antenna1           (baseline) int64 164 164 164 164 164 164 ... 0 0 0 0 0 0\n",
      "  - antenna2           (baseline) int64 165 165 165 165 165 165 ... 1 1 1 1 1 1\n",
      "Data variables:\n",
      "    visibility         (time, polarisation) complex128 0j 0j 0j 0j ... 0j 0j 0j\n",
      "    uvw                (time, spatial) float64 67.35 31.07 74.17 ... 12.45 16.41\n",
      "    uvwdist            (time) float64 74.17 70.8 67.43 ... 18.05 17.23 16.41\n",
      "    datetime           (time) datetime64[ns] 2020-01-02T00:59:22.717916630 ... 2020-01-01T17:30:36.436666595\n",
      "    weight             (time, polarisation) float64 1.0 1.0 1.0 ... 1.0 1.0 1.0\n",
      "    imaging_weight     (time, polarisation) float64 1.0 1.0 1.0 ... 1.0 1.0 1.0\n",
      "    flags              (time, polarisation) int64 0 0 0 0 0 0 0 ... 0 0 0 0 0 0\n",
      "    frequency          (time) float64 1.1e+08 1.05e+08 1e+08 ... 1.05e+08 1e+08\n",
      "    channel_bandwidth  (time) float64 1e+07 1e+07 1e+07 ... 1e+07 1e+07 1e+07\n",
      "    integration_time   (time) float64 30.0 30.0 30.0 30.0 ... 30.0 30.0 30.0\n",
      "Attributes:\n",
      "    source:   unknown\n"
     ]
    }
   ],
   "source": [
    "print(xvis_antenna_selected.sortby(['baseline', 'time'], ascending=False))"
   ]
  }
 ],
 "metadata": {
  "kernelspec": {
   "display_name": "PyCharm (rascil)",
   "language": "python",
   "name": "pycharm-38e65408"
  },
  "language_info": {
   "codemirror_mode": {
    "name": "ipython",
    "version": 3
   },
   "file_extension": ".py",
   "mimetype": "text/x-python",
   "name": "python",
   "nbconvert_exporter": "python",
   "pygments_lexer": "ipython3",
   "version": "3.7.8"
  }
 },
 "nbformat": 4,
 "nbformat_minor": 1
}
