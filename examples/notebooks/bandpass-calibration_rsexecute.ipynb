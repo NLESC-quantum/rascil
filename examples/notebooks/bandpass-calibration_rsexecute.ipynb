{
 "cells": [
  {
   "cell_type": "markdown",
   "metadata": {},
   "source": [
    "# Bandpass calibration demonstration"
   ]
  },
  {
   "cell_type": "code",
   "execution_count": null,
   "metadata": {
    "ExecuteTime": {
     "end_time": "2018-01-29T15:20:01.173498Z",
     "start_time": "2018-01-29T15:19:59.645764Z"
    },
    "pycharm": {
     "is_executing": false
    }
   },
   "outputs": [],
   "source": [
    "%matplotlib inline\n",
    "\n",
    "import os\n",
    "import sys\n",
    "\n",
    "sys.path.append(os.path.join('..', '..'))\n",
    "\n",
    "from rascil.data_models.parameters import rascil_path\n",
    "\n",
    "results_dir = rascil_path('test_results')\n",
    "\n",
    "from matplotlib import pylab\n",
    "\n",
    "import numpy\n",
    "\n",
    "from astropy.coordinates import SkyCoord\n",
    "from astropy import units as u\n",
    "\n",
    "from matplotlib import pyplot as plt\n",
    "\n",
    "from rascil.data_models import PolarisationFrame\n",
    "\n",
    "from rascil.processing_components import create_blockvisibility, apply_gaintable, copy_visibility,\\\n",
    "    solve_gaintable, convert_blockvisibility_to_visibility, convert_visibility_to_blockvisibility, \\\n",
    "    create_gaintable_from_blockvisibility, show_image, create_test_image, simulate_gaintable, \\\n",
    "    create_named_configuration\n",
    "\n",
    "from rascil.workflows import predict_list_serial_workflow\n",
    "\n",
    "pylab.rcParams['figure.figsize'] = (8.0, 8.0)\n",
    "pylab.rcParams['image.cmap'] = 'rainbow'\n",
    "\n",
    "import logging\n",
    "\n",
    "log = logging.getLogger()\n",
    "log.setLevel(logging.DEBUG)\n",
    "log.addHandler(logging.StreamHandler(sys.stdout))\n",
    "\n",
    "mpl_logger = logging.getLogger(\"matplotlib\") \n",
    "mpl_logger.setLevel(logging.WARNING) \n"
   ]
  },
  {
   "cell_type": "markdown",
   "metadata": {},
   "source": [
    "Construct LOW core configuration"
   ]
  },
  {
   "cell_type": "code",
   "execution_count": null,
   "metadata": {
    "ExecuteTime": {
     "end_time": "2018-01-29T15:20:01.213986Z",
     "start_time": "2018-01-29T15:20:01.175405Z"
    },
    "pycharm": {
     "is_executing": false
    }
   },
   "outputs": [],
   "source": [
    "lowcore = create_named_configuration('LOWBD2-CORE')"
   ]
  },
  {
   "cell_type": "markdown",
   "metadata": {},
   "source": [
    "We create the visibility. This just makes the uvw, time, antenna1, antenna2, weight columns in a table"
   ]
  },
  {
   "cell_type": "code",
   "execution_count": null,
   "metadata": {
    "ExecuteTime": {
     "end_time": "2018-01-29T15:20:01.417706Z",
     "start_time": "2018-01-29T15:20:01.215726Z"
    },
    "pycharm": {
     "is_executing": false
    }
   },
   "outputs": [],
   "source": [
    "times = numpy.zeros([1])\n",
    "vnchan = 128\n",
    "frequency = numpy.linspace(0.8e8, 1.2e8, vnchan)\n",
    "channel_bandwidth = numpy.array(vnchan*[frequency[1]-frequency[0]])\n",
    "phasecentre = SkyCoord(ra=+15.0 * u.deg, dec=-45.0 * u.deg, frame='icrs', equinox='J2000')\n",
    "bvt = create_blockvisibility(lowcore, times, frequency, channel_bandwidth=channel_bandwidth,\n",
    "                       weight=1.0, phasecentre=phasecentre, polarisation_frame=PolarisationFrame('stokesI'))"
   ]
  },
  {
   "cell_type": "markdown",
   "metadata": {},
   "source": [
    "Read the venerable test image, constructing an image"
   ]
  },
  {
   "cell_type": "code",
   "execution_count": null,
   "metadata": {
    "ExecuteTime": {
     "end_time": "2018-01-29T15:20:01.957848Z",
     "start_time": "2018-01-29T15:20:01.420434Z"
    },
    "pycharm": {
     "is_executing": false
    },
    "scrolled": false
   },
   "outputs": [],
   "source": [
    "m31image = create_test_image(frequency=frequency, cellsize=0.0005)\n",
    "nchan, npol, ny, nx = m31image.data.shape\n",
    "m31image.wcs.wcs.crval[0] = bvt.phasecentre.ra.deg\n",
    "m31image.wcs.wcs.crval[1] = bvt.phasecentre.dec.deg\n",
    "m31image.wcs.wcs.crpix[0] = float(nx // 2)\n",
    "m31image.wcs.wcs.crpix[1] = float(ny // 2)\n",
    "\n",
    "fig=show_image(m31image)"
   ]
  },
  {
   "cell_type": "markdown",
   "metadata": {},
   "source": [
    "Predict the visibility from this image"
   ]
  },
  {
   "cell_type": "code",
   "execution_count": null,
   "metadata": {
    "ExecuteTime": {
     "end_time": "2018-01-29T15:23:40.983508Z",
     "start_time": "2018-01-29T15:20:01.959832Z"
    },
    "pycharm": {
     "is_executing": false
    },
    "scrolled": false
   },
   "outputs": [],
   "source": [
    "vt = convert_blockvisibility_to_visibility(bvt)\n",
    "vt = predict_list_serial_workflow([vt], [m31image], context='timeslice')[0]\n",
    "bvt = convert_visibility_to_blockvisibility(vt)"
   ]
  },
  {
   "cell_type": "markdown",
   "metadata": {},
   "source": [
    "Create a gain table with modest amplitude and phase errors, smootheed over 16 channels"
   ]
  },
  {
   "cell_type": "code",
   "execution_count": null,
   "metadata": {
    "ExecuteTime": {
     "end_time": "2018-01-29T15:23:41.010485Z",
     "start_time": "2018-01-29T15:23:40.987333Z"
    },
    "pycharm": {
     "is_executing": false
    }
   },
   "outputs": [],
   "source": [
    "gt = create_gaintable_from_blockvisibility(bvt)\n",
    "gt = simulate_gaintable(gt, phase_error=1.0, amplitude_error=0.1, smooth_channels=16)"
   ]
  },
  {
   "cell_type": "markdown",
   "metadata": {},
   "source": [
    "Plot the gains applied"
   ]
  },
  {
   "cell_type": "code",
   "execution_count": null,
   "metadata": {
    "ExecuteTime": {
     "end_time": "2018-01-29T15:23:41.525735Z",
     "start_time": "2018-01-29T15:23:41.013018Z"
    },
    "scrolled": false,
    "pycharm": {
     "is_executing": false
    }
   },
   "outputs": [],
   "source": [
    "plt.clf()\n",
    "for ant in range(4):\n",
    "    amp = numpy.abs(gt.gain[0,ant,:,0,0])\n",
    "    plt.plot(amp)\n",
    "plt.title('Amplitude of bandpass')\n",
    "plt.xlabel('channel')\n",
    "plt.show()\n",
    "\n",
    "plt.clf()\n",
    "for ant in range(4):\n",
    "    phase = numpy.angle(gt.gain[0,ant,:,0,0])\n",
    "    plt.plot(phase)\n",
    "plt.title('Phase of bandpass')\n",
    "plt.xlabel('channel')\n",
    "plt.show()\n",
    "\n"
   ]
  },
  {
   "cell_type": "code",
   "execution_count": null,
   "metadata": {
    "ExecuteTime": {
     "end_time": "2018-01-29T15:24:18.098508Z",
     "start_time": "2018-01-29T15:23:41.527985Z"
    },
    "pycharm": {
     "is_executing": false
    }
   },
   "outputs": [],
   "source": [
    "cbvt = copy_visibility(bvt)\n",
    "cbvt = apply_gaintable(cbvt, gt)"
   ]
  },
  {
   "cell_type": "markdown",
   "metadata": {},
   "source": [
    "Solve for the gains"
   ]
  },
  {
   "cell_type": "code",
   "execution_count": null,
   "metadata": {
    "ExecuteTime": {
     "end_time": "2018-01-29T15:25:03.067764Z",
     "start_time": "2018-01-29T15:24:18.100795Z"
    },
    "pycharm": {
     "is_executing": false
    }
   },
   "outputs": [],
   "source": [
    "gtsol=solve_gaintable(cbvt, bvt, phase_only=False)"
   ]
  },
  {
   "cell_type": "markdown",
   "metadata": {
    "ExecuteTime": {
     "end_time": "2018-01-29T15:13:36.614548Z",
     "start_time": "2018-01-29T15:13:36.598522Z"
    }
   },
   "source": [
    "Plot the solved relative to the applied. Declare antenna 0 to be the reference."
   ]
  },
  {
   "cell_type": "code",
   "execution_count": null,
   "metadata": {
    "ExecuteTime": {
     "end_time": "2018-01-29T15:25:03.606231Z",
     "start_time": "2018-01-29T15:25:03.070026Z"
    },
    "pycharm": {
     "is_executing": false
    }
   },
   "outputs": [],
   "source": [
    "plt.clf()\n",
    "for ant in range(4):\n",
    "    amp = numpy.abs(gtsol.gain[0,ant,:,0,0]/gt.gain[0,ant,:,0,0])\n",
    "    plt.plot(amp)\n",
    "plt.title('Relative amplitude of bandpass')\n",
    "plt.xlabel('channel')\n",
    "plt.show()\n",
    "\n",
    "plt.clf()\n",
    "for ant in range(4):\n",
    "    refphase = numpy.angle(gtsol.gain[0,0,:,0,0]/gt.gain[0,0,:,0,0])\n",
    "    phase = numpy.angle(gtsol.gain[0,ant,:,0,0]/gt.gain[0,ant,:,0,0])\n",
    "    plt.plot(phase-refphase)\n",
    "plt.title('Relative phase of bandpass')\n",
    "plt.xlabel('channel')\n",
    "plt.show()"
   ]
  }
 ],
 "metadata": {
  "kernelspec": {
   "display_name": "Python 3",
   "language": "python",
   "name": "python3"
  },
  "language_info": {
   "codemirror_mode": {
    "name": "ipython",
    "version": 3
   },
   "file_extension": ".py",
   "mimetype": "text/x-python",
   "name": "python",
   "nbconvert_exporter": "python",
   "pygments_lexer": "ipython3",
   "version": "3.7.3"
  },
  "pycharm": {
   "stem_cell": {
    "cell_type": "raw",
    "source": [],
    "metadata": {
     "collapsed": false
    }
   }
  }
 },
 "nbformat": 4,
 "nbformat_minor": 2
}