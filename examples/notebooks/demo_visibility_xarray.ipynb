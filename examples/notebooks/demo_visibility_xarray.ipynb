{
 "cells": [
  {
   "cell_type": "markdown",
   "metadata": {
    "collapsed": true,
    "pycharm": {
     "name": "#%% md\n"
    }
   },
   "source": [
    "Demo visibility xarray format"
   ]
  },
  {
   "cell_type": "code",
   "execution_count": 1,
   "outputs": [],
   "source": [
    "import astropy.units as u\n",
    "import numpy\n",
    "from astropy.coordinates import SkyCoord\n",
    "\n",
    "from rascil.data_models import PolarisationFrame\n",
    "from rascil.processing_components.simulation import create_named_configuration\n",
    "from rascil.processing_components.visibility.base import create_blockvisibility"
   ],
   "metadata": {
    "collapsed": false,
    "pycharm": {
     "name": "#%%\n"
    }
   }
  },
  {
   "cell_type": "markdown",
   "source": [
    "Set up a test visibility set"
   ],
   "metadata": {
    "collapsed": false,
    "pycharm": {
     "name": "#%% md\n"
    }
   }
  },
  {
   "cell_type": "code",
   "source": [
    "lowcore = create_named_configuration('LOWBD2-CORE', rmax=1000)\n",
    "times = (numpy.pi / 43200.0) * numpy.arange(-4 * 3600, +4 * 3600.0, 1800)\n",
    "frequency = numpy.linspace(1.0e8, 1.1e8, 5)\n",
    "channel_bandwidth = numpy.array([1e7, 1e7, 1e7, 1e7, 1e7])\n",
    "# Define the component and give it some spectral behaviour\n",
    "f = numpy.array([100.0, 20.0, -10.0, 1.0])\n",
    "flux = numpy.array([f, 0.8 * f, 0.6 * f, 0.4 * f, 0.2 * f])\n",
    "phasecentre = SkyCoord(ra=+180.0 * u.deg, dec=-35.0 * u.deg, frame='icrs',\n",
    "                       equinox='J2000')\n",
    "xvis = create_blockvisibility(lowcore, times, frequency,\n",
    "                                  channel_bandwidth=channel_bandwidth,\n",
    "                                  phasecentre=phasecentre,\n",
    "                                  integration_time=1800.0,\n",
    "                                  polarisation_frame=PolarisationFrame(\"linear\"),\n",
    "                                  weight=1.0)"
   ],
   "metadata": {
    "collapsed": false,
    "pycharm": {
     "name": "#%%\n"
    }
   },
   "execution_count": 2,
   "outputs": []
  },
  {
   "cell_type": "code",
   "execution_count": 3,
   "outputs": [],
   "source": [
    "assert xvis.vis.shape == (16, 13695, 5, 4), xvis.vis.shape\n",
    "assert xvis.data[\"uvw\"].shape == (16, 13695, 3), xvis[\"uvw\"].shape\n",
    "assert xvis.data[\"uvw_lambda\"].shape == (16, 13695, 5, 3), xvis.data[\"uvw_lambda\"].shape"
   ],
   "metadata": {
    "collapsed": false,
    "pycharm": {
     "name": "#%%\n"
    }
   }
  },
  {
   "cell_type": "markdown",
   "source": [
    "Initial xvis"
   ],
   "metadata": {
    "collapsed": false,
    "pycharm": {
     "name": "#%% md\n"
    }
   }
  },
  {
   "cell_type": "code",
   "execution_count": 4,
   "outputs": [
    {
     "name": "stdout",
     "output_type": "stream",
     "text": [
      "BlockVisibility:\n",
      "\tSource unknown\n",
      "\tPhasecentre: <SkyCoord (ICRS): (ra, dec) in deg\n",
      "    (180., -35.)>\n",
      "\tNumber of visibility blocks: 4382400\n",
      "\tNumber of integrations: 16\n",
      "\tVisibility shape: (16, 13695, 5, 4)\n",
      "\tNumber of flags: <xarray.DataArray 'flags' ()>\n",
      "array(4382400)\n",
      "\tNumber of channels: 5\n",
      "\tFrequency: <xarray.DataArray 'frequency' (frequency: 5)>\n",
      "array([1.000e+08, 1.025e+08, 1.050e+08, 1.075e+08, 1.100e+08])\n",
      "Coordinates:\n",
      "  * frequency  (frequency) float64 1e+08 1.025e+08 1.05e+08 1.075e+08 1.1e+08\n",
      "\tChannel bandwidth: <xarray.DataArray 'channel_bandwidth' (frequency: 5)>\n",
      "array([10000000., 10000000., 10000000., 10000000., 10000000.])\n",
      "Coordinates:\n",
      "  * frequency  (frequency) float64 1e+08 1.025e+08 1.05e+08 1.075e+08 1.1e+08\n",
      "\tNumber of polarisations: 4\n",
      "\tPolarisation Frame: linear\n",
      "\tConfiguration: LOWBD2-CORE\n",
      "\tMetadata: None\n",
      "\n"
     ]
    }
   ],
   "source": [
    "print(xvis)"
   ],
   "metadata": {
    "collapsed": false,
    "pycharm": {
     "name": "#%%\n"
    }
   }
  },
  {
   "cell_type": "markdown",
   "source": [
    "Selection of the Dataset by polarisation"
   ],
   "metadata": {
    "collapsed": false,
    "pycharm": {
     "name": "#%% md\n"
    }
   }
  },
  {
   "cell_type": "code",
   "execution_count": 5,
   "outputs": [
    {
     "name": "stdout",
     "output_type": "stream",
     "text": [
      "<xarray.Dataset>\n",
      "Dimensions:            (baseline: 13695, frequency: 5, polarisation: 2, time: 16, uvw_index: 3)\n",
      "Coordinates:\n",
      "  * time               (time) float64 5.085e+09 5.085e+09 ... 5.085e+09\n",
      "  * baseline           (baseline) MultiIndex\n",
      "  - antenna1           (baseline) int64 1 2 2 3 3 3 ... 165 165 165 165 165 165\n",
      "  - antenna2           (baseline) int64 0 0 1 0 1 2 ... 159 160 161 162 163 164\n",
      "  * frequency          (frequency) float64 1e+08 1.025e+08 ... 1.075e+08 1.1e+08\n",
      "  * polarisation       (polarisation) <U2 'XY' 'YX'\n",
      "  * uvw_index          (uvw_index) <U1 'u' 'v' 'w'\n",
      "Data variables:\n",
      "    vis                (time, baseline, frequency, polarisation) complex128 0...\n",
      "    weight             (time, baseline, frequency, polarisation) float64 1.0 ...\n",
      "    imaging_weight     (time, baseline, frequency, polarisation) float64 1.0 ...\n",
      "    flags              (time, baseline, frequency, polarisation) int64 1 1 ... 1\n",
      "    uvw                (time, baseline, uvw_index) float64 -32.05 ... -120.9\n",
      "    uvw_lambda         (time, baseline, frequency, uvw_index) float64 -10.69 ...\n",
      "    channel_bandwidth  (frequency) float64 1e+07 1e+07 1e+07 1e+07 1e+07\n",
      "    integration_time   (time) float64 1.795e+03 1.795e+03 ... 1.795e+03\n",
      "    datetime           (time) datetime64[ns] 2020-01-01T17:30:36.783709447 .....\n"
     ]
    }
   ],
   "source": [
    "print(xvis.data.sel({\"polarisation\": [\"XY\", \"YX\"]}))\n"
   ],
   "metadata": {
    "collapsed": false,
    "pycharm": {
     "name": "#%%\n"
    }
   }
  },
  {
   "cell_type": "markdown",
   "source": [
    "Selection of the Dataset by frequency"
   ],
   "metadata": {
    "collapsed": false,
    "pycharm": {
     "name": "#%% md\n"
    }
   }
  },
  {
   "cell_type": "code",
   "execution_count": 6,
   "outputs": [
    {
     "name": "stdout",
     "output_type": "stream",
     "text": [
      "<xarray.Dataset>\n",
      "Dimensions:            (baseline: 13695, frequency: 2, polarisation: 4, time: 16, uvw_index: 3)\n",
      "Coordinates:\n",
      "  * time               (time) float64 5.085e+09 5.085e+09 ... 5.085e+09\n",
      "  * baseline           (baseline) MultiIndex\n",
      "  - antenna1           (baseline) int64 1 2 2 3 3 3 ... 165 165 165 165 165 165\n",
      "  - antenna2           (baseline) int64 0 0 1 0 1 2 ... 159 160 161 162 163 164\n",
      "  * frequency          (frequency) float64 1e+08 1.1e+08\n",
      "  * polarisation       (polarisation) <U2 'XX' 'XY' 'YX' 'YY'\n",
      "  * uvw_index          (uvw_index) <U1 'u' 'v' 'w'\n",
      "Data variables:\n",
      "    vis                (time, baseline, frequency, polarisation) complex128 0...\n",
      "    weight             (time, baseline, frequency, polarisation) float64 1.0 ...\n",
      "    imaging_weight     (time, baseline, frequency, polarisation) float64 1.0 ...\n",
      "    flags              (time, baseline, frequency, polarisation) int64 1 1 ... 1\n",
      "    uvw                (time, baseline, uvw_index) float64 -32.05 ... -120.9\n",
      "    uvw_lambda         (time, baseline, frequency, uvw_index) float64 -10.69 ...\n",
      "    channel_bandwidth  (frequency) float64 1e+07 1e+07\n",
      "    integration_time   (time) float64 1.795e+03 1.795e+03 ... 1.795e+03\n",
      "    datetime           (time) datetime64[ns] 2020-01-01T17:30:36.783709447 .....\n"
     ]
    }
   ],
   "source": [
    "print(xvis.data.sel({\"frequency\": [1.0e8, 1.1e8]}))\n"
   ],
   "metadata": {
    "collapsed": false,
    "pycharm": {
     "name": "#%%\n"
    }
   }
  },
  {
   "cell_type": "markdown",
   "source": [
    "sel antenna1 yields smaller XVisibility"
   ],
   "metadata": {
    "collapsed": false,
    "pycharm": {
     "name": "#%% md\n"
    }
   }
  },
  {
   "cell_type": "code",
   "source": [
    "print(xvis.data.sel(indexers={\"antenna1\":10}, drop=False))"
   ],
   "metadata": {
    "collapsed": false,
    "pycharm": {
     "name": "#%%\n"
    }
   },
   "execution_count": 7,
   "outputs": [
    {
     "name": "stdout",
     "output_type": "stream",
     "text": [
      "<xarray.Dataset>\n",
      "Dimensions:            (antenna2: 10, frequency: 5, polarisation: 4, time: 16, uvw_index: 3)\n",
      "Coordinates:\n",
      "  * time               (time) float64 5.085e+09 5.085e+09 ... 5.085e+09\n",
      "  * antenna2           (antenna2) int64 0 1 2 3 4 5 6 7 8 9\n",
      "  * frequency          (frequency) float64 1e+08 1.025e+08 ... 1.075e+08 1.1e+08\n",
      "  * polarisation       (polarisation) <U2 'XX' 'XY' 'YX' 'YY'\n",
      "  * uvw_index          (uvw_index) <U1 'u' 'v' 'w'\n",
      "Data variables:\n",
      "    vis                (time, antenna2, frequency, polarisation) complex128 0...\n",
      "    weight             (time, antenna2, frequency, polarisation) float64 1.0 ...\n",
      "    imaging_weight     (time, antenna2, frequency, polarisation) float64 1.0 ...\n",
      "    flags              (time, antenna2, frequency, polarisation) int64 1 1 ... 1\n",
      "    uvw                (time, antenna2, uvw_index) float64 -81.51 ... 32.93\n",
      "    uvw_lambda         (time, antenna2, frequency, uvw_index) float64 -27.19 ...\n",
      "    channel_bandwidth  (frequency) float64 1e+07 1e+07 1e+07 1e+07 1e+07\n",
      "    integration_time   (time) float64 1.795e+03 1.795e+03 ... 1.795e+03\n",
      "    datetime           (time) datetime64[ns] 2020-01-01T17:30:36.783709447 .....\n"
     ]
    }
   ]
  },
  {
   "cell_type": "markdown",
   "source": [
    "where antenna1 yields masked arrays"
   ],
   "metadata": {
    "collapsed": false,
    "pycharm": {
     "name": "#%% md\n"
    }
   }
  },
  {
   "cell_type": "code",
   "execution_count": 8,
   "outputs": [
    {
     "name": "stdout",
     "output_type": "stream",
     "text": [
      "<xarray.Dataset>\n",
      "Dimensions:            (baseline: 13695, frequency: 5, polarisation: 4, time: 16, uvw_index: 3)\n",
      "Coordinates:\n",
      "  * time               (time) float64 5.085e+09 5.085e+09 ... 5.085e+09\n",
      "  * baseline           (baseline) MultiIndex\n",
      "  - antenna1           (baseline) int64 1 2 2 3 3 3 ... 165 165 165 165 165 165\n",
      "  - antenna2           (baseline) int64 0 0 1 0 1 2 ... 159 160 161 162 163 164\n",
      "  * frequency          (frequency) float64 1e+08 1.025e+08 ... 1.075e+08 1.1e+08\n",
      "  * polarisation       (polarisation) <U2 'XX' 'XY' 'YX' 'YY'\n",
      "  * uvw_index          (uvw_index) <U1 'u' 'v' 'w'\n",
      "Data variables:\n",
      "    vis                (time, baseline, frequency, polarisation) complex128 (...\n",
      "    weight             (time, baseline, frequency, polarisation) float64 nan ...\n",
      "    imaging_weight     (time, baseline, frequency, polarisation) float64 nan ...\n",
      "    flags              (time, baseline, frequency, polarisation) float64 nan ...\n",
      "    uvw                (time, baseline, uvw_index) float64 nan nan ... nan nan\n",
      "    uvw_lambda         (time, baseline, frequency, uvw_index) float64 nan ......\n",
      "    channel_bandwidth  (frequency, baseline) float64 nan nan nan ... nan nan nan\n",
      "    integration_time   (time, baseline) float64 nan nan nan nan ... nan nan nan\n",
      "    datetime           (time, baseline) datetime64[ns] NaT NaT NaT ... NaT NaT\n"
     ]
    }
   ],
   "source": [
    "print(xvis.data.where(xvis.data[\"antenna1\"] == 10))"
   ],
   "metadata": {
    "collapsed": false,
    "pycharm": {
     "name": "#%%\n"
    }
   }
  },
  {
   "cell_type": "markdown",
   "source": [
    "By uvdist yields masked arrays"
   ],
   "metadata": {
    "collapsed": false,
    "pycharm": {
     "name": "#%% md\n"
    }
   }
  },
  {
   "cell_type": "code",
   "execution_count": 9,
   "outputs": [
    {
     "name": "stdout",
     "output_type": "stream",
     "text": [
      "<xarray.Dataset>\n",
      "Dimensions:            (baseline: 13695, frequency: 5, polarisation: 4, time: 16, uvw_index: 3)\n",
      "Coordinates:\n",
      "  * time               (time) float64 5.085e+09 5.085e+09 ... 5.085e+09\n",
      "  * baseline           (baseline) MultiIndex\n",
      "  - antenna1           (baseline) int64 1 2 2 3 3 3 ... 165 165 165 165 165 165\n",
      "  - antenna2           (baseline) int64 0 0 1 0 1 2 ... 159 160 161 162 163 164\n",
      "  * frequency          (frequency) float64 1e+08 1.025e+08 ... 1.075e+08 1.1e+08\n",
      "  * polarisation       (polarisation) <U2 'XX' 'XY' 'YX' 'YY'\n",
      "  * uvw_index          (uvw_index) <U1 'u' 'v' 'w'\n",
      "Data variables:\n",
      "    vis                (time, baseline, frequency, polarisation) complex128 (...\n",
      "    weight             (time, baseline, frequency, polarisation) float64 nan ...\n",
      "    imaging_weight     (time, baseline, frequency, polarisation) float64 nan ...\n",
      "    flags              (time, baseline, frequency, polarisation) float64 nan ...\n",
      "    uvw                (time, baseline, uvw_index) float64 nan nan ... nan nan\n",
      "    uvw_lambda         (time, baseline, frequency, uvw_index) float64 nan ......\n",
      "    channel_bandwidth  (frequency, time, baseline) float64 nan nan ... nan nan\n",
      "    integration_time   (time, baseline) float64 nan nan nan nan ... nan nan nan\n",
      "    datetime           (time, baseline) datetime64[ns] NaT NaT NaT ... NaT NaT\n"
     ]
    }
   ],
   "source": [
    "print(xvis.data.where(xvis.uvdist < 40.0))"
   ],
   "metadata": {
    "collapsed": false,
    "pycharm": {
     "name": "#%%\n"
    }
   }
  },
  {
   "cell_type": "markdown",
   "source": [
    "By time"
   ],
   "metadata": {
    "collapsed": false,
    "pycharm": {
     "name": "#%% md\n"
    }
   }
  },
  {
   "cell_type": "code",
   "execution_count": 10,
   "outputs": [
    {
     "name": "stdout",
     "output_type": "stream",
     "text": [
      "<xarray.Dataset>\n",
      "Dimensions:            (baseline: 13695, frequency: 5, polarisation: 4, time: 16, uvw_index: 3)\n",
      "Coordinates:\n",
      "  * time               (time) float64 5.085e+09 5.085e+09 ... 5.085e+09\n",
      "  * baseline           (baseline) MultiIndex\n",
      "  - antenna1           (baseline) int64 1 2 2 3 3 3 ... 165 165 165 165 165 165\n",
      "  - antenna2           (baseline) int64 0 0 1 0 1 2 ... 159 160 161 162 163 164\n",
      "  * frequency          (frequency) float64 1e+08 1.025e+08 ... 1.075e+08 1.1e+08\n",
      "  * polarisation       (polarisation) <U2 'XX' 'XY' 'YX' 'YY'\n",
      "  * uvw_index          (uvw_index) <U1 'u' 'v' 'w'\n",
      "Data variables:\n",
      "    vis                (time, baseline, frequency, polarisation) complex128 (...\n",
      "    weight             (time, baseline, frequency, polarisation) float64 nan ...\n",
      "    imaging_weight     (time, baseline, frequency, polarisation) float64 nan ...\n",
      "    flags              (time, baseline, frequency, polarisation) float64 nan ...\n",
      "    uvw                (time, baseline, uvw_index) float64 nan nan ... -120.9\n",
      "    uvw_lambda         (time, baseline, frequency, uvw_index) float64 nan ......\n",
      "    channel_bandwidth  (frequency, time) float64 nan nan nan ... 1e+07 1e+07\n",
      "    integration_time   (time) float64 nan nan nan ... 1.795e+03 1.795e+03\n",
      "    datetime           (time) datetime64[ns] NaT ... 2020-01-02T00:59:23.0649...\n"
     ]
    }
   ],
   "source": [
    "print(xvis.data.where(xvis.data.datetime > numpy.datetime64(\"2020-01-01T23:00:00\")))"
   ],
   "metadata": {
    "collapsed": false,
    "pycharm": {
     "name": "#%%\n"
    }
   }
  },
  {
   "cell_type": "markdown",
   "source": [
    "Grouped by datetime"
   ],
   "metadata": {
    "collapsed": false,
    "pycharm": {
     "name": "#%% md\n"
    }
   }
  },
  {
   "cell_type": "code",
   "execution_count": 11,
   "outputs": [
    {
     "name": "stdout",
     "output_type": "stream",
     "text": [
      "2020-01-01T17:30:36.783709447 Frozen(SortedKeysDict({'time': 1, 'baseline': 13695, 'frequency': 5, 'polarisation': 4, 'uvw_index': 3}))\n",
      "2020-01-01T18:00:31.869126577 Frozen(SortedKeysDict({'time': 1, 'baseline': 13695, 'frequency': 5, 'polarisation': 4, 'uvw_index': 3}))\n",
      "2020-01-01T18:30:26.954543078 Frozen(SortedKeysDict({'time': 1, 'baseline': 13695, 'frequency': 5, 'polarisation': 4, 'uvw_index': 3}))\n",
      "2020-01-01T19:00:22.039960208 Frozen(SortedKeysDict({'time': 1, 'baseline': 13695, 'frequency': 5, 'polarisation': 4, 'uvw_index': 3}))\n",
      "2020-01-01T19:30:17.125376710 Frozen(SortedKeysDict({'time': 1, 'baseline': 13695, 'frequency': 5, 'polarisation': 4, 'uvw_index': 3}))\n",
      "2020-01-01T20:00:12.210792582 Frozen(SortedKeysDict({'time': 1, 'baseline': 13695, 'frequency': 5, 'polarisation': 4, 'uvw_index': 3}))\n",
      "2020-01-01T20:30:07.296209084 Frozen(SortedKeysDict({'time': 1, 'baseline': 13695, 'frequency': 5, 'polarisation': 4, 'uvw_index': 3}))\n",
      "2020-01-01T21:00:02.381626214 Frozen(SortedKeysDict({'time': 1, 'baseline': 13695, 'frequency': 5, 'polarisation': 4, 'uvw_index': 3}))\n",
      "2020-01-01T21:29:57.467042715 Frozen(SortedKeysDict({'time': 1, 'baseline': 13695, 'frequency': 5, 'polarisation': 4, 'uvw_index': 3}))\n",
      "2020-01-01T21:59:52.552459845 Frozen(SortedKeysDict({'time': 1, 'baseline': 13695, 'frequency': 5, 'polarisation': 4, 'uvw_index': 3}))\n",
      "2020-01-01T22:29:47.637876347 Frozen(SortedKeysDict({'time': 1, 'baseline': 13695, 'frequency': 5, 'polarisation': 4, 'uvw_index': 3}))\n",
      "2020-01-01T22:59:42.723293477 Frozen(SortedKeysDict({'time': 1, 'baseline': 13695, 'frequency': 5, 'polarisation': 4, 'uvw_index': 3}))\n",
      "2020-01-01T23:29:37.808709349 Frozen(SortedKeysDict({'time': 1, 'baseline': 13695, 'frequency': 5, 'polarisation': 4, 'uvw_index': 3}))\n",
      "2020-01-01T23:59:32.894125851 Frozen(SortedKeysDict({'time': 1, 'baseline': 13695, 'frequency': 5, 'polarisation': 4, 'uvw_index': 3}))\n",
      "2020-01-02T00:29:27.979542981 Frozen(SortedKeysDict({'time': 1, 'baseline': 13695, 'frequency': 5, 'polarisation': 4, 'uvw_index': 3}))\n",
      "2020-01-02T00:59:23.064959482 Frozen(SortedKeysDict({'time': 1, 'baseline': 13695, 'frequency': 5, 'polarisation': 4, 'uvw_index': 3}))\n"
     ]
    }
   ],
   "source": [
    "for result in xvis.data.groupby(\"datetime\"):\n",
    "    print(result[0], result[1].dims)"
   ],
   "metadata": {
    "collapsed": false,
    "pycharm": {
     "name": "#%%\n"
    }
   }
  },
  {
   "cell_type": "markdown",
   "source": [
    "In bins of antenna1"
   ],
   "metadata": {
    "collapsed": false
   }
  },
  {
   "cell_type": "code",
   "execution_count": 12,
   "outputs": [
    {
     "name": "stdout",
     "output_type": "stream",
     "text": [
      "(0.836, 11.25] Frozen(SortedKeysDict({'time': 16, 'baseline': 66, 'frequency': 5, 'polarisation': 4, 'uvw_index': 3}))\n",
      "(11.25, 21.5] Frozen(SortedKeysDict({'time': 16, 'baseline': 165, 'frequency': 5, 'polarisation': 4, 'uvw_index': 3}))\n",
      "(21.5, 31.75] Frozen(SortedKeysDict({'time': 16, 'baseline': 265, 'frequency': 5, 'polarisation': 4, 'uvw_index': 3}))\n",
      "(31.75, 42.0] Frozen(SortedKeysDict({'time': 16, 'baseline': 407, 'frequency': 5, 'polarisation': 4, 'uvw_index': 3}))\n",
      "(42.0, 52.25] Frozen(SortedKeysDict({'time': 16, 'baseline': 475, 'frequency': 5, 'polarisation': 4, 'uvw_index': 3}))\n",
      "(52.25, 62.5] Frozen(SortedKeysDict({'time': 16, 'baseline': 575, 'frequency': 5, 'polarisation': 4, 'uvw_index': 3}))\n",
      "(62.5, 72.75] Frozen(SortedKeysDict({'time': 16, 'baseline': 675, 'frequency': 5, 'polarisation': 4, 'uvw_index': 3}))\n",
      "(72.75, 83.0] Frozen(SortedKeysDict({'time': 16, 'baseline': 858, 'frequency': 5, 'polarisation': 4, 'uvw_index': 3}))\n",
      "(83.0, 93.25] Frozen(SortedKeysDict({'time': 16, 'baseline': 885, 'frequency': 5, 'polarisation': 4, 'uvw_index': 3}))\n",
      "(93.25, 103.5] Frozen(SortedKeysDict({'time': 16, 'baseline': 985, 'frequency': 5, 'polarisation': 4, 'uvw_index': 3}))\n",
      "(103.5, 113.75] Frozen(SortedKeysDict({'time': 16, 'baseline': 1085, 'frequency': 5, 'polarisation': 4, 'uvw_index': 3}))\n",
      "(113.75, 124.0] Frozen(SortedKeysDict({'time': 16, 'baseline': 1309, 'frequency': 5, 'polarisation': 4, 'uvw_index': 3}))\n",
      "(124.0, 134.25] Frozen(SortedKeysDict({'time': 16, 'baseline': 1295, 'frequency': 5, 'polarisation': 4, 'uvw_index': 3}))\n",
      "(134.25, 144.5] Frozen(SortedKeysDict({'time': 16, 'baseline': 1395, 'frequency': 5, 'polarisation': 4, 'uvw_index': 3}))\n",
      "(144.5, 154.75] Frozen(SortedKeysDict({'time': 16, 'baseline': 1495, 'frequency': 5, 'polarisation': 4, 'uvw_index': 3}))\n",
      "(154.75, 165.0] Frozen(SortedKeysDict({'time': 16, 'baseline': 1760, 'frequency': 5, 'polarisation': 4, 'uvw_index': 3}))\n"
     ]
    }
   ],
   "source": [
    "for result in xvis.data.groupby_bins(xvis.data[\"antenna1\"], bins=16):\n",
    "    print(result[0], result[1].dims)"
   ],
   "metadata": {
    "collapsed": false,
    "pycharm": {
     "name": "#%%\n"
    }
   }
  },
  {
   "cell_type": "markdown",
   "source": [
    "Set values using the loc operator"
   ],
   "metadata": {
    "collapsed": false,
    "pycharm": {
     "name": "#%% md\n"
    }
   }
  },
  {
   "cell_type": "code",
   "execution_count": 13,
   "outputs": [],
   "source": [
    "xvis.vis.loc[{\"polarisation\":[\"XY\", \"YX\"]}] = 0.0\n",
    "xvis.vis.loc[{\"polarisation\":[\"XX\", \"YY\"], \"frequency\":[1.1e8]}] = 1.0\n",
    "xvis.vis.loc[{\"polarisation\":[\"XX\", \"YY\"], \"frequency\":[1.1e8], \"antenna1\":slice(100,110)}] = 1.0"
   ],
   "metadata": {
    "collapsed": false,
    "pycharm": {
     "name": "#%%\n"
    }
   }
  },
  {
   "cell_type": "code",
   "execution_count": 14,
   "outputs": [
    {
     "name": "stdout",
     "output_type": "stream",
     "text": [
      "<xarray.DataArray 'vis' ()>\n",
      "array(1.+0.j)\n"
     ]
    }
   ],
   "source": [
    "print(numpy.max(xvis.vis))"
   ],
   "metadata": {
    "collapsed": false,
    "pycharm": {
     "name": "#%%\n"
    }
   }
  },
  {
   "cell_type": "code",
   "execution_count": 15,
   "outputs": [
    {
     "data": {
      "text/plain": "<Figure size 432x288 with 1 Axes>",
      "image/png": "[encoded data removed]"
     },
     "metadata": {
      "needs_background": "light"
     },
     "output_type": "display_data"
    }
   ],
   "source": [
    "import matplotlib.pyplot as plt\n",
    "plt.scatter(xvis.u_lambda, xvis.v_lambda)\n",
    "plt.show(block=False)"
   ],
   "metadata": {
    "collapsed": false,
    "pycharm": {
     "name": "#%%\n"
    }
   }
  }
 ],
 "metadata": {
  "kernelspec": {
   "display_name": "Python 3",
   "language": "python",
   "name": "python3"
  },
  "language_info": {
   "codemirror_mode": {
    "name": "ipython",
    "version": 2
   },
   "file_extension": ".py",
   "mimetype": "text/x-python",
   "name": "python",
   "nbconvert_exporter": "python",
   "pygments_lexer": "ipython2",
   "version": "2.7.6"
  }
 },
 "nbformat": 4,
 "nbformat_minor": 0
}