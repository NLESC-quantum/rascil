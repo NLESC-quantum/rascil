{
 "cells": [
  {
   "cell_type": "markdown",
   "metadata": {},
   "source": [
    "# PSWF Calculation  (by Anna Scaife)"
   ]
  },
  {
   "cell_type": "markdown",
   "metadata": {},
   "source": [
    "This notebook calculates an over-sampled Prolate Spheroidal Wave Function (PSWF), which is the most commonly used anti-aliasing kernel for convolutional gridding during imaging.\n",
    "\n",
    "Note: it may be better to use a Kaiser-Bessel function as in medical imaging."
   ]
  },
  {
   "cell_type": "code",
   "execution_count": null,
   "metadata": {
    "collapsed": true
   },
   "outputs": [],
   "source": [
    "%matplotlib inline"
   ]
  },
  {
   "cell_type": "code",
   "execution_count": null,
   "metadata": {
    "collapsed": true
   },
   "outputs": [],
   "source": [
    "import numpy as np\n",
    "import matplotlib.pyplot as pl"
   ]
  },
  {
   "cell_type": "code",
   "execution_count": null,
   "metadata": {
    "collapsed": false
   },
   "outputs": [],
   "source": [
    "def calc_pswf(vnu):\n",
    "    \n",
    "    \"\"\"\n",
    "    Evaluates the PROLATE SPHEROIDAL WAVEFUNCTION with \n",
    "    m=6, alpha = 1 from Schwab, Indirect Imaging (1984). \n",
    "    \n",
    "    Code adapted Anna's f90 PROFILE (gridder.f90) code \n",
    "    which was adapted from Tim Cornwell's C++ SphFuncVisGridder \n",
    "    developed for CONRAD for ASKAP. **This seems to be commented\n",
    "    out of the currect ASKAPsoft code... not sure why**\n",
    "  \n",
    "    \"\"\"\n",
    "\n",
    "    n_p = 4\n",
    "    n_q = 2\n",
    "    \n",
    "    p = np.zeros((2,5))\n",
    "    q = np.zeros((2,3))\n",
    "    \n",
    "    p[0,0] = 8.203343e-2\n",
    "    p[0,1] = -3.644705e-1\n",
    "    p[0,2] = 6.278660e-1\n",
    "    p[0,3] = -5.335581e-1\n",
    "    p[0,4] = 2.312756e-1\n",
    "    p[1,0] = 4.028559e-3\n",
    "    p[1,1] = -3.697768e-2\n",
    "    p[1,2] = 1.021332e-1\n",
    "    p[1,3] = -1.201436e-1\n",
    "    p[1,4] = 6.412774e-2\n",
    "\n",
    "    q[0,0] = 1.0000000\n",
    "    q[0,1] = 8.212018e-1\n",
    "    q[0,2] = 2.078043e-1\n",
    "    q[1,0] = 1.0000000\n",
    "    q[1,1] = 9.599102e-1\n",
    "    q[1,2] = 2.918724e-1\n",
    "\n",
    "    value = 0.\n",
    "        \n",
    "    if ((vnu>=0.) and (vnu<0.75)):\n",
    "        part = 0\n",
    "        nuend = 0.75\n",
    "    elif ((vnu>=0.75) and (vnu<=1.)):\n",
    "        part = 1\n",
    "        nuend = 1.0\n",
    "    else:\n",
    "        value = 0.\n",
    "        # nasty fortran-esque exit statement:\n",
    "        return value\n",
    "   \n",
    "    top = p[part,0]\n",
    "    bot = q[part,0]\n",
    "    delnusq = vnu**2 - nuend**2\n",
    "      \n",
    "    for k in range(1,n_p+1):\n",
    "        factor = delnusq**k\n",
    "        top += p[part,k]*factor\n",
    "      \n",
    "    for k in range(1,n_q+1):\n",
    "        factor = delnusq**k\n",
    "        bot += q[part,k]*factor\n",
    "      \n",
    "      \n",
    "    if (bot!=0.):\n",
    "        value = top/bot\n",
    "    else:\n",
    "        value = 0.\n",
    "      \n",
    "      \n",
    "    if (value<0.): value = 0.\n",
    "      \n",
    "    return value"
   ]
  },
  {
   "cell_type": "code",
   "execution_count": null,
   "metadata": {
    "collapsed": false
   },
   "outputs": [],
   "source": [
    "def make_oversampled_pswf():\n",
    "    \"\"\"\n",
    "    Note: this is the PSWF in uv-space\n",
    "    \"\"\"\n",
    "    \n",
    "    # ------------------------------------------------------- #\n",
    "    # the following stuff probably shouldn't be hard-coded...\n",
    "    support = 3\n",
    "    oversample = 128\n",
    "    csize = 2 * support + 1  # 7\n",
    "    ccentre = support  # 3 for 0-indexed array\n",
    "    nplanes = oversample * oversample\n",
    "    # ------------------------------------------------------- #\n",
    "    \n",
    "    \n",
    "    spconvfunc = np.zeros((nplanes, csize, csize))\n",
    "    \n",
    "    for fracv in range(0, oversample):\n",
    "        for fracu in range(0, oversample):\n",
    "            \n",
    "            plane = fracu + (oversample * fracv)\n",
    "            spconvfunc[plane, :, :] = 0.\n",
    "            \n",
    "            for ix in range(0, csize):\n",
    "                nux = np.abs(float(oversample * (ix - ccentre) + fracu)) / float(support * oversample)\n",
    "                fx = calc_pswf(nux)\n",
    "                fx *= (1. - nux ** 2)\n",
    "                \n",
    "                for iy in range(0, csize):\n",
    "                    nuy = np.abs(float(oversample * (iy - ccentre) + fracv)) / float(support * oversample)\n",
    "                    fy = calc_pswf(nuy)\n",
    "                    fy *= (1. - nuy ** 2)\n",
    "                    \n",
    "                    spconvfunc[plane, ix, iy] = fx * fy\n",
    "    \n",
    "    return spconvfunc\n",
    "\n",
    "spconvfunc = make_oversampled_pswf()\n",
    "\n",
    "pl.subplot(111)\n",
    "pl.imshow(spconvfunc[0, :, :])\n",
    "pl.show()\n"
   ]
  },
  {
   "cell_type": "code",
   "execution_count": null,
   "metadata": {
    "collapsed": true
   },
   "outputs": [],
   "source": [
    ""
   ]
  }
 ],
 "metadata": {
  "kernelspec": {
   "display_name": "Python 3",
   "language": "python",
   "name": "python3"
  },
  "language_info": {
   "codemirror_mode": {
    "name": "ipython",
    "version": 3
   },
   "file_extension": ".py",
   "mimetype": "text/x-python",
   "name": "python",
   "nbconvert_exporter": "python",
   "pygments_lexer": "ipython3",
   "version": "3.5.1"
  }
 },
 "nbformat": 4,
 "nbformat_minor": 0
}