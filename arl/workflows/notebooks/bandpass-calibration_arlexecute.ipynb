{
 "cells": [
  {
   "cell_type": "markdown",
   "metadata": {},
   "source": [
    "# Bandpass calibration demonstration"
   ]
  },
  {
   "cell_type": "code",
   "execution_count": 1,
   "metadata": {
    "ExecuteTime": {
     "end_time": "2019-12-09T15:39:54.618643Z",
     "start_time": "2019-12-09T15:39:52.027283Z"
    },
    "pycharm": {
     "is_executing": false
    }
   },
   "outputs": [],
   "source": [
    "%matplotlib inline\n",
    "\n",
    "import os\n",
    "import sys\n",
    "\n",
    "sys.path.append(os.path.join('..', '..'))\n",
    "\n",
    "from arl.data_models.parameters import arl_path\n",
    "\n",
    "results_dir = arl_path('test_results')\n",
    "\n",
    "from matplotlib import pylab\n",
    "\n",
    "import numpy\n",
    "\n",
    "from astropy.coordinates import SkyCoord\n",
    "from astropy import units as u\n",
    "\n",
    "from matplotlib import pyplot as plt\n",
    "\n",
    "from arl.processing_components import create_blockvisibility, apply_gaintable, copy_visibility, solve_gaintable, \\\n",
    "    convert_blockvisibility_to_visibility, convert_visibility_to_blockvisibility, \\\n",
    "    create_gaintable_from_blockvisibility, show_image, create_test_image, simulate_gaintable, \\\n",
    "    create_named_configuration\n",
    "\n",
    "from arl.workflows import predict_list_serial_workflow\n",
    "\n",
    "from arl.data_models.polarisation import PolarisationFrame\n",
    "\n",
    "pylab.rcParams['figure.figsize'] = (8.0, 8.0)\n",
    "pylab.rcParams['image.cmap'] = 'rainbow'\n",
    "\n",
    "import logging\n",
    "\n",
    "log = logging.getLogger()\n",
    "log.setLevel(logging.DEBUG)\n",
    "log.addHandler(logging.StreamHandler(sys.stdout))\n",
    "mpl_logger = logging.getLogger(\"matplotlib\") \n",
    "mpl_logger.setLevel(logging.WARNING) "
   ]
  },
  {
   "cell_type": "markdown",
   "metadata": {},
   "source": [
    "Construct LOW core configuration"
   ]
  },
  {
   "cell_type": "code",
   "execution_count": 2,
   "metadata": {
    "ExecuteTime": {
     "end_time": "2019-12-09T15:39:54.646147Z",
     "start_time": "2019-12-09T15:39:54.621341Z"
    },
    "pycharm": {
     "is_executing": false
    }
   },
   "outputs": [
    {
     "name": "stdout",
     "output_type": "stream",
     "text": [
      "create_named_configuration: LOWBD2-CORE\n",
      "\t(<Quantity -2565018.31203579 m>, <Quantity 5085711.90373391 m>, <Quantity -2861033.10788063 m>)\n",
      "\tGeodeticLocation(lon=<Longitude 116.76444824 deg>, lat=<Latitude -26.82472208 deg>, height=<Quantity 300. m>)\n",
      "create_configuration_from_file: 166 antennas/stations\n"
     ]
    }
   ],
   "source": [
    "lowcore = create_named_configuration('LOWBD2-CORE')"
   ]
  },
  {
   "cell_type": "markdown",
   "metadata": {},
   "source": [
    "We create the visibility. This just makes the uvw, time, antenna1, antenna2, weight columns in a table"
   ]
  },
  {
   "cell_type": "code",
   "execution_count": 3,
   "metadata": {
    "ExecuteTime": {
     "end_time": "2019-12-09T15:39:54.858210Z",
     "start_time": "2019-12-09T15:39:54.648759Z"
    },
    "pycharm": {
     "is_executing": false
    }
   },
   "outputs": [
    {
     "name": "stdout",
     "output_type": "stream",
     "text": [
      "create_visibility: created 1 times\n",
      "create_blockvisibility: 1 rows, 0.106 GB\n"
     ]
    }
   ],
   "source": [
    "times = numpy.zeros([1])\n",
    "vnchan = 128\n",
    "frequency = numpy.linspace(0.8e8, 1.2e8, vnchan)\n",
    "channel_bandwidth = numpy.array(vnchan*[frequency[1]-frequency[0]])\n",
    "phasecentre = SkyCoord(ra=+15.0 * u.deg, dec=-45.0 * u.deg, frame='icrs', equinox='J2000')\n",
    "bvt = create_blockvisibility(lowcore, times, frequency, channel_bandwidth=channel_bandwidth,\n",
    "                       weight=1.0, phasecentre=phasecentre, polarisation_frame=PolarisationFrame('stokesI'))"
   ]
  },
  {
   "cell_type": "markdown",
   "metadata": {},
   "source": [
    "Read the venerable test image, constructing an image"
   ]
  },
  {
   "cell_type": "code",
   "execution_count": 4,
   "metadata": {
    "ExecuteTime": {
     "end_time": "2019-12-09T15:39:55.630998Z",
     "start_time": "2019-12-09T15:39:54.860858Z"
    },
    "pycharm": {
     "is_executing": false
    },
    "scrolled": false
   },
   "outputs": [
    {
     "name": "stdout",
     "output_type": "stream",
     "text": [
      "import_image_from_fits: created >f4 image of shape (256, 256), size 0.000 (GB)\n",
      "import_image_from_fits: Max, min in /Users/timcornwell/Code/algorithm-reference-library/data/models/M31.MOD = 1.006458, 0.000000\n",
      "replicate_image: replicating shape (256, 256) to (128, 1, 256, 256)\n"
     ]
    },
    {
     "data": {
      "image/png": "[encoded data removed]",
      "text/plain": [
       "<Figure size 432x288 with 2 Axes>"
      ]
     },
     "metadata": {
      "needs_background": "light"
     },
     "output_type": "display_data"
    }
   ],
   "source": [
    "m31image = create_test_image(frequency=frequency, cellsize=0.0005)\n",
    "nchan, npol, ny, nx = m31image.data.shape\n",
    "m31image.wcs.wcs.crval[0] = bvt.phasecentre.ra.deg\n",
    "m31image.wcs.wcs.crval[1] = bvt.phasecentre.dec.deg\n",
    "m31image.wcs.wcs.crpix[0] = float(nx // 2)\n",
    "m31image.wcs.wcs.crpix[1] = float(ny // 2)\n",
    "\n",
    "fig=show_image(m31image)"
   ]
  },
  {
   "cell_type": "markdown",
   "metadata": {},
   "source": [
    "Predict the visibility from this image"
   ]
  },
  {
   "cell_type": "code",
   "execution_count": null,
   "metadata": {
    "ExecuteTime": {
     "start_time": "2019-12-09T15:39:52.003Z"
    },
    "pycharm": {
     "is_executing": false
    },
    "scrolled": false
   },
   "outputs": [
    {
     "name": "stdout",
     "output_type": "stream",
     "text": [
      "convert_visibility: Original 1 rows, 0.106 GB, converted 1752960 rows, 0.183 GB\n",
      "fit_uvwplane: Fit to 1752960 rows reduces max abs w from 95.3 to 0.0 m\n",
      "shift_vis_from_image: shifting phasecentre from image phase centre <SkyCoord (ICRS): (ra, dec) in deg\n",
      "    (14.95950601, -44.97134965)> to visibility phasecentre <SkyCoord (ICRS): (ra, dec) in deg\n",
      "    (15., -45.)>\n"
     ]
    }
   ],
   "source": [
    "vt = convert_blockvisibility_to_visibility(bvt)\n",
    "vt = predict_list_serial_workflow([vt], [m31image], context='timeslice')[0]\n",
    "bvt = convert_visibility_to_blockvisibility(vt)"
   ]
  },
  {
   "cell_type": "markdown",
   "metadata": {},
   "source": [
    "Create a gain table with modest amplitude and phase errors, smootheed over 16 channels"
   ]
  },
  {
   "cell_type": "code",
   "execution_count": null,
   "metadata": {
    "ExecuteTime": {
     "start_time": "2019-12-09T15:39:52.005Z"
    },
    "pycharm": {
     "is_executing": false
    }
   },
   "outputs": [],
   "source": [
    "gt = create_gaintable_from_blockvisibility(bvt)\n",
    "gt = simulate_gaintable(gt, phase_error=1.0, amplitude_error=0.1, smooth_channels=16)"
   ]
  },
  {
   "cell_type": "markdown",
   "metadata": {},
   "source": [
    "Plot the gains applied"
   ]
  },
  {
   "cell_type": "code",
   "execution_count": null,
   "metadata": {
    "ExecuteTime": {
     "start_time": "2019-12-09T15:39:52.007Z"
    },
    "pycharm": {
     "is_executing": false
    },
    "scrolled": false
   },
   "outputs": [],
   "source": [
    "plt.clf()\n",
    "for ant in range(4):\n",
    "    amp = numpy.abs(gt.gain[0,ant,:,0,0])\n",
    "    plt.plot(amp)\n",
    "plt.title('Amplitude of bandpass')\n",
    "plt.xlabel('channel')\n",
    "plt.show()\n",
    "\n",
    "plt.clf()\n",
    "for ant in range(4):\n",
    "    phase = numpy.angle(gt.gain[0,ant,:,0,0])\n",
    "    plt.plot(phase)\n",
    "plt.title('Phase of bandpass')\n",
    "plt.xlabel('channel')\n",
    "plt.show()\n",
    "\n"
   ]
  },
  {
   "cell_type": "code",
   "execution_count": null,
   "metadata": {
    "ExecuteTime": {
     "start_time": "2019-12-09T15:39:52.008Z"
    },
    "pycharm": {
     "is_executing": false
    }
   },
   "outputs": [],
   "source": [
    "cbvt = copy_visibility(bvt)\n",
    "cbvt = apply_gaintable(cbvt, gt)"
   ]
  },
  {
   "cell_type": "markdown",
   "metadata": {},
   "source": [
    "Solve for the gains"
   ]
  },
  {
   "cell_type": "code",
   "execution_count": null,
   "metadata": {
    "ExecuteTime": {
     "start_time": "2019-12-09T15:39:52.010Z"
    },
    "pycharm": {
     "is_executing": false
    }
   },
   "outputs": [],
   "source": [
    "gtsol=solve_gaintable(cbvt, bvt, phase_only=False)"
   ]
  },
  {
   "cell_type": "markdown",
   "metadata": {
    "ExecuteTime": {
     "end_time": "2018-01-29T15:13:36.614548Z",
     "start_time": "2018-01-29T15:13:36.598522Z"
    }
   },
   "source": [
    "Plot the solved relative to the applied. Declare antenna 0 to be the reference. Ideally these should be amplitude 1.0\n",
    " and phase 0.0."
   ]
  },
  {
   "cell_type": "code",
   "execution_count": null,
   "metadata": {
    "ExecuteTime": {
     "start_time": "2019-12-09T15:39:52.013Z"
    },
    "pycharm": {
     "is_executing": false
    }
   },
   "outputs": [],
   "source": [
    "plt.clf()\n",
    "for ant in range(4):\n",
    "    amp = numpy.abs(gtsol.gain[0,ant,:,0,0]/gt.gain[0,ant,:,0,0])\n",
    "    plt.plot(amp)\n",
    "plt.title('Relative amplitude of bandpass')\n",
    "plt.xlabel('channel')\n",
    "plt.show()\n",
    "\n",
    "plt.clf()\n",
    "for ant in range(4):\n",
    "    refphase = numpy.angle(gtsol.gain[0,0,:,0,0]/gt.gain[0,0,:,0,0])\n",
    "    phase = numpy.angle(gtsol.gain[0,ant,:,0,0]/gt.gain[0,ant,:,0,0])\n",
    "    plt.plot(phase-refphase)\n",
    "plt.title('Relative phase of bandpass')\n",
    "plt.xlabel('channel')\n",
    "plt.show()\n",
    "\n"
   ]
  }
 ],
 "metadata": {
  "kernelspec": {
   "display_name": "Python 3",
   "language": "python",
   "name": "python3"
  },
  "language_info": {
   "codemirror_mode": {
    "name": "ipython",
    "version": 3
   },
   "file_extension": ".py",
   "mimetype": "text/x-python",
   "name": "python",
   "nbconvert_exporter": "python",
   "pygments_lexer": "ipython3",
   "version": "3.7.3"
  },
  "pycharm": {
   "stem_cell": {
    "cell_type": "raw",
    "source": [],
    "metadata": {
     "collapsed": false
    }
   }
  }
 },
 "nbformat": 4,
 "nbformat_minor": 2
}