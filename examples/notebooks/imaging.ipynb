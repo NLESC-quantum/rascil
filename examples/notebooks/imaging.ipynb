{
 "cells": [
  {
   "cell_type": "markdown",
   "metadata": {},
   "source": [
    "# Imaging and deconvolution demonstration"
   ]
  },
  {
   "cell_type": "markdown",
   "metadata": {},
   "source": [
    "This script makes a fake data set and then deconvolves it. Finally the full and residual visibility are plotted."
   ]
  },
  {
   "cell_type": "code",
   "execution_count": null,
   "metadata": {
    "ExecuteTime": {
     "end_time": "2020-02-12T09:57:51.442694Z",
     "start_time": "2020-02-12T09:57:49.138330Z"
    }
   },
   "outputs": [],
   "source": [
    "%matplotlib inline\n",
    "\n",
    "import os\n",
    "import sys\n",
    "\n",
    "sys.path.append(os.path.join('..', '..'))\n",
    "\n",
    "results_dir = '/tmp/'\n",
    "\n",
    "from matplotlib import pylab\n",
    "\n",
    "pylab.rcParams['figure.figsize'] = (8.0, 8.0)\n",
    "pylab.rcParams['image.cmap'] = 'rainbow'\n",
    "\n",
    "import numpy\n",
    "\n",
    "from astropy.coordinates import SkyCoord\n",
    "from astropy import units as u\n",
    "\n",
    "from matplotlib import pyplot as plt\n",
    "\n",
    "\n",
    "from rascil.data_models import PolarisationFrame\n",
    "\n",
    "from rascil.processing_components import create_blockvisibility, show_image, export_image_to_fits, \\\n",
    "    deconvolve_cube, restore_cube, create_named_configuration, create_test_image, \\\n",
    "    create_image_from_visibility, advise_wide_field, invert_ng, predict_ng, \\\n",
    "    plot_uvcoverage, plot_visibility\n",
    "\n",
    "import logging\n",
    "\n",
    "log = logging.getLogger()\n",
    "log.setLevel(logging.DEBUG)\n",
    "log.addHandler(logging.StreamHandler(sys.stdout))\n",
    "\n",
    "mpl_logger = logging.getLogger(\"matplotlib\") \n",
    "mpl_logger.setLevel(logging.WARNING) "
   ]
  },
  {
   "cell_type": "code",
   "execution_count": null,
   "metadata": {
    "ExecuteTime": {
     "end_time": "2020-02-12T09:57:51.447944Z",
     "start_time": "2020-02-12T09:57:51.444742Z"
    }
   },
   "outputs": [],
   "source": [
    "pylab.rcParams['figure.figsize'] = (12.0, 12.0)\n",
    "pylab.rcParams['image.cmap'] = 'rainbow'"
   ]
  },
  {
   "cell_type": "markdown",
   "metadata": {},
   "source": [
    "Construct LOW core configuration"
   ]
  },
  {
   "cell_type": "code",
   "execution_count": null,
   "metadata": {
    "ExecuteTime": {
     "end_time": "2020-02-12T09:57:51.479386Z",
     "start_time": "2020-02-12T09:57:51.451198Z"
    }
   },
   "outputs": [],
   "source": [
    "lowr3 = create_named_configuration('LOWBD2', rmax=750.0)\n",
    "print(lowr3)"
   ]
  },
  {
   "cell_type": "markdown",
   "metadata": {
    "pycharm": {
     "name": "#%% md\n"
    }
   },
   "source": [
    "We create the visibility. This just makes the uvw, time, antenna1, antenna2, weight columns in a table"
   ]
  },
  {
   "cell_type": "code",
   "execution_count": null,
   "metadata": {
    "ExecuteTime": {
     "end_time": "2020-02-12T09:57:51.699213Z",
     "start_time": "2020-02-12T09:57:51.494157Z"
    },
    "pycharm": {
     "name": "#%%\n"
    }
   },
   "outputs": [],
   "source": [
    "times = numpy.zeros([1])\n",
    "frequency = numpy.array([1e8])\n",
    "channel_bandwidth = numpy.array([1e6])\n",
    "phasecentre = SkyCoord(ra=+15.0 * u.deg, dec=-45.0 * u.deg, frame='icrs', equinox='J2000')\n",
    "vt = create_blockvisibility(lowr3, times, frequency, channel_bandwidth=channel_bandwidth,\n",
    "                       weight=1.0, phasecentre=phasecentre, polarisation_frame=PolarisationFrame('stokesI'))\n",
    "print(vt)"
   ]
  },
  {
   "cell_type": "code",
   "execution_count": null,
   "metadata": {
    "ExecuteTime": {
     "end_time": "2020-02-12T09:57:51.734765Z",
     "start_time": "2020-02-12T09:57:51.701072Z"
    }
   },
   "outputs": [],
   "source": [
    "advice = advise_wide_field(vt, guard_band_image=3.0, delA=0.1, facets=1, wprojection_planes=1, \n",
    "                           oversampling_synthesised_beam=4.0)\n",
    "cellsize = advice['cellsize']"
   ]
  },
  {
   "cell_type": "markdown",
   "metadata": {
    "pycharm": {
     "name": "#%% md\n"
    }
   },
   "source": [
    "Plot the synthesized uv coverage."
   ]
  },
  {
   "cell_type": "code",
   "execution_count": null,
   "metadata": {
    "ExecuteTime": {
     "end_time": "2020-02-12T09:57:52.255733Z",
     "start_time": "2020-02-12T09:57:51.737618Z"
    },
    "scrolled": false,
    "pycharm": {
     "name": "#%%\n"
    }
   },
   "outputs": [],
   "source": [
    "plt.clf()\n",
    "plot_uvcoverage([vt])\n",
    "plt.show()"
   ]
  },
  {
   "cell_type": "markdown",
   "metadata": {
    "pycharm": {
     "name": "#%% md\n"
    }
   },
   "source": [
    "Read the venerable test image, constructing an image"
   ]
  },
  {
   "cell_type": "code",
   "execution_count": null,
   "metadata": {
    "ExecuteTime": {
     "end_time": "2020-02-12T09:57:53.148151Z",
     "start_time": "2020-02-12T09:57:52.260169Z"
    },
    "scrolled": false,
    "pycharm": {
     "name": "#%%\n"
    }
   },
   "outputs": [],
   "source": [
    "m31image = create_test_image(frequency=frequency, cellsize=cellsize,\n",
    "                             phasecentre=phasecentre)\n",
    "nchan, npol, ny, nx = m31image[\"pixels\"].data.shape\n",
    "\n",
    "fig=show_image(m31image)"
   ]
  },
  {
   "cell_type": "code",
   "execution_count": null,
   "metadata": {
    "ExecuteTime": {
     "end_time": "2020-02-12T09:57:53.999562Z",
     "start_time": "2020-02-12T09:57:53.151552Z"
    }
   },
   "outputs": [],
   "source": [
    "vt = predict_ng(vt, m31image, context='2d')\n",
    "\n",
    "plt.clf()\n",
    "plot_visibility([vt])\n",
    "plt.show()"
   ]
  },
  {
   "cell_type": "markdown",
   "metadata": {
    "pycharm": {
     "name": "#%% md\n"
    }
   },
   "source": [
    "Make the dirty image and point spread function"
   ]
  },
  {
   "cell_type": "code",
   "execution_count": null,
   "metadata": {
    "ExecuteTime": {
     "end_time": "2020-02-12T09:57:55.782851Z",
     "start_time": "2020-02-12T09:57:54.002244Z"
    },
    "scrolled": false,
    "pycharm": {
     "name": "#%%\n"
    }
   },
   "outputs": [],
   "source": [
    "model = create_image_from_visibility(vt, cellsize=cellsize, npixel=512)\n",
    "dirty, sumwt = invert_ng(vt, model, context='2d')\n",
    "psf, sumwt = invert_ng(vt, model, context='2d', dopsf=True)\n",
    "\n",
    "show_image(dirty)\n",
    "print(\"Max, min in dirty image = %.6f, %.6f, sumwt = %f\" % (dirty[\"pixels\"].data.max(), dirty[\"pixels\"].data.min(), sumwt))\n",
    "\n",
    "print(\"Max, min in PSF         = %.6f, %.6f, sumwt = %f\" % (psf[\"pixels\"].data.max(), psf[\"pixels\"].data.min(), sumwt))\n",
    "\n",
    "export_image_to_fits(dirty, '%s/imaging_dirty.fits'%(results_dir))\n",
    "export_image_to_fits(psf, '%s/imaging_psf.fits'%(results_dir))"
   ]
  },
  {
   "cell_type": "markdown",
   "metadata": {
    "pycharm": {
     "name": "#%% md\n"
    }
   },
   "source": [
    "Deconvolve using clean"
   ]
  },
  {
   "cell_type": "code",
   "execution_count": null,
   "metadata": {
    "ExecuteTime": {
     "end_time": "2020-02-12T09:58:16.790251Z",
     "start_time": "2020-02-12T09:57:55.784618Z"
    },
    "scrolled": false,
    "pycharm": {
     "name": "#%%\n"
    }
   },
   "outputs": [],
   "source": [
    "comp, residual = deconvolve_cube(dirty, psf, niter=10000, threshold=0.001, fractional_threshold=0.001,\n",
    "                                 window_shape='quarter', gain=0.7, scales=[0, 3, 10, 30])\n",
    "\n",
    "restored = restore_cube(comp, psf, residual)\n",
    "\n",
    "# Show the results\n",
    "\n",
    "fig=show_image(comp)\n",
    "plt.title('Solution')\n",
    "fig=show_image(residual)\n",
    "plt.title('Residual')\n",
    "fig=show_image(restored)\n",
    "plt.title('Restored')\n",
    "\n",
    "print(restored)"
   ]
  },
  {
   "cell_type": "markdown",
   "metadata": {
    "pycharm": {
     "name": "#%% md\n"
    }
   },
   "source": [
    "Predict the visibility of the model"
   ]
  },
  {
   "cell_type": "code",
   "execution_count": null,
   "metadata": {
    "ExecuteTime": {
     "end_time": "2020-02-12T09:58:17.506644Z",
     "start_time": "2020-02-12T09:58:16.794192Z"
    },
    "pycharm": {
     "name": "#%%\n"
    }
   },
   "outputs": [],
   "source": [
    "vtmodel = create_blockvisibility(lowr3, times, frequency, channel_bandwidth=channel_bandwidth,\n",
    "                            weight=1.0, phasecentre=phasecentre, \n",
    "                            polarisation_frame=PolarisationFrame('stokesI'))\n",
    "vtmodel=predict_ng(vtmodel, comp, context='2d')"
   ]
  },
  {
   "cell_type": "markdown",
   "metadata": {
    "pycharm": {
     "name": "#%% md\n"
    }
   },
   "source": [
    "Now we will plot the original visibility and the residual visibility."
   ]
  },
  {
   "cell_type": "code",
   "execution_count": null,
   "metadata": {
    "ExecuteTime": {
     "end_time": "2020-02-12T09:58:17.934889Z",
     "start_time": "2020-02-12T09:58:17.508705Z"
    },
    "pycharm": {
     "name": "#%%\n"
    }
   },
   "outputs": [],
   "source": [
    "vtmodel.vis.values = vt.vis.values - vtmodel.vis.values\n",
    "\n",
    "plt.clf()\n",
    "plot_visibility([vt, vtmodel], colors=['b', 'r'])\n",
    "plt.show()"
   ]
  }
 ],
 "metadata": {
  "kernelspec": {
   "display_name": "Python 3",
   "language": "python",
   "name": "python3"
  },
  "language_info": {
   "codemirror_mode": {
    "name": "ipython",
    "version": 3
   },
   "file_extension": ".py",
   "mimetype": "text/x-python",
   "name": "python",
   "nbconvert_exporter": "python",
   "pygments_lexer": "ipython3",
   "version": "3.7.6"
  }
 },
 "nbformat": 4,
 "nbformat_minor": 2
}