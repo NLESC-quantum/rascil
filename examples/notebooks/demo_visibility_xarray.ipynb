{
 "cells": [
  {
   "cell_type": "markdown",
   "metadata": {
    "collapsed": true,
    "pycharm": {
     "name": "#%% md\n"
    }
   },
   "source": [
    "Demo visibility xarray format"
   ]
  },
  {
   "cell_type": "code",
   "execution_count": 1,
   "metadata": {
    "ExecuteTime": {
     "end_time": "2020-09-15T15:41:16.928361Z",
     "start_time": "2020-09-15T15:41:15.393147Z"
    },
    "pycharm": {
     "name": "#%%\n"
    }
   },
   "outputs": [],
   "source": [
    "import astropy.units as u\n",
    "import numpy\n",
    "from astropy.coordinates import SkyCoord\n",
    "\n",
    "from rascil.data_models import PolarisationFrame\n",
    "from rascil.processing_components.simulation import create_named_configuration\n",
    "from rascil.processing_components.visibility.base import create_blockvisibility"
   ]
  },
  {
   "cell_type": "markdown",
   "metadata": {
    "pycharm": {
     "name": "#%% md\n"
    }
   },
   "source": [
    "Set up a test visibility set"
   ]
  },
  {
   "cell_type": "code",
   "execution_count": 2,
   "metadata": {
    "ExecuteTime": {
     "end_time": "2020-09-15T15:41:17.491456Z",
     "start_time": "2020-09-15T15:41:16.929972Z"
    },
    "pycharm": {
     "name": "#%%\n"
    }
   },
   "outputs": [],
   "source": [
    "lowcore = create_named_configuration('LOWBD2-CORE', rmax=1000)\n",
    "times = (numpy.pi / 43200.0) * numpy.arange(-4 * 3600, +4 * 3600.0, 1800)\n",
    "frequency = numpy.linspace(1.0e8, 1.1e8, 5)\n",
    "channel_bandwidth = numpy.array([1e7, 1e7, 1e7, 1e7, 1e7])\n",
    "# Define the component and give it some spectral behaviour\n",
    "f = numpy.array([100.0, 20.0, -10.0, 1.0])\n",
    "flux = numpy.array([f, 0.8 * f, 0.6 * f, 0.4 * f, 0.2 * f])\n",
    "phasecentre = SkyCoord(ra=+180.0 * u.deg, dec=-35.0 * u.deg, frame='icrs',\n",
    "                       equinox='J2000')\n",
    "xvis = create_blockvisibility(lowcore, times, frequency,\n",
    "                                  channel_bandwidth=channel_bandwidth,\n",
    "                                  phasecentre=phasecentre,\n",
    "                                  integration_time=1800.0,\n",
    "                                  polarisation_frame=PolarisationFrame(\"linear\"),\n",
    "                                  weight=1.0)"
   ]
  },
  {
   "cell_type": "code",
   "execution_count": 3,
   "metadata": {
    "ExecuteTime": {
     "end_time": "2020-09-15T15:41:17.498038Z",
     "start_time": "2020-09-15T15:41:17.494328Z"
    },
    "pycharm": {
     "name": "#%%\n"
    }
   },
   "outputs": [],
   "source": [
    "assert xvis.vis.shape == (16, 13861, 5, 4), xvis.vis.shape\n",
    "assert xvis.data[\"uvw\"].shape == (16, 13861, 3), xvis[\"uvw\"].shape\n",
    "assert xvis.data[\"uvw_lambda\"].shape == (16, 13861, 5, 3), xvis.data[\"uvw_lambda\"].shape"
   ]
  },
  {
   "cell_type": "markdown",
   "metadata": {
    "pycharm": {
     "name": "#%% md\n"
    }
   },
   "source": [
    "Initial xvis"
   ]
  },
  {
   "cell_type": "code",
   "execution_count": 4,
   "metadata": {
    "ExecuteTime": {
     "end_time": "2020-09-15T15:41:17.508847Z",
     "start_time": "2020-09-15T15:41:17.500133Z"
    },
    "pycharm": {
     "name": "#%%\n"
    }
   },
   "outputs": [
    {
     "name": "stdout",
     "output_type": "stream",
     "text": [
      "BlockVisibility:\n",
      "\tSource unknown\n",
      "\tPhasecentre: <SkyCoord (ICRS): (ra, dec) in deg\n",
      "    (180., -35.)>\n",
      "\tNumber of visibility blocks: 4435520\n",
      "\tNumber of integrations: 16\n",
      "\tVisibility shape: (16, 13861, 5, 4)\n",
      "\tNumber of flags: <xarray.DataArray 'flags' ()>\n",
      "array(53120)\n",
      "\tNumber of channels: 5\n",
      "\tFrequency: <xarray.DataArray 'frequency' (frequency: 5)>\n",
      "array([1.000e+08, 1.025e+08, 1.050e+08, 1.075e+08, 1.100e+08])\n",
      "Coordinates:\n",
      "  * frequency  (frequency) float64 1e+08 1.025e+08 1.05e+08 1.075e+08 1.1e+08\n",
      "\tChannel bandwidth: <xarray.DataArray 'channel_bandwidth' (frequency: 5)>\n",
      "array([10000000., 10000000., 10000000., 10000000., 10000000.])\n",
      "Coordinates:\n",
      "  * frequency  (frequency) float64 1e+08 1.025e+08 1.05e+08 1.075e+08 1.1e+08\n",
      "\tNumber of polarisations: 4\n",
      "\tPolarisation Frame: linear\n",
      "\tConfiguration: LOWBD2-CORE\n",
      "\tMetadata: None\n",
      "\n"
     ]
    }
   ],
   "source": [
    "print(xvis)"
   ]
  },
  {
   "cell_type": "markdown",
   "metadata": {
    "pycharm": {
     "name": "#%% md\n"
    }
   },
   "source": [
    "Selection of the Dataset by polarisation"
   ]
  },
  {
   "cell_type": "code",
   "execution_count": 5,
   "metadata": {
    "ExecuteTime": {
     "end_time": "2020-09-15T15:41:17.598673Z",
     "start_time": "2020-09-15T15:41:17.510383Z"
    },
    "pycharm": {
     "name": "#%%\n"
    }
   },
   "outputs": [
    {
     "name": "stdout",
     "output_type": "stream",
     "text": [
      "<xarray.Dataset>\n",
      "Dimensions:            (baseline: 13861, frequency: 5, polarisation: 2, time: 16, uvw_index: 3)\n",
      "Coordinates:\n",
      "  * time               (time) float64 5.085e+09 5.085e+09 ... 5.085e+09\n",
      "  * baseline           (baseline) MultiIndex\n",
      "  - antenna1           (baseline) int64 0 0 0 0 0 0 ... 163 163 163 164 164 165\n",
      "  - antenna2           (baseline) int64 0 1 2 3 4 5 ... 163 164 165 164 165 165\n",
      "  * frequency          (frequency) float64 1e+08 1.025e+08 ... 1.075e+08 1.1e+08\n",
      "  * polarisation       (polarisation) <U2 'XY' 'YX'\n",
      "  * uvw_index          (uvw_index) <U1 'u' 'v' 'w'\n",
      "Data variables:\n",
      "    vis                (time, baseline, frequency, polarisation) complex128 0...\n",
      "    weight             (time, baseline, frequency, polarisation) float64 0.0 ...\n",
      "    imaging_weight     (time, baseline, frequency, polarisation) float64 1.0 ...\n",
      "    flags              (time, baseline, frequency, polarisation) int64 0 0 ... 1\n",
      "    uvw                (time, baseline, uvw_index) float64 -32.05 -37.31 ... 0.0\n",
      "    uvw_lambda         (time, baseline, frequency, uvw_index) float64 -10.69 ...\n",
      "    channel_bandwidth  (frequency) float64 1e+07 1e+07 1e+07 1e+07 1e+07\n",
      "    integration_time   (time) float64 1.795e+03 1.795e+03 ... 1.795e+03\n",
      "    datetime           (time) datetime64[ns] 2020-01-01T17:30:36.783709447 .....\n"
     ]
    }
   ],
   "source": [
    "print(xvis.data.sel({\"polarisation\": [\"XY\", \"YX\"]}))\n"
   ]
  },
  {
   "cell_type": "markdown",
   "metadata": {
    "pycharm": {
     "name": "#%% md\n"
    }
   },
   "source": [
    "Selection of the Dataset by frequency"
   ]
  },
  {
   "cell_type": "code",
   "execution_count": 6,
   "metadata": {
    "ExecuteTime": {
     "end_time": "2020-09-15T15:41:17.661208Z",
     "start_time": "2020-09-15T15:41:17.600318Z"
    },
    "pycharm": {
     "name": "#%%\n"
    }
   },
   "outputs": [
    {
     "name": "stdout",
     "output_type": "stream",
     "text": [
      "<xarray.Dataset>\n",
      "Dimensions:            (baseline: 13861, frequency: 2, polarisation: 4, time: 16, uvw_index: 3)\n",
      "Coordinates:\n",
      "  * time               (time) float64 5.085e+09 5.085e+09 ... 5.085e+09\n",
      "  * baseline           (baseline) MultiIndex\n",
      "  - antenna1           (baseline) int64 0 0 0 0 0 0 ... 163 163 163 164 164 165\n",
      "  - antenna2           (baseline) int64 0 1 2 3 4 5 ... 163 164 165 164 165 165\n",
      "  * frequency          (frequency) float64 1e+08 1.1e+08\n",
      "  * polarisation       (polarisation) <U2 'XX' 'XY' 'YX' 'YY'\n",
      "  * uvw_index          (uvw_index) <U1 'u' 'v' 'w'\n",
      "Data variables:\n",
      "    vis                (time, baseline, frequency, polarisation) complex128 0...\n",
      "    weight             (time, baseline, frequency, polarisation) float64 0.0 ...\n",
      "    imaging_weight     (time, baseline, frequency, polarisation) float64 1.0 ...\n",
      "    flags              (time, baseline, frequency, polarisation) int64 0 0 ... 1\n",
      "    uvw                (time, baseline, uvw_index) float64 -32.05 -37.31 ... 0.0\n",
      "    uvw_lambda         (time, baseline, frequency, uvw_index) float64 -10.69 ...\n",
      "    channel_bandwidth  (frequency) float64 1e+07 1e+07\n",
      "    integration_time   (time) float64 1.795e+03 1.795e+03 ... 1.795e+03\n",
      "    datetime           (time) datetime64[ns] 2020-01-01T17:30:36.783709447 .....\n"
     ]
    }
   ],
   "source": [
    "print(xvis.data.sel({\"frequency\": [1.0e8, 1.1e8]}))\n"
   ]
  },
  {
   "cell_type": "markdown",
   "metadata": {
    "pycharm": {
     "name": "#%% md\n"
    }
   },
   "source": [
    "sel antenna1 yields smaller XVisibility"
   ]
  },
  {
   "cell_type": "code",
   "execution_count": 7,
   "metadata": {
    "ExecuteTime": {
     "end_time": "2020-09-15T15:41:17.678476Z",
     "start_time": "2020-09-15T15:41:17.662882Z"
    },
    "pycharm": {
     "name": "#%%\n"
    }
   },
   "outputs": [
    {
     "name": "stdout",
     "output_type": "stream",
     "text": [
      "<xarray.Dataset>\n",
      "Dimensions:            (antenna2: 156, frequency: 5, polarisation: 4, time: 16, uvw_index: 3)\n",
      "Coordinates:\n",
      "  * time               (time) float64 5.085e+09 5.085e+09 ... 5.085e+09\n",
      "  * antenna2           (antenna2) int64 10 11 12 13 14 ... 161 162 163 164 165\n",
      "  * frequency          (frequency) float64 1e+08 1.025e+08 ... 1.075e+08 1.1e+08\n",
      "  * polarisation       (polarisation) <U2 'XX' 'XY' 'YX' 'YY'\n",
      "  * uvw_index          (uvw_index) <U1 'u' 'v' 'w'\n",
      "Data variables:\n",
      "    vis                (time, antenna2, frequency, polarisation) complex128 0...\n",
      "    weight             (time, antenna2, frequency, polarisation) float64 1.0 ...\n",
      "    imaging_weight     (time, antenna2, frequency, polarisation) float64 1.0 ...\n",
      "    flags              (time, antenna2, frequency, polarisation) int64 0 0 ... 0\n",
      "    uvw                (time, antenna2, uvw_index) float64 342.6 8.066 ... 140.2\n",
      "    uvw_lambda         (time, antenna2, frequency, uvw_index) float64 114.3 ....\n",
      "    channel_bandwidth  (frequency) float64 1e+07 1e+07 1e+07 1e+07 1e+07\n",
      "    integration_time   (time) float64 1.795e+03 1.795e+03 ... 1.795e+03\n",
      "    datetime           (time) datetime64[ns] 2020-01-01T17:30:36.783709447 .....\n"
     ]
    }
   ],
   "source": [
    "print(xvis.data.sel(indexers={\"antenna1\":10}, drop=False))"
   ]
  },
  {
   "cell_type": "markdown",
   "metadata": {
    "pycharm": {
     "name": "#%% md\n"
    }
   },
   "source": [
    "where antenna1 yields masked arrays"
   ]
  },
  {
   "cell_type": "code",
   "execution_count": 8,
   "metadata": {
    "ExecuteTime": {
     "end_time": "2020-09-15T15:41:17.812802Z",
     "start_time": "2020-09-15T15:41:17.682037Z"
    },
    "pycharm": {
     "name": "#%%\n"
    }
   },
   "outputs": [
    {
     "name": "stdout",
     "output_type": "stream",
     "text": [
      "<xarray.Dataset>\n",
      "Dimensions:            (baseline: 13861, frequency: 5, polarisation: 4, time: 16, uvw_index: 3)\n",
      "Coordinates:\n",
      "  * time               (time) float64 5.085e+09 5.085e+09 ... 5.085e+09\n",
      "  * baseline           (baseline) MultiIndex\n",
      "  - antenna1           (baseline) int64 0 0 0 0 0 0 ... 163 163 163 164 164 165\n",
      "  - antenna2           (baseline) int64 0 1 2 3 4 5 ... 163 164 165 164 165 165\n",
      "  * frequency          (frequency) float64 1e+08 1.025e+08 ... 1.075e+08 1.1e+08\n",
      "  * polarisation       (polarisation) <U2 'XX' 'XY' 'YX' 'YY'\n",
      "  * uvw_index          (uvw_index) <U1 'u' 'v' 'w'\n",
      "Data variables:\n",
      "    vis                (time, baseline, frequency, polarisation) complex128 (...\n",
      "    weight             (time, baseline, frequency, polarisation) float64 nan ...\n",
      "    imaging_weight     (time, baseline, frequency, polarisation) float64 nan ...\n",
      "    flags              (time, baseline, frequency, polarisation) float64 nan ...\n",
      "    uvw                (time, baseline, uvw_index) float64 nan nan ... nan nan\n",
      "    uvw_lambda         (time, baseline, frequency, uvw_index) float64 nan ......\n",
      "    channel_bandwidth  (frequency, baseline) float64 nan nan nan ... nan nan nan\n",
      "    integration_time   (time, baseline) float64 nan nan nan nan ... nan nan nan\n",
      "    datetime           (time, baseline) datetime64[ns] NaT NaT NaT ... NaT NaT\n"
     ]
    }
   ],
   "source": [
    "print(xvis.data.where(xvis.data[\"antenna1\"] == 10))"
   ]
  },
  {
   "cell_type": "markdown",
   "metadata": {
    "pycharm": {
     "name": "#%% md\n"
    }
   },
   "source": [
    "By uvdist yields masked arrays"
   ]
  },
  {
   "cell_type": "code",
   "execution_count": 9,
   "metadata": {
    "ExecuteTime": {
     "end_time": "2020-09-15T15:41:17.903134Z",
     "start_time": "2020-09-15T15:41:17.814862Z"
    },
    "pycharm": {
     "name": "#%%\n"
    }
   },
   "outputs": [
    {
     "name": "stdout",
     "output_type": "stream",
     "text": [
      "<xarray.Dataset>\n",
      "Dimensions:            (baseline: 13861, frequency: 5, polarisation: 4, time: 16, uvw_index: 3)\n",
      "Coordinates:\n",
      "  * time               (time) float64 5.085e+09 5.085e+09 ... 5.085e+09\n",
      "  * baseline           (baseline) MultiIndex\n",
      "  - antenna1           (baseline) int64 0 0 0 0 0 0 ... 163 163 163 164 164 165\n",
      "  - antenna2           (baseline) int64 0 1 2 3 4 5 ... 163 164 165 164 165 165\n",
      "  * frequency          (frequency) float64 1e+08 1.025e+08 ... 1.075e+08 1.1e+08\n",
      "  * polarisation       (polarisation) <U2 'XX' 'XY' 'YX' 'YY'\n",
      "  * uvw_index          (uvw_index) <U1 'u' 'v' 'w'\n",
      "Data variables:\n",
      "    vis                (time, baseline, frequency, polarisation) complex128 (...\n",
      "    weight             (time, baseline, frequency, polarisation) float64 nan ...\n",
      "    imaging_weight     (time, baseline, frequency, polarisation) float64 nan ...\n",
      "    flags              (time, baseline, frequency, polarisation) float64 nan ...\n",
      "    uvw                (time, baseline, uvw_index) float64 nan nan ... 0.0 0.0\n",
      "    uvw_lambda         (time, baseline, frequency, uvw_index) float64 nan ......\n",
      "    channel_bandwidth  (frequency, time, baseline) float64 nan nan ... 1e+07\n",
      "    integration_time   (time, baseline) float64 nan nan ... 1.795e+03 1.795e+03\n",
      "    datetime           (time, baseline) datetime64[ns] NaT ... 2020-01-02T00:...\n"
     ]
    }
   ],
   "source": [
    "print(xvis.data.where(xvis.uvdist < 40.0))"
   ]
  },
  {
   "cell_type": "markdown",
   "metadata": {
    "pycharm": {
     "name": "#%% md\n"
    }
   },
   "source": [
    "By time"
   ]
  },
  {
   "cell_type": "code",
   "execution_count": 10,
   "metadata": {
    "ExecuteTime": {
     "end_time": "2020-09-15T15:41:17.964820Z",
     "start_time": "2020-09-15T15:41:17.904729Z"
    },
    "pycharm": {
     "name": "#%%\n"
    }
   },
   "outputs": [
    {
     "name": "stdout",
     "output_type": "stream",
     "text": [
      "<xarray.Dataset>\n",
      "Dimensions:            (baseline: 13861, frequency: 5, polarisation: 4, time: 16, uvw_index: 3)\n",
      "Coordinates:\n",
      "  * time               (time) float64 5.085e+09 5.085e+09 ... 5.085e+09\n",
      "  * baseline           (baseline) MultiIndex\n",
      "  - antenna1           (baseline) int64 0 0 0 0 0 0 ... 163 163 163 164 164 165\n",
      "  - antenna2           (baseline) int64 0 1 2 3 4 5 ... 163 164 165 164 165 165\n",
      "  * frequency          (frequency) float64 1e+08 1.025e+08 ... 1.075e+08 1.1e+08\n",
      "  * polarisation       (polarisation) <U2 'XX' 'XY' 'YX' 'YY'\n",
      "  * uvw_index          (uvw_index) <U1 'u' 'v' 'w'\n",
      "Data variables:\n",
      "    vis                (time, baseline, frequency, polarisation) complex128 (...\n",
      "    weight             (time, baseline, frequency, polarisation) float64 nan ...\n",
      "    imaging_weight     (time, baseline, frequency, polarisation) float64 nan ...\n",
      "    flags              (time, baseline, frequency, polarisation) float64 nan ...\n",
      "    uvw                (time, baseline, uvw_index) float64 nan nan ... 0.0 0.0\n",
      "    uvw_lambda         (time, baseline, frequency, uvw_index) float64 nan ......\n",
      "    channel_bandwidth  (frequency, time) float64 nan nan nan ... 1e+07 1e+07\n",
      "    integration_time   (time) float64 nan nan nan ... 1.795e+03 1.795e+03\n",
      "    datetime           (time) datetime64[ns] NaT ... 2020-01-02T00:59:23.0649...\n"
     ]
    }
   ],
   "source": [
    "print(xvis.data.where(xvis.data.datetime > numpy.datetime64(\"2020-01-01T23:00:00\")))"
   ]
  },
  {
   "cell_type": "markdown",
   "metadata": {
    "pycharm": {
     "name": "#%% md\n"
    }
   },
   "source": [
    "Grouped by datetime"
   ]
  },
  {
   "cell_type": "code",
   "execution_count": 11,
   "metadata": {
    "ExecuteTime": {
     "end_time": "2020-09-15T15:41:18.088740Z",
     "start_time": "2020-09-15T15:41:17.966554Z"
    },
    "pycharm": {
     "name": "#%%\n"
    }
   },
   "outputs": [
    {
     "name": "stdout",
     "output_type": "stream",
     "text": [
      "2020-01-01T17:30:36.783709447 Frozen(SortedKeysDict({'time': 1, 'baseline': 13861, 'frequency': 5, 'polarisation': 4, 'uvw_index': 3}))\n",
      "2020-01-01T18:00:31.869126577 Frozen(SortedKeysDict({'time': 1, 'baseline': 13861, 'frequency': 5, 'polarisation': 4, 'uvw_index': 3}))\n",
      "2020-01-01T18:30:26.954543078 Frozen(SortedKeysDict({'time': 1, 'baseline': 13861, 'frequency': 5, 'polarisation': 4, 'uvw_index': 3}))\n",
      "2020-01-01T19:00:22.039960208 Frozen(SortedKeysDict({'time': 1, 'baseline': 13861, 'frequency': 5, 'polarisation': 4, 'uvw_index': 3}))\n",
      "2020-01-01T19:30:17.125376710 Frozen(SortedKeysDict({'time': 1, 'baseline': 13861, 'frequency': 5, 'polarisation': 4, 'uvw_index': 3}))\n",
      "2020-01-01T20:00:12.210792582 Frozen(SortedKeysDict({'time': 1, 'baseline': 13861, 'frequency': 5, 'polarisation': 4, 'uvw_index': 3}))\n",
      "2020-01-01T20:30:07.296209084 Frozen(SortedKeysDict({'time': 1, 'baseline': 13861, 'frequency': 5, 'polarisation': 4, 'uvw_index': 3}))\n",
      "2020-01-01T21:00:02.381626214 Frozen(SortedKeysDict({'time': 1, 'baseline': 13861, 'frequency': 5, 'polarisation': 4, 'uvw_index': 3}))\n",
      "2020-01-01T21:29:57.467042715 Frozen(SortedKeysDict({'time': 1, 'baseline': 13861, 'frequency': 5, 'polarisation': 4, 'uvw_index': 3}))\n",
      "2020-01-01T21:59:52.552459845 Frozen(SortedKeysDict({'time': 1, 'baseline': 13861, 'frequency': 5, 'polarisation': 4, 'uvw_index': 3}))\n",
      "2020-01-01T22:29:47.637876347 Frozen(SortedKeysDict({'time': 1, 'baseline': 13861, 'frequency': 5, 'polarisation': 4, 'uvw_index': 3}))\n",
      "2020-01-01T22:59:42.723293477 Frozen(SortedKeysDict({'time': 1, 'baseline': 13861, 'frequency': 5, 'polarisation': 4, 'uvw_index': 3}))\n",
      "2020-01-01T23:29:37.808709349 Frozen(SortedKeysDict({'time': 1, 'baseline': 13861, 'frequency': 5, 'polarisation': 4, 'uvw_index': 3}))\n",
      "2020-01-01T23:59:32.894125851 Frozen(SortedKeysDict({'time': 1, 'baseline': 13861, 'frequency': 5, 'polarisation': 4, 'uvw_index': 3}))\n",
      "2020-01-02T00:29:27.979542981 Frozen(SortedKeysDict({'time': 1, 'baseline': 13861, 'frequency': 5, 'polarisation': 4, 'uvw_index': 3}))\n",
      "2020-01-02T00:59:23.064959482 Frozen(SortedKeysDict({'time': 1, 'baseline': 13861, 'frequency': 5, 'polarisation': 4, 'uvw_index': 3}))\n"
     ]
    }
   ],
   "source": [
    "for result in xvis.data.groupby(\"datetime\"):\n",
    "    print(result[0], result[1].dims)"
   ]
  },
  {
   "cell_type": "markdown",
   "metadata": {},
   "source": [
    "In bins of antenna1"
   ]
  },
  {
   "cell_type": "code",
   "execution_count": 12,
   "metadata": {
    "ExecuteTime": {
     "end_time": "2020-09-15T15:41:18.317846Z",
     "start_time": "2020-09-15T15:41:18.090567Z"
    },
    "pycharm": {
     "name": "#%%\n"
    }
   },
   "outputs": [
    {
     "name": "stdout",
     "output_type": "stream",
     "text": [
      "(-0.165, 10.312] Frozen(SortedKeysDict({'time': 16, 'baseline': 1771, 'frequency': 5, 'polarisation': 4, 'uvw_index': 3}))\n",
      "(10.312, 20.625] Frozen(SortedKeysDict({'time': 16, 'baseline': 1505, 'frequency': 5, 'polarisation': 4, 'uvw_index': 3}))\n",
      "(20.625, 30.938] Frozen(SortedKeysDict({'time': 16, 'baseline': 1405, 'frequency': 5, 'polarisation': 4, 'uvw_index': 3}))\n",
      "(30.938, 41.25] Frozen(SortedKeysDict({'time': 16, 'baseline': 1430, 'frequency': 5, 'polarisation': 4, 'uvw_index': 3}))\n",
      "(41.25, 51.562] Frozen(SortedKeysDict({'time': 16, 'baseline': 1195, 'frequency': 5, 'polarisation': 4, 'uvw_index': 3}))\n",
      "(51.562, 61.875] Frozen(SortedKeysDict({'time': 16, 'baseline': 1095, 'frequency': 5, 'polarisation': 4, 'uvw_index': 3}))\n",
      "(61.875, 72.188] Frozen(SortedKeysDict({'time': 16, 'baseline': 1089, 'frequency': 5, 'polarisation': 4, 'uvw_index': 3}))\n",
      "(72.188, 82.5] Frozen(SortedKeysDict({'time': 16, 'baseline': 885, 'frequency': 5, 'polarisation': 4, 'uvw_index': 3}))\n",
      "(82.5, 92.812] Frozen(SortedKeysDict({'time': 16, 'baseline': 785, 'frequency': 5, 'polarisation': 4, 'uvw_index': 3}))\n",
      "(92.812, 103.125] Frozen(SortedKeysDict({'time': 16, 'baseline': 748, 'frequency': 5, 'polarisation': 4, 'uvw_index': 3}))\n",
      "(103.125, 113.438] Frozen(SortedKeysDict({'time': 16, 'baseline': 575, 'frequency': 5, 'polarisation': 4, 'uvw_index': 3}))\n",
      "(113.438, 123.75] Frozen(SortedKeysDict({'time': 16, 'baseline': 475, 'frequency': 5, 'polarisation': 4, 'uvw_index': 3}))\n",
      "(123.75, 134.062] Frozen(SortedKeysDict({'time': 16, 'baseline': 407, 'frequency': 5, 'polarisation': 4, 'uvw_index': 3}))\n",
      "(134.062, 144.375] Frozen(SortedKeysDict({'time': 16, 'baseline': 265, 'frequency': 5, 'polarisation': 4, 'uvw_index': 3}))\n",
      "(144.375, 154.688] Frozen(SortedKeysDict({'time': 16, 'baseline': 165, 'frequency': 5, 'polarisation': 4, 'uvw_index': 3}))\n",
      "(154.688, 165.0] Frozen(SortedKeysDict({'time': 16, 'baseline': 66, 'frequency': 5, 'polarisation': 4, 'uvw_index': 3}))\n"
     ]
    }
   ],
   "source": [
    "for result in xvis.data.groupby_bins(xvis.data[\"antenna1\"], bins=16):\n",
    "    print(result[0], result[1].dims)"
   ]
  },
  {
   "cell_type": "markdown",
   "metadata": {
    "pycharm": {
     "name": "#%% md\n"
    }
   },
   "source": [
    "Set values using the loc operator"
   ]
  },
  {
   "cell_type": "code",
   "execution_count": 13,
   "metadata": {
    "ExecuteTime": {
     "end_time": "2020-09-15T15:41:18.377120Z",
     "start_time": "2020-09-15T15:41:18.319341Z"
    },
    "pycharm": {
     "name": "#%%\n"
    }
   },
   "outputs": [],
   "source": [
    "xvis.vis.loc[{\"polarisation\":[\"XY\", \"YX\"]}] = 0.0\n",
    "xvis.vis.loc[{\"polarisation\":[\"XX\", \"YY\"], \"frequency\":[1.1e8]}] = 1.0\n",
    "xvis.vis.loc[{\"polarisation\":[\"XX\", \"YY\"], \"frequency\":[1.1e8], \"antenna1\":slice(100,110)}] = 1.0"
   ]
  },
  {
   "cell_type": "code",
   "execution_count": 14,
   "metadata": {
    "ExecuteTime": {
     "end_time": "2020-09-15T15:41:18.392889Z",
     "start_time": "2020-09-15T15:41:18.379113Z"
    },
    "pycharm": {
     "name": "#%%\n"
    }
   },
   "outputs": [
    {
     "name": "stdout",
     "output_type": "stream",
     "text": [
      "<xarray.DataArray 'vis' ()>\n",
      "array(1.+0.j)\n"
     ]
    }
   ],
   "source": [
    "print(numpy.max(xvis.vis))"
   ]
  },
  {
   "cell_type": "code",
   "execution_count": 15,
   "metadata": {
    "ExecuteTime": {
     "end_time": "2020-09-15T15:41:19.399525Z",
     "start_time": "2020-09-15T15:41:18.394200Z"
    },
    "pycharm": {
     "name": "#%%\n"
    }
   },
   "outputs": [
    {
     "data": {
      "image/png": "[encoded data removed]",
      "text/plain": [
       "<Figure size 432x288 with 1 Axes>"
      ]
     },
     "metadata": {
      "needs_background": "light"
     },
     "output_type": "display_data"
    }
   ],
   "source": [
    "import matplotlib.pyplot as plt\n",
    "plt.scatter(xvis.u_lambda, xvis.v_lambda)\n",
    "plt.show(block=False)"
   ]
  },
  {
   "cell_type": "markdown",
   "metadata": {
    "pycharm": {
     "name": "#%% md\n"
    }
   },
   "source": [
    "Recast as Visibility using an unstack of the baseline and then a stack of the various dimensions"
   ]
  },
  {
   "cell_type": "code",
   "execution_count": 16,
   "metadata": {
    "ExecuteTime": {
     "end_time": "2020-09-15T15:41:22.366883Z",
     "start_time": "2020-09-15T15:41:19.401421Z"
    },
    "pycharm": {
     "name": "#%%\n"
    }
   },
   "outputs": [
    {
     "data": {
      "text/html": [
       "<div><svg style=\"position: absolute; width: 0; height: 0; overflow: hidden\">\n",
       "<defs>\n",
       "<symbol id=\"icon-database\" viewBox=\"0 0 32 32\">\n",
       "<path d=\"M16 0c-8.837 0-16 2.239-16 5v4c0 2.761 7.163 5 16 5s16-2.239 16-5v-4c0-2.761-7.163-5-16-5z\"></path>\n",
       "<path d=\"M16 17c-8.837 0-16-2.239-16-5v6c0 2.761 7.163 5 16 5s16-2.239 16-5v-6c0 2.761-7.163 5-16 5z\"></path>\n",
       "<path d=\"M16 26c-8.837 0-16-2.239-16-5v6c0 2.761 7.163 5 16 5s16-2.239 16-5v-6c0 2.761-7.163 5-16 5z\"></path>\n",
       "</symbol>\n",
       "<symbol id=\"icon-file-text2\" viewBox=\"0 0 32 32\">\n",
       "<path d=\"M28.681 7.159c-0.694-0.947-1.662-2.053-2.724-3.116s-2.169-2.030-3.116-2.724c-1.612-1.182-2.393-1.319-2.841-1.319h-15.5c-1.378 0-2.5 1.121-2.5 2.5v27c0 1.378 1.122 2.5 2.5 2.5h23c1.378 0 2.5-1.122 2.5-2.5v-19.5c0-0.448-0.137-1.23-1.319-2.841zM24.543 5.457c0.959 0.959 1.712 1.825 2.268 2.543h-4.811v-4.811c0.718 0.556 1.584 1.309 2.543 2.268zM28 29.5c0 0.271-0.229 0.5-0.5 0.5h-23c-0.271 0-0.5-0.229-0.5-0.5v-27c0-0.271 0.229-0.5 0.5-0.5 0 0 15.499-0 15.5 0v7c0 0.552 0.448 1 1 1h7v19.5z\"></path>\n",
       "<path d=\"M23 26h-14c-0.552 0-1-0.448-1-1s0.448-1 1-1h14c0.552 0 1 0.448 1 1s-0.448 1-1 1z\"></path>\n",
       "<path d=\"M23 22h-14c-0.552 0-1-0.448-1-1s0.448-1 1-1h14c0.552 0 1 0.448 1 1s-0.448 1-1 1z\"></path>\n",
       "<path d=\"M23 18h-14c-0.552 0-1-0.448-1-1s0.448-1 1-1h14c0.552 0 1 0.448 1 1s-0.448 1-1 1z\"></path>\n",
       "</symbol>\n",
       "</defs>\n",
       "</svg>\n",
       "<style>/* CSS stylesheet for displaying xarray objects in jupyterlab.\n",
       " *\n",
       " */\n",
       "\n",
       ":root {\n",
       "  --xr-font-color0: var(--jp-content-font-color0, rgba(0, 0, 0, 1));\n",
       "  --xr-font-color2: var(--jp-content-font-color2, rgba(0, 0, 0, 0.54));\n",
       "  --xr-font-color3: var(--jp-content-font-color3, rgba(0, 0, 0, 0.38));\n",
       "  --xr-border-color: var(--jp-border-color2, #e0e0e0);\n",
       "  --xr-disabled-color: var(--jp-layout-color3, #bdbdbd);\n",
       "  --xr-background-color: var(--jp-layout-color0, white);\n",
       "  --xr-background-color-row-even: var(--jp-layout-color1, white);\n",
       "  --xr-background-color-row-odd: var(--jp-layout-color2, #eeeeee);\n",
       "}\n",
       "\n",
       "html[theme=dark],\n",
       "body.vscode-dark {\n",
       "  --xr-font-color0: rgba(255, 255, 255, 1);\n",
       "  --xr-font-color2: rgba(255, 255, 255, 0.54);\n",
       "  --xr-font-color3: rgba(255, 255, 255, 0.38);\n",
       "  --xr-border-color: #1F1F1F;\n",
       "  --xr-disabled-color: #515151;\n",
       "  --xr-background-color: #111111;\n",
       "  --xr-background-color-row-even: #111111;\n",
       "  --xr-background-color-row-odd: #313131;\n",
       "}\n",
       "\n",
       ".xr-wrap {\n",
       "  display: block;\n",
       "  min-width: 300px;\n",
       "  max-width: 700px;\n",
       "}\n",
       "\n",
       ".xr-text-repr-fallback {\n",
       "  /* fallback to plain text repr when CSS is not injected (untrusted notebook) */\n",
       "  display: none;\n",
       "}\n",
       "\n",
       ".xr-header {\n",
       "  padding-top: 6px;\n",
       "  padding-bottom: 6px;\n",
       "  margin-bottom: 4px;\n",
       "  border-bottom: solid 1px var(--xr-border-color);\n",
       "}\n",
       "\n",
       ".xr-header > div,\n",
       ".xr-header > ul {\n",
       "  display: inline;\n",
       "  margin-top: 0;\n",
       "  margin-bottom: 0;\n",
       "}\n",
       "\n",
       ".xr-obj-type,\n",
       ".xr-array-name {\n",
       "  margin-left: 2px;\n",
       "  margin-right: 10px;\n",
       "}\n",
       "\n",
       ".xr-obj-type {\n",
       "  color: var(--xr-font-color2);\n",
       "}\n",
       "\n",
       ".xr-sections {\n",
       "  padding-left: 0 !important;\n",
       "  display: grid;\n",
       "  grid-template-columns: 150px auto auto 1fr 20px 20px;\n",
       "}\n",
       "\n",
       ".xr-section-item {\n",
       "  display: contents;\n",
       "}\n",
       "\n",
       ".xr-section-item input {\n",
       "  display: none;\n",
       "}\n",
       "\n",
       ".xr-section-item input + label {\n",
       "  color: var(--xr-disabled-color);\n",
       "}\n",
       "\n",
       ".xr-section-item input:enabled + label {\n",
       "  cursor: pointer;\n",
       "  color: var(--xr-font-color2);\n",
       "}\n",
       "\n",
       ".xr-section-item input:enabled + label:hover {\n",
       "  color: var(--xr-font-color0);\n",
       "}\n",
       "\n",
       ".xr-section-summary {\n",
       "  grid-column: 1;\n",
       "  color: var(--xr-font-color2);\n",
       "  font-weight: 500;\n",
       "}\n",
       "\n",
       ".xr-section-summary > span {\n",
       "  display: inline-block;\n",
       "  padding-left: 0.5em;\n",
       "}\n",
       "\n",
       ".xr-section-summary-in:disabled + label {\n",
       "  color: var(--xr-font-color2);\n",
       "}\n",
       "\n",
       ".xr-section-summary-in + label:before {\n",
       "  display: inline-block;\n",
       "  content: '►';\n",
       "  font-size: 11px;\n",
       "  width: 15px;\n",
       "  text-align: center;\n",
       "}\n",
       "\n",
       ".xr-section-summary-in:disabled + label:before {\n",
       "  color: var(--xr-disabled-color);\n",
       "}\n",
       "\n",
       ".xr-section-summary-in:checked + label:before {\n",
       "  content: '▼';\n",
       "}\n",
       "\n",
       ".xr-section-summary-in:checked + label > span {\n",
       "  display: none;\n",
       "}\n",
       "\n",
       ".xr-section-summary,\n",
       ".xr-section-inline-details {\n",
       "  padding-top: 4px;\n",
       "  padding-bottom: 4px;\n",
       "}\n",
       "\n",
       ".xr-section-inline-details {\n",
       "  grid-column: 2 / -1;\n",
       "}\n",
       "\n",
       ".xr-section-details {\n",
       "  display: none;\n",
       "  grid-column: 1 / -1;\n",
       "  margin-bottom: 5px;\n",
       "}\n",
       "\n",
       ".xr-section-summary-in:checked ~ .xr-section-details {\n",
       "  display: contents;\n",
       "}\n",
       "\n",
       ".xr-array-wrap {\n",
       "  grid-column: 1 / -1;\n",
       "  display: grid;\n",
       "  grid-template-columns: 20px auto;\n",
       "}\n",
       "\n",
       ".xr-array-wrap > label {\n",
       "  grid-column: 1;\n",
       "  vertical-align: top;\n",
       "}\n",
       "\n",
       ".xr-preview {\n",
       "  color: var(--xr-font-color3);\n",
       "}\n",
       "\n",
       ".xr-array-preview,\n",
       ".xr-array-data {\n",
       "  padding: 0 5px !important;\n",
       "  grid-column: 2;\n",
       "}\n",
       "\n",
       ".xr-array-data,\n",
       ".xr-array-in:checked ~ .xr-array-preview {\n",
       "  display: none;\n",
       "}\n",
       "\n",
       ".xr-array-in:checked ~ .xr-array-data,\n",
       ".xr-array-preview {\n",
       "  display: inline-block;\n",
       "}\n",
       "\n",
       ".xr-dim-list {\n",
       "  display: inline-block !important;\n",
       "  list-style: none;\n",
       "  padding: 0 !important;\n",
       "  margin: 0;\n",
       "}\n",
       "\n",
       ".xr-dim-list li {\n",
       "  display: inline-block;\n",
       "  padding: 0;\n",
       "  margin: 0;\n",
       "}\n",
       "\n",
       ".xr-dim-list:before {\n",
       "  content: '(';\n",
       "}\n",
       "\n",
       ".xr-dim-list:after {\n",
       "  content: ')';\n",
       "}\n",
       "\n",
       ".xr-dim-list li:not(:last-child):after {\n",
       "  content: ',';\n",
       "  padding-right: 5px;\n",
       "}\n",
       "\n",
       ".xr-has-index {\n",
       "  font-weight: bold;\n",
       "}\n",
       "\n",
       ".xr-var-list,\n",
       ".xr-var-item {\n",
       "  display: contents;\n",
       "}\n",
       "\n",
       ".xr-var-item > div,\n",
       ".xr-var-item label,\n",
       ".xr-var-item > .xr-var-name span {\n",
       "  background-color: var(--xr-background-color-row-even);\n",
       "  margin-bottom: 0;\n",
       "}\n",
       "\n",
       ".xr-var-item > .xr-var-name:hover span {\n",
       "  padding-right: 5px;\n",
       "}\n",
       "\n",
       ".xr-var-list > li:nth-child(odd) > div,\n",
       ".xr-var-list > li:nth-child(odd) > label,\n",
       ".xr-var-list > li:nth-child(odd) > .xr-var-name span {\n",
       "  background-color: var(--xr-background-color-row-odd);\n",
       "}\n",
       "\n",
       ".xr-var-name {\n",
       "  grid-column: 1;\n",
       "}\n",
       "\n",
       ".xr-var-dims {\n",
       "  grid-column: 2;\n",
       "}\n",
       "\n",
       ".xr-var-dtype {\n",
       "  grid-column: 3;\n",
       "  text-align: right;\n",
       "  color: var(--xr-font-color2);\n",
       "}\n",
       "\n",
       ".xr-var-preview {\n",
       "  grid-column: 4;\n",
       "}\n",
       "\n",
       ".xr-var-name,\n",
       ".xr-var-dims,\n",
       ".xr-var-dtype,\n",
       ".xr-preview,\n",
       ".xr-attrs dt {\n",
       "  white-space: nowrap;\n",
       "  overflow: hidden;\n",
       "  text-overflow: ellipsis;\n",
       "  padding-right: 10px;\n",
       "}\n",
       "\n",
       ".xr-var-name:hover,\n",
       ".xr-var-dims:hover,\n",
       ".xr-var-dtype:hover,\n",
       ".xr-attrs dt:hover {\n",
       "  overflow: visible;\n",
       "  width: auto;\n",
       "  z-index: 1;\n",
       "}\n",
       "\n",
       ".xr-var-attrs,\n",
       ".xr-var-data {\n",
       "  display: none;\n",
       "  background-color: var(--xr-background-color) !important;\n",
       "  padding-bottom: 5px !important;\n",
       "}\n",
       "\n",
       ".xr-var-attrs-in:checked ~ .xr-var-attrs,\n",
       ".xr-var-data-in:checked ~ .xr-var-data {\n",
       "  display: block;\n",
       "}\n",
       "\n",
       ".xr-var-data > table {\n",
       "  float: right;\n",
       "}\n",
       "\n",
       ".xr-var-name span,\n",
       ".xr-var-data,\n",
       ".xr-attrs {\n",
       "  padding-left: 25px !important;\n",
       "}\n",
       "\n",
       ".xr-attrs,\n",
       ".xr-var-attrs,\n",
       ".xr-var-data {\n",
       "  grid-column: 1 / -1;\n",
       "}\n",
       "\n",
       "dl.xr-attrs {\n",
       "  padding: 0;\n",
       "  margin: 0;\n",
       "  display: grid;\n",
       "  grid-template-columns: 125px auto;\n",
       "}\n",
       "\n",
       ".xr-attrs dt, dd {\n",
       "  padding: 0;\n",
       "  margin: 0;\n",
       "  float: left;\n",
       "  padding-right: 10px;\n",
       "  width: auto;\n",
       "}\n",
       "\n",
       ".xr-attrs dt {\n",
       "  font-weight: normal;\n",
       "  grid-column: 1;\n",
       "}\n",
       "\n",
       ".xr-attrs dt:hover span {\n",
       "  display: inline-block;\n",
       "  background: var(--xr-background-color);\n",
       "  padding-right: 10px;\n",
       "}\n",
       "\n",
       ".xr-attrs dd {\n",
       "  grid-column: 2;\n",
       "  white-space: pre-wrap;\n",
       "  word-break: break-all;\n",
       "}\n",
       "\n",
       ".xr-icon-database,\n",
       ".xr-icon-file-text2 {\n",
       "  display: inline-block;\n",
       "  vertical-align: middle;\n",
       "  width: 1em;\n",
       "  height: 1.5em !important;\n",
       "  stroke-width: 0;\n",
       "  stroke: currentColor;\n",
       "  fill: currentColor;\n",
       "}\n",
       "</style><pre class='xr-text-repr-fallback'>&lt;xarray.Dataset&gt;\n",
       "Dimensions:            (polarisation: 4, taaf_index: 2204480, uvw_index: 3)\n",
       "Coordinates:\n",
       "  * polarisation       (polarisation) &lt;U2 &#x27;XX&#x27; &#x27;XY&#x27; &#x27;YX&#x27; &#x27;YY&#x27;\n",
       "  * uvw_index          (uvw_index) &lt;U1 &#x27;u&#x27; &#x27;v&#x27; &#x27;w&#x27;\n",
       "  * taaf_index         (taaf_index) MultiIndex\n",
       "  - time               (taaf_index) float64 5.085e+09 5.085e+09 ... 5.085e+09\n",
       "  - antenna2           (taaf_index) int64 0 0 0 0 0 0 ... 165 165 165 165 165\n",
       "  - antenna1           (taaf_index) int64 0 0 0 0 0 1 ... 165 165 165 165 165\n",
       "  - frequency          (taaf_index) float64 1e+08 1.025e+08 ... 1.1e+08\n",
       "Data variables:\n",
       "    vis                (polarisation, taaf_index) complex128 0j 0j ... 0j (1+0j)\n",
       "    weight             (polarisation, taaf_index) float64 0.0 0.0 ... 1.0 1.0\n",
       "    imaging_weight     (polarisation, taaf_index) float64 1.0 1.0 ... 1.0 1.0\n",
       "    flags              (polarisation, taaf_index) float64 0.0 0.0 ... 1.0 1.0\n",
       "    uvw                (uvw_index, taaf_index) float64 -32.05 -32.05 ... 0.0 0.0\n",
       "    uvw_lambda         (uvw_index, taaf_index) float64 -10.69 -10.96 ... 0.0 0.0\n",
       "    channel_bandwidth  (taaf_index) float64 1e+07 1e+07 1e+07 ... 1e+07 1e+07\n",
       "    integration_time   (taaf_index) float64 1.795e+03 1.795e+03 ... 1.795e+03\n",
       "    datetime           (taaf_index) datetime64[ns] 2020-01-01T17:30:36.783709...</pre><div class='xr-wrap' hidden><div class='xr-header'><div class='xr-obj-type'>xarray.Dataset</div></div><ul class='xr-sections'><li class='xr-section-item'><input id='section-41cbe503-6923-457b-9874-eeffb694f87a' class='xr-section-summary-in' type='checkbox' disabled ><label for='section-41cbe503-6923-457b-9874-eeffb694f87a' class='xr-section-summary'  title='Expand/collapse section'>Dimensions:</label><div class='xr-section-inline-details'><ul class='xr-dim-list'><li><span class='xr-has-index'>polarisation</span>: 4</li><li><span class='xr-has-index'>taaf_index</span>: 2204480</li><li><span class='xr-has-index'>uvw_index</span>: 3</li></ul></div><div class='xr-section-details'></div></li><li class='xr-section-item'><input id='section-2de4892f-b599-4cd6-9085-2d1cc9d4faf3' class='xr-section-summary-in' type='checkbox'  checked><label for='section-2de4892f-b599-4cd6-9085-2d1cc9d4faf3' class='xr-section-summary' >Coordinates: <span>(3)</span></label><div class='xr-section-inline-details'></div><div class='xr-section-details'><ul class='xr-var-list'><li class='xr-var-item'><div class='xr-var-name'><span class='xr-has-index'>polarisation</span></div><div class='xr-var-dims'>(polarisation)</div><div class='xr-var-dtype'>&lt;U2</div><div class='xr-var-preview xr-preview'>&#x27;XX&#x27; &#x27;XY&#x27; &#x27;YX&#x27; &#x27;YY&#x27;</div><input id='attrs-777b3528-20c8-4cc4-9f47-f365723358fb' class='xr-var-attrs-in' type='checkbox' disabled><label for='attrs-777b3528-20c8-4cc4-9f47-f365723358fb' title='Show/Hide attributes'><svg class='icon xr-icon-file-text2'><use xlink:href='#icon-file-text2'></use></svg></label><input id='data-946835f1-56b7-4a9b-b06b-edc1a37a632b' class='xr-var-data-in' type='checkbox'><label for='data-946835f1-56b7-4a9b-b06b-edc1a37a632b' title='Show/Hide data repr'><svg class='icon xr-icon-database'><use xlink:href='#icon-database'></use></svg></label><div class='xr-var-attrs'><dl class='xr-attrs'></dl></div><div class='xr-var-data'><pre>array([&#x27;XX&#x27;, &#x27;XY&#x27;, &#x27;YX&#x27;, &#x27;YY&#x27;], dtype=&#x27;&lt;U2&#x27;)</pre></div></li><li class='xr-var-item'><div class='xr-var-name'><span class='xr-has-index'>uvw_index</span></div><div class='xr-var-dims'>(uvw_index)</div><div class='xr-var-dtype'>&lt;U1</div><div class='xr-var-preview xr-preview'>&#x27;u&#x27; &#x27;v&#x27; &#x27;w&#x27;</div><input id='attrs-9261bf16-d1bd-4a70-acec-53f000d03e49' class='xr-var-attrs-in' type='checkbox' disabled><label for='attrs-9261bf16-d1bd-4a70-acec-53f000d03e49' title='Show/Hide attributes'><svg class='icon xr-icon-file-text2'><use xlink:href='#icon-file-text2'></use></svg></label><input id='data-98bf5397-f702-4026-a5ba-e08f7c01eb54' class='xr-var-data-in' type='checkbox'><label for='data-98bf5397-f702-4026-a5ba-e08f7c01eb54' title='Show/Hide data repr'><svg class='icon xr-icon-database'><use xlink:href='#icon-database'></use></svg></label><div class='xr-var-attrs'><dl class='xr-attrs'></dl></div><div class='xr-var-data'><pre>array([&#x27;u&#x27;, &#x27;v&#x27;, &#x27;w&#x27;], dtype=&#x27;&lt;U1&#x27;)</pre></div></li><li class='xr-var-item'><div class='xr-var-name'><span class='xr-has-index'>taaf_index</span></div><div class='xr-var-dims'>(taaf_index)</div><div class='xr-var-dtype'>MultiIndex</div><div class='xr-var-preview xr-preview'>(time, antenna2, antenna1, frequency)</div><input id='attrs-a57c8b3a-c56d-49f8-a67f-f7d57fc0a25c' class='xr-var-attrs-in' type='checkbox' disabled><label for='attrs-a57c8b3a-c56d-49f8-a67f-f7d57fc0a25c' title='Show/Hide attributes'><svg class='icon xr-icon-file-text2'><use xlink:href='#icon-file-text2'></use></svg></label><input id='data-bb34b8cd-a930-44fb-a5bd-ee5340544c4b' class='xr-var-data-in' type='checkbox'><label for='data-bb34b8cd-a930-44fb-a5bd-ee5340544c4b' title='Show/Hide data repr'><svg class='icon xr-icon-database'><use xlink:href='#icon-database'></use></svg></label><div class='xr-var-attrs'><dl class='xr-attrs'></dl></div><div class='xr-var-data'><pre>array([(5084616636.78371, 0, 0, 100000000.0),\n",
       "       (5084616636.78371, 0, 0, 102500000.0),\n",
       "       (5084616636.78371, 0, 0, 105000000.0), ...,\n",
       "       (5084643563.06496, 165, 165, 105000000.0),\n",
       "       (5084643563.06496, 165, 165, 107500000.0),\n",
       "       (5084643563.06496, 165, 165, 110000000.0)], dtype=object)</pre></div></li><li class='xr-var-item'><div class='xr-var-name'><span>time</span></div><div class='xr-var-dims'>(taaf_index)</div><div class='xr-var-dtype'>float64</div><div class='xr-var-preview xr-preview'>5.085e+09 5.085e+09 ... 5.085e+09</div><input id='attrs-5705a451-1fe5-4fab-8cb6-0ce895206e1c' class='xr-var-attrs-in' type='checkbox' disabled><label for='attrs-5705a451-1fe5-4fab-8cb6-0ce895206e1c' title='Show/Hide attributes'><svg class='icon xr-icon-file-text2'><use xlink:href='#icon-file-text2'></use></svg></label><input id='data-d9650480-3875-45bd-8261-9333b7733705' class='xr-var-data-in' type='checkbox'><label for='data-d9650480-3875-45bd-8261-9333b7733705' title='Show/Hide data repr'><svg class='icon xr-icon-database'><use xlink:href='#icon-database'></use></svg></label><div class='xr-var-attrs'><dl class='xr-attrs'></dl></div><div class='xr-var-data'><pre>array([5.084617e+09, 5.084617e+09, 5.084617e+09, ..., 5.084644e+09,\n",
       "       5.084644e+09, 5.084644e+09])</pre></div></li><li class='xr-var-item'><div class='xr-var-name'><span>antenna2</span></div><div class='xr-var-dims'>(taaf_index)</div><div class='xr-var-dtype'>int64</div><div class='xr-var-preview xr-preview'>0 0 0 0 0 0 ... 165 165 165 165 165</div><input id='attrs-82c4dd52-df5c-453b-ac1a-3f4cce7f5c31' class='xr-var-attrs-in' type='checkbox' disabled><label for='attrs-82c4dd52-df5c-453b-ac1a-3f4cce7f5c31' title='Show/Hide attributes'><svg class='icon xr-icon-file-text2'><use xlink:href='#icon-file-text2'></use></svg></label><input id='data-6e532e89-19a0-4154-a561-b72c66ee8f20' class='xr-var-data-in' type='checkbox'><label for='data-6e532e89-19a0-4154-a561-b72c66ee8f20' title='Show/Hide data repr'><svg class='icon xr-icon-database'><use xlink:href='#icon-database'></use></svg></label><div class='xr-var-attrs'><dl class='xr-attrs'></dl></div><div class='xr-var-data'><pre>array([  0,   0,   0, ..., 165, 165, 165])</pre></div></li><li class='xr-var-item'><div class='xr-var-name'><span>antenna1</span></div><div class='xr-var-dims'>(taaf_index)</div><div class='xr-var-dtype'>int64</div><div class='xr-var-preview xr-preview'>0 0 0 0 0 1 ... 165 165 165 165 165</div><input id='attrs-cf8e5401-ea2e-45f6-b3cd-4b26a057be2e' class='xr-var-attrs-in' type='checkbox' disabled><label for='attrs-cf8e5401-ea2e-45f6-b3cd-4b26a057be2e' title='Show/Hide attributes'><svg class='icon xr-icon-file-text2'><use xlink:href='#icon-file-text2'></use></svg></label><input id='data-abe70136-4a6c-4386-9006-24afa83af75e' class='xr-var-data-in' type='checkbox'><label for='data-abe70136-4a6c-4386-9006-24afa83af75e' title='Show/Hide data repr'><svg class='icon xr-icon-database'><use xlink:href='#icon-database'></use></svg></label><div class='xr-var-attrs'><dl class='xr-attrs'></dl></div><div class='xr-var-data'><pre>array([  0,   0,   0, ..., 165, 165, 165])</pre></div></li><li class='xr-var-item'><div class='xr-var-name'><span>frequency</span></div><div class='xr-var-dims'>(taaf_index)</div><div class='xr-var-dtype'>float64</div><div class='xr-var-preview xr-preview'>1e+08 1.025e+08 ... 1.1e+08</div><input id='attrs-114f50ea-f276-4c9a-8409-621de93cdf22' class='xr-var-attrs-in' type='checkbox' disabled><label for='attrs-114f50ea-f276-4c9a-8409-621de93cdf22' title='Show/Hide attributes'><svg class='icon xr-icon-file-text2'><use xlink:href='#icon-file-text2'></use></svg></label><input id='data-c79edac2-9a25-4d76-aa9d-b3ba05b094ba' class='xr-var-data-in' type='checkbox'><label for='data-c79edac2-9a25-4d76-aa9d-b3ba05b094ba' title='Show/Hide data repr'><svg class='icon xr-icon-database'><use xlink:href='#icon-database'></use></svg></label><div class='xr-var-attrs'><dl class='xr-attrs'></dl></div><div class='xr-var-data'><pre>array([1.000e+08, 1.025e+08, 1.050e+08, ..., 1.050e+08, 1.075e+08, 1.100e+08])</pre></div></li></ul></div></li><li class='xr-section-item'><input id='section-668587ea-552d-42b3-bf9a-ec95c107c828' class='xr-section-summary-in' type='checkbox'  checked><label for='section-668587ea-552d-42b3-bf9a-ec95c107c828' class='xr-section-summary' >Data variables: <span>(9)</span></label><div class='xr-section-inline-details'></div><div class='xr-section-details'><ul class='xr-var-list'><li class='xr-var-item'><div class='xr-var-name'><span>vis</span></div><div class='xr-var-dims'>(polarisation, taaf_index)</div><div class='xr-var-dtype'>complex128</div><div class='xr-var-preview xr-preview'>0j 0j 0j 0j ... 0j 0j 0j (1+0j)</div><input id='attrs-ba2deabd-6764-4b30-a1aa-02a89f41edef' class='xr-var-attrs-in' type='checkbox' disabled><label for='attrs-ba2deabd-6764-4b30-a1aa-02a89f41edef' title='Show/Hide attributes'><svg class='icon xr-icon-file-text2'><use xlink:href='#icon-file-text2'></use></svg></label><input id='data-a389ed59-0bb9-40b2-a45f-a6b0c9f2a166' class='xr-var-data-in' type='checkbox'><label for='data-a389ed59-0bb9-40b2-a45f-a6b0c9f2a166' title='Show/Hide data repr'><svg class='icon xr-icon-database'><use xlink:href='#icon-database'></use></svg></label><div class='xr-var-attrs'><dl class='xr-attrs'></dl></div><div class='xr-var-data'><pre>array([[0.+0.j, 0.+0.j, 0.+0.j, ..., 0.+0.j, 0.+0.j, 1.+0.j],\n",
       "       [0.+0.j, 0.+0.j, 0.+0.j, ..., 0.+0.j, 0.+0.j, 0.+0.j],\n",
       "       [0.+0.j, 0.+0.j, 0.+0.j, ..., 0.+0.j, 0.+0.j, 0.+0.j],\n",
       "       [0.+0.j, 0.+0.j, 0.+0.j, ..., 0.+0.j, 0.+0.j, 1.+0.j]])</pre></div></li><li class='xr-var-item'><div class='xr-var-name'><span>weight</span></div><div class='xr-var-dims'>(polarisation, taaf_index)</div><div class='xr-var-dtype'>float64</div><div class='xr-var-preview xr-preview'>0.0 0.0 0.0 0.0 ... 1.0 1.0 1.0 1.0</div><input id='attrs-9492b06e-9289-4cf4-af9b-d29cb6ebf550' class='xr-var-attrs-in' type='checkbox' disabled><label for='attrs-9492b06e-9289-4cf4-af9b-d29cb6ebf550' title='Show/Hide attributes'><svg class='icon xr-icon-file-text2'><use xlink:href='#icon-file-text2'></use></svg></label><input id='data-8da3ea61-71b7-4513-803f-33453ad988d5' class='xr-var-data-in' type='checkbox'><label for='data-8da3ea61-71b7-4513-803f-33453ad988d5' title='Show/Hide data repr'><svg class='icon xr-icon-database'><use xlink:href='#icon-database'></use></svg></label><div class='xr-var-attrs'><dl class='xr-attrs'></dl></div><div class='xr-var-data'><pre>array([[0., 0., 0., ..., 1., 1., 1.],\n",
       "       [0., 0., 0., ..., 1., 1., 1.],\n",
       "       [0., 0., 0., ..., 1., 1., 1.],\n",
       "       [0., 0., 0., ..., 1., 1., 1.]])</pre></div></li><li class='xr-var-item'><div class='xr-var-name'><span>imaging_weight</span></div><div class='xr-var-dims'>(polarisation, taaf_index)</div><div class='xr-var-dtype'>float64</div><div class='xr-var-preview xr-preview'>1.0 1.0 1.0 1.0 ... 1.0 1.0 1.0 1.0</div><input id='attrs-e1b2aa40-fd36-4266-84bc-421d90b56b6a' class='xr-var-attrs-in' type='checkbox' disabled><label for='attrs-e1b2aa40-fd36-4266-84bc-421d90b56b6a' title='Show/Hide attributes'><svg class='icon xr-icon-file-text2'><use xlink:href='#icon-file-text2'></use></svg></label><input id='data-25f6c4c3-b2af-48af-add0-398d90618499' class='xr-var-data-in' type='checkbox'><label for='data-25f6c4c3-b2af-48af-add0-398d90618499' title='Show/Hide data repr'><svg class='icon xr-icon-database'><use xlink:href='#icon-database'></use></svg></label><div class='xr-var-attrs'><dl class='xr-attrs'></dl></div><div class='xr-var-data'><pre>array([[1., 1., 1., ..., 1., 1., 1.],\n",
       "       [1., 1., 1., ..., 1., 1., 1.],\n",
       "       [1., 1., 1., ..., 1., 1., 1.],\n",
       "       [1., 1., 1., ..., 1., 1., 1.]])</pre></div></li><li class='xr-var-item'><div class='xr-var-name'><span>flags</span></div><div class='xr-var-dims'>(polarisation, taaf_index)</div><div class='xr-var-dtype'>float64</div><div class='xr-var-preview xr-preview'>0.0 0.0 0.0 0.0 ... 1.0 1.0 1.0 1.0</div><input id='attrs-34566912-2bb3-4865-a7b6-6504cf470b71' class='xr-var-attrs-in' type='checkbox' disabled><label for='attrs-34566912-2bb3-4865-a7b6-6504cf470b71' title='Show/Hide attributes'><svg class='icon xr-icon-file-text2'><use xlink:href='#icon-file-text2'></use></svg></label><input id='data-54bd6cf1-9036-4760-8e8d-160d707d8a3f' class='xr-var-data-in' type='checkbox'><label for='data-54bd6cf1-9036-4760-8e8d-160d707d8a3f' title='Show/Hide data repr'><svg class='icon xr-icon-database'><use xlink:href='#icon-database'></use></svg></label><div class='xr-var-attrs'><dl class='xr-attrs'></dl></div><div class='xr-var-data'><pre>array([[0., 0., 0., ..., 1., 1., 1.],\n",
       "       [0., 0., 0., ..., 1., 1., 1.],\n",
       "       [0., 0., 0., ..., 1., 1., 1.],\n",
       "       [0., 0., 0., ..., 1., 1., 1.]])</pre></div></li><li class='xr-var-item'><div class='xr-var-name'><span>uvw</span></div><div class='xr-var-dims'>(uvw_index, taaf_index)</div><div class='xr-var-dtype'>float64</div><div class='xr-var-preview xr-preview'>-32.05 -32.05 -32.05 ... 0.0 0.0</div><input id='attrs-94926c7b-b90f-46de-aae5-3c3960069dee' class='xr-var-attrs-in' type='checkbox' disabled><label for='attrs-94926c7b-b90f-46de-aae5-3c3960069dee' title='Show/Hide attributes'><svg class='icon xr-icon-file-text2'><use xlink:href='#icon-file-text2'></use></svg></label><input id='data-16ab78e7-516b-44ae-83cf-e4baa9c672cb' class='xr-var-data-in' type='checkbox'><label for='data-16ab78e7-516b-44ae-83cf-e4baa9c672cb' title='Show/Hide data repr'><svg class='icon xr-icon-database'><use xlink:href='#icon-database'></use></svg></label><div class='xr-var-attrs'><dl class='xr-attrs'></dl></div><div class='xr-var-data'><pre>array([[-32.04807915, -32.04807915, -32.04807915, ...,   0.        ,\n",
       "          0.        ,   0.        ],\n",
       "       [-37.31145311, -37.31145311, -37.31145311, ...,   0.        ,\n",
       "          0.        ,   0.        ],\n",
       "       [-53.28627739, -53.28627739, -53.28627739, ...,   0.        ,\n",
       "          0.        ,   0.        ]])</pre></div></li><li class='xr-var-item'><div class='xr-var-name'><span>uvw_lambda</span></div><div class='xr-var-dims'>(uvw_index, taaf_index)</div><div class='xr-var-dtype'>float64</div><div class='xr-var-preview xr-preview'>-10.69 -10.96 -11.22 ... 0.0 0.0</div><input id='attrs-ab490cf5-babe-4fb2-ba96-6ddce201bf22' class='xr-var-attrs-in' type='checkbox' disabled><label for='attrs-ab490cf5-babe-4fb2-ba96-6ddce201bf22' title='Show/Hide attributes'><svg class='icon xr-icon-file-text2'><use xlink:href='#icon-file-text2'></use></svg></label><input id='data-ccae2c53-1cee-44bc-b616-ca0653ee8493' class='xr-var-data-in' type='checkbox'><label for='data-ccae2c53-1cee-44bc-b616-ca0653ee8493' title='Show/Hide data repr'><svg class='icon xr-icon-database'><use xlink:href='#icon-database'></use></svg></label><div class='xr-var-attrs'><dl class='xr-attrs'></dl></div><div class='xr-var-data'><pre>array([[-10.69008852, -10.95734074, -11.22459295, ...,   0.        ,\n",
       "          0.        ,   0.        ],\n",
       "       [-12.4457611 , -12.75690513, -13.06804915, ...,   0.        ,\n",
       "          0.        ,   0.        ],\n",
       "       [-17.7743889 , -18.21874863, -18.66310835, ...,   0.        ,\n",
       "          0.        ,   0.        ]])</pre></div></li><li class='xr-var-item'><div class='xr-var-name'><span>channel_bandwidth</span></div><div class='xr-var-dims'>(taaf_index)</div><div class='xr-var-dtype'>float64</div><div class='xr-var-preview xr-preview'>1e+07 1e+07 1e+07 ... 1e+07 1e+07</div><input id='attrs-2ebdbeaa-aea1-4b81-a952-23b4d1cb01d7' class='xr-var-attrs-in' type='checkbox' disabled><label for='attrs-2ebdbeaa-aea1-4b81-a952-23b4d1cb01d7' title='Show/Hide attributes'><svg class='icon xr-icon-file-text2'><use xlink:href='#icon-file-text2'></use></svg></label><input id='data-52f630b4-b15f-478e-81fd-1dd615d01aca' class='xr-var-data-in' type='checkbox'><label for='data-52f630b4-b15f-478e-81fd-1dd615d01aca' title='Show/Hide data repr'><svg class='icon xr-icon-database'><use xlink:href='#icon-database'></use></svg></label><div class='xr-var-attrs'><dl class='xr-attrs'></dl></div><div class='xr-var-data'><pre>array([10000000., 10000000., 10000000., ..., 10000000., 10000000.,\n",
       "       10000000.])</pre></div></li><li class='xr-var-item'><div class='xr-var-name'><span>integration_time</span></div><div class='xr-var-dims'>(taaf_index)</div><div class='xr-var-dtype'>float64</div><div class='xr-var-preview xr-preview'>1.795e+03 1.795e+03 ... 1.795e+03</div><input id='attrs-7c1a67a0-cd41-4b87-a2a8-afe630979b30' class='xr-var-attrs-in' type='checkbox' disabled><label for='attrs-7c1a67a0-cd41-4b87-a2a8-afe630979b30' title='Show/Hide attributes'><svg class='icon xr-icon-file-text2'><use xlink:href='#icon-file-text2'></use></svg></label><input id='data-e6a5da3e-e4e0-4649-97e0-ee870f228c97' class='xr-var-data-in' type='checkbox'><label for='data-e6a5da3e-e4e0-4649-97e0-ee870f228c97' title='Show/Hide data repr'><svg class='icon xr-icon-database'><use xlink:href='#icon-database'></use></svg></label><div class='xr-var-attrs'><dl class='xr-attrs'></dl></div><div class='xr-var-data'><pre>array([1795.08541679, 1795.08541679, 1795.08541679, ..., 1795.08541679,\n",
       "       1795.08541679, 1795.08541679])</pre></div></li><li class='xr-var-item'><div class='xr-var-name'><span>datetime</span></div><div class='xr-var-dims'>(taaf_index)</div><div class='xr-var-dtype'>datetime64[ns]</div><div class='xr-var-preview xr-preview'>2020-01-01T17:30:36.783709447 .....</div><input id='attrs-afe8b62e-e19a-434c-a543-8595e9d4b078' class='xr-var-attrs-in' type='checkbox' disabled><label for='attrs-afe8b62e-e19a-434c-a543-8595e9d4b078' title='Show/Hide attributes'><svg class='icon xr-icon-file-text2'><use xlink:href='#icon-file-text2'></use></svg></label><input id='data-53bbe109-399d-4a7c-a86e-6486c7006f05' class='xr-var-data-in' type='checkbox'><label for='data-53bbe109-399d-4a7c-a86e-6486c7006f05' title='Show/Hide data repr'><svg class='icon xr-icon-database'><use xlink:href='#icon-database'></use></svg></label><div class='xr-var-attrs'><dl class='xr-attrs'></dl></div><div class='xr-var-data'><pre>array([&#x27;2020-01-01T17:30:36.783709447&#x27;, &#x27;2020-01-01T17:30:36.783709447&#x27;,\n",
       "       &#x27;2020-01-01T17:30:36.783709447&#x27;, ...,\n",
       "       &#x27;2020-01-02T00:59:23.064959482&#x27;, &#x27;2020-01-02T00:59:23.064959482&#x27;,\n",
       "       &#x27;2020-01-02T00:59:23.064959482&#x27;], dtype=&#x27;datetime64[ns]&#x27;)</pre></div></li></ul></div></li><li class='xr-section-item'><input id='section-bcc984b8-5fb1-4bc0-b4f1-13658ddfac19' class='xr-section-summary-in' type='checkbox' disabled ><label for='section-bcc984b8-5fb1-4bc0-b4f1-13658ddfac19' class='xr-section-summary'  title='Expand/collapse section'>Attributes: <span>(0)</span></label><div class='xr-section-inline-details'></div><div class='xr-section-details'><dl class='xr-attrs'></dl></div></li></ul></div></div>"
      ],
      "text/plain": [
       "<xarray.Dataset>\n",
       "Dimensions:            (polarisation: 4, taaf_index: 2204480, uvw_index: 3)\n",
       "Coordinates:\n",
       "  * polarisation       (polarisation) <U2 'XX' 'XY' 'YX' 'YY'\n",
       "  * uvw_index          (uvw_index) <U1 'u' 'v' 'w'\n",
       "  * taaf_index         (taaf_index) MultiIndex\n",
       "  - time               (taaf_index) float64 5.085e+09 5.085e+09 ... 5.085e+09\n",
       "  - antenna2           (taaf_index) int64 0 0 0 0 0 0 ... 165 165 165 165 165\n",
       "  - antenna1           (taaf_index) int64 0 0 0 0 0 1 ... 165 165 165 165 165\n",
       "  - frequency          (taaf_index) float64 1e+08 1.025e+08 ... 1.1e+08\n",
       "Data variables:\n",
       "    vis                (polarisation, taaf_index) complex128 0j 0j ... 0j (1+0j)\n",
       "    weight             (polarisation, taaf_index) float64 0.0 0.0 ... 1.0 1.0\n",
       "    imaging_weight     (polarisation, taaf_index) float64 1.0 1.0 ... 1.0 1.0\n",
       "    flags              (polarisation, taaf_index) float64 0.0 0.0 ... 1.0 1.0\n",
       "    uvw                (uvw_index, taaf_index) float64 -32.05 -32.05 ... 0.0 0.0\n",
       "    uvw_lambda         (uvw_index, taaf_index) float64 -10.69 -10.96 ... 0.0 0.0\n",
       "    channel_bandwidth  (taaf_index) float64 1e+07 1e+07 1e+07 ... 1e+07 1e+07\n",
       "    integration_time   (taaf_index) float64 1.795e+03 1.795e+03 ... 1.795e+03\n",
       "    datetime           (taaf_index) datetime64[ns] 2020-01-01T17:30:36.783709..."
      ]
     },
     "execution_count": 16,
     "metadata": {},
     "output_type": "execute_result"
    }
   ],
   "source": [
    "xvis.data.unstack(\"baseline\").stack(taaf_index=[\"time\", \"antenna2\", \"antenna1\", \"frequency\"])"
   ]
  }
 ],
 "metadata": {
  "kernelspec": {
   "display_name": "Python 3",
   "language": "python",
   "name": "python3"
  },
  "language_info": {
   "codemirror_mode": {
    "name": "ipython",
    "version": 3
   },
   "file_extension": ".py",
   "mimetype": "text/x-python",
   "name": "python",
   "nbconvert_exporter": "python",
   "pygments_lexer": "ipython3",
   "version": "3.7.8"
  }
 },
 "nbformat": 4,
 "nbformat_minor": 1
}