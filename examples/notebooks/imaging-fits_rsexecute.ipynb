{
 "cells": [
  {
   "cell_type": "markdown",
   "metadata": {},
   "source": [
    "## Demonstrate full circle wide field imaging\n",
    "\n",
    "This include prediction of components, inversion, point source fitting. We will compare the output images with the input models, looking for closeness in flux and position."
   ]
  },
  {
   "cell_type": "code",
   "execution_count": null,
   "metadata": {
    "ExecuteTime": {
     "end_time": "2020-11-19T14:19:06.898191Z",
     "start_time": "2020-11-19T14:19:04.762513Z"
    }
   },
   "outputs": [],
   "source": [
    "%matplotlib inline\n",
    "\n",
    "import os\n",
    "import sys\n",
    "\n",
    "sys.path.append(os.path.join('..', '..'))\n",
    "\n",
    "results_dir = '/tmp/'\n",
    "\n",
    "from matplotlib import pylab\n",
    "\n",
    "pylab.rcParams['figure.figsize'] = (10.0, 10.0)\n",
    "pylab.rcParams['image.cmap'] = 'rainbow'\n",
    "\n",
    "from matplotlib import pyplot as plt\n",
    "\n",
    "import numpy\n",
    "\n",
    "from astropy.coordinates import SkyCoord\n",
    "from astropy import units as u\n",
    "from astropy.wcs.utils import pixel_to_skycoord\n",
    "\n",
    "from rascil.data_models import PolarisationFrame\n",
    "\n",
    "from rascil.processing_components import create_blockvisibility, create_skycomponent, \\\n",
    "    find_skycomponents, find_nearest_skycomponent, insert_skycomponent, show_image, export_image_to_fits, \\\n",
    "    qa_image, smooth_image, create_named_configuration, advise_wide_field, create_image_from_visibility, \\\n",
    "    dft_skycomponent_visibility, idft_visibility_skycomponent, create_awterm_convolutionfunction, \\\n",
    "    apply_bounding_box_convolutionfunction, plot_visibility\n",
    "\n",
    "# Use workflows for imaging\n",
    "from rascil.workflows.rsexecute.execution_support.rsexecute import rsexecute\n",
    "\n",
    "from rascil.workflows import  predict_list_rsexecute_workflow, \\\n",
    "    invert_list_rsexecute_workflow\n",
    "import logging\n",
    "\n",
    "log = logging.getLogger()\n",
    "log.setLevel(logging.DEBUG)\n",
    "log.addHandler(logging.StreamHandler(sys.stdout))\n",
    "\n",
    "mpl_logger = logging.getLogger(\"matplotlib\") \n",
    "mpl_logger.setLevel(logging.WARNING) \n"
   ]
  },
  {
   "cell_type": "code",
   "execution_count": null,
   "metadata": {
    "ExecuteTime": {
     "end_time": "2020-11-19T14:19:06.903554Z",
     "start_time": "2020-11-19T14:19:06.900539Z"
    }
   },
   "outputs": [],
   "source": [
    "pylab.rcParams['figure.figsize'] = (12.0, 12.0)\n",
    "pylab.rcParams['image.cmap'] = 'rainbow'"
   ]
  },
  {
   "cell_type": "markdown",
   "metadata": {},
   "source": [
    "Construct the SKA1-LOW core configuration"
   ]
  },
  {
   "cell_type": "code",
   "execution_count": null,
   "metadata": {
    "ExecuteTime": {
     "end_time": "2020-11-19T14:19:06.925264Z",
     "start_time": "2020-11-19T14:19:06.908610Z"
    }
   },
   "outputs": [],
   "source": [
    "lowcore = create_named_configuration('LOWBD2-CORE')"
   ]
  },
  {
   "cell_type": "markdown",
   "metadata": {},
   "source": [
    "set up rsexecute to use dask. If we are running in docker then the scheduler may be available by name.\n",
    "Otherwise we just create a LocalCluster."
   ]
  },
  {
   "cell_type": "code",
   "execution_count": null,
   "metadata": {
    "ExecuteTime": {
     "end_time": "2020-11-19T14:19:18.629657Z",
     "start_time": "2020-11-19T14:19:06.926633Z"
    }
   },
   "outputs": [],
   "source": [
    "from dask.distributed import Client, LocalCluster\n",
    "try:\n",
    "    client = Client('scheduler:8786', timeout=10)\n",
    "except OSError:\n",
    "    try:\n",
    "        # scheduler when run as a kubernetes cluster\n",
    "        client = Client('rascil-dask-scheduler:8786', timeout=10)\n",
    "    except OSError:\n",
    "        client =Client(LocalCluster(processes=True, threads_per_worker=1))\n",
    "print(client)\n",
    "\n",
    "rsexecute.set_client(client=client)"
   ]
  },
  {
   "cell_type": "markdown",
   "metadata": {},
   "source": [
    "We create the visibility. This just makes the uvw, time, antenna1, antenna2, weight columns in a table"
   ]
  },
  {
   "cell_type": "code",
   "execution_count": null,
   "metadata": {
    "ExecuteTime": {
     "end_time": "2020-11-19T14:19:19.265082Z",
     "start_time": "2020-11-19T14:19:18.631422Z"
    },
    "scrolled": false
   },
   "outputs": [],
   "source": [
    "times = numpy.array([-3.0, -2.0, -1.0, 0.0, 1.0, 2.0, 3.0]) * (numpy.pi / 12.0)\n",
    "frequency = numpy.array([1e8])\n",
    "channel_bandwidth = numpy.array([1e6])\n",
    "reffrequency = numpy.max(frequency)\n",
    "phasecentre = SkyCoord(ra=+15.0 * u.deg, dec=-45.0 * u.deg, frame='icrs', equinox='J2000')\n",
    "vt = create_blockvisibility(lowcore, times, frequency, channel_bandwidth=channel_bandwidth,\n",
    "                       weight=1.0, phasecentre=phasecentre, \n",
    "                       polarisation_frame=PolarisationFrame('stokesI'))"
   ]
  },
  {
   "cell_type": "code",
   "execution_count": null,
   "metadata": {
    "ExecuteTime": {
     "end_time": "2020-11-19T14:19:19.285565Z",
     "start_time": "2020-11-19T14:19:19.266611Z"
    }
   },
   "outputs": [],
   "source": [
    "advice = advise_wide_field(vt, wprojection_planes=1)"
   ]
  },
  {
   "cell_type": "markdown",
   "metadata": {},
   "source": [
    "Fill in the visibility with exact calculation of a number of point sources"
   ]
  },
  {
   "cell_type": "code",
   "execution_count": null,
   "metadata": {
    "ExecuteTime": {
     "end_time": "2020-11-19T14:19:21.250901Z",
     "start_time": "2020-11-19T14:19:19.289828Z"
    },
    "scrolled": false
   },
   "outputs": [],
   "source": [
    "vt[\"vis\"].data[...] *= 0.0\n",
    "npixel=256\n",
    "\n",
    "model = create_image_from_visibility(vt, npixel=npixel, cellsize=0.001, nchan=1, \n",
    "                                     polarisation_frame=PolarisationFrame('stokesI'))\n",
    "centre = model.image_acc.wcs.wcs.crpix-1\n",
    "spacing_pixels = npixel // 8\n",
    "log.info('Spacing in pixels = %s' % spacing_pixels)\n",
    "spacing = model.image_acc.wcs.wcs.cdelt * spacing_pixels\n",
    "locations = [-3.5, -2.5, -1.5, -0.5, 0.5, 1.5, 2.5, 3.5]\n",
    "\n",
    "original_comps = []\n",
    "# We calculate the source positions in pixels and then calculate the\n",
    "# world coordinates to put in the skycomponent description\n",
    "for iy in locations:\n",
    "    for ix in locations:\n",
    "        if ix >= iy:\n",
    "            p = int(round(centre[0] + ix * spacing_pixels * numpy.sign(model.image_acc.wcs.wcs.cdelt[0]))), \\\n",
    "                int(round(centre[1] + iy * spacing_pixels * numpy.sign(model.image_acc.wcs.wcs.cdelt[1])))\n",
    "            sc = pixel_to_skycoord(p[0], p[1], model.image_acc.wcs)\n",
    "            log.info(\"Component at (%f, %f) [0-rel] %s\" % (p[0], p[1], str(sc)))\n",
    "            flux = numpy.array([[100.0 + 2.0 * ix + iy * 20.0]])\n",
    "            comp = create_skycomponent(flux=flux, frequency=frequency, direction=sc, \n",
    "                                       polarisation_frame=PolarisationFrame('stokesI'))\n",
    "            original_comps.append(comp)\n",
    "            insert_skycomponent(model, comp)\n",
    "\n",
    "vt = dft_skycomponent_visibility(vt, original_comps)\n",
    "cmodel = smooth_image(model) \n",
    "show_image(cmodel)\n",
    "plt.title(\"Smoothed model image\")\n",
    "plt.show()"
   ]
  },
  {
   "cell_type": "code",
   "execution_count": null,
   "metadata": {
    "ExecuteTime": {
     "end_time": "2020-11-19T14:20:16.973960Z",
     "start_time": "2020-11-19T14:20:16.966377Z"
    }
   },
   "outputs": [],
   "source": [
    "print(model)"
   ]
  },
  {
   "cell_type": "markdown",
   "metadata": {},
   "source": [
    "Check that the skycoordinate and image coordinate system are consistent by finding the point sources."
   ]
  },
  {
   "cell_type": "code",
   "execution_count": null,
   "metadata": {
    "ExecuteTime": {
     "end_time": "2020-11-19T14:19:22.321763Z",
     "start_time": "2020-11-19T14:19:21.252951Z"
    },
    "scrolled": false
   },
   "outputs": [],
   "source": [
    "comps = find_skycomponents(cmodel, fwhm=1.0, threshold=10.0, npixels=5)\n",
    "plt.clf()\n",
    "for i in range(len(comps)):\n",
    "    ocomp, sep = find_nearest_skycomponent(comps[i].direction, original_comps)\n",
    "    plt.plot((comps[i].direction.ra.value  - ocomp.direction.ra.value)/cmodel.image_acc.wcs.wcs.cdelt[0], \n",
    "             (comps[i].direction.dec.value - ocomp.direction.dec.value)/cmodel.image_acc.wcs.wcs.cdelt[1], \n",
    "             '.', color='r')  \n",
    "\n",
    "plt.xlabel('delta RA (pixels)')\n",
    "plt.ylabel('delta DEC (pixels)')\n",
    "plt.title(\"Recovered - Original position offsets\")\n",
    "plt.show()"
   ]
  },
  {
   "cell_type": "markdown",
   "metadata": {},
   "source": [
    "Make the convolution function"
   ]
  },
  {
   "cell_type": "code",
   "execution_count": null,
   "metadata": {
    "ExecuteTime": {
     "end_time": "2020-11-19T14:19:22.599330Z",
     "start_time": "2020-11-19T14:19:22.323130Z"
    },
    "scrolled": false
   },
   "outputs": [],
   "source": [
    "wstep = 8.0\n",
    "nw = int(1.1 * 800/wstep)\n",
    "    \n",
    "gcfcf = create_awterm_convolutionfunction(model, nw=110, wstep=8, oversampling=8, \n",
    "                                                    support=60,\n",
    "                                                    use_aaf=True)\n",
    "    \n",
    "cf=gcfcf[1]\n",
    "print(cf[\"pixels\"].data.shape)\n",
    "plt.clf()\n",
    "plt.imshow(numpy.real(cf[\"pixels\"].data[0,0,0,0,0,:,:]))\n",
    "plt.title(str(numpy.max(numpy.abs(cf[\"pixels\"].data[0,0,0,0,0,:,:]))))\n",
    "plt.show()\n",
    "    \n",
    "cf_clipped = apply_bounding_box_convolutionfunction(cf, fractional_level=1e-3)\n",
    "print(cf_clipped[\"pixels\"].data.shape)\n",
    "gcfcf_clipped=(gcfcf[0], cf_clipped)\n",
    "    \n",
    "plt.clf()\n",
    "plt.imshow(numpy.real(cf_clipped[\"pixels\"].data[0,0,0,0,0,:,:]))\n",
    "plt.title(str(numpy.max(numpy.abs(cf_clipped[\"pixels\"].data[0,0,0,0,0,:,:]))))\n",
    "plt.show()\n"
   ]
  },
  {
   "cell_type": "markdown",
   "metadata": {},
   "source": [
    "Predict the visibility using the different approaches."
   ]
  },
  {
   "cell_type": "code",
   "execution_count": null,
   "metadata": {
    "ExecuteTime": {
     "end_time": "2020-11-19T14:19:22.601186Z",
     "start_time": "2020-11-19T14:19:04.773Z"
    },
    "scrolled": false
   },
   "outputs": [],
   "source": [
    "contexts = ['2d', 'ng', 'wprojection']\n",
    "\n",
    "vt_list = []\n",
    "\n",
    "for context in contexts:\n",
    "    \n",
    "    print('Processing context %s' % context)\n",
    "   \n",
    "    vtpredict_list =[create_blockvisibility(lowcore, times, frequency, channel_bandwidth=channel_bandwidth,\n",
    "        weight=1.0, phasecentre=phasecentre, polarisation_frame=PolarisationFrame('stokesI'))]\n",
    "    model_list = [model]\n",
    "    vtpredict_list = rsexecute.compute(vtpredict_list, sync=True)\n",
    "    vtpredict_list = rsexecute.scatter(vtpredict_list)\n",
    " \n",
    "    if context == 'wprojection':       \n",
    "        future = predict_list_rsexecute_workflow(vtpredict_list, model_list, context='2d', gcfcf=[gcfcf_clipped])\n",
    "    \n",
    "    elif context == 'ng':\n",
    "        future = predict_list_rsexecute_workflow(vtpredict_list, model_list, context='ng')\n",
    "\n",
    "    else:\n",
    "        future = predict_list_rsexecute_workflow(vtpredict_list, model_list, context=context)\n",
    "        \n",
    "    vtpredict_list = rsexecute.compute(future, sync=True)\n",
    "        \n",
    "    vtpredict = vtpredict_list[0]\n",
    "\n",
    "    vt_list.append(vt)\n",
    "\n",
    "plt.clf()\n",
    "\n",
    "plot_visibility(vt_list, [\"b\", \"g\", \"r\"])\n",
    "plt.show()\n"
   ]
  },
  {
   "cell_type": "markdown",
   "metadata": {},
   "source": [
    "Make the image using the different approaches. We will evaluate the results using a number of plots:\n",
    "\n",
    "- The error in fitted versus the radius. The ideal result is a straightline fitted: flux = DFT flux\n",
    "- The offset in RA versus the offset in DEC. The ideal result is a cluster around 0 pixels.\n",
    "\n",
    "The sampling in w is set to provide 2% decorrelation at the half power point of the primary beam.\n"
   ]
  },
  {
   "cell_type": "code",
   "execution_count": null,
   "metadata": {
    "ExecuteTime": {
     "end_time": "2020-11-19T14:19:22.602605Z",
     "start_time": "2020-11-19T14:19:04.774Z"
    },
    "pycharm": {
     "name": "#%%\n"
    },
    "scrolled": false
   },
   "outputs": [],
   "source": [
    "contexts = ['2d', 'ng', 'wprojection']\n",
    "\n",
    "\n",
    "for context in contexts:\n",
    "\n",
    "    targetimage_list = [create_image_from_visibility(vt, npixel=npixel, cellsize=0.001, nchan=1,\n",
    "                                               polarisation_frame=PolarisationFrame('stokesI'))]\n",
    "    \n",
    "    vt_list = [vt]\n",
    "\n",
    "\n",
    "    print('Processing context %s' % context)\n",
    "    if context == 'wprojection':\n",
    "        future = invert_list_rsexecute_workflow(vt_list, targetimage_list, context='2d', gcfcf=[gcfcf_clipped])\n",
    "    \n",
    "    elif context == 'ng':\n",
    "        future = invert_list_rsexecute_workflow(vt_list, targetimage_list, context=context)\n",
    "        \n",
    "    else:\n",
    "        future = invert_list_rsexecute_workflow(vt_list, targetimage_list, context=context)\n",
    "        \n",
    "    result = rsexecute.compute(future, sync=True)\n",
    "    targetimage = result[0][0]\n",
    "\n",
    "    show_image(targetimage)\n",
    "    plt.title(context)\n",
    "    plt.show()\n",
    "\n",
    "    print(\"Dirty Image %s\" % qa_image(targetimage, context=\"imaging-fits notebook, using processor %s\" % context))\n",
    "\n",
    "    export_image_to_fits(targetimage, '%s/imaging-fits_dirty_%s.fits' % (results_dir, context))\n",
    "    comps = find_skycomponents(targetimage, fwhm=1.0, threshold=10.0, npixels=5)\n",
    "\n",
    "    plt.clf()\n",
    "    for comp in comps:\n",
    "        distance = comp.direction.separation(model.phasecentre)\n",
    "        idft = idft_visibility_skycomponent(vt, comp)[0][0]\n",
    "        err = (comp.flux[0, 0] - idft.flux[0, 0]) / idft.flux[0, 0]\n",
    "        plt.plot(distance, err, '.', color='r')\n",
    "    plt.ylabel('Fractional error of image vs DFT')\n",
    "    plt.xlabel('Distance from phasecentre (deg)')\n",
    "    plt.title(\n",
    "        \"Fractional error in %s recovered flux vs distance from phasecentre\" %\n",
    "        context)\n",
    "    plt.show()\n",
    "\n",
    "    checkpositions = True\n",
    "    if checkpositions:\n",
    "        plt.clf()\n",
    "        for i in range(len(comps)):\n",
    "            ocomp, sep = find_nearest_skycomponent(comps[i].direction, original_comps)\n",
    "            plt.plot(\n",
    "                (comps[i].direction.ra.value - ocomp.direction.ra.value) /\n",
    "                targetimage.wcs.wcs.cdelt[0],\n",
    "                (comps[i].direction.dec.value - ocomp.direction.dec.value) /\n",
    "                targetimage.wcs.wcs.cdelt[1],\n",
    "                '.',\n",
    "                color='r')\n",
    "\n",
    "        plt.xlabel('delta RA (pixels)')\n",
    "        plt.ylabel('delta DEC (pixels)')\n",
    "        plt.title(\"%s: Position offsets\" % context)\n",
    "        plt.show()\n",
    "\n"
   ]
  }
 ],
 "metadata": {
  "kernelspec": {
   "display_name": "Python 3",
   "language": "python",
   "name": "python3"
  },
  "language_info": {
   "codemirror_mode": {
    "name": "ipython",
    "version": 3
   },
   "file_extension": ".py",
   "mimetype": "text/x-python",
   "name": "python",
   "nbconvert_exporter": "python",
   "pygments_lexer": "ipython3",
   "version": "3.7.8"
  }
 },
 "nbformat": 4,
 "nbformat_minor": 2
}