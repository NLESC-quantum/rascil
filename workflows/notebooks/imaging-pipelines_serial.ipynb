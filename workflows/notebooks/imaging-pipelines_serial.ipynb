{
 "cells": [
  {
   "cell_type": "markdown",
   "metadata": {},
   "source": [
    "# Pipeline processing using serial workflows.\n",
    "\n",
    "This notebook demonstrates the continuum imaging and ICAL pipelines. These are based on ARL functions wrapped up as SDP workflows using the serial class."
   ]
  },
  {
   "cell_type": "code",
   "execution_count": 1,
   "metadata": {
    "ExecuteTime": {
     "end_time": "2018-09-18T10:49:37.645109Z",
     "start_time": "2018-09-18T10:49:35.967312Z"
    }
   },
   "outputs": [],
   "source": [
    "%matplotlib inline\n",
    "\n",
    "import os\n",
    "import sys\n",
    "\n",
    "sys.path.append(os.path.join('..', '..'))\n",
    "\n",
    "from data_models.parameters import arl_path\n",
    "\n",
    "results_dir = arl_path('test_results')\n",
    "\n",
    "from matplotlib import pylab\n",
    "\n",
    "pylab.rcParams['figure.figsize'] = (12.0, 12.0)\n",
    "pylab.rcParams['image.cmap'] = 'rainbow'\n",
    "\n",
    "import numpy\n",
    "\n",
    "from astropy.coordinates import SkyCoord\n",
    "from astropy import units as u\n",
    "from astropy.wcs.utils import pixel_to_skycoord\n",
    "\n",
    "from matplotlib import pyplot as plt\n",
    "\n",
    "from data_models.polarisation import PolarisationFrame\n",
    "\n",
    "from wrappers.serial.calibration.calibration import solve_gaintable\n",
    "from wrappers.serial.calibration.operations import apply_gaintable\n",
    "from wrappers.serial.calibration.calibration_control import create_calibration_controls\n",
    "from wrappers.serial.visibility.base import create_blockvisibility\n",
    "from wrappers.serial.skycomponent.operations import create_skycomponent\n",
    "from wrappers.serial.image.deconvolution import deconvolve_cube\n",
    "from wrappers.serial.image.operations import show_image, export_image_to_fits, qa_image\n",
    "from wrappers.serial.visibility.iterators import vis_timeslice_iter\n",
    "from wrappers.serial.simulation.testing_support import create_named_configuration, create_low_test_image_from_gleam\n",
    "from wrappers.serial.imaging.base import predict_2d, create_image_from_visibility, advise_wide_field\n",
    "\n",
    "from workflows.serial.imaging.imaging_serial import invert_list_serial_workflow, \\\n",
    "    predict_list_serial_workflow, deconvolve_list_serial_workflow\n",
    "from workflows.serial.simulation.simulation_serial import simulate_list_serial_workflow, \\\n",
    "    corrupt_list_serial_workflow\n",
    "from workflows.serial.pipelines.pipeline_serial import continuum_imaging_list_serial_workflow, \\\n",
    "    ical_list_serial_workflow\n",
    "\n",
    "import pprint\n",
    "\n",
    "pp = pprint.PrettyPrinter()\n",
    "\n",
    "import logging\n",
    "\n",
    "def init_logging():\n",
    "    log = logging.getLogger()\n",
    "    logging.basicConfig(filename='%s/imaging-pipeline.log' % results_dir,\n",
    "                        filemode='a',\n",
    "                        format='%(asctime)s,%(msecs)d %(name)s %(levelname)s %(message)s',\n",
    "                        datefmt='%H:%M:%S',\n",
    "                        level=logging.INFO)\n",
    "log = logging.getLogger()\n",
    "logging.info(\"Starting imaging-pipeline\")"
   ]
  },
  {
   "cell_type": "code",
   "execution_count": 2,
   "metadata": {
    "ExecuteTime": {
     "end_time": "2018-09-18T10:49:38.923861Z",
     "start_time": "2018-09-18T10:49:38.920216Z"
    }
   },
   "outputs": [],
   "source": [
    "pylab.rcParams['figure.figsize'] = (12.0, 12.0)\n",
    "pylab.rcParams['image.cmap'] = 'Greys'"
   ]
  },
  {
   "cell_type": "markdown",
   "metadata": {},
   "source": [
    "We make the visibility. The parameter rmax determines the distance of the furthest antenna/stations used. All over parameters are determined from this number."
   ]
  },
  {
   "cell_type": "code",
   "execution_count": 3,
   "metadata": {
    "ExecuteTime": {
     "end_time": "2018-09-18T10:50:05.873413Z",
     "start_time": "2018-09-18T10:50:04.893119Z"
    },
    "scrolled": true
   },
   "outputs": [
    {
     "name": "stdout",
     "output_type": "stream",
     "text": [
      "7 elements in vis_list\n"
     ]
    }
   ],
   "source": [
    "nfreqwin=7\n",
    "ntimes=11\n",
    "rmax=300.0\n",
    "frequency=numpy.linspace(0.9e8,1.1e8,nfreqwin)\n",
    "channel_bandwidth=numpy.array(nfreqwin*[frequency[1]-frequency[0]])\n",
    "times = numpy.linspace(-numpy.pi/3.0, numpy.pi/3.0, ntimes)\n",
    "phasecentre=SkyCoord(ra=+30.0 * u.deg, dec=-60.0 * u.deg, frame='icrs', equinox='J2000')\n",
    "\n",
    "vis_list=simulate_list_serial_workflow('LOWBD2',\n",
    "                                         frequency=frequency, \n",
    "                                         channel_bandwidth=channel_bandwidth,\n",
    "                                         times=times,\n",
    "                                         phasecentre=phasecentre,\n",
    "                                         order='frequency',\n",
    "                                        rmax=rmax)\n",
    "print('%d elements in vis_list' % len(vis_list))"
   ]
  },
  {
   "cell_type": "code",
   "execution_count": 4,
   "metadata": {
    "ExecuteTime": {
     "end_time": "2018-09-18T10:50:08.291213Z",
     "start_time": "2018-09-18T10:50:07.392067Z"
    },
    "scrolled": false
   },
   "outputs": [],
   "source": [
    "wprojection_planes=1\n",
    "advice_low=advise_wide_field(vis_list[0], guard_band_image=8.0, delA=0.02,\n",
    "                             wprojection_planes=wprojection_planes)\n",
    "\n",
    "advice_high=advise_wide_field(vis_list[-1], guard_band_image=8.0, delA=0.02,\n",
    "                              wprojection_planes=wprojection_planes)\n",
    "\n",
    "vis_slices = advice_low['vis_slices']\n",
    "npixel=advice_high['npixels2']\n",
    "cellsize=min(advice_low['cellsize'], advice_high['cellsize'])"
   ]
  },
  {
   "cell_type": "markdown",
   "metadata": {},
   "source": [
    "Now make a graph to fill with a model drawn from GLEAM "
   ]
  },
  {
   "cell_type": "code",
   "execution_count": null,
   "metadata": {
    "ExecuteTime": {
     "start_time": "2018-09-18T10:50:10.188Z"
    },
    "scrolled": false
   },
   "outputs": [],
   "source": [
    "gleam_model = [create_low_test_image_from_gleam(npixel=npixel,\n",
    "                                                               frequency=[frequency[f]],\n",
    "                                                               channel_bandwidth=[channel_bandwidth[f]],\n",
    "                                                               cellsize=cellsize,\n",
    "                                                               phasecentre=phasecentre,\n",
    "                                                               polarisation_frame=PolarisationFrame(\"stokesI\"),\n",
    "                                                               flux_limit=1.0,\n",
    "                                                               applybeam=True)\n",
    "                     for f, freq in enumerate(frequency)]\n",
    "log.info('About to make GLEAM model')"
   ]
  },
  {
   "cell_type": "code",
   "execution_count": null,
   "metadata": {
    "ExecuteTime": {
     "start_time": "2018-09-18T10:50:11.619Z"
    },
    "scrolled": true
   },
   "outputs": [],
   "source": [
    "log.info('About to run predict to get predicted visibility')\n",
    "predicted_vislist = predict_list_serial_workflow(vis_list, gleam_model,  \n",
    "                                                context='wstack', vis_slices=vis_slices)\n",
    "log.info('About to run corrupt to get corrupted visibility')\n",
    "corrupted_vislist = corrupt_list_serial_workflow(predicted_vislist, phase_error=1.0)\n"
   ]
  },
  {
   "cell_type": "markdown",
   "metadata": {},
   "source": [
    "Get the LSM. This is currently blank."
   ]
  },
  {
   "cell_type": "code",
   "execution_count": null,
   "metadata": {
    "ExecuteTime": {
     "start_time": "2018-09-18T10:50:13.687Z"
    },
    "scrolled": true
   },
   "outputs": [],
   "source": [
    "model_list = [create_image_from_visibility(vis_list[f],\n",
    "                                                     npixel=npixel,\n",
    "                                                     frequency=[frequency[f]],\n",
    "                                                     channel_bandwidth=[channel_bandwidth[f]],\n",
    "                                                     cellsize=cellsize,\n",
    "                                                     phasecentre=phasecentre,\n",
    "                                                     polarisation_frame=PolarisationFrame(\"stokesI\"))\n",
    "               for f, freq in enumerate(frequency)]"
   ]
  },
  {
   "cell_type": "code",
   "execution_count": null,
   "metadata": {
    "ExecuteTime": {
     "start_time": "2018-09-18T10:50:14.800Z"
    }
   },
   "outputs": [],
   "source": [
    "dirty_list = invert_list_serial_workflow(predicted_vislist, model_list, \n",
    "                                  context='wstack',\n",
    "                                  vis_slices=vis_slices, dopsf=False)\n",
    "psf_list = invert_list_serial_workflow(predicted_vislist, model_list, \n",
    "                                context='wstack',\n",
    "                                vis_slices=vis_slices, dopsf=True)"
   ]
  },
  {
   "cell_type": "markdown",
   "metadata": {},
   "source": [
    "Create and execute graphs to make the dirty image and PSF"
   ]
  },
  {
   "cell_type": "code",
   "execution_count": null,
   "metadata": {
    "ExecuteTime": {
     "start_time": "2018-09-18T10:50:18.467Z"
    },
    "scrolled": false
   },
   "outputs": [],
   "source": [
    "log.info('About to run invert to get dirty image')\n",
    "dirty = dirty_list[0][0]\n",
    "show_image(dirty, cm='Greys', vmax=1.0, vmin=-0.1)\n",
    "plt.show()\n",
    "\n",
    "log.info('About to run invert to get PSF')\n",
    "psf = psf_list[0][0]\n",
    "show_image(psf, cm='Greys', vmax=0.1, vmin=-0.01)\n",
    "plt.show()"
   ]
  },
  {
   "cell_type": "markdown",
   "metadata": {},
   "source": [
    "Now deconvolve using msclean"
   ]
  },
  {
   "cell_type": "code",
   "execution_count": null,
   "metadata": {
    "ExecuteTime": {
     "start_time": "2018-09-18T10:50:21.436Z"
    },
    "scrolled": false
   },
   "outputs": [],
   "source": [
    "log.info('About to run deconvolve')\n",
    "\n",
    "deconvolved, _ = \\\n",
    "    deconvolve_list_serial_workflow(dirty_list, psf_list, model_imagelist=model_list, \n",
    "                            deconvolve_facets=8, deconvolve_overlap=16, deconvolve_taper='tukey',\n",
    "                            scales=[0, 3, 10],\n",
    "                            algorithm='msclean', niter=1000, \n",
    "                            fractional_threshold=0.1,\n",
    "                            threshold=0.1, gain=0.1, psf_support=64)\n",
    "    \n",
    "show_image(deconvolved[0], cm='Greys', vmax=0.1, vmin=-0.01)\n",
    "plt.show()"
   ]
  },
  {
   "cell_type": "code",
   "execution_count": null,
   "metadata": {
    "ExecuteTime": {
     "end_time": "2018-09-17T10:55:25.073610Z",
     "start_time": "2018-09-17T10:42:13.968074Z"
    },
    "scrolled": false
   },
   "outputs": [],
   "source": [
    "continuum_imaging_list = \\\n",
    "    continuum_imaging_list_serial_workflow(predicted_vislist, \n",
    "                                            model_imagelist=model_list, \n",
    "                                            context='wstack', vis_slices=vis_slices, \n",
    "                                            scales=[0, 3, 10], algorithm='mmclean', \n",
    "                                            nmoment=3, niter=1000, \n",
    "                                            fractional_threshold=0.1,\n",
    "                                            threshold=0.1, nmajor=5, gain=0.25,\n",
    "                                            deconvolve_facets = 8, deconvolve_overlap=16, \n",
    "                                            deconvolve_taper='tukey', psf_support=64)\n"
   ]
  },
  {
   "cell_type": "code",
   "execution_count": null,
   "metadata": {
    "ExecuteTime": {
     "end_time": "2018-09-17T10:55:26.834149Z",
     "start_time": "2018-09-17T10:55:25.075754Z"
    },
    "scrolled": false
   },
   "outputs": [],
   "source": [
    "log.info('About to run continuum imaging')\n",
    "\n",
    "deconvolved = continuum_imaging_list[0][0]\n",
    "residual = continuum_imaging_list[1][0]\n",
    "restored = continuum_imaging_list[2][0]\n",
    "\n",
    "f=show_image(deconvolved, title='Clean image - no selfcal', cm='Greys', \n",
    "             vmax=0.1, vmin=-0.01)\n",
    "print(qa_image(deconvolved, context='Clean image - no selfcal'))\n",
    "\n",
    "plt.show()\n",
    "\n",
    "f=show_image(restored, title='Restored clean image - no selfcal', \n",
    "             cm='Greys', vmax=1.0, vmin=-0.1)\n",
    "print(qa_image(restored, context='Restored clean image - no selfcal'))\n",
    "plt.show()\n",
    "export_image_to_fits(restored, '%s/imaging-dask_continuum_imaging_restored.fits' \n",
    "                     %(results_dir))\n",
    "\n",
    "f=show_image(residual[0], title='Residual clean image - no selfcal', cm='Greys', \n",
    "             vmax=0.1, vmin=-0.01)\n",
    "print(qa_image(residual[0], context='Residual clean image - no selfcal'))\n",
    "plt.show()\n",
    "export_image_to_fits(residual[0], '%s/imaging-dask_continuum_imaging_residual.fits' \n",
    "                     %(results_dir))"
   ]
  },
  {
   "cell_type": "code",
   "execution_count": null,
   "metadata": {
    "ExecuteTime": {
     "end_time": "2018-09-17T11:31:57.183485Z",
     "start_time": "2018-09-17T11:31:52.736410Z"
    },
    "scrolled": false
   },
   "outputs": [],
   "source": [
    "for chan in range(nfreqwin):\n",
    "    residual = continuum_imaging_list[1][chan]\n",
    "    show_image(residual[0], title='Channel %d' % chan, cm='Greys', \n",
    "               vmax=0.1, vmin=-0.01)\n",
    "    plt.show()"
   ]
  },
  {
   "cell_type": "code",
   "execution_count": null,
   "metadata": {
    "ExecuteTime": {
     "end_time": "2018-09-17T11:32:06.341635Z",
     "start_time": "2018-09-17T11:32:06.330368Z"
    }
   },
   "outputs": [],
   "source": [
    "controls = create_calibration_controls()\n",
    "        \n",
    "controls['T']['first_selfcal'] = 1\n",
    "controls['G']['first_selfcal'] = 3\n",
    "controls['B']['first_selfcal'] = 4\n",
    "\n",
    "controls['T']['timescale'] = 'auto'\n",
    "controls['G']['timescale'] = 'auto'\n",
    "controls['B']['timescale'] = 1e5\n",
    "\n",
    "pp.pprint(controls)"
   ]
  },
  {
   "cell_type": "code",
   "execution_count": null,
   "metadata": {
    "ExecuteTime": {
     "end_time": "2018-09-17T11:41:19.955559Z",
     "start_time": "2018-09-17T11:32:08.443645Z"
    },
    "scrolled": true
   },
   "outputs": [],
   "source": [
    "ical_list = ical_list_serial_workflow(corrupted_vislist, \n",
    "                                        model_imagelist=model_list,  \n",
    "                                        context='wstack', \n",
    "                                        calibration_context = 'TG', \n",
    "                                        controls=controls,\n",
    "                                        scales=[0, 3, 10], algorithm='mmclean', \n",
    "                                        nmoment=3, niter=1000, \n",
    "                                        fractional_threshold=0.1,\n",
    "                                        threshold=0.1, nmajor=5, gain=0.25,\n",
    "                                        deconvolve_facets = 8, \n",
    "                                        deconvolve_overlap=16,\n",
    "                                        deconvolve_taper='tukey',\n",
    "                                        vis_slices=ntimes,\n",
    "                                        timeslice='auto',\n",
    "                                        global_solution=False, \n",
    "                                        psf_support=64,\n",
    "                                        do_selfcal=True)"
   ]
  },
  {
   "cell_type": "code",
   "execution_count": null,
   "metadata": {
    "ExecuteTime": {
     "end_time": "2018-09-17T11:41:21.525354Z",
     "start_time": "2018-09-17T11:41:19.957623Z"
    },
    "scrolled": false
   },
   "outputs": [],
   "source": [
    "log.info('About to run ical')\n",
    "deconvolved = ical_list[0][0]\n",
    "residual = ical_list[1][0]\n",
    "restored = ical_list[2][0]\n",
    "\n",
    "f=show_image(deconvolved, title='Clean image', cm='Greys', vmax=1.0, vmin=-0.1)\n",
    "print(qa_image(deconvolved, context='Clean image'))\n",
    "plt.show()\n",
    "\n",
    "f=show_image(restored, title='Restored clean image', cm='Greys', vmax=1.0, \n",
    "             vmin=-0.1)\n",
    "print(qa_image(restored, context='Restored clean image'))\n",
    "plt.show()\n",
    "export_image_to_fits(restored, '%s/imaging-dask_ical_restored.fits' \n",
    "                     %(results_dir))\n",
    "\n",
    "f=show_image(residual[0], title='Residual clean image', cm='Greys', \n",
    "             vmax=0.1, vmin=-0.01)\n",
    "print(qa_image(residual[0], context='Residual clean image'))\n",
    "plt.show()\n",
    "export_image_to_fits(residual[0], '%s/imaging-dask_ical_residual.fits' \n",
    "                     %(results_dir))"
   ]
  },
  {
   "cell_type": "code",
   "execution_count": null,
   "metadata": {},
   "outputs": [],
   "source": []
  }
 ],
 "metadata": {
  "kernelspec": {
   "display_name": "Python 3",
   "language": "python",
   "name": "python3"
  },
  "language_info": {
   "codemirror_mode": {
    "name": "ipython",
    "version": 3
   },
   "file_extension": ".py",
   "mimetype": "text/x-python",
   "name": "python",
   "nbconvert_exporter": "python",
   "pygments_lexer": "ipython3",
   "version": "3.6.1"
  }
 },
 "nbformat": 4,
 "nbformat_minor": 2
}
