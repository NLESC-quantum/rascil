{
 "cells": [
  {
   "cell_type": "markdown",
   "metadata": {},
   "source": [
    "# Deconvolution with Rascil and Radler"
   ]
  },
  {
   "cell_type": "markdown",
   "metadata": {},
   "source": [
    "This script builds a simulated dataset and deconvolves it with Rascil and Radler implementations of the multiscale algorithm."
   ]
  },
  {
   "cell_type": "code",
   "execution_count": null,
   "metadata": {
    "ExecuteTime": {
     "end_time": "2020-02-12T09:57:51.442694Z",
     "start_time": "2020-02-12T09:57:49.138330Z"
    }
   },
   "outputs": [],
   "source": [
    "%matplotlib inline\n",
    "\n",
    "import os\n",
    "import sys\n",
    "\n",
    "sys.path.append(os.path.join('..', '..'))\n",
    "\n",
    "from matplotlib import pylab\n",
    "\n",
    "pylab.rcParams['figure.figsize'] = (30.0, 30.0)\n",
    "pylab.rcParams['image.cmap'] = 'rainbow'\n",
    "\n",
    "import numpy\n",
    "\n",
    "from astropy.coordinates import SkyCoord\n",
    "from astropy import units as u\n",
    "\n",
    "from matplotlib import pyplot as plt\n",
    "\n",
    "\n",
    "from rascil.data_models import PolarisationFrame\n",
    "\n",
    "from rascil.processing_components import create_blockvisibility, \\\n",
    "    deconvolve_cube, restore_cube, create_named_configuration, create_test_image, \\\n",
    "    create_image_from_visibility, advise_wide_field, invert_ng, predict_ng\n",
    "\n",
    "import radler as rd\n"
   ]
  },
  {
   "cell_type": "markdown",
   "metadata": {},
   "source": [
    "The following block creates a simulated dataset, using the same steps used in imaging.ipynb "
   ]
  },
  {
   "cell_type": "code",
   "execution_count": null,
   "metadata": {
    "ExecuteTime": {
     "end_time": "2020-02-12T09:57:51.699213Z",
     "start_time": "2020-02-12T09:57:51.494157Z"
    },
    "pycharm": {
     "name": "#%%\n"
    }
   },
   "outputs": [],
   "source": [
    "# Construct LOW core configuration\n",
    "lowr3 = create_named_configuration('LOWBD2', rmax=750.0)\n",
    "\n",
    "# Create visibilitiesz\n",
    "times = numpy.zeros([1])\n",
    "frequency = numpy.array([1e8])\n",
    "channel_bandwidth = numpy.array([1e6])\n",
    "phasecentre = SkyCoord(ra=+15.0 * u.deg, dec=-45.0 * u.deg, frame='icrs', equinox='J2000')\n",
    "vt = create_blockvisibility(lowr3, times, frequency, channel_bandwidth=channel_bandwidth,\n",
    "                       weight=1.0, phasecentre=phasecentre, polarisation_frame=PolarisationFrame('stokesI'))\n",
    "\n",
    "advice = advise_wide_field(vt, guard_band_image=3.0, delA=0.1, facets=1, wprojection_planes=1, \n",
    "                           oversampling_synthesised_beam=4.0)\n",
    "cellsize = advice['cellsize']\n",
    "\n",
    "#Read the venerable test image, constructing an image\n",
    "m31image = create_test_image(frequency=frequency, cellsize=cellsize,\n",
    "                             phasecentre=phasecentre)\n",
    "nchan, npol, ny, nx = m31image[\"pixels\"].data.shape\n",
    "\n",
    "vt = predict_ng(vt, m31image, context='2d')\n",
    "\n",
    "# Make the dirty image and point spread function\n",
    "model = create_image_from_visibility(vt, cellsize=cellsize, npixel=512)\n",
    "dirty, sumwt = invert_ng(vt, model, context='2d')\n",
    "psf, sumwt = invert_ng(vt, model, context='2d', dopsf=True)\n"
   ]
  },
  {
   "cell_type": "markdown",
   "metadata": {},
   "source": [
    "Define deconvolution settings for Radler and Rascil deconvolution"
   ]
  },
  {
   "cell_type": "code",
   "execution_count": null,
   "metadata": {},
   "outputs": [],
   "source": [
    "# Rascil deconvolution settings\n",
    "n_iterations = 500\n",
    "clean_threshold=0.001\n",
    "frac_threshold=0.001\n",
    "window_shape_='quarter'\n",
    "loop_gain=0.7\n",
    "ms_scales= [0, 3, 10, 30] \n",
    "\n",
    "# Radler deconvolution settings\n",
    "settings = rd.Settings()\n",
    "settings.algorithm_type = rd.AlgorithmType.multiscale\n",
    "settings.trimmed_image_width = dirty.pixels.shape[2]\n",
    "settings.trimmed_image_height = dirty.pixels.shape[3]\n",
    "settings.pixel_scale.x = cellsize\n",
    "settings.pixel_scale.y = cellsize  \n",
    "settings.minor_iteration_count = n_iterations\n",
    "settings.threshold = clean_threshold\n",
    "settings.minor_loop_gain = loop_gain\n",
    "settings.stop_on_negative_components = False\n",
    "settings.multiscale.scale_list = ms_scales\n",
    "\n"
   ]
  },
  {
   "cell_type": "markdown",
   "metadata": {
    "pycharm": {
     "name": "#%% md\n"
    }
   },
   "source": [
    "Deconvolve using RASCIL"
   ]
  },
  {
   "cell_type": "code",
   "execution_count": null,
   "metadata": {
    "ExecuteTime": {
     "end_time": "2020-02-12T09:58:16.790251Z",
     "start_time": "2020-02-12T09:57:55.784618Z"
    },
    "pycharm": {
     "name": "#%%\n"
    },
    "scrolled": false
   },
   "outputs": [],
   "source": [
    "comp, residual = deconvolve_cube(dirty, psf, niter=n_iterations, threshold=clean_threshold, fractional_threshold=frac_threshold,\n",
    "                                 window_shape=window_shape_, gain=loop_gain, scales=ms_scales)\n",
    "\n",
    "restored = restore_cube(comp, psf, residual)\n"
   ]
  },
  {
   "cell_type": "markdown",
   "metadata": {},
   "source": [
    "Deconvolve using RADLER"
   ]
  },
  {
   "cell_type": "code",
   "execution_count": null,
   "metadata": {},
   "outputs": [],
   "source": [
    "psf_radler = psf.pixels.to_numpy().astype(numpy.float32).squeeze()\n",
    "dirty_radler = dirty.pixels.to_numpy().astype(numpy.float32).squeeze()\n",
    "restored_radler = numpy.zeros_like(dirty_radler) \n",
    "\n",
    "beam_size = 0.0\n",
    "\n",
    "radler_object = rd.Radler(settings, psf_radler, dirty_radler, restored_radler,\n",
    "                          beam_size, rd.Polarization.stokes_i)\n",
    "reached_threshold = False\n",
    "reached_threshold = radler_object.perform(reached_threshold, 0)\n"
   ]
  },
  {
   "cell_type": "markdown",
   "metadata": {},
   "source": [
    "Compare output images"
   ]
  },
  {
   "cell_type": "code",
   "execution_count": null,
   "metadata": {},
   "outputs": [],
   "source": [
    "residual_rascil = residual.pixels.to_numpy().astype(numpy.float32).squeeze()\n",
    "restored_rascil = restored.pixels.to_numpy().astype(numpy.float32).squeeze()\n",
    "\n",
    "residual_min = numpy.min([numpy.min(residual_rascil) , numpy.min(dirty_radler)])\n",
    "residual_max = numpy.max([numpy.max(residual_rascil) , numpy.max(dirty_radler)])\n",
    "\n",
    "fig, ax = plt.subplots(2,2)\n",
    "ax[0,0].imshow(residual_rascil, vmin=residual_min, vmax=residual_max)\n",
    "ax[0,0].title.set_text('RASCIL: residual')\n",
    "ax[0,1].imshow(restored_rascil)\n",
    "ax[0,1].title.set_text('RASCIL: restored')\n",
    "\n",
    "ax[1,0].imshow(dirty_radler, vmin=residual_min, vmax=residual_max)\n",
    "ax[1,0].title.set_text('RADLER: residual')\n",
    "ax[1,1].imshow(restored_radler)\n",
    "ax[1,1].title.set_text('RADLER: restored')\n"
   ]
  },
  {
   "cell_type": "code",
   "execution_count": null,
   "metadata": {},
   "outputs": [],
   "source": []
  }
 ],
 "metadata": {
  "kernelspec": {
   "display_name": "Python 3 (ipykernel)",
   "language": "python",
   "name": "python3"
  },
  "language_info": {
   "codemirror_mode": {
    "name": "ipython",
    "version": 3
   },
   "file_extension": ".py",
   "mimetype": "text/x-python",
   "name": "python",
   "nbconvert_exporter": "python",
   "pygments_lexer": "ipython3",
   "version": "3.9.9"
  }
 },
 "nbformat": 4,
 "nbformat_minor": 2
}
