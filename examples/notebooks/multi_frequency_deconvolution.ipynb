{
 "cells": [
  {
   "cell_type": "markdown",
   "metadata": {},
   "source": [
    "# Multi frequency deconvolution with Rascil and Radler"
   ]
  },
  {
   "cell_type": "markdown",
   "metadata": {},
   "source": [
    "This script runs a multifrequency deconvolution in Rascil and Radler using a pre-existing dataset"
   ]
  },
  {
   "cell_type": "code",
   "execution_count": null,
   "metadata": {
    "ExecuteTime": {
     "end_time": "2020-02-12T09:57:51.442694Z",
     "start_time": "2020-02-12T09:57:49.138330Z"
    }
   },
   "outputs": [],
   "source": [
    "%matplotlib inline\n",
    "\n",
    "import os\n",
    "import sys\n",
    "\n",
    "sys.path.append(os.path.join('..', '..'))\n",
    "\n",
    "from matplotlib import pylab\n",
    "\n",
    "pylab.rcParams['image.cmap'] = 'rainbow'\n",
    "\n",
    "import numpy\n",
    "\n",
    "from astropy.io import fits\n",
    "\n",
    "from matplotlib import pyplot as plt\n",
    "\n",
    "from rascil.processing_components import import_image_from_fits, \\\n",
    "    deconvolve_cube, restore_cube\n",
    "\n",
    "import radler as rd\n"
   ]
  },
  {
   "cell_type": "markdown",
   "metadata": {},
   "source": [
    "The following block reads multi-frequency dataset.\n",
    "The dataset is generated with the following wsclean command: \n",
    "\n",
    "\"wsclean -size 1024 1024 -scale 1amin -channels-out 8 -make-psf MWA-single-timeslot.ms\""
   ]
  },
  {
   "cell_type": "code",
   "execution_count": null,
   "metadata": {},
   "outputs": [],
   "source": [
    "fits_path =  \"/var/scratch/csalvoni/data/mwa/wsclean-000\"\n",
    "dirty_np = fits.open(fits_path + \"0-dirty.fits\")[0].data\n",
    "psf_np = fits.open(fits_path + \"0-psf.fits\")[0].data\n",
    "\n",
    "for i in range(1,8):\n",
    "    fits_filename = fits_path + str(i) + \"-dirty.fits\"\n",
    "    psf_filename = fits_path + str(i) + \"-psf.fits\"\n",
    "    dirty_np = numpy.concatenate((dirty_np, fits.open(fits_filename)[0].data), axis = 1)\n",
    "    psf_np = numpy.concatenate((psf_np, fits.open(psf_filename)[0].data), axis = 1)\n",
    "\n",
    "hdu_dirty = fits.open(fits_filename)\n",
    "hdu_dirty[0].data = dirty_np;\n",
    "hdu_dirty.writeto('wsclean-MF-dirty.fits', overwrite=True)\n",
    "\n",
    "hdul_psf = fits.open(psf_filename)\n",
    "hdul_psf[0].data = psf_np;\n",
    "hdul_psf.writeto('wsclean-MF-psf.fits', overwrite=True)\n",
    "\n",
    "# Import fits as xarrays\n",
    "dirty_mf = import_image_from_fits(\"wsclean-MF-dirty.fits\")\n",
    "psf_mf = import_image_from_fits(\"wsclean-MF-psf.fits\")"
   ]
  },
  {
   "cell_type": "code",
   "execution_count": null,
   "metadata": {},
   "outputs": [],
   "source": [
    "# The cellsize is derived from the wsclean command (scale/size)\n",
    "# 1arcmin / 1024 = 1.5e-5 deg\n",
    "cellsize=1.5e-5"
   ]
  },
  {
   "cell_type": "markdown",
   "metadata": {},
   "source": [
    "Define deconvolution settings for Radler and Rascil deconvolution"
   ]
  },
  {
   "cell_type": "code",
   "execution_count": null,
   "metadata": {},
   "outputs": [],
   "source": [
    "n_iterations = 500\n",
    "clean_threshold=0.001\n",
    "frac_threshold=0.001\n",
    "window_shape_='quarter'\n",
    "loop_gain=0.7\n",
    "ms_scales= [0, 3, 10, 30] \n",
    "\n",
    "\n",
    "settings = rd.Settings()\n",
    "settings.algorithm_type = rd.AlgorithmType.multiscale\n",
    "settings.trimmed_image_width = dirty_mf.pixels.shape[2]\n",
    "settings.trimmed_image_height = dirty_mf.pixels.shape[3]\n",
    "settings.pixel_scale.x = cellsize\n",
    "settings.pixel_scale.y = cellsize  \n",
    "settings.minor_iteration_count = n_iterations\n",
    "settings.threshold = clean_threshold\n",
    "settings.minor_loop_gain = loop_gain\n",
    "# Radler gives a better result with automatically calculated scales, hence the setting below is disabled\n",
    "# settings.multiscale.scale_list = ms_scales\n",
    "\n",
    "beam_size = 0.0\n"
   ]
  },
  {
   "cell_type": "markdown",
   "metadata": {
    "pycharm": {
     "name": "#%% md\n"
    }
   },
   "source": [
    "Deconvolve using RASCIL"
   ]
  },
  {
   "cell_type": "code",
   "execution_count": null,
   "metadata": {
    "ExecuteTime": {
     "end_time": "2020-02-12T09:58:16.790251Z",
     "start_time": "2020-02-12T09:57:55.784618Z"
    },
    "pycharm": {
     "name": "#%%\n"
    },
    "scrolled": false
   },
   "outputs": [],
   "source": [
    "comp, residual = deconvolve_cube(dirty_mf, psf_mf, niter=n_iterations, threshold=clean_threshold, fractional_threshold=frac_threshold,\n",
    "                                  gain=loop_gain, scales=ms_scales, algorithm='mfsmsclean')\n",
    "\n",
    "restored = restore_cube(comp, psf_mf, residual)\n"
   ]
  },
  {
   "cell_type": "markdown",
   "metadata": {},
   "source": [
    "Deconvolve using RADLER"
   ]
  },
  {
   "cell_type": "code",
   "execution_count": null,
   "metadata": {},
   "outputs": [],
   "source": [
    "psf_radler = psf_mf.pixels.to_numpy().astype(numpy.float32).squeeze()\n",
    "dirty_radler = dirty_mf.pixels.to_numpy().astype(numpy.float32).squeeze()\n",
    "restored_radler = numpy.zeros_like(dirty_radler)\n",
    "\n",
    "radler_object = rd.Radler(settings, psf_radler, dirty_radler, restored_radler,\n",
    "                          beam_size, rd.Polarization.stokes_i)\n",
    "reached_threshold = False\n",
    "reached_threshold = radler_object.perform(reached_threshold, 0)\n"
   ]
  },
  {
   "cell_type": "markdown",
   "metadata": {},
   "source": [
    "Compare output images"
   ]
  },
  {
   "cell_type": "code",
   "execution_count": null,
   "metadata": {},
   "outputs": [],
   "source": [
    "\n",
    "pylab.rcParams['figure.figsize'] = (30.0, 20.0)\n",
    "\n",
    "residual_rascil = residual.pixels.to_numpy().astype(numpy.float32).squeeze()\n",
    "restored_rascil = restored.pixels.to_numpy().astype(numpy.float32).squeeze()\n",
    "\n",
    "residual_min = numpy.min([numpy.min(residual_rascil) , numpy.min(dirty_radler)])\n",
    "residual_max = numpy.max([numpy.max(residual_rascil) , numpy.max(dirty_radler)])\n",
    "\n",
    "fig, ax = plt.subplots(4,8)\n",
    "for i in range(8):\n",
    "    \n",
    "    ax[0,i].imshow(restored_rascil[i,:,:], cmap = 'turbo') \n",
    "    ax[0,i].title.set_text('RASCIL: restored')\n",
    "    ax[1,i].imshow(restored_radler[i,:,:], cmap = 'turbo')\n",
    "    ax[1,i].title.set_text('RADLER: restored')  \n",
    "    ax[2,i].imshow(residual_rascil[i,:,:], vmin=residual_min, vmax=residual_max, cmap = 'turbo')\n",
    "    ax[2,i].title.set_text('RASCIL: residual')\n",
    "    ax[3,i].imshow(dirty_radler[i,:,:], vmin=residual_min, vmax=residual_max, cmap = 'turbo')\n",
    "    ax[3,i].title.set_text('RADLER: residual')\n"
   ]
  }
 ],
 "metadata": {
  "kernelspec": {
   "display_name": "Python 3 (ipykernel)",
   "language": "python",
   "name": "python3"
  },
  "language_info": {
   "codemirror_mode": {
    "name": "ipython",
    "version": 3
   },
   "file_extension": ".py",
   "mimetype": "text/x-python",
   "name": "python",
   "nbconvert_exporter": "python",
   "pygments_lexer": "ipython3",
   "version": "3.9.9"
  }
 },
 "nbformat": 4,
 "nbformat_minor": 2
}
