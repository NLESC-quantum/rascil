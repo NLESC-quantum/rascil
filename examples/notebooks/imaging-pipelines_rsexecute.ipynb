{
 "cells": [
  {
   "cell_type": "markdown",
   "metadata": {},
   "source": [
    "# Pipeline processing using rsexecute workflows.\n",
    "\n",
    "This notebook demonstrates the continuum imaging and ICAL pipelines. These are based on RASCIL functions wrapped\n",
    "     up as SDP workflows using the rsexecute class."
   ]
  },
  {
   "cell_type": "code",
   "execution_count": null,
   "metadata": {
    "ExecuteTime": {
     "end_time": "2019-12-18T15:40:45.367298Z",
     "start_time": "2019-12-18T15:40:42.911648Z"
    },
    "pycharm": {
     "is_executing": false
    },
    "scrolled": true
   },
   "outputs": [],
   "source": [
    "%matplotlib inline\n",
    "\n",
    "import os\n",
    "import sys\n",
    "\n",
    "sys.path.append(os.path.join('..', '..'))\n",
    "\n",
    "results_dir = '/tmp/'\n",
    "\n",
    "from matplotlib import pylab\n",
    "pylab.rcParams['figure.figsize'] = (12.0, 12.0)\n",
    "pylab.rcParams['image.cmap'] = 'rainbow'\n",
    "\n",
    "import numpy\n",
    "\n",
    "from astropy.coordinates import SkyCoord\n",
    "from astropy import units as u\n",
    "\n",
    "from matplotlib import pyplot as plt\n",
    "\n",
    "from rascil.data_models.polarisation import PolarisationFrame\n",
    "\n",
    "from rascil.processing_components import show_image, export_image_to_fits, qa_image, \\\n",
    "    create_low_test_image_from_gleam, create_image_from_visibility, advise_wide_field,\\\n",
    "    convert_blockvisibility_to_visibility\n",
    "\n",
    "from rascil.workflows import invert_list_rsexecute_workflow, predict_list_rsexecute_workflow, \\\n",
    "    deconvolve_list_rsexecute_workflow, simulate_list_rsexecute_workflow, \\\n",
    "    corrupt_list_rsexecute_workflow, continuum_imaging_list_rsexecute_workflow\n",
    "\n",
    "from rascil.workflows.rsexecute.execution_support.rsexecute import rsexecute\n",
    "\n",
    "import pprint\n",
    "\n",
    "pp = pprint.PrettyPrinter()\n",
    "\n",
    "import logging\n",
    "\n",
    "log = logging.getLogger()\n",
    "logging.info(\"Starting imaging-pipeline\")\n",
    "mpl_logger = logging.getLogger(\"matplotlib\") \n",
    "mpl_logger.setLevel(logging.WARNING) \n"
   ]
  },
  {
   "cell_type": "markdown",
   "metadata": {},
   "source": [
    "Set up rsexecute to use dask. If we are running in docker then the scheduler may be available by name.\n",
    "Otherwise we just create a LocalCluster."
   ]
  },
  {
   "cell_type": "code",
   "execution_count": null,
   "outputs": [],
   "source": [
    "from dask.distributed import Client, LocalCluster\n",
    "try:\n",
    "    client = Client('scheduler:8786', timeout=10)\n",
    "except OSError:\n",
    "    client =Client(LocalCluster())\n",
    "print(client)\n",
    "\n",
    "rsexecute.set_client(client=client)"
   ],
   "metadata": {
    "collapsed": false,
    "pycharm": {
     "name": "#%%\n"
    }
   }
  },
  {
   "cell_type": "code",
   "execution_count": null,
   "metadata": {
    "ExecuteTime": {
     "end_time": "2019-12-18T15:40:49.440316Z",
     "start_time": "2019-12-18T15:40:49.436110Z"
    },
    "pycharm": {
     "is_executing": false
    }
   },
   "outputs": [],
   "source": [
    "pylab.rcParams['figure.figsize'] = (12.0, 12.0)\n",
    "pylab.rcParams['image.cmap'] = 'Greys'"
   ]
  },
  {
   "cell_type": "markdown",
   "metadata": {},
   "source": [
    "We create a graph to make the visibility. The parameter rmax determines the distance of the furthest antenna/stations \n",
    "used. \n",
    "\n",
    "After creating the graph, we can add a conversion step.\n",
    "\n",
    "Finally we compute the value of the graph, a list of visibility objects. These can then be scattered to the\n",
    "cluster of workers."
   ]
  },
  {
   "cell_type": "code",
   "execution_count": null,
   "metadata": {
    "ExecuteTime": {
     "end_time": "2019-12-18T15:40:55.145664Z",
     "start_time": "2019-12-18T15:40:51.661987Z"
    },
    "pycharm": {
     "is_executing": false
    },
    "scrolled": true
   },
   "outputs": [],
   "source": [
    "nfreqwin=7\n",
    "ntimes=5\n",
    "rmax=300.0\n",
    "frequency=numpy.linspace(1e8,1.2e8,nfreqwin)\n",
    "channel_bandwidth=numpy.array(nfreqwin*[frequency[1]-frequency[0]])\n",
    "times = numpy.linspace(-numpy.pi/3.0, numpy.pi/3.0, ntimes)\n",
    "phasecentre=SkyCoord(ra=+30.0 * u.deg, dec=-60.0 * u.deg, frame='icrs', equinox='J2000')\n",
    "\n",
    "bvis_list=simulate_list_rsexecute_workflow('LOWBD2',\n",
    "                                         frequency=frequency, \n",
    "                                         channel_bandwidth=channel_bandwidth,\n",
    "                                         times=times,\n",
    "                                         phasecentre=phasecentre,\n",
    "                                         order='frequency',\n",
    "                                        rmax=rmax, format='blockvis')\n",
    "vis_list = [rsexecute.execute(convert_blockvisibility_to_visibility)(bv) for bv in bvis_list]\n",
    "\n",
    "print('%d elements in vis_list' % len(vis_list))\n",
    "log.info('About to make visibility')\n",
    "vis_list = rsexecute.compute(vis_list, sync=True)"
   ]
  },
  {
   "cell_type": "markdown",
   "metadata": {
    "ExecuteTime": {
     "end_time": "2019-04-03T09:21:09.955729Z",
     "start_time": "2019-04-03T09:21:09.942306Z"
    },
    "pycharm": {
     "is_executing": false,
     "name": "#%% md\n"
    },
    "scrolled": false
   },
   "source": [
    "Find the recommended values for the wide field imaging."
   ]
  },
  {
   "cell_type": "code",
   "execution_count": null,
   "metadata": {
    "ExecuteTime": {
     "end_time": "2019-12-18T15:41:14.052543Z",
     "start_time": "2019-12-18T15:41:14.040938Z"
    },
    "pycharm": {
     "name": "#%% \n"
    }
   },
   "outputs": [],
   "source": [
    "wprojection_planes=1\n",
    "advice_low=advise_wide_field(vis_list[0], guard_band_image=8.0, delA=0.02,\n",
    "                             wprojection_planes=wprojection_planes)\n",
    "\n",
    "advice_high=advise_wide_field(vis_list[-1], guard_band_image=8.0, delA=0.02,\n",
    "                              wprojection_planes=wprojection_planes)\n",
    "\n",
    "vis_slices = advice_low['vis_slices']\n",
    "npixel=advice_high['npixels2']\n",
    "cellsize=min(advice_low['cellsize'], advice_high['cellsize'])"
   ]
  },
  {
   "cell_type": "markdown",
   "metadata": {},
   "source": [
    "Now make a graph to fill with a model drawn from GLEAM. There will be one model image\n",
    "per frequency."
   ]
  },
  {
   "cell_type": "code",
   "execution_count": null,
   "metadata": {
    "ExecuteTime": {
     "end_time": "2019-12-18T15:41:23.505527Z",
     "start_time": "2019-12-18T15:41:18.474131Z"
    },
    "pycharm": {
     "is_executing": false
    },
    "scrolled": false
   },
   "outputs": [],
   "source": [
    "gleam_model = [rsexecute.execute(create_low_test_image_from_gleam)(npixel=npixel,\n",
    "                                                               frequency=[frequency[f]],\n",
    "                                                               channel_bandwidth=[channel_bandwidth[f]],\n",
    "                                                               cellsize=cellsize,\n",
    "                                                               phasecentre=phasecentre,\n",
    "                                                               polarisation_frame=PolarisationFrame(\"stokesI\"),\n",
    "                                                               flux_limit=1.0,\n",
    "                                                               applybeam=True)\n",
    "                     for f, freq in enumerate(frequency)]\n",
    "log.info('About to make GLEAM model')\n",
    "gleam_model = rsexecute.compute(gleam_model, sync=True)\n",
    "future_gleam_model = rsexecute.scatter(gleam_model)"
   ]
  },
  {
   "cell_type": "markdown",
   "metadata": {
    "ExecuteTime": {
     "end_time": "2019-04-03T09:21:32.204717Z",
     "start_time": "2019-04-03T09:21:15.132705Z"
    },
    "pycharm": {
     "is_executing": false,
     "name": "#%% md\n"
    },
    "scrolled": false
   },
   "source": [
    "Now we can fill in the visibility values from the models, using a workflow."
   ]
  },
  {
   "cell_type": "code",
   "execution_count": null,
   "metadata": {
    "ExecuteTime": {
     "end_time": "2019-12-18T15:41:35.841813Z",
     "start_time": "2019-12-18T15:41:24.735193Z"
    },
    "pycharm": {
     "name": "#%%\n"
    }
   },
   "outputs": [],
   "source": [
    "log.info('About to run predict to get predicted visibility')\n",
    "future_vis_graph = rsexecute.scatter(vis_list)\n",
    "predicted_vislist = predict_list_rsexecute_workflow(future_vis_graph, gleam_model,  \n",
    "                                                context='wstack', vis_slices=vis_slices)\n",
    "predicted_vislist = rsexecute.compute(predicted_vislist, sync=True)\n",
    "corrupted_vislist = corrupt_list_rsexecute_workflow(predicted_vislist, phase_error=1.0)\n",
    "log.info('About to run corrupt to get corrupted visibility')\n",
    "corrupted_vislist =  rsexecute.compute(corrupted_vislist, sync=True)\n",
    "future_predicted_vislist=rsexecute.scatter(predicted_vislist)"
   ]
  },
  {
   "cell_type": "markdown",
   "metadata": {},
   "source": [
    "Get the LSM. This is blank."
   ]
  },
  {
   "cell_type": "code",
   "execution_count": null,
   "metadata": {
    "ExecuteTime": {
     "end_time": "2019-12-18T15:41:35.854123Z",
     "start_time": "2019-12-18T15:41:35.844523Z"
    },
    "pycharm": {
     "is_executing": false
    },
    "scrolled": true
   },
   "outputs": [],
   "source": [
    "model_list = [rsexecute.execute(create_image_from_visibility)(vis_list[f],\n",
    "                                                     npixel=npixel,\n",
    "                                                     frequency=[frequency[f]],\n",
    "                                                     channel_bandwidth=[channel_bandwidth[f]],\n",
    "                                                     cellsize=cellsize,\n",
    "                                                     phasecentre=phasecentre,\n",
    "                                                     polarisation_frame=PolarisationFrame(\"stokesI\"))\n",
    "               for f, freq in enumerate(frequency)]"
   ]
  },
  {
   "cell_type": "markdown",
   "metadata": {
    "ExecuteTime": {
     "end_time": "2019-04-03T09:21:32.325468Z",
     "start_time": "2019-04-03T09:21:32.216314Z"
    },
    "pycharm": {
     "is_executing": false,
     "name": "#%% md\n"
    }
   },
   "source": [
    "Make the graphs to calculate the dirty image and psf, but don't compute the values yet."
   ]
  },
  {
   "cell_type": "code",
   "execution_count": null,
   "metadata": {
    "ExecuteTime": {
     "end_time": "2019-12-18T15:42:24.071561Z",
     "start_time": "2019-12-18T15:42:23.966701Z"
    },
    "pycharm": {
     "name": "#%%\n"
    }
   },
   "outputs": [],
   "source": [
    "\n",
    "dirty_list = invert_list_rsexecute_workflow(future_predicted_vislist, model_list, \n",
    "                                  context='wstack',\n",
    "                                  vis_slices=vis_slices, dopsf=False)\n",
    "psf_list = invert_list_rsexecute_workflow(future_predicted_vislist, model_list, \n",
    "                                context='wstack',\n",
    "                                vis_slices=vis_slices, dopsf=True)"
   ]
  },
  {
   "cell_type": "markdown",
   "metadata": {},
   "source": [
    "Compute the graphs to make the dirty image and PSF"
   ]
  },
  {
   "cell_type": "code",
   "execution_count": null,
   "metadata": {
    "ExecuteTime": {
     "end_time": "2019-12-18T15:42:58.838437Z",
     "start_time": "2019-12-18T15:42:25.968392Z"
    },
    "pycharm": {
     "is_executing": false
    },
    "scrolled": false
   },
   "outputs": [],
   "source": [
    "log.info('About to run invert to get dirty image')\n",
    "dirty_list =  rsexecute.compute(dirty_list, sync=True)\n",
    "dirty = dirty_list[0][0]\n",
    "show_image(dirty, cm='Greys')\n",
    "plt.show()\n",
    "\n",
    "log.info('About to run invert to get PSF')\n",
    "psf_list =  rsexecute.compute(psf_list, sync=True)\n",
    "psf = psf_list[0][0]\n",
    "show_image(psf, cm='Greys')\n",
    "plt.show()"
   ]
  },
  {
   "cell_type": "markdown",
   "metadata": {},
   "source": [
    "Now deconvolve using msclean"
   ]
  },
  {
   "cell_type": "code",
   "execution_count": null,
   "metadata": {
    "ExecuteTime": {
     "end_time": "2019-12-18T15:43:16.228520Z",
     "start_time": "2019-12-18T15:43:12.350278Z"
    },
    "pycharm": {
     "is_executing": false
    },
    "scrolled": false
   },
   "outputs": [],
   "source": [
    "log.info('About to run deconvolve')\n",
    "\n",
    "deconvolve_list = \\\n",
    "    deconvolve_list_rsexecute_workflow(dirty_list, psf_list, model_imagelist=model_list, \n",
    "                            deconvolve_facets=8, deconvolve_overlap=16, deconvolve_taper='tukey',\n",
    "                            scales=[0, 3, 10],\n",
    "                            algorithm='msclean', niter=1000, \n",
    "                            fractional_threshold=0.1,\n",
    "                            threshold=0.1, gain=0.1, psf_support=64)\n",
    "    \n",
    "centre=nfreqwin // 2\n",
    "\n",
    "deconvolved = rsexecute.compute(deconvolve_list, sync=True)\n",
    "show_image(deconvolved[centre], cm='Greys', vmax=0.1, vmin=-0.01)\n",
    "plt.show()"
   ]
  },
  {
   "cell_type": "markdown",
   "metadata": {
    "ExecuteTime": {
     "end_time": "2019-04-03T09:22:00.925569Z",
     "start_time": "2019-04-03T09:21:58.762857Z"
    },
    "pycharm": {
     "is_executing": false,
     "name": "#%% md\n"
    },
    "scrolled": false
   },
   "source": [
    "Finally we can try the continuum imaging pipeline. First construct the graph."
   ]
  },
  {
   "cell_type": "code",
   "execution_count": null,
   "metadata": {
    "ExecuteTime": {
     "end_time": "2019-12-18T15:43:42.467366Z",
     "start_time": "2019-12-18T15:43:40.386896Z"
    },
    "pycharm": {
     "name": "#%%\n"
    }
   },
   "outputs": [],
   "source": [
    "continuum_imaging_list = \\\n",
    "    continuum_imaging_list_rsexecute_workflow(future_predicted_vislist, \n",
    "                                            model_imagelist=model_list, \n",
    "                                            context='wstack', vis_slices=vis_slices, \n",
    "                                            scales=[0, 3, 10], algorithm='mmclean', \n",
    "                                            nmoment=3, niter=1000, \n",
    "                                            fractional_threshold=0.1,\n",
    "                                            threshold=0.1, nmajor=5, gain=0.25,\n",
    "                                            deconvolve_facets = 8, deconvolve_overlap=16, \n",
    "                                            deconvolve_taper='tukey', psf_support=64)\n"
   ]
  },
  {
   "cell_type": "markdown",
   "metadata": {
    "ExecuteTime": {
     "end_time": "2019-04-03T09:30:34.043945Z",
     "start_time": "2019-04-03T09:30:31.377721Z"
    },
    "pycharm": {
     "is_executing": false,
     "name": "#%% md\n"
    },
    "scrolled": false
   },
   "source": [
    "Now execute the graph"
   ]
  },
  {
   "cell_type": "code",
   "execution_count": null,
   "metadata": {
    "ExecuteTime": {
     "end_time": "2019-12-18T15:48:03.939665Z",
     "start_time": "2019-12-18T15:43:42.470888Z"
    },
    "pycharm": {
     "name": "#%%\n"
    }
   },
   "outputs": [],
   "source": [
    "log.info('About to run continuum imaging')\n",
    "\n",
    "centre=nfreqwin // 2\n",
    "continuum_imaging_list=rsexecute.compute(continuum_imaging_list, sync=True)\n",
    "deconvolved = continuum_imaging_list[0][centre]\n",
    "residual = continuum_imaging_list[1][centre]\n",
    "restored = continuum_imaging_list[2][centre]\n",
    "\n",
    "f=show_image(deconvolved, title='Clean image - no selfcal', cm='Greys', \n",
    "             vmax=0.1, vmin=-0.01)\n",
    "print(qa_image(deconvolved, context='Clean image - no selfcal'))\n",
    "\n",
    "plt.show()\n",
    "\n",
    "f=show_image(restored, title='Restored clean image - no selfcal', \n",
    "             cm='Greys', vmax=1.0, vmin=-0.1)\n",
    "print(qa_image(restored, context='Restored clean image - no selfcal'))\n",
    "plt.show()\n",
    "export_image_to_fits(restored, '%s/imaging-dask_continuum_imaging_restored.fits' \n",
    "                     %(results_dir))\n",
    "\n",
    "f=show_image(residual[0], title='Residual clean image - no selfcal', cm='Greys')\n",
    "print(qa_image(residual[0], context='Residual clean image - no selfcal'))\n",
    "plt.show()\n",
    "export_image_to_fits(residual[0], '%s/imaging-dask_continuum_imaging_residual.fits' \n",
    "                     %(results_dir))"
   ]
  },
  {
   "cell_type": "code",
   "execution_count": null,
   "metadata": {
    "ExecuteTime": {
     "end_time": "2019-04-03T09:24:58.126655Z",
     "start_time": "2019-04-03T09:24:53.126648Z"
    },
    "pycharm": {
     "is_executing": false
    },
    "scrolled": false
   },
   "outputs": [],
   "source": [
    "for chan in range(nfreqwin):\n",
    "    residual = continuum_imaging_list[1][chan]\n",
    "    show_image(residual[0], title='Channel %d' % chan, cm='Greys')\n",
    "    plt.show()"
   ]
  }
 ],
 "metadata": {
  "kernelspec": {
   "display_name": "Python 3",
   "language": "python",
   "name": "python3"
  },
  "language_info": {
   "codemirror_mode": {
    "name": "ipython",
    "version": 3
   },
   "file_extension": ".py",
   "mimetype": "text/x-python",
   "name": "python",
   "nbconvert_exporter": "python",
   "pygments_lexer": "ipython3",
   "version": "3.7.5"
  },
  "pycharm": {
   "stem_cell": {
    "cell_type": "raw",
    "source": [],
    "metadata": {
     "collapsed": false
    }
   }
  }
 },
 "nbformat": 4,
 "nbformat_minor": 2
}