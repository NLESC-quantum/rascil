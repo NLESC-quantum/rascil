{
 "cells": [
  {
   "cell_type": "markdown",
   "source": [
    "### Notebook to explore use of xarray in RASCIL\n",
    "\n",
    "xarray must be installed:\n",
    "\n",
    "    pip install xarray"
   ],
   "metadata": {
    "collapsed": false,
    "pycharm": {
     "name": "#%% md\n"
    }
   }
  },
  {
   "cell_type": "code",
   "execution_count": 1,
   "metadata": {
    "collapsed": true
   },
   "outputs": [],
   "source": [
    "import xarray\n",
    "\n",
    "import numpy\n",
    "\n",
    "from astropy.coordinates import SkyCoord\n",
    "import astropy.units as u\n",
    "from astropy.time import Time\n",
    "\n",
    "from rascil.data_models.memory_data_models import Visibility, QA\n",
    "from rascil.data_models.polarisation import PolarisationFrame\n",
    "from rascil.processing_components import create_named_configuration, \\\n",
    "    create_visibility"
   ]
  },
  {
   "cell_type": "markdown",
   "source": [
    "Create a standard RASCIL Visibility object"
   ],
   "metadata": {
    "collapsed": false,
    "pycharm": {
     "name": "#%% md\n"
    }
   }
  },
  {
   "cell_type": "code",
   "execution_count": 2,
   "outputs": [
    {
     "name": "stdout",
     "output_type": "stream",
     "text": [
      "Visibility:\n",
      "\tSource: unknown\n",
      "\tNumber of visibilities: 657360\n",
      "\tNumber of channels: 3\n",
      "\tFrequency: [1.00e+08 1.05e+08 1.10e+08]\n",
      "\tChannel bandwidth: [10000000.]\n",
      "\tNumber of polarisations: 4\n",
      "\tVisibility shape: (657360, 4)\n",
      "\tNumber flags: 0\n",
      "\tPolarisation Frame: linear\n",
      "\tPhasecentre: <SkyCoord (ICRS): (ra, dec) in deg\n",
      "    (180., -35.)>\n",
      "\tConfiguration: LOWBD2-CORE\n",
      "\tMetadata: None\n",
      "\n"
     ]
    }
   ],
   "source": [
    "lowcore = create_named_configuration('LOWBD2-CORE')\n",
    "times = (numpy.pi / 43200.0) * numpy.arange(-4*3600, +4*3600.0, 1800)\n",
    "frequency = numpy.linspace(1.0e8, 1.1e8, 3)\n",
    "channel_bandwidth = numpy.array([1e7, 1e7, 1e7])\n",
    "# Define the component and give it some spectral behaviour\n",
    "f = numpy.array([100.0, 20.0, -10.0, 1.0])\n",
    "flux = numpy.array([f, 0.8 * f, 0.6 * f])\n",
    "phasecentre = SkyCoord(ra=+180.0 * u.deg, dec=-35.0 * u.deg, frame='icrs',\n",
    "                       equinox='J2000')\n",
    "vis = create_visibility(lowcore, times, frequency,\n",
    "                             channel_bandwidth=channel_bandwidth,\n",
    "                             phasecentre=phasecentre,\n",
    "                             integration_time=30.0,\n",
    "                             polarisation_frame=PolarisationFrame(\"linear\"),\n",
    "                             weight=1.0)\n",
    "print(vis)"
   ],
   "metadata": {
    "collapsed": false,
    "pycharm": {
     "name": "#%%\n"
    }
   }
  },
  {
   "cell_type": "markdown",
   "source": [
    "First construct an xarray.DataArray for the visibility. We name the dimensions and give the coordinates."
   ],
   "metadata": {
    "collapsed": false,
    "pycharm": {
     "name": "#%% md\n"
    }
   }
  },
  {
   "cell_type": "code",
   "execution_count": 6,
   "outputs": [
    {
     "name": "stdout",
     "output_type": "stream",
     "text": [
      "<xarray.DataArray (time: 657360, polarisation: 4)>\n",
      "array([[0.+0.j, 0.+0.j, 0.+0.j, 0.+0.j],\n",
      "       [0.+0.j, 0.+0.j, 0.+0.j, 0.+0.j],\n",
      "       [0.+0.j, 0.+0.j, 0.+0.j, 0.+0.j],\n",
      "       ...,\n",
      "       [0.+0.j, 0.+0.j, 0.+0.j, 0.+0.j],\n",
      "       [0.+0.j, 0.+0.j, 0.+0.j, 0.+0.j],\n",
      "       [0.+0.j, 0.+0.j, 0.+0.j, 0.+0.j]])\n",
      "Coordinates:\n",
      "  * time          (time) float64 5.085e+09 5.085e+09 ... 5.085e+09 5.085e+09\n",
      "  * polarisation  (polarisation) <U2 'XX' 'XY' 'YX' 'YY'\n"
     ]
    }
   ],
   "source": [
    "xvis_array = xarray.DataArray(vis.vis,\n",
    "                              dims=[\"time\", \"polarisation\"],\n",
    "                              coords={\"time\": vis.time, \"polarisation\": vis.polarisation_frame.names})\n",
    "print(xvis_array)"
   ],
   "metadata": {
    "collapsed": false,
    "pycharm": {
     "name": "#%%%\n"
    }
   }
  },
  {
   "cell_type": "markdown",
   "source": [
    "Now we can create an xarray.Dataset which is a dictionary of DataArrays and a list of attributes"
   ],
   "metadata": {
    "collapsed": false,
    "pycharm": {
     "name": "#%% md\n"
    }
   }
  },
  {
   "cell_type": "code",
   "execution_count": 8,
   "outputs": [],
   "source": [
    "dims = (\"time\", \"polarisation\", \"spatial\")\n",
    "\n",
    "coords = {\"time\": vis.time,\n",
    "          \"polarisation\": vis.polarisation_frame.names,\n",
    "          \"spatial\": numpy.zeros([3])}\n",
    "\n",
    "xvis_dict = {}\n",
    "xvis_dict[\"visibility\"] = xarray.DataArray(vis.vis, dims=[\"time\", \"polarisation\"])\n",
    "xvis_dict[\"uvw\"] = xarray.DataArray(vis.uvw, dims=[\"time\", \"spatial\"])\n",
    "xvis_dict[\"uvwdist\"] = xarray.DataArray(vis.uvwdist, dims=[\"time\"])\n",
    "xvis_dict[\"datetime\"] = \\\n",
    "    xarray.DataArray(Time(vis.time / 86400.0, format='mjd', scale='utc').datetime64, dims=[\"time\"])\n",
    "xvis_dict[\"weight\"] = xarray.DataArray(vis.weight, dims=[\"time\", \"polarisation\"])\n",
    "xvis_dict[\"imaging_weight\"] = xarray.DataArray(vis.imaging_weight,\n",
    "                                               dims=[\"time\", \"polarisation\"])\n",
    "xvis_dict[\"flags\"] = xarray.DataArray(vis.flags, dims=[\"time\", \"polarisation\"])\n",
    "xvis_dict[\"frequency\"] = xarray.DataArray(vis.frequency, dims=[\"time\"])\n",
    "xvis_dict[\"channel_bandwidth\"] = xarray.DataArray(vis.channel_bandwidth, dims=[\"time\"])\n",
    "xvis_dict[\"integration_time\"] = xarray.DataArray(vis.integration_time, dims=[\"time\"])\n",
    "xvis = xarray.Dataset(xvis_dict, coords=coords)\n",
    "xvis.attrs['source'] = vis.source\n",
    "xvis.attrs['meta'] = vis.meta"
   ],
   "metadata": {
    "collapsed": false,
    "pycharm": {
     "name": "#%%\n"
    }
   }
  },
  {
   "cell_type": "markdown",
   "source": [
    "xarray has excellent informative prints for most objects."
   ],
   "metadata": {
    "collapsed": false,
    "pycharm": {
     "name": "#%% md\n"
    }
   }
  },
  {
   "cell_type": "code",
   "execution_count": 5,
   "outputs": [
    {
     "name": "stdout",
     "output_type": "stream",
     "text": [
      "<xarray.Dataset>\n",
      "Dimensions:            (polarisation: 4, spatial: 3, time: 657360)\n",
      "Coordinates:\n",
      "  * time               (time) float64 5.085e+09 5.085e+09 ... 5.085e+09\n",
      "  * polarisation       (polarisation) <U2 'XX' 'XY' 'YX' 'YY'\n",
      "  * spatial            (spatial) float64 0.0 0.0 0.0\n",
      "Data variables:\n",
      "    visibility         (time, polarisation) complex128 0j 0j 0j 0j ... 0j 0j 0j\n",
      "    uvw                (time, spatial) float64 10.69 12.45 16.41 ... 31.07 74.17\n",
      "    uvwdist            (time) float64 16.41 17.23 18.05 ... 67.43 70.8 74.17\n",
      "    datetime           (time) datetime64[ns] 2020-01-01T17:30:36.436666595 .....\n",
      "    weight             (time, polarisation) float64 1.0 1.0 1.0 ... 1.0 1.0 1.0\n",
      "    imaging_weight     (time, polarisation) float64 1.0 1.0 1.0 ... 1.0 1.0 1.0\n",
      "    flags              (time, polarisation) int64 0 0 0 0 0 0 0 ... 0 0 0 0 0 0\n",
      "    frequency          (time) float64 1e+08 1.05e+08 ... 1.05e+08 1.1e+08\n",
      "    channel_bandwidth  (time) float64 1e+07 1e+07 1e+07 ... 1e+07 1e+07 1e+07\n",
      "    antenna1           (time) int64 0 0 0 0 0 0 0 ... 163 163 163 164 164 164\n",
      "    antenna2           (time) int64 1 1 1 2 2 2 3 ... 165 165 165 165 165 165\n",
      "    integration_time   (time) float64 30.0 30.0 30.0 30.0 ... 30.0 30.0 30.0\n",
      "Attributes:\n",
      "    source:   unknown\n",
      "    meta:     None\n"
     ]
    }
   ],
   "source": [
    "print(xvis)"
   ],
   "metadata": {
    "collapsed": false,
    "pycharm": {
     "name": "#%%\n"
    }
   }
  },
  {
   "cell_type": "markdown",
   "source": [
    "Take a slice in times and polarisation"
   ],
   "metadata": {
    "collapsed": false,
    "pycharm": {
     "name": "#%% md\n"
    }
   }
  },
  {
   "cell_type": "code",
   "execution_count": 6,
   "outputs": [
    {
     "name": "stdout",
     "output_type": "stream",
     "text": [
      "<xarray.DataArray 'visibility' (time: 10, polarisation: 1)>\n",
      "array([[0.+0.j],\n",
      "       [0.+0.j],\n",
      "       [0.+0.j],\n",
      "       [0.+0.j],\n",
      "       [0.+0.j],\n",
      "       [0.+0.j],\n",
      "       [0.+0.j],\n",
      "       [0.+0.j],\n",
      "       [0.+0.j],\n",
      "       [0.+0.j]])\n",
      "Coordinates:\n",
      "  * time          (time) float64 5.085e+09 5.085e+09 ... 5.085e+09 5.085e+09\n",
      "  * polarisation  (polarisation) <U2 'XX'\n"
     ]
    }
   ],
   "source": [
    "print(xvis.visibility[100:110, 0:1])"
   ],
   "metadata": {
    "collapsed": false,
    "pycharm": {
     "name": "#%%\n"
    }
   }
  },
  {
   "cell_type": "markdown",
   "source": [
    "By label"
   ],
   "metadata": {
    "collapsed": false
   }
  },
  {
   "cell_type": "code",
   "execution_count": 7,
   "outputs": [
    {
     "name": "stdout",
     "output_type": "stream",
     "text": [
      "<xarray.Dataset>\n",
      "Dimensions:            (polarisation: 2, spatial: 3, time: 657360)\n",
      "Coordinates:\n",
      "  * time               (time) float64 5.085e+09 5.085e+09 ... 5.085e+09\n",
      "  * polarisation       (polarisation) <U2 'XX' 'YY'\n",
      "  * spatial            (spatial) float64 0.0 0.0 0.0\n",
      "Data variables:\n",
      "    visibility         (time, polarisation) complex128 0j 0j 0j 0j ... 0j 0j 0j\n",
      "    uvw                (time, spatial) float64 10.69 12.45 16.41 ... 31.07 74.17\n",
      "    uvwdist            (time) float64 16.41 17.23 18.05 ... 67.43 70.8 74.17\n",
      "    datetime           (time) datetime64[ns] 2020-01-01T17:30:36.436666595 .....\n",
      "    weight             (time, polarisation) float64 1.0 1.0 1.0 ... 1.0 1.0 1.0\n",
      "    imaging_weight     (time, polarisation) float64 1.0 1.0 1.0 ... 1.0 1.0 1.0\n",
      "    flags              (time, polarisation) int64 0 0 0 0 0 0 0 ... 0 0 0 0 0 0\n",
      "    frequency          (time) float64 1e+08 1.05e+08 ... 1.05e+08 1.1e+08\n",
      "    channel_bandwidth  (time) float64 1e+07 1e+07 1e+07 ... 1e+07 1e+07 1e+07\n",
      "    antenna1           (time) int64 0 0 0 0 0 0 0 ... 163 163 163 164 164 164\n",
      "    antenna2           (time) int64 1 1 1 2 2 2 3 ... 165 165 165 165 165 165\n",
      "    integration_time   (time) float64 30.0 30.0 30.0 30.0 ... 30.0 30.0 30.0\n",
      "Attributes:\n",
      "    source:   unknown\n",
      "    meta:     None\n"
     ]
    }
   ],
   "source": [
    "print(xvis.sel({\"polarisation\":[\"XX\", \"YY\"]}))"
   ],
   "metadata": {
    "collapsed": false,
    "pycharm": {
     "name": "#%%\n"
    }
   }
  },
  {
   "cell_type": "markdown",
   "source": [
    "By antenna1"
   ],
   "metadata": {
    "collapsed": false,
    "pycharm": {
     "name": "#%% md\n"
    }
   }
  },
  {
   "cell_type": "code",
   "execution_count": 8,
   "outputs": [
    {
     "name": "stdout",
     "output_type": "stream",
     "text": [
      "<xarray.DataArray 'uvw' (time: 657360, spatial: 3)>\n",
      "array([[10.69008852, 12.4457611 , 16.40655241],\n",
      "       [11.22459295, 13.06804915, 17.22688003],\n",
      "       [11.75909738, 13.69033721, 18.04720765],\n",
      "       ...,\n",
      "       [        nan,         nan,         nan],\n",
      "       [        nan,         nan,         nan],\n",
      "       [        nan,         nan,         nan]])\n",
      "Coordinates:\n",
      "  * time     (time) float64 5.085e+09 5.085e+09 ... 5.085e+09 5.085e+09\n",
      "  * spatial  (spatial) float64 0.0 0.0 0.0\n"
     ]
    }
   ],
   "source": [
    "print(xvis.where(xvis.antenna1<10).uvw)"
   ],
   "metadata": {
    "collapsed": false,
    "pycharm": {
     "name": "#%%\n"
    }
   }
  },
  {
   "cell_type": "markdown",
   "source": [
    "By uvw distance"
   ],
   "metadata": {
    "collapsed": false
   }
  },
  {
   "cell_type": "code",
   "execution_count": 9,
   "outputs": [
    {
     "name": "stdout",
     "output_type": "stream",
     "text": [
      "<xarray.DataArray 'uvw' (time: 657360, spatial: 3)>\n",
      "array([[10.69008852, 12.4457611 , 16.40655241],\n",
      "       [11.22459295, 13.06804915, 17.22688003],\n",
      "       [11.75909738, 13.69033721, 18.04720765],\n",
      "       ...,\n",
      "       [        nan,         nan,         nan],\n",
      "       [        nan,         nan,         nan],\n",
      "       [        nan,         nan,         nan]])\n",
      "Coordinates:\n",
      "  * time     (time) float64 5.085e+09 5.085e+09 ... 5.085e+09 5.085e+09\n",
      "  * spatial  (spatial) float64 0.0 0.0 0.0\n"
     ]
    }
   ],
   "source": [
    "print(xvis.where(xvis.uvwdist<40.0).uvw)"
   ],
   "metadata": {
    "collapsed": false,
    "pycharm": {
     "name": "#%%\n"
    }
   }
  },
  {
   "cell_type": "markdown",
   "source": [
    "By time"
   ],
   "metadata": {
    "collapsed": false,
    "pycharm": {
     "name": "#%% md\n"
    }
   }
  },
  {
   "cell_type": "code",
   "execution_count": 10,
   "outputs": [
    {
     "name": "stdout",
     "output_type": "stream",
     "text": [
      "<xarray.DataArray 'datetime' (time: 657360)>\n",
      "array([                          'NaT',                           'NaT',\n",
      "                                 'NaT', ...,\n",
      "       '2020-01-02T00:59:22.717916630', '2020-01-02T00:59:22.717916630',\n",
      "       '2020-01-02T00:59:22.717916630'], dtype='datetime64[ns]')\n",
      "Coordinates:\n",
      "  * time     (time) float64 5.085e+09 5.085e+09 ... 5.085e+09 5.085e+09\n"
     ]
    }
   ],
   "source": [
    "print(xvis.where(xvis.datetime>numpy.datetime64(\"2020-01-01T23:00:00\")).datetime)"
   ],
   "metadata": {
    "collapsed": false,
    "pycharm": {
     "name": "#%%\n"
    }
   }
  },
  {
   "cell_type": "markdown",
   "source": [
    "Sorting: the visibility is constructed so that antenna1 varies least. Let's try a sort by antenna2."
   ],
   "metadata": {
    "collapsed": false,
    "pycharm": {
     "name": "#%% md\n"
    }
   }
  },
  {
   "cell_type": "code",
   "execution_count": 11,
   "outputs": [
    {
     "name": "stdout",
     "output_type": "stream",
     "text": [
      "<xarray.DataArray 'antenna2' (time: 657360)>\n",
      "array([  1,   1,   1, ..., 165, 165, 165])\n",
      "Coordinates:\n",
      "  * time     (time) float64 5.085e+09 5.085e+09 ... 5.085e+09 5.085e+09\n"
     ]
    }
   ],
   "source": [
    "print(xvis.sortby(\"antenna2\").antenna2)"
   ],
   "metadata": {
    "collapsed": false,
    "pycharm": {
     "name": "#%%\n"
    }
   }
  },
  {
   "cell_type": "markdown",
   "source": [
    "Rebinning in one data coordinate - let's try bins in uvwdist. Only print out the uvwdist range and number of samples\n",
    "for each bin."
   ],
   "metadata": {
    "collapsed": false
   }
  },
  {
   "cell_type": "code",
   "execution_count": 12,
   "outputs": [
    {
     "name": "stdout",
     "output_type": "stream",
     "text": [
      "(7.509, 19.087] 17095\n",
      "(19.087, 30.384] 28203\n",
      "(30.384, 41.68] 39165\n",
      "(41.68, 52.976] 46858\n",
      "(52.976, 64.272] 52582\n",
      "(64.272, 75.568] 55662\n",
      "(75.568, 86.864] 56502\n",
      "(86.864, 98.16] 55611\n",
      "(98.16, 109.456] 52740\n",
      "(109.456, 120.752] 48051\n",
      "(120.752, 132.048] 42634\n",
      "(132.048, 143.344] 36774\n",
      "(143.344, 154.64] 30309\n",
      "(154.64, 165.936] 24541\n",
      "(165.936, 177.232] 19332\n",
      "(177.232, 188.528] 15286\n",
      "(188.528, 199.825] 11626\n",
      "(199.825, 211.121] 8735\n",
      "(211.121, 222.417] 6226\n",
      "(222.417, 233.713] 4339\n",
      "(233.713, 245.009] 2691\n",
      "(245.009, 256.305] 1482\n",
      "(256.305, 267.601] 639\n",
      "(267.601, 278.897] 233\n",
      "(278.897, 290.193] 44\n",
      "4.47 s ± 0 ns per loop (mean ± std. dev. of 1 run, 1 loop each)\n"
     ]
    }
   ],
   "source": [
    "%timeit -n 1 -r 1 for result in xvis.groupby_bins(\"uvwdist\", bins=25): print(result[0], result[1].dims['time'])\n"
   ],
   "metadata": {
    "collapsed": false,
    "pycharm": {
     "name": "#%%\n"
    }
   }
  },
  {
   "cell_type": "markdown",
   "source": [
    "Try to index by antenna1, antenna2"
   ],
   "metadata": {
    "collapsed": false,
    "pycharm": {
     "name": "#%% md\n"
    }
   }
  },
  {
   "cell_type": "code",
   "execution_count": 13,
   "outputs": [
    {
     "name": "stdout",
     "output_type": "stream",
     "text": [
      "<xarray.Dataset>\n",
      "Dimensions:            (index: 657360, polarisation: 4, spatial: 3, time: 657360)\n",
      "Coordinates:\n",
      "  * time               (time) float64 5.085e+09 5.085e+09 ... 5.085e+09\n",
      "  * polarisation       (polarisation) <U2 'XX' 'XY' 'YX' 'YY'\n",
      "  * spatial            (spatial) float64 0.0 0.0 0.0\n",
      "  * index              (index) MultiIndex\n",
      "  - antenna1           (index) int64 0 0 0 0 0 0 0 ... 163 163 163 164 164 164\n",
      "  - antenna2           (index) int64 1 1 1 2 2 2 3 ... 165 165 165 165 165 165\n",
      "Data variables:\n",
      "    visibility         (time, polarisation) complex128 0j 0j 0j 0j ... 0j 0j 0j\n",
      "    uvw                (time, spatial) float64 10.69 12.45 16.41 ... 31.07 74.17\n",
      "    uvwdist            (time) float64 16.41 17.23 18.05 ... 67.43 70.8 74.17\n",
      "    datetime           (time) datetime64[ns] 2020-01-01T17:30:36.436666595 .....\n",
      "    weight             (time, polarisation) float64 1.0 1.0 1.0 ... 1.0 1.0 1.0\n",
      "    imaging_weight     (time, polarisation) float64 1.0 1.0 1.0 ... 1.0 1.0 1.0\n",
      "    flags              (time, polarisation) int64 0 0 0 0 0 0 0 ... 0 0 0 0 0 0\n",
      "    frequency          (time) float64 1e+08 1.05e+08 ... 1.05e+08 1.1e+08\n",
      "    channel_bandwidth  (time) float64 1e+07 1e+07 1e+07 ... 1e+07 1e+07 1e+07\n",
      "    integration_time   (time) float64 30.0 30.0 30.0 30.0 ... 30.0 30.0 30.0\n",
      "Attributes:\n",
      "    source:   unknown\n",
      "    meta:     None\n"
     ]
    }
   ],
   "source": [
    "xvis=xvis.set_index(index=(\"antenna1\", \"antenna2\"))\n",
    "print(xvis)"
   ],
   "metadata": {
    "collapsed": false,
    "pycharm": {
     "name": "#%%\n"
    }
   }
  },
  {
   "cell_type": "code",
   "execution_count": 19,
   "outputs": [
    {
     "name": "stdout",
     "output_type": "stream",
     "text": [
      "<xarray.Dataset>\n",
      "Dimensions:            (index: 657360, polarisation: 4, spatial: 3, time: 657360)\n",
      "Coordinates:\n",
      "  * time               (time) float64 5.085e+09 5.085e+09 ... 5.085e+09\n",
      "  * polarisation       (polarisation) <U2 'XX' 'XY' 'YX' 'YY'\n",
      "  * spatial            (spatial) float64 0.0 0.0 0.0\n",
      "  * index              (index) MultiIndex\n",
      "  - antenna1           (index) int64 0 0 0 0 0 0 0 ... 163 163 163 164 164 164\n",
      "  - antenna2           (index) int64 1 1 1 2 2 2 3 ... 165 165 165 165 165 165\n",
      "Data variables:\n",
      "    visibility         (time, polarisation) complex128 0j 0j 0j 0j ... 0j 0j 0j\n",
      "    uvw                (time, spatial) float64 10.69 12.45 16.41 ... 31.07 74.17\n",
      "    uvwdist            (time) float64 16.41 17.23 18.05 ... 67.43 70.8 74.17\n",
      "    datetime           (time) datetime64[ns] 2020-01-01T17:30:36.436666595 .....\n",
      "    weight             (time, polarisation) float64 1.0 1.0 1.0 ... 1.0 1.0 1.0\n",
      "    imaging_weight     (time, polarisation) float64 1.0 1.0 1.0 ... 1.0 1.0 1.0\n",
      "    flags              (time, polarisation) int64 0 0 0 0 0 0 0 ... 0 0 0 0 0 0\n",
      "    frequency          (time) float64 1e+08 1.05e+08 ... 1.05e+08 1.1e+08\n",
      "    channel_bandwidth  (time) float64 1e+07 1e+07 1e+07 ... 1e+07 1e+07 1e+07\n",
      "    integration_time   (time) float64 30.0 30.0 30.0 30.0 ... 30.0 30.0 30.0\n",
      "Attributes:\n",
      "    source:   unknown\n",
      "    meta:     None\n"
     ]
    },
    {
     "ename": "ValueError",
     "evalue": "Vectorized selection is not available along level variable: antenna1",
     "output_type": "error",
     "traceback": [
      "\u001B[0;31m---------------------------------------------------------------------------\u001B[0m",
      "\u001B[0;31mValueError\u001B[0m                                Traceback (most recent call last)",
      "\u001B[0;32m<ipython-input-19-71b5146f47c7>\u001B[0m in \u001B[0;36m<module>\u001B[0;34m\u001B[0m\n\u001B[1;32m      1\u001B[0m \u001B[0mprint\u001B[0m\u001B[0;34m(\u001B[0m\u001B[0mxvis\u001B[0m\u001B[0;34m)\u001B[0m\u001B[0;34m\u001B[0m\u001B[0;34m\u001B[0m\u001B[0m\n\u001B[0;32m----> 2\u001B[0;31m \u001B[0mxvis\u001B[0m\u001B[0;34m.\u001B[0m\u001B[0mloc\u001B[0m\u001B[0;34m[\u001B[0m\u001B[0mdict\u001B[0m\u001B[0;34m(\u001B[0m\u001B[0mantenna1\u001B[0m\u001B[0;34m=\u001B[0m\u001B[0;34m[\u001B[0m\u001B[0;36m1\u001B[0m\u001B[0;34m,\u001B[0m\u001B[0;36m2\u001B[0m\u001B[0;34m,\u001B[0m\u001B[0;36m4\u001B[0m\u001B[0;34m]\u001B[0m\u001B[0;34m,\u001B[0m \u001B[0mantenna2\u001B[0m\u001B[0;34m=\u001B[0m\u001B[0;34m[\u001B[0m\u001B[0;36m5\u001B[0m\u001B[0;34m,\u001B[0m\u001B[0;36m6\u001B[0m\u001B[0;34m]\u001B[0m\u001B[0;34m)\u001B[0m\u001B[0;34m]\u001B[0m\u001B[0;34m.\u001B[0m\u001B[0mvisibility\u001B[0m\u001B[0;34m\u001B[0m\u001B[0;34m\u001B[0m\u001B[0m\n\u001B[0m",
      "\u001B[0;32m~/opt/anaconda3/envs/rascil37/lib/python3.7/site-packages/xarray/core/dataset.py\u001B[0m in \u001B[0;36m__getitem__\u001B[0;34m(self, key)\u001B[0m\n\u001B[1;32m    423\u001B[0m         \u001B[0;32mif\u001B[0m \u001B[0;32mnot\u001B[0m \u001B[0mutils\u001B[0m\u001B[0;34m.\u001B[0m\u001B[0mis_dict_like\u001B[0m\u001B[0;34m(\u001B[0m\u001B[0mkey\u001B[0m\u001B[0;34m)\u001B[0m\u001B[0;34m:\u001B[0m\u001B[0;34m\u001B[0m\u001B[0;34m\u001B[0m\u001B[0m\n\u001B[1;32m    424\u001B[0m             \u001B[0;32mraise\u001B[0m \u001B[0mTypeError\u001B[0m\u001B[0;34m(\u001B[0m\u001B[0;34m\"can only lookup dictionaries from Dataset.loc\"\u001B[0m\u001B[0;34m)\u001B[0m\u001B[0;34m\u001B[0m\u001B[0;34m\u001B[0m\u001B[0m\n\u001B[0;32m--> 425\u001B[0;31m         \u001B[0;32mreturn\u001B[0m \u001B[0mself\u001B[0m\u001B[0;34m.\u001B[0m\u001B[0mdataset\u001B[0m\u001B[0;34m.\u001B[0m\u001B[0msel\u001B[0m\u001B[0;34m(\u001B[0m\u001B[0mkey\u001B[0m\u001B[0;34m)\u001B[0m\u001B[0;34m\u001B[0m\u001B[0;34m\u001B[0m\u001B[0m\n\u001B[0m\u001B[1;32m    426\u001B[0m \u001B[0;34m\u001B[0m\u001B[0m\n\u001B[1;32m    427\u001B[0m \u001B[0;34m\u001B[0m\u001B[0m\n",
      "\u001B[0;32m~/opt/anaconda3/envs/rascil37/lib/python3.7/site-packages/xarray/core/dataset.py\u001B[0m in \u001B[0;36msel\u001B[0;34m(self, indexers, method, tolerance, drop, **indexers_kwargs)\u001B[0m\n\u001B[1;32m   2100\u001B[0m         \u001B[0mindexers\u001B[0m \u001B[0;34m=\u001B[0m \u001B[0meither_dict_or_kwargs\u001B[0m\u001B[0;34m(\u001B[0m\u001B[0mindexers\u001B[0m\u001B[0;34m,\u001B[0m \u001B[0mindexers_kwargs\u001B[0m\u001B[0;34m,\u001B[0m \u001B[0;34m\"sel\"\u001B[0m\u001B[0;34m)\u001B[0m\u001B[0;34m\u001B[0m\u001B[0;34m\u001B[0m\u001B[0m\n\u001B[1;32m   2101\u001B[0m         pos_indexers, new_indexes = remap_label_indexers(\n\u001B[0;32m-> 2102\u001B[0;31m             \u001B[0mself\u001B[0m\u001B[0;34m,\u001B[0m \u001B[0mindexers\u001B[0m\u001B[0;34m=\u001B[0m\u001B[0mindexers\u001B[0m\u001B[0;34m,\u001B[0m \u001B[0mmethod\u001B[0m\u001B[0;34m=\u001B[0m\u001B[0mmethod\u001B[0m\u001B[0;34m,\u001B[0m \u001B[0mtolerance\u001B[0m\u001B[0;34m=\u001B[0m\u001B[0mtolerance\u001B[0m\u001B[0;34m\u001B[0m\u001B[0;34m\u001B[0m\u001B[0m\n\u001B[0m\u001B[1;32m   2103\u001B[0m         )\n\u001B[1;32m   2104\u001B[0m         \u001B[0mresult\u001B[0m \u001B[0;34m=\u001B[0m \u001B[0mself\u001B[0m\u001B[0;34m.\u001B[0m\u001B[0misel\u001B[0m\u001B[0;34m(\u001B[0m\u001B[0mindexers\u001B[0m\u001B[0;34m=\u001B[0m\u001B[0mpos_indexers\u001B[0m\u001B[0;34m,\u001B[0m \u001B[0mdrop\u001B[0m\u001B[0;34m=\u001B[0m\u001B[0mdrop\u001B[0m\u001B[0;34m)\u001B[0m\u001B[0;34m\u001B[0m\u001B[0;34m\u001B[0m\u001B[0m\n",
      "\u001B[0;32m~/opt/anaconda3/envs/rascil37/lib/python3.7/site-packages/xarray/core/coordinates.py\u001B[0m in \u001B[0;36mremap_label_indexers\u001B[0;34m(obj, indexers, method, tolerance, **indexers_kwargs)\u001B[0m\n\u001B[1;32m    395\u001B[0m \u001B[0;34m\u001B[0m\u001B[0m\n\u001B[1;32m    396\u001B[0m     pos_indexers, new_indexes = indexing.remap_label_indexers(\n\u001B[0;32m--> 397\u001B[0;31m         \u001B[0mobj\u001B[0m\u001B[0;34m,\u001B[0m \u001B[0mv_indexers\u001B[0m\u001B[0;34m,\u001B[0m \u001B[0mmethod\u001B[0m\u001B[0;34m=\u001B[0m\u001B[0mmethod\u001B[0m\u001B[0;34m,\u001B[0m \u001B[0mtolerance\u001B[0m\u001B[0;34m=\u001B[0m\u001B[0mtolerance\u001B[0m\u001B[0;34m\u001B[0m\u001B[0;34m\u001B[0m\u001B[0m\n\u001B[0m\u001B[1;32m    398\u001B[0m     )\n\u001B[1;32m    399\u001B[0m     \u001B[0;31m# attach indexer's coordinate to pos_indexers\u001B[0m\u001B[0;34m\u001B[0m\u001B[0;34m\u001B[0m\u001B[0;34m\u001B[0m\u001B[0m\n",
      "\u001B[0;32m~/opt/anaconda3/envs/rascil37/lib/python3.7/site-packages/xarray/core/indexing.py\u001B[0m in \u001B[0;36mremap_label_indexers\u001B[0;34m(data_obj, indexers, method, tolerance)\u001B[0m\n\u001B[1;32m    268\u001B[0m             \u001B[0mcoords_dtype\u001B[0m \u001B[0;34m=\u001B[0m \u001B[0mdata_obj\u001B[0m\u001B[0;34m.\u001B[0m\u001B[0mcoords\u001B[0m\u001B[0;34m[\u001B[0m\u001B[0mdim\u001B[0m\u001B[0;34m]\u001B[0m\u001B[0;34m.\u001B[0m\u001B[0mdtype\u001B[0m\u001B[0;34m\u001B[0m\u001B[0;34m\u001B[0m\u001B[0m\n\u001B[1;32m    269\u001B[0m             \u001B[0mlabel\u001B[0m \u001B[0;34m=\u001B[0m \u001B[0mmaybe_cast_to_coords_dtype\u001B[0m\u001B[0;34m(\u001B[0m\u001B[0mlabel\u001B[0m\u001B[0;34m,\u001B[0m \u001B[0mcoords_dtype\u001B[0m\u001B[0;34m)\u001B[0m\u001B[0;34m\u001B[0m\u001B[0;34m\u001B[0m\u001B[0m\n\u001B[0;32m--> 270\u001B[0;31m             \u001B[0midxr\u001B[0m\u001B[0;34m,\u001B[0m \u001B[0mnew_idx\u001B[0m \u001B[0;34m=\u001B[0m \u001B[0mconvert_label_indexer\u001B[0m\u001B[0;34m(\u001B[0m\u001B[0mindex\u001B[0m\u001B[0;34m,\u001B[0m \u001B[0mlabel\u001B[0m\u001B[0;34m,\u001B[0m \u001B[0mdim\u001B[0m\u001B[0;34m,\u001B[0m \u001B[0mmethod\u001B[0m\u001B[0;34m,\u001B[0m \u001B[0mtolerance\u001B[0m\u001B[0;34m)\u001B[0m\u001B[0;34m\u001B[0m\u001B[0;34m\u001B[0m\u001B[0m\n\u001B[0m\u001B[1;32m    271\u001B[0m             \u001B[0mpos_indexers\u001B[0m\u001B[0;34m[\u001B[0m\u001B[0mdim\u001B[0m\u001B[0;34m]\u001B[0m \u001B[0;34m=\u001B[0m \u001B[0midxr\u001B[0m\u001B[0;34m\u001B[0m\u001B[0;34m\u001B[0m\u001B[0m\n\u001B[1;32m    272\u001B[0m             \u001B[0;32mif\u001B[0m \u001B[0mnew_idx\u001B[0m \u001B[0;32mis\u001B[0m \u001B[0;32mnot\u001B[0m \u001B[0;32mNone\u001B[0m\u001B[0;34m:\u001B[0m\u001B[0;34m\u001B[0m\u001B[0;34m\u001B[0m\u001B[0m\n",
      "\u001B[0;32m~/opt/anaconda3/envs/rascil37/lib/python3.7/site-packages/xarray/core/indexing.py\u001B[0m in \u001B[0;36mconvert_label_indexer\u001B[0;34m(index, label, index_name, method, tolerance)\u001B[0m\n\u001B[1;32m    148\u001B[0m                     raise ValueError(\n\u001B[1;32m    149\u001B[0m                         \u001B[0;34m\"Vectorized selection is not \"\u001B[0m\u001B[0;34m\u001B[0m\u001B[0;34m\u001B[0m\u001B[0m\n\u001B[0;32m--> 150\u001B[0;31m                         \u001B[0;34m\"available along level variable: \"\u001B[0m \u001B[0;34m+\u001B[0m \u001B[0mk\u001B[0m\u001B[0;34m\u001B[0m\u001B[0;34m\u001B[0m\u001B[0m\n\u001B[0m\u001B[1;32m    151\u001B[0m                     )\n\u001B[1;32m    152\u001B[0m             indexer, new_index = index.get_loc_level(\n",
      "\u001B[0;31mValueError\u001B[0m: Vectorized selection is not available along level variable: antenna1"
     ]
    }
   ],
   "source": [
    "print(xvis)\n",
    "import pandas\n",
    "midx = pandas.MultiIndex.from_arrays([numpy.arange(10), numpy.arange(1,11)],\n",
    "                                     names=(\"antenna1\", \"antenna2\"))\n",
    "xvis.loc[dict(antenna1=[1,2,4], antenna2=[5,6])].visibility"
   ],
   "metadata": {
    "collapsed": false,
    "pycharm": {
     "name": "#%%\n"
    }
   }
  }
 ],
 "metadata": {
  "kernelspec": {
   "display_name": "Python 3",
   "language": "python",
   "name": "python3"
  },
  "language_info": {
   "codemirror_mode": {
    "name": "ipython",
    "version": 2
   },
   "file_extension": ".py",
   "mimetype": "text/x-python",
   "name": "python",
   "nbconvert_exporter": "python",
   "pygments_lexer": "ipython2",
   "version": "2.7.6"
  }
 },
 "nbformat": 4,
 "nbformat_minor": 0
}