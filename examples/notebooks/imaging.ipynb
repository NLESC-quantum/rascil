{
 "cells": [
  {
   "cell_type": "markdown",
   "metadata": {},
   "source": [
    "# Imaging and deconvolution demonstration"
   ]
  },
  {
   "cell_type": "markdown",
   "metadata": {},
   "source": [
    "This script makes a fake data set and then deconvolves it. Finally the full and residual visibility are plotted."
   ]
  },
  {
   "cell_type": "code",
   "execution_count": 1,
   "metadata": {
    "ExecuteTime": {
     "end_time": "2020-02-12T09:57:51.442694Z",
     "start_time": "2020-02-12T09:57:49.138330Z"
    }
   },
   "outputs": [],
   "source": [
    "%matplotlib inline\n",
    "\n",
    "import os\n",
    "import sys\n",
    "\n",
    "sys.path.append(os.path.join('..', '..'))\n",
    "\n",
    "results_dir = '/tmp/'\n",
    "\n",
    "from matplotlib import pylab\n",
    "\n",
    "pylab.rcParams['figure.figsize'] = (8.0, 8.0)\n",
    "pylab.rcParams['image.cmap'] = 'rainbow'\n",
    "\n",
    "import numpy\n",
    "\n",
    "from astropy.coordinates import SkyCoord\n",
    "from astropy import units as u\n",
    "\n",
    "from matplotlib import pyplot as plt\n",
    "\n",
    "\n",
    "from rascil.data_models import PolarisationFrame\n",
    "\n",
    "from rascil.processing_components import create_blockvisibility, show_image, export_image_to_fits, \\\n",
    "    deconvolve_cube, restore_cube, create_named_configuration, create_test_image, \\\n",
    "    create_image_from_visibility, advise_wide_field, invert_2d, predict_2d, \\\n",
    "    plot_uvcoverage, plot_visibility\n",
    "\n",
    "import logging\n",
    "\n",
    "log = logging.getLogger()\n",
    "log.setLevel(logging.DEBUG)\n",
    "log.addHandler(logging.StreamHandler(sys.stdout))\n",
    "\n",
    "mpl_logger = logging.getLogger(\"matplotlib\") \n",
    "mpl_logger.setLevel(logging.WARNING) "
   ]
  },
  {
   "cell_type": "code",
   "execution_count": 2,
   "metadata": {
    "ExecuteTime": {
     "end_time": "2020-02-12T09:57:51.447944Z",
     "start_time": "2020-02-12T09:57:51.444742Z"
    }
   },
   "outputs": [],
   "source": [
    "pylab.rcParams['figure.figsize'] = (12.0, 12.0)\n",
    "pylab.rcParams['image.cmap'] = 'rainbow'"
   ]
  },
  {
   "cell_type": "markdown",
   "metadata": {},
   "source": [
    "Construct LOW core configuration"
   ]
  },
  {
   "cell_type": "code",
   "execution_count": 3,
   "metadata": {
    "ExecuteTime": {
     "end_time": "2020-02-12T09:57:51.479386Z",
     "start_time": "2020-02-12T09:57:51.451198Z"
    }
   },
   "outputs": [
    {
     "name": "stdout",
     "output_type": "stream",
     "text": [
      "create_named_configuration: LOWBD2\n",
      "\t(<Quantity -2565018.31203579 m>, <Quantity 5085711.90373391 m>, <Quantity -2861033.10788063 m>)\n",
      "\tGeodeticLocation(lon=<Longitude 116.76444824 deg>, lat=<Latitude -26.82472208 deg>, height=<Quantity 300. m>)\n",
      "create_configuration_from_file: Maximum radius 750.0 m includes 236 antennas/stations\n",
      "<xarray.Configuration>\n",
      "Dimensions:   (id: 236, spatial: 3)\n",
      "Coordinates:\n",
      "  * id        (id) int64 0 1 2 3 4 5 6 7 8 ... 228 229 230 231 232 233 234 235\n",
      "  * spatial   (spatial) <U1 'X' 'Y' 'Z'\n",
      "Data variables:\n",
      "    names     (id) <U10 'LOWBD2_0' 'LOWBD2_1' ... 'LOWBD2_270' 'LOWBD2_271'\n",
      "    xyz       (id, spatial) float64 -1.697e+03 -4.573e+03 ... -4.728e+03 300.0\n",
      "    diameter  (id) float64 35.0 35.0 35.0 35.0 35.0 ... 35.0 35.0 35.0 35.0 35.0\n",
      "    mount     (id) <U2 'xy' 'xy' 'xy' 'xy' 'xy' ... 'xy' 'xy' 'xy' 'xy' 'xy'\n",
      "    vp_type   (id) <U3 'LOW' 'LOW' 'LOW' 'LOW' 'LOW' ... 'LOW' 'LOW' 'LOW' 'LOW'\n",
      "    offset    (id, spatial) float64 0.0 0.0 0.0 0.0 0.0 ... 0.0 0.0 0.0 0.0 0.0\n",
      "    stations  (id) <U3 '0' '1' '2' '3' '4' '5' ... '231' '232' '233' '234' '235'\n",
      "Attributes:\n",
      "    rascil_data_model:  Configuration\n",
      "    name:               LOWBD2\n",
      "    location:           (-2565018.31203579, 5085711.90373391, -2861033.107880...\n",
      "    receptor_frame:     <rascil.data_models.polarisation.ReceptorFrame object...\n",
      "    frame:              \n"
     ]
    }
   ],
   "source": [
    "lowr3 = create_named_configuration('LOWBD2', rmax=750.0)\n",
    "print(lowr3)"
   ]
  },
  {
   "cell_type": "markdown",
   "metadata": {
    "pycharm": {
     "name": "#%% md\n"
    }
   },
   "source": [
    "We create the visibility. This just makes the uvw, time, antenna1, antenna2, weight columns in a table"
   ]
  },
  {
   "cell_type": "code",
   "execution_count": 4,
   "metadata": {
    "ExecuteTime": {
     "end_time": "2020-02-12T09:57:51.699213Z",
     "start_time": "2020-02-12T09:57:51.494157Z"
    },
    "pycharm": {
     "name": "#%%\n"
    }
   },
   "outputs": [
    {
     "name": "stdout",
     "output_type": "stream",
     "text": [
      "create_blockvisibility: created 1 times\n",
      "create_blockvisibility: 27966 rows, 0.002 GB\n",
      "<xarray.BlockVisibility>\n",
      "Dimensions:            (baselines: 27966, frequency: 1, polarisation: 1, spatial: 3, time: 1, uvw_index: 3)\n",
      "Coordinates:\n",
      "  * time               (time) float64 5.085e+09\n",
      "  * baselines          (baselines) MultiIndex\n",
      "  - antenna1           (baselines) int64 0 0 0 0 0 0 ... 233 233 233 234 234 235\n",
      "  - antenna2           (baselines) int64 0 1 2 3 4 5 ... 233 234 235 234 235 235\n",
      "  * frequency          (frequency) float64 1e+08\n",
      "  * polarisation       (polarisation) <U1 'I'\n",
      "  * uvw_index          (uvw_index) <U1 'u' 'v' 'w'\n",
      "Dimensions without coordinates: spatial\n",
      "Data variables:\n",
      "    integration_time   (time) float32 1.0\n",
      "    datetime           (time) datetime64[ns] 2020-01-01T10:31:38.475882830\n",
      "    vis                (time, baselines, frequency, polarisation) complex128 ...\n",
      "    weight             (time, baselines, frequency, polarisation) float32 0.0...\n",
      "    imaging_weight     (time, baselines, frequency, polarisation) float32 0.0...\n",
      "    flags              (time, baselines, frequency, polarisation) float32 0.0...\n",
      "    uvw                (time, baselines, spatial) float64 0.0 0.0 ... 0.0 0.0\n",
      "    uvw_lambda         (time, baselines, frequency, spatial) float64 0.0 ... 0.0\n",
      "    uvdist_lambda      (time, baselines, frequency) float64 0.0 103.1 ... 0.0\n",
      "    channel_bandwidth  (frequency) float64 1e+06\n",
      "Attributes:\n",
      "    configuration:        <xarray.Configuration>\\nDimensions:   (id: 236, spa...\n",
      "    source:               unknown\n",
      "    phasecentre:          <SkyCoord (ICRS): (ra, dec) in deg\\n    (15., -45.)>\n",
      "    _polarisation_frame:  stokesI\n",
      "    meta:                 None\n"
     ]
    }
   ],
   "source": [
    "times = numpy.zeros([1])\n",
    "frequency = numpy.array([1e8])\n",
    "channel_bandwidth = numpy.array([1e6])\n",
    "phasecentre = SkyCoord(ra=+15.0 * u.deg, dec=-45.0 * u.deg, frame='icrs', equinox='J2000')\n",
    "vt = create_blockvisibility(lowr3, times, frequency, channel_bandwidth=channel_bandwidth,\n",
    "                       weight=1.0, phasecentre=phasecentre, polarisation_frame=PolarisationFrame('stokesI'))\n",
    "print(vt)"
   ]
  },
  {
   "cell_type": "code",
   "execution_count": 5,
   "metadata": {
    "ExecuteTime": {
     "end_time": "2020-02-12T09:57:51.734765Z",
     "start_time": "2020-02-12T09:57:51.701072Z"
    }
   },
   "outputs": [
    {
     "name": "stdout",
     "output_type": "stream",
     "text": [
      "advise_wide_field: (max_wavelength) Maximum wavelength 2.998 (meters)\n",
      "advise_wide_field: (min_wavelength) Minimum wavelength 2.998 (meters)\n",
      "advise_wide_field: (maximum_baseline) Maximum baseline 383.3 (wavelengths)\n",
      "advise_wide_field: (maximum_w) Maximum w 125.8 (wavelengths)\n",
      "advise_wide_field: (diameter) Station/dish diameter 35.0 (meters)\n",
      "advise_wide_field: (primary_beam_fov) Primary beam 0.0857 (rad) 4.91 (deg) 1.77e+04 (asec)\n",
      "advise_wide_field: (image_fov) Image field of view 0.257 (rad) 14.7 (deg) 5.3e+04 (asec)\n",
      "advise_wide_field: (synthesized_beam) Synthesized beam 0.00261 (rad) 0.149 (deg) 538 (asec)\n",
      "advise_wide_field: (cellsize) Cellsize 0.000652 (rad) 0.0374 (deg) 135 (asec)\n",
      "advice_wide_field: (npixels) Npixels per side = 394\n",
      "advice_wide_field: (npixels2) Npixels (power of 2) per side = 512\n",
      "advice_wide_field: (npixels23) Npixels (power of 2, 3) per side = 512\n",
      "advice_wide_field: (npixels_min) Npixels (power of 2, 3, 4, 5) per side = 512\n",
      "advice_wide_field: (w_sampling_image) W sampling for full image = 2.2 (wavelengths)\n",
      "advice_wide_field: (w_sampling_primary_beam) W sampling for primary beam = 19.4 (wavelengths)\n",
      "advice_wide_field: (time_sampling_image) Time sampling for full image = 877.3 (s)\n",
      "advice_wide_field: (time_sampling_primary_beam) Time sampling for primary beam = 2631.9 (s)\n",
      "advice_wide_field: (freq_sampling_image) Frequency sampling for full image = 1015378.4 (Hz)\n",
      "advice_wide_field: (freq_sampling_primary_beam) Frequency sampling for primary beam = 3046135.1 (Hz)\n",
      "advice_wide_field: (vis_slices) Number of planes in w stack 12 (primary beam)\n",
      "advice_wide_field: (wprojection_planes) Number of planes in w projection 12 (primary beam)\n",
      "advice_wide_field: (nwpixels) W support = 2 (pixels) (primary beam)\n"
     ]
    }
   ],
   "source": [
    "advice = advise_wide_field(vt, guard_band_image=3.0, delA=0.1, facets=1, wprojection_planes=1, \n",
    "                           oversampling_synthesised_beam=4.0)\n",
    "cellsize = advice['cellsize']"
   ]
  },
  {
   "cell_type": "markdown",
   "metadata": {
    "pycharm": {
     "name": "#%% md\n"
    }
   },
   "source": [
    "Plot the synthesized uv coverage."
   ]
  },
  {
   "cell_type": "code",
   "execution_count": 6,
   "metadata": {
    "ExecuteTime": {
     "end_time": "2020-02-12T09:57:52.255733Z",
     "start_time": "2020-02-12T09:57:51.737618Z"
    },
    "scrolled": false,
    "pycharm": {
     "name": "#%%\n"
    }
   },
   "outputs": [
    {
     "ename": "IndexError",
     "evalue": "index 1 is out of bounds for axis 4 with size 1",
     "output_type": "error",
     "traceback": [
      "\u001B[0;31m---------------------------------------------------------------------------\u001B[0m",
      "\u001B[0;31mIndexError\u001B[0m                                Traceback (most recent call last)",
      "\u001B[0;32m<ipython-input-6-1d41f5766656>\u001B[0m in \u001B[0;36m<module>\u001B[0;34m\u001B[0m\n\u001B[1;32m      1\u001B[0m \u001B[0mplt\u001B[0m\u001B[0;34m.\u001B[0m\u001B[0mclf\u001B[0m\u001B[0;34m(\u001B[0m\u001B[0;34m)\u001B[0m\u001B[0;34m\u001B[0m\u001B[0;34m\u001B[0m\u001B[0m\n\u001B[0;32m----> 2\u001B[0;31m \u001B[0mplot_uvcoverage\u001B[0m\u001B[0;34m(\u001B[0m\u001B[0;34m[\u001B[0m\u001B[0mvt\u001B[0m\u001B[0;34m]\u001B[0m\u001B[0;34m)\u001B[0m\u001B[0;34m\u001B[0m\u001B[0;34m\u001B[0m\u001B[0m\n\u001B[0m\u001B[1;32m      3\u001B[0m \u001B[0mplt\u001B[0m\u001B[0;34m.\u001B[0m\u001B[0mshow\u001B[0m\u001B[0;34m(\u001B[0m\u001B[0;34m)\u001B[0m\u001B[0;34m\u001B[0m\u001B[0;34m\u001B[0m\u001B[0m\n\u001B[1;32m      4\u001B[0m \u001B[0;34m\u001B[0m\u001B[0m\n",
      "\u001B[0;32m~/Code/rascil/rascil/processing_components/simulation/simulation_helpers.py\u001B[0m in \u001B[0;36mplot_uvcoverage\u001B[0;34m(vis_list, ax, plot_file, title, **kwargs)\u001B[0m\n\u001B[1;32m    139\u001B[0m         \u001B[0mbvis\u001B[0m \u001B[0;34m=\u001B[0m \u001B[0movis\u001B[0m\u001B[0;34m.\u001B[0m\u001B[0mwhere\u001B[0m\u001B[0;34m(\u001B[0m\u001B[0movis\u001B[0m\u001B[0;34m[\u001B[0m\u001B[0;34m\"flags\"\u001B[0m\u001B[0;34m]\u001B[0m \u001B[0;34m>\u001B[0m \u001B[0;36m1\u001B[0m\u001B[0;34m)\u001B[0m\u001B[0;34m\u001B[0m\u001B[0;34m\u001B[0m\u001B[0m\n\u001B[1;32m    140\u001B[0m         \u001B[0mu\u001B[0m \u001B[0;34m=\u001B[0m \u001B[0mnumpy\u001B[0m\u001B[0;34m.\u001B[0m\u001B[0marray\u001B[0m\u001B[0;34m(\u001B[0m\u001B[0mgvis\u001B[0m\u001B[0;34m.\u001B[0m\u001B[0muvw_lambda\u001B[0m\u001B[0;34m.\u001B[0m\u001B[0mdata\u001B[0m\u001B[0;34m[\u001B[0m\u001B[0;34m...\u001B[0m\u001B[0;34m,\u001B[0m \u001B[0;36m0\u001B[0m\u001B[0;34m]\u001B[0m\u001B[0;34m.\u001B[0m\u001B[0mflat\u001B[0m\u001B[0;34m)\u001B[0m\u001B[0;34m\u001B[0m\u001B[0;34m\u001B[0m\u001B[0m\n\u001B[0;32m--> 141\u001B[0;31m         \u001B[0mv\u001B[0m \u001B[0;34m=\u001B[0m \u001B[0mnumpy\u001B[0m\u001B[0;34m.\u001B[0m\u001B[0marray\u001B[0m\u001B[0;34m(\u001B[0m\u001B[0mgvis\u001B[0m\u001B[0;34m.\u001B[0m\u001B[0muvw_lambda\u001B[0m\u001B[0;34m.\u001B[0m\u001B[0mdata\u001B[0m\u001B[0;34m[\u001B[0m\u001B[0;34m...\u001B[0m\u001B[0;34m,\u001B[0m \u001B[0;36m1\u001B[0m\u001B[0;34m]\u001B[0m\u001B[0;34m.\u001B[0m\u001B[0mflat\u001B[0m\u001B[0;34m)\u001B[0m\u001B[0;34m\u001B[0m\u001B[0;34m\u001B[0m\u001B[0m\n\u001B[0m\u001B[1;32m    142\u001B[0m         \u001B[0mplt\u001B[0m\u001B[0;34m.\u001B[0m\u001B[0mplot\u001B[0m\u001B[0;34m(\u001B[0m\u001B[0mu\u001B[0m\u001B[0;34m,\u001B[0m \u001B[0mv\u001B[0m\u001B[0;34m,\u001B[0m \u001B[0;34m'.'\u001B[0m\u001B[0;34m,\u001B[0m \u001B[0mcolor\u001B[0m\u001B[0;34m=\u001B[0m\u001B[0;34m'b'\u001B[0m\u001B[0;34m,\u001B[0m \u001B[0mmarkersize\u001B[0m\u001B[0;34m=\u001B[0m\u001B[0;36m0.2\u001B[0m\u001B[0;34m)\u001B[0m\u001B[0;34m\u001B[0m\u001B[0;34m\u001B[0m\u001B[0m\n\u001B[1;32m    143\u001B[0m         \u001B[0mplt\u001B[0m\u001B[0;34m.\u001B[0m\u001B[0mplot\u001B[0m\u001B[0;34m(\u001B[0m\u001B[0;34m-\u001B[0m\u001B[0mu\u001B[0m\u001B[0;34m,\u001B[0m \u001B[0;34m-\u001B[0m\u001B[0mv\u001B[0m\u001B[0;34m,\u001B[0m \u001B[0;34m'.'\u001B[0m\u001B[0;34m,\u001B[0m \u001B[0mcolor\u001B[0m\u001B[0;34m=\u001B[0m\u001B[0;34m'b'\u001B[0m\u001B[0;34m,\u001B[0m \u001B[0mmarkersize\u001B[0m\u001B[0;34m=\u001B[0m\u001B[0;36m0.2\u001B[0m\u001B[0;34m)\u001B[0m\u001B[0;34m\u001B[0m\u001B[0;34m\u001B[0m\u001B[0m\n",
      "\u001B[0;31mIndexError\u001B[0m: index 1 is out of bounds for axis 4 with size 1"
     ]
    },
    {
     "data": {
      "text/plain": "<Figure size 864x864 with 0 Axes>"
     },
     "metadata": {},
     "output_type": "display_data"
    }
   ],
   "source": [
    "plt.clf()\n",
    "plot_uvcoverage([vt])\n",
    "plt.show()"
   ]
  },
  {
   "cell_type": "markdown",
   "metadata": {
    "pycharm": {
     "name": "#%% md\n"
    }
   },
   "source": [
    "Read the venerable test image, constructing an image"
   ]
  },
  {
   "cell_type": "code",
   "execution_count": null,
   "metadata": {
    "ExecuteTime": {
     "end_time": "2020-02-12T09:57:53.148151Z",
     "start_time": "2020-02-12T09:57:52.260169Z"
    },
    "scrolled": false,
    "pycharm": {
     "name": "#%%\n"
    }
   },
   "outputs": [],
   "source": [
    "m31image = create_test_image(frequency=frequency, cellsize=cellsize,\n",
    "                             phasecentre=phasecentre)\n",
    "nchan, npol, ny, nx = m31image[\"pixels\"].data.shape\n",
    "\n",
    "fig=show_image(m31image)"
   ]
  },
  {
   "cell_type": "code",
   "execution_count": null,
   "metadata": {
    "ExecuteTime": {
     "end_time": "2020-02-12T09:57:53.999562Z",
     "start_time": "2020-02-12T09:57:53.151552Z"
    }
   },
   "outputs": [],
   "source": [
    "vt = predict_2d(vt, m31image, context='2d')\n",
    "\n",
    "plt.clf()\n",
    "plot_visibility([vt])\n",
    "plt.show()"
   ]
  },
  {
   "cell_type": "markdown",
   "metadata": {
    "pycharm": {
     "name": "#%% md\n"
    }
   },
   "source": [
    "Make the dirty image and point spread function"
   ]
  },
  {
   "cell_type": "code",
   "execution_count": null,
   "metadata": {
    "ExecuteTime": {
     "end_time": "2020-02-12T09:57:55.782851Z",
     "start_time": "2020-02-12T09:57:54.002244Z"
    },
    "scrolled": false,
    "pycharm": {
     "name": "#%%\n"
    }
   },
   "outputs": [],
   "source": [
    "model = create_image_from_visibility(vt, cellsize=cellsize, npixel=512)\n",
    "dirty, sumwt = invert_2d(vt, model, context='2d')\n",
    "psf, sumwt = invert_2d(vt, model, context='2d', dopsf=True)\n",
    "\n",
    "show_image(dirty)\n",
    "print(\"Max, min in dirty image = %.6f, %.6f, sumwt = %f\" % (dirty[\"pixels\"].data.max(), dirty[\"pixels\"].data.min(), sumwt))\n",
    "\n",
    "print(\"Max, min in PSF         = %.6f, %.6f, sumwt = %f\" % (psf[\"pixels\"].data.max(), psf[\"pixels\"].data.min(), sumwt))\n",
    "\n",
    "export_image_to_fits(dirty, '%s/imaging_dirty.fits'%(results_dir))\n",
    "export_image_to_fits(psf, '%s/imaging_psf.fits'%(results_dir))"
   ]
  },
  {
   "cell_type": "markdown",
   "metadata": {
    "pycharm": {
     "name": "#%% md\n"
    }
   },
   "source": [
    "Deconvolve using clean"
   ]
  },
  {
   "cell_type": "code",
   "execution_count": null,
   "metadata": {
    "ExecuteTime": {
     "end_time": "2020-02-12T09:58:16.790251Z",
     "start_time": "2020-02-12T09:57:55.784618Z"
    },
    "scrolled": false,
    "pycharm": {
     "name": "#%%\n"
    }
   },
   "outputs": [],
   "source": [
    "comp, residual = deconvolve_cube(dirty, psf, niter=10000, threshold=0.001, fractional_threshold=0.001,\n",
    "                                 window_shape='quarter', gain=0.7, scales=[0, 3, 10, 30])\n",
    "\n",
    "restored = restore_cube(comp, psf, residual)\n",
    "\n",
    "# Show the results\n",
    "\n",
    "fig=show_image(comp)\n",
    "plt.title('Solution')\n",
    "fig=show_image(residual)\n",
    "plt.title('Residual')\n",
    "fig=show_image(restored)\n",
    "plt.title('Restored')\n",
    "\n",
    "print(restored)"
   ]
  },
  {
   "cell_type": "markdown",
   "metadata": {
    "pycharm": {
     "name": "#%% md\n"
    }
   },
   "source": [
    "Predict the visibility of the model"
   ]
  },
  {
   "cell_type": "code",
   "execution_count": null,
   "metadata": {
    "ExecuteTime": {
     "end_time": "2020-02-12T09:58:17.506644Z",
     "start_time": "2020-02-12T09:58:16.794192Z"
    },
    "pycharm": {
     "name": "#%%\n"
    }
   },
   "outputs": [],
   "source": [
    "vtmodel = create_blockvisibility(lowr3, times, frequency, channel_bandwidth=channel_bandwidth,\n",
    "                            weight=1.0, phasecentre=phasecentre, \n",
    "                            polarisation_frame=PolarisationFrame('stokesI'))\n",
    "vtmodel=predict_2d(vtmodel, comp, context='2d')"
   ]
  },
  {
   "cell_type": "markdown",
   "metadata": {
    "pycharm": {
     "name": "#%% md\n"
    }
   },
   "source": [
    "Now we will plot the original visibility and the residual visibility."
   ]
  },
  {
   "cell_type": "code",
   "execution_count": null,
   "metadata": {
    "ExecuteTime": {
     "end_time": "2020-02-12T09:58:17.934889Z",
     "start_time": "2020-02-12T09:58:17.508705Z"
    },
    "pycharm": {
     "name": "#%%\n"
    }
   },
   "outputs": [],
   "source": [
    "vtmodel.vis.values = vt.vis.values - vtmodel.vis.values\n",
    "\n",
    "plt.clf()\n",
    "plot_visibility([vt, vtmodel], colors=['b', 'r'])\n",
    "plt.show()"
   ]
  }
 ],
 "metadata": {
  "kernelspec": {
   "display_name": "Python 3",
   "language": "python",
   "name": "python3"
  },
  "language_info": {
   "codemirror_mode": {
    "name": "ipython",
    "version": 3
   },
   "file_extension": ".py",
   "mimetype": "text/x-python",
   "name": "python",
   "nbconvert_exporter": "python",
   "pygments_lexer": "ipython3",
   "version": "3.7.6"
  }
 },
 "nbformat": 4,
 "nbformat_minor": 2
}