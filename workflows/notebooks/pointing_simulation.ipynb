{
 "cells": [
  {
   "cell_type": "code",
   "execution_count": null,
   "metadata": {
    "ExecuteTime": {
     "end_time": "2019-04-06T14:48:31.808478Z",
     "start_time": "2019-04-06T14:48:30.637288Z"
    },
    "pycharm": {},
    "scrolled": false
   },
   "outputs": [],
   "source": [
    "\n",
    "import sys\n",
    "%matplotlib inline\n",
    "\n",
    "from data_models.parameters import arl_path\n",
    "\n",
    "results_dir = arl_path('test_results')\n",
    "\n",
    "import numpy\n",
    "\n",
    "from astropy.coordinates import SkyCoord\n",
    "from astropy import units as u\n",
    "\n",
    "from matplotlib import pyplot as plt\n",
    "\n",
    "from data_models.polarisation import PolarisationFrame\n",
    "from data_models.memory_data_models import Skycomponent, SkyModel\n",
    "\n",
    "from wrappers.serial.visibility.base import create_blockvisibility\n",
    "from wrappers.serial.image.operations import show_image, qa_image\n",
    "from wrappers.serial.simulation.testing_support import create_named_configuration, simulate_pointingtable\n",
    "from wrappers.serial.imaging.primary_beams import create_vp, create_pb\n",
    "from wrappers.serial.skycomponent.operations import apply_beam_to_skycomponent\n",
    "from wrappers.serial.imaging.base import create_image_from_visibility, advise_wide_field\n",
    "from processing_components.calibration.pointing import create_pointingtable_from_blockvisibility\n",
    "from processing_components.simulation.pointing import create_gaintable_from_pointingtable\n",
    "from wrappers.arlexecute.visibility.base import copy_visibility\n",
    "\n",
    "\n",
    "from wrappers.arlexecute.visibility.coalesce import convert_blockvisibility_to_visibility\n",
    "\n",
    "from workflows.arlexecute.skymodel.skymodel_arlexecute import predict_skymodel_list_arlexecute_workflow\n",
    "from workflows.arlexecute.imaging.imaging_arlexecute import invert_list_arlexecute_workflow\n",
    "\n",
    "from wrappers.arlexecute.execution_support.arlexecute import arlexecute\n",
    "\n",
    "import logging\n",
    "log = logging.getLogger()\n",
    "log.setLevel(logging.DEBUG)\n",
    "log.addHandler(logging.StreamHandler(sys.stdout))\n"
   ]
  },
  {
   "cell_type": "code",
   "execution_count": null,
   "metadata": {
    "ExecuteTime": {
     "end_time": "2019-04-06T14:48:34.011538Z",
     "start_time": "2019-04-06T14:48:31.811472Z"
    }
   },
   "outputs": [],
   "source": [
    "arlexecute.set_client(use_dask=True)"
   ]
  },
  {
   "cell_type": "code",
   "execution_count": null,
   "metadata": {
    "ExecuteTime": {
     "end_time": "2019-04-06T14:48:34.122482Z",
     "start_time": "2019-04-06T14:48:34.014916Z"
    },
    "pycharm": {}
   },
   "outputs": [],
   "source": [
    "nfreqwin = 1\n",
    "ntimes = 1\n",
    "rmax = 1000.0\n",
    "if nfreqwin > 1:\n",
    "    frequency = numpy.linspace(0.8e9, 1.2e9, nfreqwin)\n",
    "    channel_bandwidth = numpy.array(nfreqwin * [frequency[1] - frequency[0]])\n",
    "else:\n",
    "    frequency = [1e9]\n",
    "    channel_bandwidth = [0.4e9]\n",
    "times = numpy.linspace(-numpy.pi / 4.0, numpy.pi / 4.0, ntimes)\n",
    "\n",
    "phasecentre = SkyCoord(ra=+15.0 * u.deg, dec=-45.0 * u.deg, frame='icrs', equinox='J2000')\n",
    "midcore = create_named_configuration('MIDR5', rmax=rmax)\n",
    "\n",
    "block_vis = create_blockvisibility(midcore, times, frequency=frequency,\n",
    "                                   channel_bandwidth=channel_bandwidth, weight=1.0, phasecentre=phasecentre,\n",
    "                                   polarisation_frame=PolarisationFrame(\"stokesI\"), zerow=True)\n"
   ]
  },
  {
   "cell_type": "code",
   "execution_count": null,
   "metadata": {
    "ExecuteTime": {
     "end_time": "2019-04-06T14:48:34.218959Z",
     "start_time": "2019-04-06T14:48:34.124530Z"
    },
    "pycharm": {}
   },
   "outputs": [],
   "source": [
    "wprojection_planes=1\n",
    "vis = convert_blockvisibility_to_visibility(block_vis)\n",
    "advice=advise_wide_field(vis, guard_band_image=5.0, delA=0.02, \n",
    "                         wprojection_planes=wprojection_planes)\n",
    "\n",
    "vis_slices = advice['vis_slices']\n",
    "npixel=16384\n",
    "cellsize=advice['cellsize']\n",
    "pb_cellsize=advice['primary_beam_fov']/npixel"
   ]
  },
  {
   "cell_type": "code",
   "execution_count": null,
   "metadata": {
    "ExecuteTime": {
     "end_time": "2019-04-06T14:48:34.231069Z",
     "start_time": "2019-04-06T14:48:34.222902Z"
    }
   },
   "outputs": [],
   "source": [
    "from matplotlib import pylab\n",
    "\n",
    "pylab.rcParams['figure.figsize'] = (12.0, 12.0)\n",
    "pylab.rcParams['image.cmap'] = 'rainbow'\n",
    "doplot=False"
   ]
  },
  {
   "cell_type": "code",
   "execution_count": null,
   "metadata": {
    "ExecuteTime": {
     "end_time": "2019-04-06T14:51:03.403059Z",
     "start_time": "2019-04-06T14:48:34.234002Z"
    }
   },
   "outputs": [],
   "source": [
    "original_component = [Skycomponent(flux=[[1.0]], direction=phasecentre, \n",
    "                                  frequency=frequency, polarisation_frame=PolarisationFrame('stokesI'))]\n",
    "vp = create_image_from_visibility(block_vis, npixel=npixel, frequency=frequency,\n",
    "                                    nchan=nfreqwin, cellsize=pb_cellsize, phasecentre=phasecentre)\n",
    "model = create_image_from_visibility(block_vis, npixel=512, frequency=frequency,\n",
    "                                    nchan=nfreqwin, cellsize=cellsize, phasecentre=phasecentre)\n",
    "if doplot:\n",
    "    pb = create_pb(vp, 'MID', pointingcentre=pb_direction)\n",
    "    show_image(pb)\n",
    "    \n",
    "offset = [0.595, 0.0]\n",
    "pb_direction = SkyCoord(ra=(+15.0 + offset[0]) * u.deg, \n",
    "                        dec=(-45.0 + offset[1]) * u.deg, frame='icrs', equinox='J2000')\n",
    "\n",
    "vp = create_vp(vp, 'MID', pointingcentre=pb_direction)\n",
    "pt = create_pointingtable_from_blockvisibility(block_vis, vp)\n",
    "\n",
    "no_error_pt = simulate_pointingtable(pt, 0.0, 0.0)\n",
    "no_error_gt = create_gaintable_from_pointingtable(block_vis, original_component, no_error_pt, vp)\n",
    "\n",
    "no_error_sm=SkyModel(components=original_component, gaintable=no_error_gt[0])\n",
    "no_error_vis = copy_visibility(vis)\n",
    "no_error_vis = predict_skymodel_list_arlexecute_workflow(no_error_vis, [no_error_sm], context='2d', docal=True)\n",
    "no_error_vis=arlexecute.compute(no_error_vis, sync=True)[0]\n"
   ]
  },
  {
   "cell_type": "code",
   "execution_count": null,
   "metadata": {
    "ExecuteTime": {
     "end_time": "2019-04-06T14:51:03.415162Z",
     "start_time": "2019-04-06T14:51:03.406050Z"
    }
   },
   "outputs": [],
   "source": [
    "print(numpy.average(no_error_vis.vis))"
   ]
  },
  {
   "cell_type": "markdown",
   "metadata": {
    "pycharm": {}
   },
   "source": [
    "Generate the model from the GLEAM catalog, including application of the primary beam."
   ]
  },
  {
   "cell_type": "code",
   "execution_count": null,
   "metadata": {
    "ExecuteTime": {
     "end_time": "2019-04-06T14:51:11.148096Z",
     "start_time": "2019-04-06T14:51:03.418008Z"
    },
    "pycharm": {},
    "scrolled": false
   },
   "outputs": [],
   "source": [
    "\n",
    "fwhm = 1.0\n",
    "pes = [1.0, 3.0, 10.0, 30.0, 100.0, 300.0, 1000.0]\n",
    "qas = []\n",
    "for pe in pes:\n",
    "    pointing_error = pe * numpy.pi/(3600.0*180.0)\n",
    "    static_pointing_error = 0.0*numpy.pi/(3600.0*180.0)\n",
    "    error_pt = simulate_pointingtable(pt, pointing_error=pointing_error, static_pointing_error=static_pointing_error)\n",
    "    error_gt = create_gaintable_from_pointingtable(block_vis, original_component, error_pt, vp)\n",
    "\n",
    "    error_sm=SkyModel(components=original_component, gaintable=error_gt[0])\n",
    "\n",
    "    error_vis = copy_visibility(vis)\n",
    "    error_vis = predict_skymodel_list_arlexecute_workflow(error_vis, [error_sm], context='2d', docal=True)\n",
    "    error_vis=arlexecute.compute(error_vis, sync=True)[0]\n",
    "\n",
    "    error_vis.data['vis']-=no_error_vis.data['vis']\n",
    "    \n",
    "    dirty = invert_list_arlexecute_workflow([error_vis], [model], '2d', padding=4)\n",
    "    dirty, sumwt = arlexecute.compute(dirty, sync=True)[0]\n",
    "    bpix=129\n",
    "    epix=384\n",
    "    print(bpix,epix)\n",
    "    print(dirty.data.shape)\n",
    "\n",
    "    dirty.data = dirty.data[:,:,bpix:epix,bpix:epix]\n",
    "    qa=qa_image(dirty)\n",
    "    print(qa)\n",
    "    qas.append(qa)\n",
    "    if True:\n",
    "        show_image(dirty)\n",
    "        plt.show()\n"
   ]
  },
  {
   "cell_type": "code",
   "execution_count": null,
   "metadata": {
    "ExecuteTime": {
     "end_time": "2019-04-06T14:52:40.289627Z",
     "start_time": "2019-04-06T14:52:39.448339Z"
    },
    "scrolled": false
   },
   "outputs": [],
   "source": [
    "plt.clf()\n",
    "for field in ['maxabs', 'rms', 'medianabs']:\n",
    "    plt.loglog(pes, [q.data[field] for q in qas], '.', label=field)\n",
    "plt.xlabel('Pointing error (arcsec)')\n",
    "plt.ylabel('Error (Jy)')\n",
    "plt.title('Error for 1Jy point source at half power point of MID primary beam')\n",
    "plt.legend()\n",
    "plt.show()"
   ]
  },
  {
   "cell_type": "code",
   "execution_count": null,
   "metadata": {},
   "outputs": [],
   "source": []
  }
 ],
 "metadata": {
  "kernelspec": {
   "display_name": "Python 3",
   "language": "python",
   "name": "python3"
  },
  "language_info": {
   "codemirror_mode": {
    "name": "ipython",
    "version": 3
   },
   "file_extension": ".py",
   "mimetype": "text/x-python",
   "name": "python",
   "nbconvert_exporter": "python",
   "pygments_lexer": "ipython3",
   "version": "3.6.1"
  }
 },
 "nbformat": 4,
 "nbformat_minor": 2
}
