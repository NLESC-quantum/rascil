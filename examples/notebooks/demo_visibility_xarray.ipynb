{
 "cells": [
  {
   "cell_type": "markdown",
   "metadata": {
    "collapsed": true,
    "pycharm": {
     "name": "#%% md\n"
    }
   },
   "source": [
    "# Demonstrate visibility xarray format"
   ]
  },
  {
   "cell_type": "code",
   "execution_count": 1,
   "metadata": {
    "ExecuteTime": {
     "end_time": "2020-09-15T15:41:16.928361Z",
     "start_time": "2020-09-15T15:41:15.393147Z"
    },
    "pycharm": {
     "name": "#%%\n"
    }
   },
   "outputs": [],
   "source": [
    "import astropy.units as u\n",
    "import numpy\n",
    "from astropy.coordinates import SkyCoord\n",
    "\n",
    "from rascil.data_models import PolarisationFrame\n",
    "from rascil.processing_components.simulation import create_named_configuration\n",
    "from rascil.processing_components.visibility.base import create_blockvisibility"
   ]
  },
  {
   "cell_type": "markdown",
   "metadata": {
    "pycharm": {
     "name": "#%% md\n"
    }
   },
   "source": [
    "Set up a test visibility set"
   ]
  },
  {
   "cell_type": "code",
   "execution_count": 2,
   "metadata": {
    "ExecuteTime": {
     "end_time": "2020-09-15T15:41:17.491456Z",
     "start_time": "2020-09-15T15:41:16.929972Z"
    },
    "pycharm": {
     "name": "#%%\n"
    }
   },
   "outputs": [],
   "source": [
    "lowcore = create_named_configuration('LOWBD2-CORE', rmax=1000)\n",
    "times = (numpy.pi / 43200.0) * numpy.arange(-4 * 3600, +4 * 3600.0, 1800)\n",
    "frequency = numpy.linspace(1.0e8, 1.1e8, 5)\n",
    "channel_bandwidth = numpy.array([1e7, 1e7, 1e7, 1e7, 1e7])\n",
    "# Define the component and give it some spectral behaviour\n",
    "f = numpy.array([100.0, 20.0, -10.0, 1.0])\n",
    "flux = numpy.array([f, 0.8 * f, 0.6 * f, 0.4 * f, 0.2 * f])\n",
    "phasecentre = SkyCoord(ra=+180.0 * u.deg, dec=-35.0 * u.deg, frame='icrs',\n",
    "                       equinox='J2000')\n",
    "xvis = create_blockvisibility(lowcore, times, frequency,\n",
    "                                  channel_bandwidth=channel_bandwidth,\n",
    "                                  phasecentre=phasecentre,\n",
    "                                  integration_time=1800.0,\n",
    "                                  polarisation_frame=PolarisationFrame(\"linear\"),\n",
    "                                  weight=1.0)"
   ]
  },
  {
   "cell_type": "code",
   "execution_count": 3,
   "metadata": {
    "ExecuteTime": {
     "end_time": "2020-09-15T15:41:17.498038Z",
     "start_time": "2020-09-15T15:41:17.494328Z"
    },
    "pycharm": {
     "name": "#%%\n"
    }
   },
   "outputs": [],
   "source": [
    "assert xvis['vis'].shape == (16, 13861, 5, 4), xvis['vis'].shape\n",
    "assert xvis[\"uvw\"].data.shape == (16, 13861, 3), xvis[\"uvw\"].shape\n",
    "assert xvis[\"uvw_lambda\"].data.shape == (16, 13861, 5, 3), xvis[\"uvw_lambda\"].data.shape"
   ]
  },
  {
   "cell_type": "markdown",
   "metadata": {
    "pycharm": {
     "name": "#%% md\n"
    }
   },
   "source": [
    "Initial xvis"
   ]
  },
  {
   "cell_type": "code",
   "execution_count": 4,
   "metadata": {
    "ExecuteTime": {
     "end_time": "2020-09-15T15:41:17.508847Z",
     "start_time": "2020-09-15T15:41:17.500133Z"
    },
    "pycharm": {
     "name": "#%%\n"
    }
   },
   "outputs": [
    {
     "name": "stdout",
     "output_type": "stream",
     "text": [
      "<xarray.BlockVisibility>\n",
      "Dimensions:            (baselines: 13861, frequency: 5, polarisation: 4, time: 16, uvw_index: 3)\n",
      "Coordinates:\n",
      "  * time               (time) float64 5.085e+09 5.085e+09 ... 5.085e+09\n",
      "  * baselines          (baselines) MultiIndex\n",
      "  - antenna1           (baselines) int64 0 0 0 0 0 0 ... 163 163 163 164 164 165\n",
      "  - antenna2           (baselines) int64 0 1 2 3 4 5 ... 163 164 165 164 165 165\n",
      "  * frequency          (frequency) float64 1e+08 1.025e+08 ... 1.075e+08 1.1e+08\n",
      "  * polarisation       (polarisation) <U2 'XX' 'XY' 'YX' 'YY'\n",
      "  * uvw_index          (uvw_index) <U1 'u' 'v' 'w'\n",
      "Data variables:\n",
      "    integration_time   (time) float32 1795.0854 1795.0854 ... 1795.0854\n",
      "    datetime           (time) datetime64[ns] 2020-01-01T17:30:36.783709447 .....\n",
      "    vis                (time, baselines, frequency, polarisation) complex128 ...\n",
      "    weight             (time, baselines, frequency, polarisation) float32 0.0...\n",
      "    imaging_weight     (time, baselines, frequency, polarisation) float32 0.0...\n",
      "    flags              (time, baselines, frequency, polarisation) float32 0.0...\n",
      "    uvw                (time, baselines, uvw_index) float64 0.0 0.0 ... 0.0 0.0\n",
      "    uvw_lambda         (time, baselines, frequency, uvw_index) float64 0.0 .....\n",
      "    uvdist_lambda      (time, baselines, frequency) float64 0.0 0.0 ... 0.0 0.0\n",
      "    channel_bandwidth  (frequency) float64 1e+07 1e+07 1e+07 1e+07 1e+07\n",
      "Attributes:\n",
      "    phasecentre:         <SkyCoord (ICRS): (ra, dec) in deg\\n    (180., -35.)>\n",
      "    configuration:       <xarray.Configuration>\\nDimensions:   (id: 166, spat...\n",
      "    polarisation_frame:  linear\n",
      "    source:              unknown\n",
      "    meta:                None\n"
     ]
    }
   ],
   "source": [
    "print(xvis)"
   ]
  },
  {
   "cell_type": "markdown",
   "metadata": {
    "pycharm": {
     "name": "#%% md\n"
    }
   },
   "source": [
    "Selection of the Dataset by polarisation"
   ]
  },
  {
   "cell_type": "code",
   "execution_count": 5,
   "metadata": {
    "ExecuteTime": {
     "end_time": "2020-09-15T15:41:17.598673Z",
     "start_time": "2020-09-15T15:41:17.510383Z"
    },
    "pycharm": {
     "name": "#%%\n"
    }
   },
   "outputs": [
    {
     "name": "stdout",
     "output_type": "stream",
     "text": [
      "<xarray.BlockVisibility>\n",
      "Dimensions:            (baselines: 13861, frequency: 5, polarisation: 2, time: 16, uvw_index: 3)\n",
      "Coordinates:\n",
      "  * time               (time) float64 5.085e+09 5.085e+09 ... 5.085e+09\n",
      "  * baselines          (baselines) MultiIndex\n",
      "  - antenna1           (baselines) int64 0 0 0 0 0 0 ... 163 163 163 164 164 165\n",
      "  - antenna2           (baselines) int64 0 1 2 3 4 5 ... 163 164 165 164 165 165\n",
      "  * frequency          (frequency) float64 1e+08 1.025e+08 ... 1.075e+08 1.1e+08\n",
      "  * polarisation       (polarisation) <U2 'XY' 'YX'\n",
      "  * uvw_index          (uvw_index) <U1 'u' 'v' 'w'\n",
      "Data variables:\n",
      "    integration_time   (time) float32 1795.0854 1795.0854 ... 1795.0854\n",
      "    datetime           (time) datetime64[ns] 2020-01-01T17:30:36.783709447 .....\n",
      "    vis                (time, baselines, frequency, polarisation) complex128 ...\n",
      "    weight             (time, baselines, frequency, polarisation) float32 0.0...\n",
      "    imaging_weight     (time, baselines, frequency, polarisation) float32 0.0...\n",
      "    flags              (time, baselines, frequency, polarisation) float32 0.0...\n",
      "    uvw                (time, baselines, uvw_index) float64 0.0 0.0 ... 0.0 0.0\n",
      "    uvw_lambda         (time, baselines, frequency, uvw_index) float64 0.0 .....\n",
      "    uvdist_lambda      (time, baselines, frequency) float64 0.0 0.0 ... 0.0 0.0\n",
      "    channel_bandwidth  (frequency) float64 1e+07 1e+07 1e+07 1e+07 1e+07\n",
      "Attributes:\n",
      "    phasecentre:         <SkyCoord (ICRS): (ra, dec) in deg\\n    (180., -35.)>\n",
      "    configuration:       <xarray.Configuration>\\nDimensions:   (id: 166, spat...\n",
      "    polarisation_frame:  linear\n",
      "    source:              unknown\n",
      "    meta:                None\n"
     ]
    }
   ],
   "source": [
    "print(xvis.sel({\"polarisation\": [\"XY\", \"YX\"]}))\n"
   ]
  },
  {
   "cell_type": "markdown",
   "metadata": {
    "pycharm": {
     "name": "#%% md\n"
    }
   },
   "source": [
    "Selection of the Dataset by frequency"
   ]
  },
  {
   "cell_type": "code",
   "execution_count": 6,
   "metadata": {
    "ExecuteTime": {
     "end_time": "2020-09-15T15:41:17.661208Z",
     "start_time": "2020-09-15T15:41:17.600318Z"
    },
    "pycharm": {
     "name": "#%%\n"
    }
   },
   "outputs": [
    {
     "name": "stdout",
     "output_type": "stream",
     "text": [
      "<xarray.BlockVisibility>\n",
      "Dimensions:            (baselines: 13861, frequency: 2, polarisation: 4, time: 16, uvw_index: 3)\n",
      "Coordinates:\n",
      "  * time               (time) float64 5.085e+09 5.085e+09 ... 5.085e+09\n",
      "  * baselines          (baselines) MultiIndex\n",
      "  - antenna1           (baselines) int64 0 0 0 0 0 0 ... 163 163 163 164 164 165\n",
      "  - antenna2           (baselines) int64 0 1 2 3 4 5 ... 163 164 165 164 165 165\n",
      "  * frequency          (frequency) float64 1e+08 1.1e+08\n",
      "  * polarisation       (polarisation) <U2 'XX' 'XY' 'YX' 'YY'\n",
      "  * uvw_index          (uvw_index) <U1 'u' 'v' 'w'\n",
      "Data variables:\n",
      "    integration_time   (time) float32 1795.0854 1795.0854 ... 1795.0854\n",
      "    datetime           (time) datetime64[ns] 2020-01-01T17:30:36.783709447 .....\n",
      "    vis                (time, baselines, frequency, polarisation) complex128 ...\n",
      "    weight             (time, baselines, frequency, polarisation) float32 0.0...\n",
      "    imaging_weight     (time, baselines, frequency, polarisation) float32 0.0...\n",
      "    flags              (time, baselines, frequency, polarisation) float32 0.0...\n",
      "    uvw                (time, baselines, uvw_index) float64 0.0 0.0 ... 0.0 0.0\n",
      "    uvw_lambda         (time, baselines, frequency, uvw_index) float64 0.0 .....\n",
      "    uvdist_lambda      (time, baselines, frequency) float64 0.0 0.0 ... 0.0 0.0\n",
      "    channel_bandwidth  (frequency) float64 1e+07 1e+07\n",
      "Attributes:\n",
      "    phasecentre:         <SkyCoord (ICRS): (ra, dec) in deg\\n    (180., -35.)>\n",
      "    configuration:       <xarray.Configuration>\\nDimensions:   (id: 166, spat...\n",
      "    polarisation_frame:  linear\n",
      "    source:              unknown\n",
      "    meta:                None\n"
     ]
    }
   ],
   "source": [
    "print(xvis.sel({\"frequency\": [1.0e8, 1.1e8]}))\n"
   ]
  },
  {
   "cell_type": "markdown",
   "metadata": {
    "pycharm": {
     "name": "#%% md\n"
    }
   },
   "source": [
    "sel antenna1 yields smaller XVisibility"
   ]
  },
  {
   "cell_type": "code",
   "execution_count": 7,
   "metadata": {
    "ExecuteTime": {
     "end_time": "2020-09-15T15:41:17.678476Z",
     "start_time": "2020-09-15T15:41:17.662882Z"
    },
    "pycharm": {
     "name": "#%%\n"
    }
   },
   "outputs": [
    {
     "name": "stdout",
     "output_type": "stream",
     "text": [
      "<xarray.BlockVisibility>\n",
      "Dimensions:            (antenna2: 156, frequency: 5, polarisation: 4, time: 16, uvw_index: 3)\n",
      "Coordinates:\n",
      "  * time               (time) float64 5.085e+09 5.085e+09 ... 5.085e+09\n",
      "  * antenna2           (antenna2) int64 10 11 12 13 14 ... 161 162 163 164 165\n",
      "  * frequency          (frequency) float64 1e+08 1.025e+08 ... 1.075e+08 1.1e+08\n",
      "  * polarisation       (polarisation) <U2 'XX' 'XY' 'YX' 'YY'\n",
      "  * uvw_index          (uvw_index) <U1 'u' 'v' 'w'\n",
      "Data variables:\n",
      "    integration_time   (time) float32 1795.0854 1795.0854 ... 1795.0854\n",
      "    datetime           (time) datetime64[ns] 2020-01-01T17:30:36.783709447 .....\n",
      "    vis                (time, antenna2, frequency, polarisation) complex128 0...\n",
      "    weight             (time, antenna2, frequency, polarisation) float32 0.0 ...\n",
      "    imaging_weight     (time, antenna2, frequency, polarisation) float32 0.0 ...\n",
      "    flags              (time, antenna2, frequency, polarisation) float32 0.0 ...\n",
      "    uvw                (time, antenna2, uvw_index) float64 0.0 0.0 ... -22.68\n",
      "    uvw_lambda         (time, antenna2, frequency, uvw_index) float64 0.0 ......\n",
      "    uvdist_lambda      (time, antenna2, frequency) float64 0.0 0.0 ... 159.1\n",
      "    channel_bandwidth  (frequency) float64 1e+07 1e+07 1e+07 1e+07 1e+07\n",
      "Attributes:\n",
      "    phasecentre:         <SkyCoord (ICRS): (ra, dec) in deg\\n    (180., -35.)>\n",
      "    configuration:       <xarray.Configuration>\\nDimensions:   (id: 166, spat...\n",
      "    polarisation_frame:  linear\n",
      "    source:              unknown\n",
      "    meta:                None\n"
     ]
    }
   ],
   "source": [
    "print(xvis.sel(indexers={\"antenna1\":10}, drop=False))"
   ]
  },
  {
   "cell_type": "markdown",
   "metadata": {
    "pycharm": {
     "name": "#%% md\n"
    }
   },
   "source": [
    "where antenna1 yields masked arrays"
   ]
  },
  {
   "cell_type": "code",
   "execution_count": 8,
   "metadata": {
    "ExecuteTime": {
     "end_time": "2020-09-15T15:41:17.812802Z",
     "start_time": "2020-09-15T15:41:17.682037Z"
    },
    "pycharm": {
     "name": "#%%\n"
    }
   },
   "outputs": [
    {
     "name": "stdout",
     "output_type": "stream",
     "text": [
      "<xarray.Dataset>\n",
      "Dimensions:            (baselines: 13861, frequency: 5, polarisation: 4, time: 16, uvw_index: 3)\n",
      "Coordinates:\n",
      "  * time               (time) float64 5.085e+09 5.085e+09 ... 5.085e+09\n",
      "  * baselines          (baselines) MultiIndex\n",
      "  - antenna1           (baselines) int64 0 0 0 0 0 0 ... 163 163 163 164 164 165\n",
      "  - antenna2           (baselines) int64 0 1 2 3 4 5 ... 163 164 165 164 165 165\n",
      "  * frequency          (frequency) float64 1e+08 1.025e+08 ... 1.075e+08 1.1e+08\n",
      "  * polarisation       (polarisation) <U2 'XX' 'XY' 'YX' 'YY'\n",
      "  * uvw_index          (uvw_index) <U1 'u' 'v' 'w'\n",
      "Data variables:\n",
      "    integration_time   (time, baselines) float32 nan nan nan nan ... nan nan nan\n",
      "    datetime           (time, baselines) datetime64[ns] NaT NaT NaT ... NaT NaT\n",
      "    vis                (time, baselines, frequency, polarisation) complex128 ...\n",
      "    weight             (time, baselines, frequency, polarisation) float32 nan...\n",
      "    imaging_weight     (time, baselines, frequency, polarisation) float32 nan...\n",
      "    flags              (time, baselines, frequency, polarisation) float32 nan...\n",
      "    uvw                (time, baselines, uvw_index) float64 nan nan ... nan nan\n",
      "    uvw_lambda         (time, baselines, frequency, uvw_index) float64 nan .....\n",
      "    uvdist_lambda      (time, baselines, frequency) float64 nan nan ... nan nan\n",
      "    channel_bandwidth  (frequency, baselines) float64 nan nan nan ... nan nan\n",
      "Attributes:\n",
      "    phasecentre:         <SkyCoord (ICRS): (ra, dec) in deg\\n    (180., -35.)>\n",
      "    configuration:       <xarray.Configuration>\\nDimensions:   (id: 166, spat...\n",
      "    polarisation_frame:  linear\n",
      "    source:              unknown\n",
      "    meta:                None\n"
     ]
    }
   ],
   "source": [
    "print(xvis.where(xvis[\"antenna1\"] == 10))"
   ]
  },
  {
   "cell_type": "markdown",
   "metadata": {
    "pycharm": {
     "name": "#%% md\n"
    }
   },
   "source": [
    "By uvdist yields masked arrays"
   ]
  },
  {
   "cell_type": "code",
   "execution_count": 9,
   "metadata": {
    "ExecuteTime": {
     "end_time": "2020-09-15T15:41:17.903134Z",
     "start_time": "2020-09-15T15:41:17.814862Z"
    },
    "pycharm": {
     "name": "#%%\n"
    }
   },
   "outputs": [
    {
     "name": "stdout",
     "output_type": "stream",
     "text": [
      "<xarray.Dataset>\n",
      "Dimensions:            (baselines: 13861, frequency: 5, polarisation: 4, time: 16, uvw_index: 3)\n",
      "Coordinates:\n",
      "  * time               (time) float64 5.085e+09 5.085e+09 ... 5.085e+09\n",
      "  * baselines          (baselines) MultiIndex\n",
      "  - antenna1           (baselines) int64 0 0 0 0 0 0 ... 163 163 163 164 164 165\n",
      "  - antenna2           (baselines) int64 0 1 2 3 4 5 ... 163 164 165 164 165 165\n",
      "  * frequency          (frequency) float64 1e+08 1.025e+08 ... 1.075e+08 1.1e+08\n",
      "  * polarisation       (polarisation) <U2 'XX' 'XY' 'YX' 'YY'\n",
      "  * uvw_index          (uvw_index) <U1 'u' 'v' 'w'\n",
      "Data variables:\n",
      "    integration_time   (time, baselines, frequency) float32 1795.0854 ... 179...\n",
      "    datetime           (time, baselines, frequency) datetime64[ns] 2020-01-01...\n",
      "    vis                (time, baselines, frequency, polarisation) complex128 ...\n",
      "    weight             (time, baselines, frequency, polarisation) float32 0.0...\n",
      "    imaging_weight     (time, baselines, frequency, polarisation) float32 0.0...\n",
      "    flags              (time, baselines, frequency, polarisation) float32 0.0...\n",
      "    uvw                (time, baselines, uvw_index, frequency) float64 0.0 .....\n",
      "    uvw_lambda         (time, baselines, frequency, uvw_index) float64 0.0 .....\n",
      "    uvdist_lambda      (time, baselines, frequency) float64 0.0 0.0 ... 0.0 0.0\n",
      "    channel_bandwidth  (frequency, time, baselines) float64 1e+07 ... 1e+07\n",
      "Attributes:\n",
      "    phasecentre:         <SkyCoord (ICRS): (ra, dec) in deg\\n    (180., -35.)>\n",
      "    configuration:       <xarray.Configuration>\\nDimensions:   (id: 166, spat...\n",
      "    polarisation_frame:  linear\n",
      "    source:              unknown\n",
      "    meta:                None\n"
     ]
    }
   ],
   "source": [
    "print(xvis.where(xvis.uvdist_lambda < 40.0))"
   ]
  },
  {
   "cell_type": "markdown",
   "metadata": {
    "pycharm": {
     "name": "#%% md\n"
    }
   },
   "source": [
    "By time"
   ]
  },
  {
   "cell_type": "code",
   "execution_count": 10,
   "metadata": {
    "ExecuteTime": {
     "end_time": "2020-09-15T15:41:17.964820Z",
     "start_time": "2020-09-15T15:41:17.904729Z"
    },
    "pycharm": {
     "name": "#%%\n"
    }
   },
   "outputs": [
    {
     "name": "stdout",
     "output_type": "stream",
     "text": [
      "<xarray.Dataset>\n",
      "Dimensions:            (baselines: 13861, frequency: 5, polarisation: 4, time: 16, uvw_index: 3)\n",
      "Coordinates:\n",
      "  * time               (time) float64 5.085e+09 5.085e+09 ... 5.085e+09\n",
      "  * baselines          (baselines) MultiIndex\n",
      "  - antenna1           (baselines) int64 0 0 0 0 0 0 ... 163 163 163 164 164 165\n",
      "  - antenna2           (baselines) int64 0 1 2 3 4 5 ... 163 164 165 164 165 165\n",
      "  * frequency          (frequency) float64 1e+08 1.025e+08 ... 1.075e+08 1.1e+08\n",
      "  * polarisation       (polarisation) <U2 'XX' 'XY' 'YX' 'YY'\n",
      "  * uvw_index          (uvw_index) <U1 'u' 'v' 'w'\n",
      "Data variables:\n",
      "    integration_time   (time) float32 nan nan nan ... 1795.0854 1795.0854\n",
      "    datetime           (time) datetime64[ns] NaT ... 2020-01-02T00:59:23.0649...\n",
      "    vis                (time, baselines, frequency, polarisation) complex128 ...\n",
      "    weight             (time, baselines, frequency, polarisation) float32 nan...\n",
      "    imaging_weight     (time, baselines, frequency, polarisation) float32 nan...\n",
      "    flags              (time, baselines, frequency, polarisation) float32 nan...\n",
      "    uvw                (time, baselines, uvw_index) float64 nan nan ... 0.0 0.0\n",
      "    uvw_lambda         (time, baselines, frequency, uvw_index) float64 nan .....\n",
      "    uvdist_lambda      (time, baselines, frequency) float64 nan nan ... 0.0 0.0\n",
      "    channel_bandwidth  (frequency, time) float64 nan nan nan ... 1e+07 1e+07\n",
      "Attributes:\n",
      "    phasecentre:         <SkyCoord (ICRS): (ra, dec) in deg\\n    (180., -35.)>\n",
      "    configuration:       <xarray.Configuration>\\nDimensions:   (id: 166, spat...\n",
      "    polarisation_frame:  linear\n",
      "    source:              unknown\n",
      "    meta:                None\n"
     ]
    }
   ],
   "source": [
    "print(xvis.where(xvis[\"datetime\"] > numpy.datetime64(\"2020-01-01T23:00:00\")))"
   ]
  },
  {
   "cell_type": "markdown",
   "metadata": {
    "pycharm": {
     "name": "#%% md\n"
    }
   },
   "source": [
    "Grouped by datetime"
   ]
  },
  {
   "cell_type": "code",
   "execution_count": 11,
   "metadata": {
    "ExecuteTime": {
     "end_time": "2020-09-15T15:41:18.088740Z",
     "start_time": "2020-09-15T15:41:17.966554Z"
    },
    "pycharm": {
     "name": "#%%\n"
    }
   },
   "outputs": [
    {
     "name": "stdout",
     "output_type": "stream",
     "text": [
      "2020-01-01T17:30:36.783709447 Frozen(SortedKeysDict({'time': 1, 'baselines': 13861, 'frequency': 5, 'polarisation': 4, 'uvw_index': 3}))\n",
      "2020-01-01T18:00:31.869126577 Frozen(SortedKeysDict({'time': 1, 'baselines': 13861, 'frequency': 5, 'polarisation': 4, 'uvw_index': 3}))\n",
      "2020-01-01T18:30:26.954543078 Frozen(SortedKeysDict({'time': 1, 'baselines': 13861, 'frequency': 5, 'polarisation': 4, 'uvw_index': 3}))\n",
      "2020-01-01T19:00:22.039960208 Frozen(SortedKeysDict({'time': 1, 'baselines': 13861, 'frequency': 5, 'polarisation': 4, 'uvw_index': 3}))\n",
      "2020-01-01T19:30:17.125376710 Frozen(SortedKeysDict({'time': 1, 'baselines': 13861, 'frequency': 5, 'polarisation': 4, 'uvw_index': 3}))\n",
      "2020-01-01T20:00:12.210792582 Frozen(SortedKeysDict({'time': 1, 'baselines': 13861, 'frequency': 5, 'polarisation': 4, 'uvw_index': 3}))\n",
      "2020-01-01T20:30:07.296209084 Frozen(SortedKeysDict({'time': 1, 'baselines': 13861, 'frequency': 5, 'polarisation': 4, 'uvw_index': 3}))\n",
      "2020-01-01T21:00:02.381626214 Frozen(SortedKeysDict({'time': 1, 'baselines': 13861, 'frequency': 5, 'polarisation': 4, 'uvw_index': 3}))\n",
      "2020-01-01T21:29:57.467042715 Frozen(SortedKeysDict({'time': 1, 'baselines': 13861, 'frequency': 5, 'polarisation': 4, 'uvw_index': 3}))\n",
      "2020-01-01T21:59:52.552459845 Frozen(SortedKeysDict({'time': 1, 'baselines': 13861, 'frequency': 5, 'polarisation': 4, 'uvw_index': 3}))\n",
      "2020-01-01T22:29:47.637876347 Frozen(SortedKeysDict({'time': 1, 'baselines': 13861, 'frequency': 5, 'polarisation': 4, 'uvw_index': 3}))\n",
      "2020-01-01T22:59:42.723293477 Frozen(SortedKeysDict({'time': 1, 'baselines': 13861, 'frequency': 5, 'polarisation': 4, 'uvw_index': 3}))\n",
      "2020-01-01T23:29:37.808709349 Frozen(SortedKeysDict({'time': 1, 'baselines': 13861, 'frequency': 5, 'polarisation': 4, 'uvw_index': 3}))\n",
      "2020-01-01T23:59:32.894125851 Frozen(SortedKeysDict({'time': 1, 'baselines': 13861, 'frequency': 5, 'polarisation': 4, 'uvw_index': 3}))\n",
      "2020-01-02T00:29:27.979542981 Frozen(SortedKeysDict({'time': 1, 'baselines': 13861, 'frequency': 5, 'polarisation': 4, 'uvw_index': 3}))\n",
      "2020-01-02T00:59:23.064959482 Frozen(SortedKeysDict({'time': 1, 'baselines': 13861, 'frequency': 5, 'polarisation': 4, 'uvw_index': 3}))\n"
     ]
    }
   ],
   "source": [
    "for result in xvis.groupby(\"datetime\"):\n",
    "    print(result[0], result[1].dims)"
   ]
  },
  {
   "cell_type": "markdown",
   "metadata": {},
   "source": [
    "In bins of antenna1"
   ]
  },
  {
   "cell_type": "code",
   "execution_count": 12,
   "metadata": {
    "ExecuteTime": {
     "end_time": "2020-09-15T15:41:18.317846Z",
     "start_time": "2020-09-15T15:41:18.090567Z"
    },
    "pycharm": {
     "name": "#%%\n"
    }
   },
   "outputs": [
    {
     "name": "stdout",
     "output_type": "stream",
     "text": [
      "(-0.165, 10.312] Frozen(SortedKeysDict({'time': 16, 'baselines': 1771, 'frequency': 5, 'polarisation': 4, 'uvw_index': 3}))\n",
      "(10.312, 20.625] Frozen(SortedKeysDict({'time': 16, 'baselines': 1505, 'frequency': 5, 'polarisation': 4, 'uvw_index': 3}))\n",
      "(20.625, 30.938] Frozen(SortedKeysDict({'time': 16, 'baselines': 1405, 'frequency': 5, 'polarisation': 4, 'uvw_index': 3}))\n",
      "(30.938, 41.25] Frozen(SortedKeysDict({'time': 16, 'baselines': 1430, 'frequency': 5, 'polarisation': 4, 'uvw_index': 3}))\n",
      "(41.25, 51.562] Frozen(SortedKeysDict({'time': 16, 'baselines': 1195, 'frequency': 5, 'polarisation': 4, 'uvw_index': 3}))\n",
      "(51.562, 61.875] Frozen(SortedKeysDict({'time': 16, 'baselines': 1095, 'frequency': 5, 'polarisation': 4, 'uvw_index': 3}))\n",
      "(61.875, 72.188] Frozen(SortedKeysDict({'time': 16, 'baselines': 1089, 'frequency': 5, 'polarisation': 4, 'uvw_index': 3}))\n",
      "(72.188, 82.5] Frozen(SortedKeysDict({'time': 16, 'baselines': 885, 'frequency': 5, 'polarisation': 4, 'uvw_index': 3}))\n",
      "(82.5, 92.812] Frozen(SortedKeysDict({'time': 16, 'baselines': 785, 'frequency': 5, 'polarisation': 4, 'uvw_index': 3}))\n",
      "(92.812, 103.125] Frozen(SortedKeysDict({'time': 16, 'baselines': 748, 'frequency': 5, 'polarisation': 4, 'uvw_index': 3}))\n",
      "(103.125, 113.438] Frozen(SortedKeysDict({'time': 16, 'baselines': 575, 'frequency': 5, 'polarisation': 4, 'uvw_index': 3}))\n",
      "(113.438, 123.75] Frozen(SortedKeysDict({'time': 16, 'baselines': 475, 'frequency': 5, 'polarisation': 4, 'uvw_index': 3}))\n",
      "(123.75, 134.062] Frozen(SortedKeysDict({'time': 16, 'baselines': 407, 'frequency': 5, 'polarisation': 4, 'uvw_index': 3}))\n",
      "(134.062, 144.375] Frozen(SortedKeysDict({'time': 16, 'baselines': 265, 'frequency': 5, 'polarisation': 4, 'uvw_index': 3}))\n",
      "(144.375, 154.688] Frozen(SortedKeysDict({'time': 16, 'baselines': 165, 'frequency': 5, 'polarisation': 4, 'uvw_index': 3}))\n",
      "(154.688, 165.0] Frozen(SortedKeysDict({'time': 16, 'baselines': 66, 'frequency': 5, 'polarisation': 4, 'uvw_index': 3}))\n"
     ]
    }
   ],
   "source": [
    "for result in xvis.groupby_bins(xvis[\"antenna1\"], bins=16):\n",
    "    print(result[0], result[1].dims)"
   ]
  },
  {
   "cell_type": "markdown",
   "metadata": {
    "pycharm": {
     "name": "#%% md\n"
    }
   },
   "source": [
    "Set values using the loc operator"
   ]
  },
  {
   "cell_type": "code",
   "execution_count": 13,
   "metadata": {
    "ExecuteTime": {
     "end_time": "2020-09-15T15:41:18.377120Z",
     "start_time": "2020-09-15T15:41:18.319341Z"
    },
    "pycharm": {
     "name": "#%%\n"
    }
   },
   "outputs": [],
   "source": [
    "xvis['vis'].loc[{\"polarisation\":[\"XY\", \"YX\"]}] = 0.0\n",
    "xvis['vis'].loc[{\"polarisation\":[\"XX\", \"YY\"], \"frequency\":[1.1e8]}] = 1.0\n",
    "xvis['vis'].loc[{\"polarisation\":[\"XX\", \"YY\"], \"frequency\":[1.1e8], \"antenna1\":slice(100,110)}] = 1.0"
   ]
  },
  {
   "cell_type": "code",
   "execution_count": 14,
   "metadata": {
    "ExecuteTime": {
     "end_time": "2020-09-15T15:41:18.392889Z",
     "start_time": "2020-09-15T15:41:18.379113Z"
    },
    "pycharm": {
     "name": "#%%\n"
    }
   },
   "outputs": [
    {
     "name": "stdout",
     "output_type": "stream",
     "text": [
      "{'time': <xarray.DataArray 'vis' (baselines: 13861, frequency: 5, polarisation: 4)>\n",
      "array([[[0, 0, 0, 0],\n",
      "        [0, 0, 0, 0],\n",
      "        [0, 0, 0, 0],\n",
      "        [0, 0, 0, 0],\n",
      "        [0, 0, 0, 0]],\n",
      "\n",
      "       [[0, 0, 0, 0],\n",
      "        [0, 0, 0, 0],\n",
      "        [0, 0, 0, 0],\n",
      "        [0, 0, 0, 0],\n",
      "        [0, 0, 0, 0]],\n",
      "\n",
      "       [[0, 0, 0, 0],\n",
      "        [0, 0, 0, 0],\n",
      "        [0, 0, 0, 0],\n",
      "        [0, 0, 0, 0],\n",
      "        [0, 0, 0, 0]],\n",
      "\n",
      "       ...,\n",
      "\n",
      "       [[0, 0, 0, 0],\n",
      "        [0, 0, 0, 0],\n",
      "        [0, 0, 0, 0],\n",
      "        [0, 0, 0, 0],\n",
      "        [0, 0, 0, 0]],\n",
      "\n",
      "       [[0, 0, 0, 0],\n",
      "        [0, 0, 0, 0],\n",
      "        [0, 0, 0, 0],\n",
      "        [0, 0, 0, 0],\n",
      "        [0, 0, 0, 0]],\n",
      "\n",
      "       [[0, 0, 0, 0],\n",
      "        [0, 0, 0, 0],\n",
      "        [0, 0, 0, 0],\n",
      "        [0, 0, 0, 0],\n",
      "        [0, 0, 0, 0]]])\n",
      "Coordinates:\n",
      "  * baselines     (baselines) MultiIndex\n",
      "  - antenna1      (baselines) int64 0 0 0 0 0 0 0 ... 163 163 163 164 164 165\n",
      "  - antenna2      (baselines) int64 0 1 2 3 4 5 6 ... 163 164 165 164 165 165\n",
      "  * frequency     (frequency) float64 1e+08 1.025e+08 1.05e+08 1.075e+08 1.1e+08\n",
      "  * polarisation  (polarisation) <U2 'XX' 'XY' 'YX' 'YY'}\n"
     ]
    }
   ],
   "source": [
    "print(xvis['vis'].argmax((\"time\",)))"
   ]
  },
  {
   "cell_type": "code",
   "execution_count": 23,
   "outputs": [
    {
     "data": {
      "text/plain": "<Figure size 432x288 with 1 Axes>",
      "image/png": "[encoded data removed]"
     },
     "metadata": {
      "needs_background": "light"
     },
     "output_type": "display_data"
    }
   ],
   "source": [
    "from rascil.processing_components import plot_uvcoverage\n",
    "plot_uvcoverage([xvis])"
   ],
   "metadata": {
    "collapsed": false,
    "pycharm": {
     "name": "#%%\n"
    }
   }
  },
  {
   "cell_type": "markdown",
   "metadata": {
    "pycharm": {
     "name": "#%% md\n"
    }
   },
   "source": [
    "Recast as Visibility using an unstack of the baseline and then a stack of the various dimensions"
   ]
  },
  {
   "cell_type": "code",
   "execution_count": 25,
   "metadata": {
    "ExecuteTime": {
     "end_time": "2020-09-15T15:41:22.366883Z",
     "start_time": "2020-09-15T15:41:19.401421Z"
    },
    "pycharm": {
     "name": "#%%\n"
    }
   },
   "outputs": [
    {
     "name": "stdout",
     "output_type": "stream",
     "text": [
      "<xarray.DataArray 'uvw' (uvw_index: 3, taaf_index: 2204480)>\n",
      "array([[0., 0., 0., ..., 0., 0., 0.],\n",
      "       [0., 0., 0., ..., 0., 0., 0.],\n",
      "       [0., 0., 0., ..., 0., 0., 0.]])\n",
      "Coordinates:\n",
      "  * uvw_index   (uvw_index) <U1 'u' 'v' 'w'\n",
      "  * taaf_index  (taaf_index) MultiIndex\n",
      "  - time        (taaf_index) float64 5.085e+09 5.085e+09 ... 5.085e+09 5.085e+09\n",
      "  - antenna2    (taaf_index) int64 0 0 0 0 0 0 0 ... 165 165 165 165 165 165 165\n",
      "  - antenna1    (taaf_index) int64 0 0 0 0 0 1 1 ... 164 164 165 165 165 165 165\n",
      "  - frequency   (taaf_index) float64 1e+08 1.025e+08 ... 1.075e+08 1.1e+08\n",
      "Attributes:\n",
      "    units:    m\n",
      "<xarray.DataArray 'vis' (polarisation: 4, taaf_index: 2204480)>\n",
      "array([[0.+0.j, 0.+0.j, 0.+0.j, ..., 0.+0.j, 0.+0.j, 1.+0.j],\n",
      "       [0.+0.j, 0.+0.j, 0.+0.j, ..., 0.+0.j, 0.+0.j, 0.+0.j],\n",
      "       [0.+0.j, 0.+0.j, 0.+0.j, ..., 0.+0.j, 0.+0.j, 0.+0.j],\n",
      "       [0.+0.j, 0.+0.j, 0.+0.j, ..., 0.+0.j, 0.+0.j, 1.+0.j]])\n",
      "Coordinates:\n",
      "  * polarisation  (polarisation) <U2 'XX' 'XY' 'YX' 'YY'\n",
      "  * taaf_index    (taaf_index) MultiIndex\n",
      "  - time          (taaf_index) float64 5.085e+09 5.085e+09 ... 5.085e+09\n",
      "  - antenna2      (taaf_index) int64 0 0 0 0 0 0 0 ... 165 165 165 165 165 165\n",
      "  - antenna1      (taaf_index) int64 0 0 0 0 0 1 1 ... 164 165 165 165 165 165\n",
      "  - frequency     (taaf_index) float64 1e+08 1.025e+08 ... 1.075e+08 1.1e+08\n",
      "Attributes:\n",
      "    units:    Jy\n"
     ]
    }
   ],
   "source": [
    "xtaaf=xvis.unstack(\"baselines\").stack(taaf_index=[\"time\", \"antenna2\", \"antenna1\", \"frequency\"])\n",
    "print(xtaaf.uvw)\n",
    "print(xtaaf.vis)"
   ]
  }
 ],
 "metadata": {
  "kernelspec": {
   "display_name": "Python 3",
   "language": "python",
   "name": "python3"
  },
  "language_info": {
   "codemirror_mode": {
    "name": "ipython",
    "version": 3
   },
   "file_extension": ".py",
   "mimetype": "text/x-python",
   "name": "python",
   "nbconvert_exporter": "python",
   "pygments_lexer": "ipython3",
   "version": "3.7.8"
  }
 },
 "nbformat": 4,
 "nbformat_minor": 1
}