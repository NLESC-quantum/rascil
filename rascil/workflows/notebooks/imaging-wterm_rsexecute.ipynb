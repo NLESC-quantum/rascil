{
 "cells": [
  {
   "cell_type": "markdown",
   "metadata": {},
   "source": [
    "# Wide-field imaging demonstration"
   ]
  },
  {
   "cell_type": "markdown",
   "metadata": {},
   "source": [
    "This script makes a fake data set, fills it with a number of point components, and then images it using a variety of algorithms. See imaging-fits for a similar notebook that checks for errors in the recovered properties of the images.\n",
    "\n",
    "The measurement equation for a wide field of view interferometer is:\n",
    "\n",
    "$$V(u,v,w) =\\int \\frac{I(l,m)}{\\sqrt{1-l^2-m^2}} e^{-2 \\pi j (ul+um + w(\\sqrt{1-l^2-m^2}-1))} dl dm$$\n",
    "\n",
    "We will show various algorithms for computing approximations to this integral. Calculation of the visibility V from the sky brightness I is called predict, and the inverese is called invert."
   ]
  },
  {
   "cell_type": "code",
   "execution_count": null,
   "metadata": {
    "ExecuteTime": {
     "end_time": "2018-11-16T15:41:36.397957Z",
     "start_time": "2018-11-16T15:41:34.701277Z"
    }
   },
   "outputs": [],
   "source": [
    "%matplotlib inline\n",
    "\n",
    "import os\n",
    "import sys\n",
    "\n",
    "sys.path.append(os.path.join('..', '..'))\n",
    "\n",
    "from rascil.data_models.parameters import rascil_path\n",
    "\n",
    "results_dir = rascil_path('test_results')\n",
    "\n",
    "from matplotlib import pylab\n",
    "\n",
    "import numpy\n",
    "\n",
    "from astropy.coordinates import SkyCoord\n",
    "from astropy import units as u\n",
    "from astropy.wcs.utils import pixel_to_skycoord\n",
    "\n",
    "from matplotlib import pyplot as plt\n",
    "\n",
    "from rascil.data_models.polarisation import PolarisationFrame\n",
    "\n",
    "from rascil.processing_library.image import create_w_term_like\n",
    "\n",
    "# Use serial wrappers by default\n",
    "from rascil.processing_components import  create_visibility, create_visibility_from_rows, create_skycomponent,\\\n",
    "    show_image, export_image_to_fits, create_named_configuration, create_image_from_visibility, \\\n",
    "    predict_skycomponent_visibility, advise_wide_field, vis_timeslice_iter, weight_visibility, vis_timeslices, \\\n",
    "    create_awterm_convolutionfunction\n",
    "\n",
    "# Use rsexecute for imaging\n",
    "from rascil.wrappers.rsexecute.execution_support.rsexecute import rsexecute\n",
    "\n",
    "from rascil.workflows import invert_list_rsexecute_workflow\n",
    "\n",
    "import logging\n",
    "\n",
    "log = logging.getLogger()\n",
    "log.setLevel(logging.DEBUG)\n",
    "log.addHandler(logging.StreamHandler(sys.stdout))\n",
    "mpl_logger = logging.getLogger(\"matplotlib\") \n",
    "mpl_logger.setLevel(logging.WARNING) \n",
    "\n",
    "doplot = True\n"
   ]
  },
  {
   "cell_type": "code",
   "execution_count": null,
   "metadata": {
    "ExecuteTime": {
     "end_time": "2018-11-16T15:41:36.403475Z",
     "start_time": "2018-11-16T15:41:36.400104Z"
    }
   },
   "outputs": [],
   "source": [
    "pylab.rcParams['figure.figsize'] = (12.0, 12.0)\n",
    "pylab.rcParams['image.cmap'] = 'rainbow'"
   ]
  },
  {
   "cell_type": "markdown",
   "metadata": {},
   "source": [
    "Construct the SKA1-LOW core configuration"
   ]
  },
  {
   "cell_type": "code",
   "execution_count": null,
   "metadata": {
    "ExecuteTime": {
     "end_time": "2018-11-16T15:41:36.447879Z",
     "start_time": "2018-11-16T15:41:36.406421Z"
    }
   },
   "outputs": [],
   "source": [
    "lowcore = create_named_configuration('LOWBD2-CORE')"
   ]
  },
  {
   "cell_type": "markdown",
   "metadata": {},
   "source": [
    "We create the visibility. \n",
    "\n",
    "This just makes the uvw, time, antenna1, antenna2, weight columns in a table"
   ]
  },
  {
   "cell_type": "code",
   "execution_count": null,
   "metadata": {
    "ExecuteTime": {
     "end_time": "2018-11-16T15:41:37.106280Z",
     "start_time": "2018-11-16T15:41:36.450049Z"
    }
   },
   "outputs": [],
   "source": [
    "times = numpy.array([-3.0, -2.0, -1.0, 0.0, 1.0, 2.0, 3.0]) * (numpy.pi / 12.0)\n",
    "frequency = numpy.array([1e8])\n",
    "channel_bandwidth = numpy.array([1e7])\n",
    "\n",
    "\n",
    "reffrequency = numpy.max(frequency)\n",
    "phasecentre = SkyCoord(ra=+15.0 * u.deg, dec=-45.0 * u.deg, frame='icrs', equinox='J2000')\n",
    "vt = create_visibility(lowcore, times, frequency, channel_bandwidth=channel_bandwidth,\n",
    "                       weight=1.0, phasecentre=phasecentre, polarisation_frame=PolarisationFrame(\"stokesI\"))"
   ]
  },
  {
   "cell_type": "markdown",
   "metadata": {},
   "source": [
    "Advise on wide field parameters. This returns a dictionary with all the input and calculated variables."
   ]
  },
  {
   "cell_type": "code",
   "execution_count": null,
   "metadata": {
    "ExecuteTime": {
     "end_time": "2018-11-16T15:41:37.137018Z",
     "start_time": "2018-11-16T15:41:37.108447Z"
    },
    "scrolled": true
   },
   "outputs": [],
   "source": [
    "advice = advise_wide_field(vt, wprojection_planes=1)"
   ]
  },
  {
   "cell_type": "markdown",
   "metadata": {},
   "source": [
    "Plot the synthesized UV coverage."
   ]
  },
  {
   "cell_type": "code",
   "execution_count": null,
   "metadata": {
    "ExecuteTime": {
     "end_time": "2018-11-16T15:41:39.190736Z",
     "start_time": "2018-11-16T15:41:37.140335Z"
    },
    "scrolled": false
   },
   "outputs": [],
   "source": [
    "if doplot:\n",
    "    plt.clf()\n",
    "    plt.plot(vt.data['uvw'][:, 0], vt.data['uvw'][:, 1], '.', color='b')\n",
    "    plt.plot(-vt.data['uvw'][:, 0], -vt.data['uvw'][:, 1], '.', color='r')\n",
    "    plt.xlabel('U (wavelengths)')\n",
    "    plt.ylabel('V (wavelengths)')\n",
    "    plt.show()\n",
    "    \n",
    "    plt.clf()\n",
    "    plt.plot(vt.data['uvw'][:, 0], vt.data['uvw'][:, 2], '.', color='b')\n",
    "    plt.xlabel('U (wavelengths)')\n",
    "    plt.ylabel('W (wavelengths)')\n",
    "    plt.show()\n",
    "\n",
    "    plt.clf()\n",
    "    plt.plot(vt.data['time'][vt.u>0.0], vt.data['uvw'][:, 2][vt.u>0.0], '.', color='b')\n",
    "    plt.plot(vt.data['time'][vt.u<=0.0], vt.data['uvw'][:, 2][vt.u<=0.0], '.', color='r')\n",
    "    plt.xlabel('U (wavelengths)')\n",
    "    plt.ylabel('W (wavelengths)')\n",
    "    plt.show()\n",
    "\n",
    "    plt.clf()\n",
    "    n, bins, patches = plt.hist(vt.w, 50, normed=1, facecolor='green', alpha=0.75)\n",
    "    plt.xlabel('W (wavelengths)')\n",
    "    plt.ylabel('Count')\n",
    "    plt.show()"
   ]
  },
  {
   "cell_type": "markdown",
   "metadata": {},
   "source": [
    "Show the planar nature of the uvw sampling, rotating with hour angle"
   ]
  },
  {
   "cell_type": "markdown",
   "metadata": {},
   "source": [
    "Create a grid of components and predict each in turn, using the full phase term including w."
   ]
  },
  {
   "cell_type": "code",
   "execution_count": null,
   "metadata": {
    "ExecuteTime": {
     "end_time": "2018-11-16T15:41:40.286913Z",
     "start_time": "2018-11-16T15:41:39.193151Z"
    },
    "scrolled": false
   },
   "outputs": [],
   "source": [
    "npixel = 512\n",
    "cellsize=0.001\n",
    "facets = 4\n",
    "flux = numpy.array([[100.0]])\n",
    "vt.data['vis'] *= 0.0\n",
    "\n",
    "model = create_image_from_visibility(vt, npixel=512, cellsize=0.001, npol=1)\n",
    "spacing_pixels = npixel // facets\n",
    "log.info('Spacing in pixels = %s' % spacing_pixels)\n",
    "spacing = 180.0 * cellsize * spacing_pixels / numpy.pi\n",
    "centers = -1.5, -0.5, +0.5, +1.5\n",
    "comps=list()\n",
    "for iy in centers:\n",
    "    for ix in centers:\n",
    "        pra =  int(round(npixel // 2 + ix * spacing_pixels - 1))\n",
    "        pdec = int(round(npixel // 2 + iy * spacing_pixels - 1))\n",
    "        sc = pixel_to_skycoord(pra, pdec, model.wcs)\n",
    "        log.info(\"Component at (%f, %f) %s\" % (pra, pdec, str(sc)))\n",
    "        comp = create_skycomponent(flux=flux, frequency=frequency, direction=sc, \n",
    "                                   polarisation_frame=PolarisationFrame(\"stokesI\"))\n",
    "        comps.append(comp)\n",
    "predict_skycomponent_visibility(vt, comps)"
   ]
  },
  {
   "cell_type": "markdown",
   "metadata": {},
   "source": [
    "Make the dirty image and point spread function using the two-dimensional approximation:\n",
    "\n",
    "$$V(u,v,w) =\\int I(l,m) e^{2 \\pi j (ul+um)} dl dm$$\n",
    "\n",
    "Note that the shape of the sources vary with position in the image. This space-variant property of the PSF arises from the w-term neglected in the two-dimensional invert."
   ]
  },
  {
   "cell_type": "code",
   "execution_count": null,
   "metadata": {
    "ExecuteTime": {
     "end_time": "2018-11-16T15:41:43.107373Z",
     "start_time": "2018-11-16T15:41:40.289497Z"
    }
   },
   "outputs": [],
   "source": [
    "rsexecute.set_client(use_dask=True)"
   ]
  },
  {
   "cell_type": "code",
   "execution_count": null,
   "metadata": {
    "ExecuteTime": {
     "end_time": "2018-11-16T15:41:49.257212Z",
     "start_time": "2018-11-16T15:41:43.110286Z"
    }
   },
   "outputs": [],
   "source": [
    "dirty = create_image_from_visibility(vt, npixel=512, cellsize=0.001, \n",
    "                                     polarisation_frame=PolarisationFrame(\"stokesI\"))\n",
    "vt = weight_visibility(vt, dirty)\n",
    "\n",
    "future = invert_list_rsexecute_workflow([vt], [dirty], context='2d')\n",
    "dirty, sumwt = rsexecute.compute(future, sync=True)[0]\n",
    "\n",
    "if doplot:\n",
    "    show_image(dirty)\n",
    "\n",
    "print(\"Max, min in dirty image = %.6f, %.6f, sumwt = %f\" % (dirty.data.max(), dirty.data.min(), sumwt))\n",
    "\n",
    "export_image_to_fits(dirty, '%s/imaging-wterm_dirty.fits' % (results_dir))"
   ]
  },
  {
   "cell_type": "markdown",
   "metadata": {},
   "source": [
    "This occurs because the Fourier transform relationship between sky brightness and visibility is only accurate over small fields of view. \n",
    "\n",
    "Hence we can make an accurate image by partitioning the image plane into small regions, treating each separately and then glueing the resulting partitions into one image. We call this image plane partitioning image plane faceting.\n",
    "\n",
    "$$V(u,v,w) = \\sum_{i,j} \\frac{1}{\\sqrt{1- l_{i,j}^2- m_{i,j}^2}} e^{-2 \\pi j (ul_{i,j}+um_{i,j} + w(\\sqrt{1-l_{i,j}^2-m_{i,j}^2}-1))}\n",
    "\\int  I(\\Delta l, \\Delta m) e^{-2 \\pi j (u\\Delta l_{i,j}+u \\Delta m_{i,j})} dl dm$$\n"
   ]
  },
  {
   "cell_type": "code",
   "execution_count": null,
   "metadata": {
    "ExecuteTime": {
     "end_time": "2018-11-16T15:41:59.988990Z",
     "start_time": "2018-11-16T15:41:49.263635Z"
    },
    "scrolled": false
   },
   "outputs": [],
   "source": [
    "dirtyFacet = create_image_from_visibility(vt, npixel=512, cellsize=0.001, npol=1)\n",
    "future = invert_list_rsexecute_workflow([vt], [dirtyFacet], facets=4, context='facets')\n",
    "dirtyFacet, sumwt = rsexecute.compute(future, sync=True)[0]\n",
    "\n",
    "if doplot:\n",
    "    show_image(dirtyFacet)\n",
    "\n",
    "print(\"Max, min in dirty image = %.6f, %.6f, sumwt = %f\" % (dirtyFacet.data.max(), dirtyFacet.data.min(), sumwt))\n",
    "export_image_to_fits(dirtyFacet, '%s/imaging-wterm_dirtyFacet.fits' % (results_dir))"
   ]
  },
  {
   "cell_type": "markdown",
   "metadata": {},
   "source": [
    "That was the best case. This time, we will not arrange for the partitions to be centred on the sources. "
   ]
  },
  {
   "cell_type": "code",
   "execution_count": null,
   "metadata": {
    "ExecuteTime": {
     "end_time": "2018-11-16T15:42:03.951692Z",
     "start_time": "2018-11-16T15:41:59.992222Z"
    },
    "scrolled": false
   },
   "outputs": [],
   "source": [
    "dirtyFacet2 = create_image_from_visibility(vt, npixel=512, cellsize=0.001, npol=1)\n",
    "future = invert_list_rsexecute_workflow([vt], [dirtyFacet2], facets=2, context='facets')\n",
    "dirtyFacet2, sumwt = rsexecute.compute(future, sync=True)[0]\n",
    "\n",
    "\n",
    "if doplot:\n",
    "    show_image(dirtyFacet2)\n",
    "\n",
    "print(\"Max, min in dirty image = %.6f, %.6f, sumwt = %f\" % (dirtyFacet2.data.max(), dirtyFacet2.data.min(), sumwt))\n",
    "export_image_to_fits(dirtyFacet2, '%s/imaging-wterm_dirtyFacet2.fits' % (results_dir))"
   ]
  },
  {
   "cell_type": "markdown",
   "metadata": {},
   "source": [
    "Another approach is to partition the visibility data by slices in w. The measurement equation is approximated as:\n",
    "\n",
    "$$V(u,v,w) =\\sum_i \\int   \\frac{ I(l,m) e^{-2 \\pi j (w_i(\\sqrt{1-l^2-m^2}-1))})}{\\sqrt{1-l^2-m^2}} e^{-2 \\pi j (ul+um)} dl dm$$\n",
    "\n",
    "If images constructed from slices in w are added after applying a w-dependent image plane correction, the w term will be corrected. "
   ]
  },
  {
   "cell_type": "markdown",
   "metadata": {},
   "source": [
    "The w-dependent w-beam is:"
   ]
  },
  {
   "cell_type": "code",
   "execution_count": null,
   "metadata": {
    "ExecuteTime": {
     "end_time": "2018-11-16T15:42:04.651672Z",
     "start_time": "2018-11-16T15:42:03.953668Z"
    },
    "scrolled": false
   },
   "outputs": [],
   "source": [
    "if doplot:\n",
    "    wterm = create_w_term_like(model, phasecentre=vt.phasecentre, w=numpy.max(vt.w))\n",
    "    show_image(wterm)\n",
    "    plt.show()"
   ]
  },
  {
   "cell_type": "code",
   "execution_count": null,
   "metadata": {
    "ExecuteTime": {
     "end_time": "2018-11-16T15:42:12.470180Z",
     "start_time": "2018-11-16T15:42:04.654143Z"
    },
    "scrolled": false
   },
   "outputs": [],
   "source": [
    "dirtywstack = create_image_from_visibility(vt, npixel=512, cellsize=0.001, npol=1)\n",
    "future = invert_list_rsexecute_workflow([vt], [dirtywstack], vis_slices=101, context='wstack')\n",
    "dirtywstack, sumwt = rsexecute.compute(future, sync=True)[0]\n",
    "\n",
    "show_image(dirtywstack)\n",
    "plt.show()\n",
    "\n",
    "print(\"Max, min in dirty image = %.6f, %.6f, sumwt = %f\" % \n",
    "      (dirtywstack.data.max(), dirtywstack.data.min(), sumwt))\n",
    "\n",
    "export_image_to_fits(dirtywstack, '%s/imaging-wterm_dirty_wstack.fits' % (results_dir))"
   ]
  },
  {
   "cell_type": "markdown",
   "metadata": {},
   "source": [
    "The w-term can also be viewed as a time-variable distortion. Approximating the array as instantaneously co-planar, we have that w can be expressed in terms of $u,v$\n",
    "\n",
    "$$w = a u + b v$$\n",
    "\n",
    "Transforming to a new coordinate system:\n",
    "\n",
    "$$ l' = l + a (\\sqrt{1-l^2-m^2}-1))$$\n",
    "$$ m' = m + b (\\sqrt{1-l^2-m^2}-1))$$\n",
    "\n",
    "Ignoring changes in the normalisation term, we have:\n",
    "\n",
    "$$V(u,v,w) =\\int \\frac{I(l',m')}{\\sqrt{1-l'^2-m'^2}} e^{-2 \\pi j (ul'+um')} dl' dm'$$\n",
    "\n",
    "To illustrate this, we will construct images as a function of time. For comparison, we show difference of each time slice from the best facet image. Instantaneously the sources are un-distorted but do lie in the wrong location."
   ]
  },
  {
   "cell_type": "code",
   "execution_count": null,
   "metadata": {
    "ExecuteTime": {
     "end_time": "2018-11-16T15:42:20.098966Z",
     "start_time": "2018-11-16T15:42:12.473335Z"
    },
    "scrolled": false
   },
   "outputs": [],
   "source": [
    "for rows in vis_timeslice_iter(vt):\n",
    "    visslice = create_visibility_from_rows(vt, rows)\n",
    "    dirtySnapshot = create_image_from_visibility(visslice, npixel=512, cellsize=0.001, npol=1, compress_factor=0.0)\n",
    "    future = invert_list_rsexecute_workflow([visslice], [dirtySnapshot], context='2d')\n",
    "    dirtySnapshot, sumwt = rsexecute.compute(future, sync=True)[0]\n",
    "    \n",
    "    print(\"Max, min in dirty image = %.6f, %.6f, sumwt = %f\" % \n",
    "          (dirtySnapshot.data.max(), dirtySnapshot.data.min(), sumwt))\n",
    "    if doplot:\n",
    "        dirtySnapshot.data -= dirtyFacet.data\n",
    "        show_image(dirtySnapshot)\n",
    "        plt.title(\"Hour angle %.2f hours\" % (numpy.average(visslice.time) * 12.0 / 43200.0))\n",
    "        plt.show()"
   ]
  },
  {
   "cell_type": "markdown",
   "metadata": {},
   "source": [
    "This timeslice imaging leads to a straightforward algorithm in which we correct each time slice and then sum the resulting timeslices. "
   ]
  },
  {
   "cell_type": "code",
   "execution_count": null,
   "metadata": {
    "ExecuteTime": {
     "end_time": "2018-11-16T15:42:22.113053Z",
     "start_time": "2018-11-16T15:42:20.105563Z"
    },
    "scrolled": false
   },
   "outputs": [],
   "source": [
    "dirtyTimeslice = create_image_from_visibility(vt, npixel=512, cellsize=0.001, npol=1)\n",
    "future = invert_list_rsexecute_workflow([vt], [dirtyTimeslice], vis_slices=vis_timeslices(vt, 'auto'),\n",
    "                                       padding=2, context='timeslice')\n",
    "dirtyTimeslice, sumwt = rsexecute.compute(future, sync=True)[0]\n",
    "\n",
    "\n",
    "show_image(dirtyTimeslice)\n",
    "plt.show()\n",
    "\n",
    "print(\"Max, min in dirty image = %.6f, %.6f, sumwt = %f\" % \n",
    "      (dirtyTimeslice.data.max(), dirtyTimeslice.data.min(), sumwt))\n",
    "\n",
    "export_image_to_fits(dirtyTimeslice, '%s/imaging-wterm_dirty_Timeslice.fits' % (results_dir))"
   ]
  },
  {
   "cell_type": "markdown",
   "metadata": {},
   "source": [
    "Finally we try w-projection. For a fixed w, the measurement equation can be stated as as a convolution in Fourier space. \n",
    "\n",
    "$$V(u,v,w) =G_w(u,v) \\ast \\int \\frac{I(l,m)}{\\sqrt{1-l^2-m^2}} e^{-2 \\pi j (ul+um)} dl dm$$\n",
    "\n",
    "where the convolution function is:\n",
    "\n",
    "$$G_w(u,v) = \\int \\frac{1}{\\sqrt{1-l^2-m^2}} e^{-2 \\pi j (ul+um + w(\\sqrt{1-l^2-m^2}-1))} dl dm$$\n",
    "\n",
    "\n",
    "Hence when gridding, we can use the transform of the w beam to correct this effect while gridding. "
   ]
  },
  {
   "cell_type": "code",
   "execution_count": null,
   "metadata": {
    "ExecuteTime": {
     "end_time": "2018-11-16T15:42:42.330358Z",
     "start_time": "2018-11-16T15:42:22.116457Z"
    },
    "scrolled": false
   },
   "outputs": [],
   "source": [
    "dirtyWProjection = create_image_from_visibility(vt, npixel=512, cellsize=0.001, npol=1)\n",
    "\n",
    "gcfcf = create_awterm_convolutionfunction(model, nw=101, wstep=800.0/101, oversampling=8, \n",
    "                                                    support=60,\n",
    "                                                    use_aaf=True)\n",
    "    \n",
    "future = invert_list_rsexecute_workflow([vt], [dirtyWProjection], context='2d', gcfcf=[gcfcf])\n",
    "\n",
    "dirtyWProjection, sumwt = rsexecute.compute(future, sync=True)[0]\n",
    "\n",
    "if doplot:\n",
    "    show_image(dirtyWProjection)\n",
    "\n",
    "print(\"Max, min in dirty image = %.6f, %.6f, sumwt = %f\" % (dirtyWProjection.data.max(), \n",
    "                                                             dirtyWProjection.data.min(), sumwt))\n",
    "export_image_to_fits(dirtyWProjection, '%s/imaging-wterm_dirty_WProjection.fits' % (results_dir))\n"
   ]
  },
  {
   "cell_type": "code",
   "execution_count": null,
   "metadata": {},
   "outputs": [],
   "source": []
  }
 ],
 "metadata": {
  "kernelspec": {
   "display_name": "Python 3",
   "language": "python",
   "name": "python3"
  },
  "language_info": {
   "codemirror_mode": {
    "name": "ipython",
    "version": 3
   },
   "file_extension": ".py",
   "mimetype": "text/x-python",
   "name": "python",
   "nbconvert_exporter": "python",
   "pygments_lexer": "ipython3",
   "version": "3.6.1"
  },
  "pycharm": {
   "stem_cell": {
    "cell_type": "raw",
    "source": [],
    "metadata": {
     "collapsed": false
    }
   }
  }
 },
 "nbformat": 4,
 "nbformat_minor": 2
}